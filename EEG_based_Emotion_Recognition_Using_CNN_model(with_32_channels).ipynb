{
  "nbformat": 4,
  "nbformat_minor": 0,
  "metadata": {
    "colab": {
      "provenance": [],
      "collapsed_sections": [],
      "include_colab_link": true
    },
    "kernelspec": {
      "name": "python3",
      "display_name": "Python 3"
    },
    "language_info": {
      "name": "python"
    }
  },
  "cells": [
    {
      "cell_type": "markdown",
      "metadata": {
        "id": "view-in-github",
        "colab_type": "text"
      },
      "source": [
        "<a href=\"https://colab.research.google.com/github/Zobia12/EEG_Based_Human_Emotion_Recognition_Using_Deep_Learning/blob/main/EEG_based_Emotion_Recognition_Using_CNN_model(with_32_channels).ipynb\" target=\"_parent\"><img src=\"https://colab.research.google.com/assets/colab-badge.svg\" alt=\"Open In Colab\"/></a>"
      ]
    },
    {
      "cell_type": "code",
      "execution_count": 64,
      "metadata": {
        "colab": {
          "base_uri": "https://localhost:8080/"
        },
        "id": "rbo8RfXxXheR",
        "outputId": "2ed6f11a-026a-4214-f9a5-061f8af0d8e2"
      },
      "outputs": [
        {
          "output_type": "stream",
          "name": "stdout",
          "text": [
            "Looking in indexes: https://pypi.org/simple, https://us-python.pkg.dev/colab-wheels/public/simple/\n",
            "Collecting git+https://github.com/forrestbao/pyeeg.git\n",
            "  Cloning https://github.com/forrestbao/pyeeg.git to /tmp/pip-req-build-q2fs3wnb\n",
            "  Running command git clone -q https://github.com/forrestbao/pyeeg.git /tmp/pip-req-build-q2fs3wnb\n",
            "Requirement already satisfied: numpy>=1.9.2 in /usr/local/lib/python3.7/dist-packages (from pyeeg==0.4.4) (1.21.6)\n"
          ]
        }
      ],
      "source": [
        "!pip install git+https://github.com/forrestbao/pyeeg.git\n",
        "import numpy as np\n",
        "import pyeeg as pe\n",
        "import pickle as pickle\n",
        "import pandas as pd\n",
        "import math\n",
        "\n",
        "from sklearn import svm\n",
        "from sklearn.preprocessing import normalize\n",
        "\n",
        "import os\n",
        "import time"
      ]
    },
    {
      "cell_type": "code",
      "source": [
        "import pandas as pd\n",
        "import keras.backend as K\n",
        "import numpy as np\n",
        "import pandas as pd\n",
        "from keras.models import Sequential\n",
        "from keras.layers import Dense\n",
        "from keras.models import Sequential\n",
        "from keras.layers.convolutional import Conv1D\n",
        "from keras.layers.convolutional import MaxPooling1D\n",
        "from tensorflow.keras.utils import to_categorical \n",
        "from keras.layers import Flatten\n",
        "from keras.layers import Dense\n",
        "import numpy as np\n",
        "import keras\n",
        "from keras.datasets import mnist\n",
        "from keras.models import Sequential\n",
        "from keras.layers import Dense, Dropout, Flatten, Conv2D, MaxPooling2D\n",
        "from keras import backend as K\n",
        "from keras.models import Model\n",
        "import timeit\n",
        "from keras.models import Sequential\n",
        "from keras.layers.core import Flatten, Dense, Dropout\n",
        "from keras.layers.convolutional import Convolution1D, MaxPooling1D, ZeroPadding1D\n",
        "from tensorflow.keras.optimizers import SGD\n",
        "#import cv2, numpy as np\n",
        "import warnings\n",
        "warnings.filterwarnings('ignore')"
      ],
      "metadata": {
        "id": "374VIWhfXmgc"
      },
      "execution_count": 65,
      "outputs": []
    },
    {
      "cell_type": "code",
      "source": [
        "from google.colab import drive\n",
        "drive.mount('/content/drive/')"
      ],
      "metadata": {
        "id": "XtXSyYadXpkQ",
        "colab": {
          "base_uri": "https://localhost:8080/"
        },
        "outputId": "e1b5bade-b7c1-4615-a4e1-c181d3a8e2ca"
      },
      "execution_count": 66,
      "outputs": [
        {
          "output_type": "stream",
          "name": "stdout",
          "text": [
            "Drive already mounted at /content/drive/; to attempt to forcibly remount, call drive.mount(\"/content/drive/\", force_remount=True).\n"
          ]
        }
      ]
    },
    {
      "cell_type": "code",
      "metadata": {
        "id": "JOXuEM0JwJqI"
      },
      "source": [
        "# data_preprocessed_python\n",
        "os.getcwd()\n",
        "os.chdir('/content/drive/My Drive')"
      ],
      "execution_count": 67,
      "outputs": []
    },
    {
      "cell_type": "code",
      "metadata": {
        "id": "kCMT74t9wowG"
      },
      "source": [
        "channel = [1,2,3,4,6,7,8,9,10,11,12,13,14,15,16,17,18,19,20,21,22,23,24,25,26,27,28,29,30,31,32] #32 Channels chosen to fit Emotiv Epoch+\n",
        "band = [4,8,12,16,25,45] #5 bands THETA, ALPHA, ALPHA, BETA, BETA, BETA, GAMMA.\n",
        "window_size = 256 #Averaging band power of 2 sec\n",
        "step_size = 16 #Each 0.125 sec update once\n",
        "sample_rate = 128 #Sampling rate of 128 Hz\n",
        "subjectList = ['01','02','03']\n",
        "#List of subjects"
      ],
      "execution_count": 68,
      "outputs": []
    },
    {
      "cell_type": "code",
      "metadata": {
        "id": "UD-WVHARwsXz"
      },
      "source": [
        "def FFT_Processing (sub, channel, band, window_size, step_size, sample_rate):\n",
        "    '''\n",
        "    arguments:  string subject\n",
        "                list channel indice\n",
        "                list band\n",
        "                int window size for FFT\n",
        "                int step size for FFT\n",
        "                int sample rate for FFT\n",
        "    return:     void\n",
        "    '''\n",
        "    meta = []\n",
        "    with open(\"/content/drive/My Drive/leading_ai/try/s\" + sub + '.dat', 'rb') as file:\n",
        "\n",
        "        subject = pickle.load(file, encoding='latin1') #resolve the python 2 data problem by encoding : latin1\n",
        "\n",
        "        for i in range (0,40):\n",
        "            # loop over 0-39 trails\n",
        "            data = subject[\"data\"][i]\n",
        "            labels = subject[\"labels\"][i]\n",
        "            start = 0;\n",
        "\n",
        "            while start + window_size < data.shape[1]:\n",
        "                meta_array = []\n",
        "                meta_data = [] #meta vector for analysis\n",
        "                for j in channel:\n",
        "                    X = data[j][start : start + window_size] #Slice raw data over 2 sec, at interval of 0.125 sec\n",
        "                    Y = pe.bin_power(X, band, sample_rate) #FFT over 2 sec of channel j, in seq of theta, alpha, low beta, high beta, gamma\n",
        "                    meta_data = meta_data + list(Y[0])\n",
        "\n",
        "                meta_array.append(np.array(meta_data))\n",
        "                meta_array.append(labels)\n",
        "\n",
        "                meta.append(np.array(meta_array))    \n",
        "                start = start + step_size\n",
        "                \n",
        "        meta = np.array(meta)\n",
        "        np.save('/content/drive/My Drive/leading_ai/try/s' + sub, meta, allow_pickle=True, fix_imports=True)"
      ],
      "execution_count": 69,
      "outputs": []
    },
    {
      "cell_type": "code",
      "metadata": {
        "id": "TWcHt5X2xDfw"
      },
      "source": [
        "for subjects in subjectList:\n",
        "    FFT_Processing (subjects, channel, band, window_size, step_size, sample_rate)"
      ],
      "execution_count": 70,
      "outputs": []
    },
    {
      "cell_type": "code",
      "metadata": {
        "id": "dM2Bdu7oxIbE",
        "colab": {
          "base_uri": "https://localhost:8080/"
        },
        "outputId": "c8b93b73-77c2-432e-8a3e-a654a538e489"
      },
      "source": [
        "\n",
        "data_training = []\n",
        "label_training = []\n",
        "data_testing = []\n",
        "label_testing = []\n",
        "\n",
        "for subjects in subjectList:\n",
        "\n",
        "    with open('/content/drive/My Drive/leading_ai/try/s' + subjects + '.npy', 'rb') as file:\n",
        "      sub = np.load(file,allow_pickle=True)\n",
        "      for i in range (0,sub.shape[0]):\n",
        "        if i % 5 == 0:\n",
        "          data_testing.append(sub[i][0])\n",
        "          label_testing.append(sub[i][1])\n",
        "        else:\n",
        "          data_training.append(sub[i][0])\n",
        "          label_training.append(sub[i][1])\n",
        "\n",
        "np.save('/content/drive/My Drive/leading_ai/data_training', np.array(data_training), allow_pickle=True, fix_imports=True)\n",
        "np.save('/content/drive/My Drive/leading_ai/label_training', np.array(label_training), allow_pickle=True, fix_imports=True)\n",
        "print(\"training dataset:\", np.array(data_training).shape, np.array(label_training).shape)\n",
        "\n",
        "np.save('/content/drive/My Drive/leading_ai/data_testing', np.array(data_testing), allow_pickle=True, fix_imports=True)\n",
        "np.save('/content/drive/My Drive/leading_ai/label_testing', np.array(label_testing), allow_pickle=True, fix_imports=True)\n",
        "print(\"testing dataset:\", np.array(data_testing).shape, np.array(label_testing).shape)"
      ],
      "execution_count": 71,
      "outputs": [
        {
          "output_type": "stream",
          "name": "stdout",
          "text": [
            "training dataset: (46848, 155) (46848, 4)\n",
            "testing dataset: (11712, 155) (11712, 4)\n"
          ]
        }
      ]
    },
    {
      "cell_type": "code",
      "source": [],
      "metadata": {
        "id": "EJZeetIK8O08"
      },
      "execution_count": 71,
      "outputs": []
    },
    {
      "cell_type": "code",
      "metadata": {
        "id": "pnNNgiBN_HcS"
      },
      "source": [
        "\n",
        "with open('/content/drive/My Drive/leading_ai/data_training.npy', 'rb') as fileTrain:\n",
        "    X  = np.load(fileTrain)\n",
        "    \n",
        "with open('/content/drive/My Drive/leading_ai/label_training.npy', 'rb') as fileTrainL:\n",
        "    Y  = np.load(fileTrainL)\n",
        "    \n",
        "X = normalize(X)\n",
        "Z = np.ravel(Y[:, [3]])\n",
        "\n",
        "Arousal_Train = np.ravel(Y[:, [0]])\n",
        "Valence_Train = np.ravel(Y[:, [1]])\n",
        "Domain_Train = np.ravel(Y[:, [2]])\n",
        "Like_Train = np.ravel(Y[:, [3]])"
      ],
      "execution_count": 72,
      "outputs": []
    },
    {
      "cell_type": "code",
      "metadata": {
        "id": "O-kXkIKo_3eY",
        "colab": {
          "base_uri": "https://localhost:8080/"
        },
        "outputId": "4a39de66-4f35-4e4f-c6bd-d8f2affb0ade"
      },
      "source": [
        "X.shape"
      ],
      "execution_count": 73,
      "outputs": [
        {
          "output_type": "execute_result",
          "data": {
            "text/plain": [
              "(46848, 155)"
            ]
          },
          "metadata": {},
          "execution_count": 73
        }
      ]
    },
    {
      "cell_type": "code",
      "metadata": {
        "id": "u7QbIvJF_7YH",
        "colab": {
          "base_uri": "https://localhost:8080/"
        },
        "outputId": "ca354909-ee6a-4d72-bbd5-a3f4e6a31d54"
      },
      "source": [
        "from tensorflow.keras.utils import to_categorical\n",
        "y_train = to_categorical(Z)\n",
        "y_train"
      ],
      "execution_count": 74,
      "outputs": [
        {
          "output_type": "execute_result",
          "data": {
            "text/plain": [
              "array([[0., 0., 0., ..., 1., 0., 0.],\n",
              "       [0., 0., 0., ..., 1., 0., 0.],\n",
              "       [0., 0., 0., ..., 1., 0., 0.],\n",
              "       ...,\n",
              "       [0., 0., 0., ..., 0., 0., 0.],\n",
              "       [0., 0., 0., ..., 0., 0., 0.],\n",
              "       [0., 0., 0., ..., 0., 0., 0.]], dtype=float32)"
            ]
          },
          "metadata": {},
          "execution_count": 74
        }
      ]
    },
    {
      "cell_type": "code",
      "metadata": {
        "id": "vz6DyN6i4Ten",
        "colab": {
          "base_uri": "https://localhost:8080/"
        },
        "outputId": "35c0d167-0712-4ab3-f19e-a2b5eb55143e"
      },
      "source": [
        "y_train.shape"
      ],
      "execution_count": 75,
      "outputs": [
        {
          "output_type": "execute_result",
          "data": {
            "text/plain": [
              "(46848, 10)"
            ]
          },
          "metadata": {},
          "execution_count": 75
        }
      ]
    },
    {
      "cell_type": "code",
      "metadata": {
        "id": "n2nbzExFABT9"
      },
      "source": [
        "x_train = np.array(X[:])"
      ],
      "execution_count": 76,
      "outputs": []
    },
    {
      "cell_type": "code",
      "metadata": {
        "id": "ooCmmlGRAFkv"
      },
      "source": [
        "\n",
        "with open('/content/drive/My Drive/leading_ai/data_testing.npy', 'rb') as fileTrain:\n",
        "    M  = np.load(fileTrain)\n",
        "    \n",
        "with open('/content/drive/My Drive/leading_ai/label_testing.npy', 'rb') as fileTrainL:\n",
        "    N  = np.load(fileTrainL)\n",
        "\n",
        "M = normalize(M)\n",
        "L = np.ravel(N[:, [3]])\n",
        "\n",
        "Arousal_Test = np.ravel(N[:, [0]])\n",
        "Valence_Test = np.ravel(N[:, [1]])\n",
        "Domain_Test = np.ravel(N[:, [2]])\n",
        "Like_Test = np.ravel(N[:, [3]])"
      ],
      "execution_count": 77,
      "outputs": []
    },
    {
      "cell_type": "code",
      "metadata": {
        "id": "m4sxtvpQAOhK"
      },
      "source": [
        "x_test = np.array(M[:])"
      ],
      "execution_count": 78,
      "outputs": []
    },
    {
      "cell_type": "code",
      "metadata": {
        "id": "r2RKm9KgASb4",
        "colab": {
          "base_uri": "https://localhost:8080/"
        },
        "outputId": "0c6bc265-4c1b-4a1f-e6de-ca13ce119d5f"
      },
      "source": [
        "from tensorflow.keras.utils import to_categorical\n",
        "y_test = to_categorical(L)\n",
        "y_test"
      ],
      "execution_count": 79,
      "outputs": [
        {
          "output_type": "execute_result",
          "data": {
            "text/plain": [
              "array([[0., 0., 0., ..., 1., 0., 0.],\n",
              "       [0., 0., 0., ..., 1., 0., 0.],\n",
              "       [0., 0., 0., ..., 1., 0., 0.],\n",
              "       ...,\n",
              "       [0., 0., 0., ..., 0., 0., 0.],\n",
              "       [0., 0., 0., ..., 0., 0., 0.],\n",
              "       [0., 0., 0., ..., 0., 0., 0.]], dtype=float32)"
            ]
          },
          "metadata": {},
          "execution_count": 79
        }
      ]
    },
    {
      "cell_type": "code",
      "metadata": {
        "id": "UmwAfzADsRe1",
        "colab": {
          "base_uri": "https://localhost:8080/"
        },
        "outputId": "6445744e-4c92-41ae-cfe0-04e6b78e4dea"
      },
      "source": [
        "y_test[1]"
      ],
      "execution_count": 80,
      "outputs": [
        {
          "output_type": "execute_result",
          "data": {
            "text/plain": [
              "array([0., 0., 0., 0., 0., 0., 0., 1., 0., 0.], dtype=float32)"
            ]
          },
          "metadata": {},
          "execution_count": 80
        }
      ]
    },
    {
      "cell_type": "code",
      "metadata": {
        "id": "rKnp-c5EAVGJ"
      },
      "source": [
        "from sklearn.preprocessing import StandardScaler\n",
        "scaler = StandardScaler()\n",
        "x_train = scaler.fit_transform(x_train)\n",
        "x_test = scaler.fit_transform(x_test)"
      ],
      "execution_count": 81,
      "outputs": []
    },
    {
      "cell_type": "code",
      "metadata": {
        "id": "WC6VSZLUBCiS"
      },
      "source": [
        "x_train = x_train.reshape(x_train.shape[0],x_train.shape[1], 1)\n",
        "x_test = x_test.reshape(x_test.shape[0],x_test.shape[1], 1)"
      ],
      "execution_count": 82,
      "outputs": []
    },
    {
      "cell_type": "code",
      "metadata": {
        "id": "F3CYMY96BE0i",
        "colab": {
          "base_uri": "https://localhost:8080/"
        },
        "outputId": "b3384173-fe41-48d1-99c7-e2b2d8e8e73b"
      },
      "source": [
        "x_train.shape"
      ],
      "execution_count": 83,
      "outputs": [
        {
          "output_type": "execute_result",
          "data": {
            "text/plain": [
              "(46848, 155, 1)"
            ]
          },
          "metadata": {},
          "execution_count": 83
        }
      ]
    },
    {
      "cell_type": "code",
      "metadata": {
        "id": "V8NOrABgBWzf"
      },
      "source": [
        "batch_size = 256\n",
        "num_classes = 10\n",
        "epochs = 200\n",
        "input_shape=(x_train.shape[1], 1)"
      ],
      "execution_count": 84,
      "outputs": []
    },
    {
      "cell_type": "code",
      "metadata": {
        "id": "FrpmQ4QWBc4_"
      },
      "source": [
        "from keras.layers import Convolution1D, ZeroPadding1D, MaxPooling1D, BatchNormalization, Activation, Dropout, Flatten, Dense\n",
        "from keras.regularizers import l2"
      ],
      "execution_count": 85,
      "outputs": []
    },
    {
      "cell_type": "code",
      "metadata": {
        "id": "2B1ezppYCOhJ",
        "colab": {
          "base_uri": "https://localhost:8080/"
        },
        "outputId": "013029ea-f0ca-4724-dc97-fc25c35944af"
      },
      "source": [
        "model = Sequential()\n",
        "intput_shape=(x_train.shape[1], 1)\n",
        "model.add(Conv1D(128, kernel_size=3,padding = 'same',activation='relu', input_shape=input_shape))\n",
        "model.add(BatchNormalization())\n",
        "model.add(MaxPooling1D(pool_size=(2)))\n",
        "model.add(Conv1D(128,kernel_size=3,padding = 'same', activation='relu'))\n",
        "model.add(BatchNormalization())\n",
        "model.add(MaxPooling1D(pool_size=(2)))\n",
        "model.add(Conv1D(64,kernel_size=3,padding = 'same', activation='relu'))\n",
        "model.add(MaxPooling1D(pool_size=(2)))\n",
        "model.add(Flatten())\n",
        "model.add(Dense(64, activation='tanh'))\n",
        "model.add(Dropout(0.2))\n",
        "model.add(Dense(32, activation='tanh'))\n",
        "model.add(Dropout(0.2))\n",
        "model.add(Dense(16, activation='relu'))\n",
        "model.add(Dropout(0.2))\n",
        "model.add(Dense(num_classes, activation='softmax'))\n",
        "model.summary()"
      ],
      "execution_count": 86,
      "outputs": [
        {
          "output_type": "stream",
          "name": "stdout",
          "text": [
            "Model: \"sequential_1\"\n",
            "_________________________________________________________________\n",
            " Layer (type)                Output Shape              Param #   \n",
            "=================================================================\n",
            " conv1d_3 (Conv1D)           (None, 155, 128)          512       \n",
            "                                                                 \n",
            " batch_normalization_2 (Batc  (None, 155, 128)         512       \n",
            " hNormalization)                                                 \n",
            "                                                                 \n",
            " max_pooling1d_3 (MaxPooling  (None, 77, 128)          0         \n",
            " 1D)                                                             \n",
            "                                                                 \n",
            " conv1d_4 (Conv1D)           (None, 77, 128)           49280     \n",
            "                                                                 \n",
            " batch_normalization_3 (Batc  (None, 77, 128)          512       \n",
            " hNormalization)                                                 \n",
            "                                                                 \n",
            " max_pooling1d_4 (MaxPooling  (None, 38, 128)          0         \n",
            " 1D)                                                             \n",
            "                                                                 \n",
            " conv1d_5 (Conv1D)           (None, 38, 64)            24640     \n",
            "                                                                 \n",
            " max_pooling1d_5 (MaxPooling  (None, 19, 64)           0         \n",
            " 1D)                                                             \n",
            "                                                                 \n",
            " flatten_1 (Flatten)         (None, 1216)              0         \n",
            "                                                                 \n",
            " dense_4 (Dense)             (None, 64)                77888     \n",
            "                                                                 \n",
            " dropout_3 (Dropout)         (None, 64)                0         \n",
            "                                                                 \n",
            " dense_5 (Dense)             (None, 32)                2080      \n",
            "                                                                 \n",
            " dropout_4 (Dropout)         (None, 32)                0         \n",
            "                                                                 \n",
            " dense_6 (Dense)             (None, 16)                528       \n",
            "                                                                 \n",
            " dropout_5 (Dropout)         (None, 16)                0         \n",
            "                                                                 \n",
            " dense_7 (Dense)             (None, 10)                170       \n",
            "                                                                 \n",
            "=================================================================\n",
            "Total params: 156,122\n",
            "Trainable params: 155,610\n",
            "Non-trainable params: 512\n",
            "_________________________________________________________________\n"
          ]
        }
      ]
    },
    {
      "cell_type": "code",
      "metadata": {
        "id": "A7abBpBSCY-o"
      },
      "source": [
        "model.compile(loss=keras.losses.categorical_crossentropy,\n",
        "              optimizer='adam',\n",
        "              metrics=['accuracy'])"
      ],
      "execution_count": 87,
      "outputs": []
    },
    {
      "cell_type": "code",
      "metadata": {
        "id": "vaZ4RPIqCfYF",
        "colab": {
          "base_uri": "https://localhost:8080/"
        },
        "outputId": "e0ea64a6-e21c-4c17-b5e6-d1edfb74fe07"
      },
      "source": [
        "history=model.fit(x_train, y_train,\n",
        "          batch_size=batch_size,\n",
        "          epochs=epochs,  \n",
        "          verbose=1,validation_data=(x_test,y_test))"
      ],
      "execution_count": 88,
      "outputs": [
        {
          "output_type": "stream",
          "name": "stdout",
          "text": [
            "Epoch 1/200\n",
            "183/183 [==============================] - 86s 463ms/step - loss: 1.8068 - accuracy: 0.3017 - val_loss: 1.7650 - val_accuracy: 0.3039\n",
            "Epoch 2/200\n",
            "183/183 [==============================] - 67s 365ms/step - loss: 1.5204 - accuracy: 0.3999 - val_loss: 1.4629 - val_accuracy: 0.4247\n",
            "Epoch 3/200\n",
            "183/183 [==============================] - 68s 373ms/step - loss: 1.3536 - accuracy: 0.4616 - val_loss: 1.1597 - val_accuracy: 0.5380\n",
            "Epoch 4/200\n",
            "183/183 [==============================] - 69s 378ms/step - loss: 1.2236 - accuracy: 0.5160 - val_loss: 1.0285 - val_accuracy: 0.5895\n",
            "Epoch 5/200\n",
            "183/183 [==============================] - 67s 364ms/step - loss: 1.1082 - accuracy: 0.5673 - val_loss: 0.9196 - val_accuracy: 0.6308\n",
            "Epoch 6/200\n",
            "183/183 [==============================] - 66s 363ms/step - loss: 1.0075 - accuracy: 0.6040 - val_loss: 0.8686 - val_accuracy: 0.6483\n",
            "Epoch 7/200\n",
            "183/183 [==============================] - 69s 375ms/step - loss: 0.9375 - accuracy: 0.6317 - val_loss: 0.8127 - val_accuracy: 0.6739\n",
            "Epoch 8/200\n",
            "183/183 [==============================] - 70s 382ms/step - loss: 0.8812 - accuracy: 0.6568 - val_loss: 0.7449 - val_accuracy: 0.7096\n",
            "Epoch 9/200\n",
            "183/183 [==============================] - 67s 365ms/step - loss: 0.8298 - accuracy: 0.6777 - val_loss: 0.7072 - val_accuracy: 0.7234\n",
            "Epoch 10/200\n",
            "183/183 [==============================] - 67s 368ms/step - loss: 0.7892 - accuracy: 0.6932 - val_loss: 0.7193 - val_accuracy: 0.7153\n",
            "Epoch 11/200\n",
            "183/183 [==============================] - 70s 384ms/step - loss: 0.7470 - accuracy: 0.7119 - val_loss: 0.6394 - val_accuracy: 0.7535\n",
            "Epoch 12/200\n",
            "183/183 [==============================] - 68s 370ms/step - loss: 0.7169 - accuracy: 0.7244 - val_loss: 0.6090 - val_accuracy: 0.7616\n",
            "Epoch 13/200\n",
            "183/183 [==============================] - 67s 366ms/step - loss: 0.6870 - accuracy: 0.7346 - val_loss: 0.5752 - val_accuracy: 0.7791\n",
            "Epoch 14/200\n",
            "183/183 [==============================] - 69s 379ms/step - loss: 0.6582 - accuracy: 0.7472 - val_loss: 0.5967 - val_accuracy: 0.7675\n",
            "Epoch 15/200\n",
            "183/183 [==============================] - 68s 369ms/step - loss: 0.6377 - accuracy: 0.7566 - val_loss: 0.5493 - val_accuracy: 0.7860\n",
            "Epoch 16/200\n",
            "183/183 [==============================] - 68s 372ms/step - loss: 0.6067 - accuracy: 0.7663 - val_loss: 0.5283 - val_accuracy: 0.7976\n",
            "Epoch 17/200\n",
            "183/183 [==============================] - 68s 371ms/step - loss: 0.5974 - accuracy: 0.7730 - val_loss: 0.5523 - val_accuracy: 0.7870\n",
            "Epoch 18/200\n",
            "183/183 [==============================] - 70s 380ms/step - loss: 0.5697 - accuracy: 0.7830 - val_loss: 0.5190 - val_accuracy: 0.8031\n",
            "Epoch 19/200\n",
            "183/183 [==============================] - 68s 374ms/step - loss: 0.5581 - accuracy: 0.7876 - val_loss: 0.4947 - val_accuracy: 0.8081\n",
            "Epoch 20/200\n",
            "183/183 [==============================] - 67s 364ms/step - loss: 0.5471 - accuracy: 0.7932 - val_loss: 0.4694 - val_accuracy: 0.8220\n",
            "Epoch 21/200\n",
            "183/183 [==============================] - 69s 378ms/step - loss: 0.5172 - accuracy: 0.8051 - val_loss: 0.5280 - val_accuracy: 0.7990\n",
            "Epoch 22/200\n",
            "183/183 [==============================] - 68s 370ms/step - loss: 0.5171 - accuracy: 0.8037 - val_loss: 0.4714 - val_accuracy: 0.8192\n",
            "Epoch 23/200\n",
            "183/183 [==============================] - 67s 366ms/step - loss: 0.4944 - accuracy: 0.8138 - val_loss: 0.4446 - val_accuracy: 0.8317\n",
            "Epoch 24/200\n",
            "183/183 [==============================] - 69s 376ms/step - loss: 0.4797 - accuracy: 0.8196 - val_loss: 0.4445 - val_accuracy: 0.8309\n",
            "Epoch 25/200\n",
            "183/183 [==============================] - 67s 365ms/step - loss: 0.4710 - accuracy: 0.8210 - val_loss: 0.4305 - val_accuracy: 0.8365\n",
            "Epoch 26/200\n",
            "183/183 [==============================] - 66s 363ms/step - loss: 0.4592 - accuracy: 0.8287 - val_loss: 0.4258 - val_accuracy: 0.8406\n",
            "Epoch 27/200\n",
            "183/183 [==============================] - 67s 364ms/step - loss: 0.4521 - accuracy: 0.8307 - val_loss: 0.4450 - val_accuracy: 0.8378\n",
            "Epoch 28/200\n",
            "183/183 [==============================] - 68s 372ms/step - loss: 0.4457 - accuracy: 0.8348 - val_loss: 0.4363 - val_accuracy: 0.8373\n",
            "Epoch 29/200\n",
            "183/183 [==============================] - 66s 359ms/step - loss: 0.4331 - accuracy: 0.8376 - val_loss: 0.4161 - val_accuracy: 0.8502\n",
            "Epoch 30/200\n",
            "183/183 [==============================] - 66s 362ms/step - loss: 0.4212 - accuracy: 0.8442 - val_loss: 0.4212 - val_accuracy: 0.8479\n",
            "Epoch 31/200\n",
            "183/183 [==============================] - 70s 380ms/step - loss: 0.4126 - accuracy: 0.8483 - val_loss: 0.4018 - val_accuracy: 0.8572\n",
            "Epoch 32/200\n",
            "183/183 [==============================] - 66s 361ms/step - loss: 0.4052 - accuracy: 0.8514 - val_loss: 0.4028 - val_accuracy: 0.8596\n",
            "Epoch 33/200\n",
            "183/183 [==============================] - 68s 372ms/step - loss: 0.3975 - accuracy: 0.8562 - val_loss: 0.3879 - val_accuracy: 0.8649\n",
            "Epoch 34/200\n",
            "183/183 [==============================] - 68s 373ms/step - loss: 0.3893 - accuracy: 0.8581 - val_loss: 0.3946 - val_accuracy: 0.8654\n",
            "Epoch 35/200\n",
            "183/183 [==============================] - 67s 362ms/step - loss: 0.3856 - accuracy: 0.8597 - val_loss: 0.3917 - val_accuracy: 0.8654\n",
            "Epoch 36/200\n",
            "183/183 [==============================] - 67s 364ms/step - loss: 0.3740 - accuracy: 0.8634 - val_loss: 0.3819 - val_accuracy: 0.8648\n",
            "Epoch 37/200\n",
            "183/183 [==============================] - 67s 368ms/step - loss: 0.3670 - accuracy: 0.8652 - val_loss: 0.3904 - val_accuracy: 0.8657\n",
            "Epoch 38/200\n",
            "183/183 [==============================] - 69s 377ms/step - loss: 0.3712 - accuracy: 0.8647 - val_loss: 0.3798 - val_accuracy: 0.8700\n",
            "Epoch 39/200\n",
            "183/183 [==============================] - 66s 361ms/step - loss: 0.3628 - accuracy: 0.8677 - val_loss: 0.3847 - val_accuracy: 0.8696\n",
            "Epoch 40/200\n",
            "183/183 [==============================] - 67s 366ms/step - loss: 0.3588 - accuracy: 0.8703 - val_loss: 0.3618 - val_accuracy: 0.8721\n",
            "Epoch 41/200\n",
            "183/183 [==============================] - 69s 375ms/step - loss: 0.3480 - accuracy: 0.8732 - val_loss: 0.3974 - val_accuracy: 0.8665\n",
            "Epoch 42/200\n",
            "183/183 [==============================] - 66s 360ms/step - loss: 0.3470 - accuracy: 0.8754 - val_loss: 0.3898 - val_accuracy: 0.8687\n",
            "Epoch 43/200\n",
            "183/183 [==============================] - 66s 359ms/step - loss: 0.3356 - accuracy: 0.8789 - val_loss: 0.3603 - val_accuracy: 0.8726\n",
            "Epoch 44/200\n",
            "183/183 [==============================] - 65s 357ms/step - loss: 0.3380 - accuracy: 0.8795 - val_loss: 0.3771 - val_accuracy: 0.8706\n",
            "Epoch 45/200\n",
            "183/183 [==============================] - 68s 369ms/step - loss: 0.3365 - accuracy: 0.8793 - val_loss: 0.3801 - val_accuracy: 0.8673\n",
            "Epoch 46/200\n",
            "183/183 [==============================] - 66s 360ms/step - loss: 0.3245 - accuracy: 0.8829 - val_loss: 0.3793 - val_accuracy: 0.8759\n",
            "Epoch 47/200\n",
            "183/183 [==============================] - 66s 360ms/step - loss: 0.3105 - accuracy: 0.8878 - val_loss: 0.3247 - val_accuracy: 0.8956\n",
            "Epoch 48/200\n",
            "183/183 [==============================] - 68s 369ms/step - loss: 0.3175 - accuracy: 0.8867 - val_loss: 0.3626 - val_accuracy: 0.8789\n",
            "Epoch 49/200\n",
            "183/183 [==============================] - 66s 360ms/step - loss: 0.3189 - accuracy: 0.8878 - val_loss: 0.3622 - val_accuracy: 0.8846\n",
            "Epoch 50/200\n",
            "183/183 [==============================] - 65s 355ms/step - loss: 0.3121 - accuracy: 0.8898 - val_loss: 0.3640 - val_accuracy: 0.8789\n",
            "Epoch 51/200\n",
            "183/183 [==============================] - 65s 354ms/step - loss: 0.3018 - accuracy: 0.8928 - val_loss: 0.3435 - val_accuracy: 0.8895\n",
            "Epoch 52/200\n",
            "183/183 [==============================] - 66s 362ms/step - loss: 0.3033 - accuracy: 0.8931 - val_loss: 0.4106 - val_accuracy: 0.8695\n",
            "Epoch 53/200\n",
            "183/183 [==============================] - 65s 356ms/step - loss: 0.3004 - accuracy: 0.8945 - val_loss: 0.3521 - val_accuracy: 0.8869\n",
            "Epoch 54/200\n",
            "183/183 [==============================] - 67s 368ms/step - loss: 0.2966 - accuracy: 0.8941 - val_loss: 0.3698 - val_accuracy: 0.8803\n",
            "Epoch 55/200\n",
            "183/183 [==============================] - 69s 379ms/step - loss: 0.2958 - accuracy: 0.8967 - val_loss: 0.3384 - val_accuracy: 0.8903\n",
            "Epoch 56/200\n",
            "183/183 [==============================] - 67s 369ms/step - loss: 0.2854 - accuracy: 0.8991 - val_loss: 0.3404 - val_accuracy: 0.8933\n",
            "Epoch 57/200\n",
            "183/183 [==============================] - 67s 367ms/step - loss: 0.2866 - accuracy: 0.8967 - val_loss: 0.3422 - val_accuracy: 0.8974\n",
            "Epoch 58/200\n",
            "183/183 [==============================] - 67s 367ms/step - loss: 0.2840 - accuracy: 0.9005 - val_loss: 0.3347 - val_accuracy: 0.8961\n",
            "Epoch 59/200\n",
            "183/183 [==============================] - 72s 393ms/step - loss: 0.2811 - accuracy: 0.9009 - val_loss: 0.3338 - val_accuracy: 0.8956\n",
            "Epoch 60/200\n",
            "183/183 [==============================] - 67s 365ms/step - loss: 0.2745 - accuracy: 0.9048 - val_loss: 0.3488 - val_accuracy: 0.8913\n",
            "Epoch 61/200\n",
            "183/183 [==============================] - 66s 360ms/step - loss: 0.2799 - accuracy: 0.9010 - val_loss: 0.3468 - val_accuracy: 0.8963\n",
            "Epoch 62/200\n",
            "183/183 [==============================] - 68s 370ms/step - loss: 0.2694 - accuracy: 0.9061 - val_loss: 0.3356 - val_accuracy: 0.8951\n",
            "Epoch 63/200\n",
            "183/183 [==============================] - 67s 365ms/step - loss: 0.2629 - accuracy: 0.9082 - val_loss: 0.3507 - val_accuracy: 0.8969\n",
            "Epoch 64/200\n",
            "183/183 [==============================] - 67s 364ms/step - loss: 0.2623 - accuracy: 0.9092 - val_loss: 0.3683 - val_accuracy: 0.8850\n",
            "Epoch 65/200\n",
            "183/183 [==============================] - 68s 373ms/step - loss: 0.2600 - accuracy: 0.9076 - val_loss: 0.3213 - val_accuracy: 0.9001\n",
            "Epoch 66/200\n",
            "183/183 [==============================] - 66s 361ms/step - loss: 0.2588 - accuracy: 0.9100 - val_loss: 0.3280 - val_accuracy: 0.8975\n",
            "Epoch 67/200\n",
            "183/183 [==============================] - 67s 365ms/step - loss: 0.2567 - accuracy: 0.9080 - val_loss: 0.3259 - val_accuracy: 0.9010\n",
            "Epoch 68/200\n",
            "183/183 [==============================] - 66s 363ms/step - loss: 0.2524 - accuracy: 0.9118 - val_loss: 0.3455 - val_accuracy: 0.8980\n",
            "Epoch 69/200\n",
            "183/183 [==============================] - 68s 374ms/step - loss: 0.2536 - accuracy: 0.9129 - val_loss: 0.3155 - val_accuracy: 0.9042\n",
            "Epoch 70/200\n",
            "183/183 [==============================] - 67s 365ms/step - loss: 0.2491 - accuracy: 0.9129 - val_loss: 0.3279 - val_accuracy: 0.9033\n",
            "Epoch 71/200\n",
            "183/183 [==============================] - 67s 367ms/step - loss: 0.2387 - accuracy: 0.9159 - val_loss: 0.3481 - val_accuracy: 0.8984\n",
            "Epoch 72/200\n",
            "183/183 [==============================] - 69s 378ms/step - loss: 0.2453 - accuracy: 0.9150 - val_loss: 0.3497 - val_accuracy: 0.8980\n",
            "Epoch 73/200\n",
            "183/183 [==============================] - 67s 366ms/step - loss: 0.2537 - accuracy: 0.9114 - val_loss: 0.3472 - val_accuracy: 0.8945\n",
            "Epoch 74/200\n",
            "183/183 [==============================] - 68s 369ms/step - loss: 0.2476 - accuracy: 0.9139 - val_loss: 0.3144 - val_accuracy: 0.9044\n",
            "Epoch 75/200\n",
            "183/183 [==============================] - 69s 375ms/step - loss: 0.2348 - accuracy: 0.9172 - val_loss: 0.3163 - val_accuracy: 0.9068\n",
            "Epoch 76/200\n",
            "183/183 [==============================] - 67s 365ms/step - loss: 0.2387 - accuracy: 0.9179 - val_loss: 0.3538 - val_accuracy: 0.8977\n",
            "Epoch 77/200\n",
            "183/183 [==============================] - 67s 364ms/step - loss: 0.2300 - accuracy: 0.9205 - val_loss: 0.3330 - val_accuracy: 0.9004\n",
            "Epoch 78/200\n",
            "183/183 [==============================] - 66s 363ms/step - loss: 0.2334 - accuracy: 0.9200 - val_loss: 0.3264 - val_accuracy: 0.9078\n",
            "Epoch 79/200\n",
            "183/183 [==============================] - 68s 373ms/step - loss: 0.2308 - accuracy: 0.9203 - val_loss: 0.3320 - val_accuracy: 0.9045\n",
            "Epoch 80/200\n",
            "183/183 [==============================] - 66s 362ms/step - loss: 0.2346 - accuracy: 0.9190 - val_loss: 0.3385 - val_accuracy: 0.9032\n",
            "Epoch 81/200\n",
            "183/183 [==============================] - 67s 369ms/step - loss: 0.2334 - accuracy: 0.9208 - val_loss: 0.3008 - val_accuracy: 0.9074\n",
            "Epoch 82/200\n",
            "183/183 [==============================] - 68s 372ms/step - loss: 0.2245 - accuracy: 0.9223 - val_loss: 0.3226 - val_accuracy: 0.9054\n",
            "Epoch 83/200\n",
            "183/183 [==============================] - 66s 362ms/step - loss: 0.2284 - accuracy: 0.9206 - val_loss: 0.3495 - val_accuracy: 0.8959\n",
            "Epoch 84/200\n",
            "183/183 [==============================] - 67s 366ms/step - loss: 0.2211 - accuracy: 0.9264 - val_loss: 0.3743 - val_accuracy: 0.8963\n",
            "Epoch 85/200\n",
            "183/183 [==============================] - 67s 367ms/step - loss: 0.2254 - accuracy: 0.9221 - val_loss: 0.3290 - val_accuracy: 0.9063\n",
            "Epoch 86/200\n",
            "183/183 [==============================] - 69s 379ms/step - loss: 0.2205 - accuracy: 0.9248 - val_loss: 0.3389 - val_accuracy: 0.9033\n",
            "Epoch 87/200\n",
            "183/183 [==============================] - 71s 391ms/step - loss: 0.2225 - accuracy: 0.9230 - val_loss: 0.3139 - val_accuracy: 0.9103\n",
            "Epoch 88/200\n",
            "183/183 [==============================] - 68s 371ms/step - loss: 0.2154 - accuracy: 0.9254 - val_loss: 0.3217 - val_accuracy: 0.9045\n",
            "Epoch 89/200\n",
            "183/183 [==============================] - 70s 381ms/step - loss: 0.2213 - accuracy: 0.9236 - val_loss: 0.3503 - val_accuracy: 0.8941\n",
            "Epoch 90/200\n",
            "183/183 [==============================] - 68s 370ms/step - loss: 0.2144 - accuracy: 0.9269 - val_loss: 0.3147 - val_accuracy: 0.9113\n",
            "Epoch 91/200\n",
            "183/183 [==============================] - 68s 372ms/step - loss: 0.2144 - accuracy: 0.9272 - val_loss: 0.3389 - val_accuracy: 0.9039\n",
            "Epoch 92/200\n",
            "183/183 [==============================] - 70s 380ms/step - loss: 0.2108 - accuracy: 0.9262 - val_loss: 0.3334 - val_accuracy: 0.9091\n",
            "Epoch 93/200\n",
            "183/183 [==============================] - 67s 369ms/step - loss: 0.2073 - accuracy: 0.9286 - val_loss: 0.3289 - val_accuracy: 0.9100\n",
            "Epoch 94/200\n",
            "183/183 [==============================] - 67s 369ms/step - loss: 0.2076 - accuracy: 0.9292 - val_loss: 0.3172 - val_accuracy: 0.9119\n",
            "Epoch 95/200\n",
            "183/183 [==============================] - 70s 383ms/step - loss: 0.2123 - accuracy: 0.9286 - val_loss: 0.3199 - val_accuracy: 0.9120\n",
            "Epoch 96/200\n",
            "183/183 [==============================] - 67s 367ms/step - loss: 0.2132 - accuracy: 0.9277 - val_loss: 0.3242 - val_accuracy: 0.9089\n",
            "Epoch 97/200\n",
            "183/183 [==============================] - 68s 373ms/step - loss: 0.2061 - accuracy: 0.9301 - val_loss: 0.3035 - val_accuracy: 0.9171\n",
            "Epoch 98/200\n",
            "183/183 [==============================] - 68s 370ms/step - loss: 0.2058 - accuracy: 0.9298 - val_loss: 0.3103 - val_accuracy: 0.9126\n",
            "Epoch 99/200\n",
            "183/183 [==============================] - 69s 376ms/step - loss: 0.1982 - accuracy: 0.9331 - val_loss: 0.3134 - val_accuracy: 0.9156\n",
            "Epoch 100/200\n",
            "183/183 [==============================] - 67s 367ms/step - loss: 0.2033 - accuracy: 0.9311 - val_loss: 0.2875 - val_accuracy: 0.9144\n",
            "Epoch 101/200\n",
            "183/183 [==============================] - 67s 367ms/step - loss: 0.2063 - accuracy: 0.9303 - val_loss: 0.3375 - val_accuracy: 0.9052\n",
            "Epoch 102/200\n",
            "183/183 [==============================] - 69s 377ms/step - loss: 0.2039 - accuracy: 0.9307 - val_loss: 0.3075 - val_accuracy: 0.9143\n",
            "Epoch 103/200\n",
            "183/183 [==============================] - 68s 369ms/step - loss: 0.1961 - accuracy: 0.9340 - val_loss: 0.3246 - val_accuracy: 0.9084\n",
            "Epoch 104/200\n",
            "183/183 [==============================] - 68s 370ms/step - loss: 0.1963 - accuracy: 0.9330 - val_loss: 0.3141 - val_accuracy: 0.9117\n",
            "Epoch 105/200\n",
            "183/183 [==============================] - 70s 381ms/step - loss: 0.1975 - accuracy: 0.9328 - val_loss: 0.3054 - val_accuracy: 0.9164\n",
            "Epoch 106/200\n",
            "183/183 [==============================] - 68s 371ms/step - loss: 0.1944 - accuracy: 0.9333 - val_loss: 0.3289 - val_accuracy: 0.9111\n",
            "Epoch 107/200\n",
            "183/183 [==============================] - 68s 370ms/step - loss: 0.1898 - accuracy: 0.9347 - val_loss: 0.3283 - val_accuracy: 0.9112\n",
            "Epoch 108/200\n",
            "183/183 [==============================] - 69s 378ms/step - loss: 0.1971 - accuracy: 0.9339 - val_loss: 0.3376 - val_accuracy: 0.9100\n",
            "Epoch 109/200\n",
            "183/183 [==============================] - 70s 382ms/step - loss: 0.1926 - accuracy: 0.9349 - val_loss: 0.3105 - val_accuracy: 0.9137\n",
            "Epoch 110/200\n",
            "183/183 [==============================] - 68s 370ms/step - loss: 0.1970 - accuracy: 0.9343 - val_loss: 0.3142 - val_accuracy: 0.9122\n",
            "Epoch 111/200\n",
            "183/183 [==============================] - 68s 372ms/step - loss: 0.1907 - accuracy: 0.9371 - val_loss: 0.3335 - val_accuracy: 0.9096\n",
            "Epoch 112/200\n",
            "183/183 [==============================] - 70s 381ms/step - loss: 0.1937 - accuracy: 0.9368 - val_loss: 0.3077 - val_accuracy: 0.9185\n",
            "Epoch 113/200\n",
            "183/183 [==============================] - 68s 372ms/step - loss: 0.1906 - accuracy: 0.9365 - val_loss: 0.3152 - val_accuracy: 0.9121\n",
            "Epoch 114/200\n",
            "183/183 [==============================] - 65s 355ms/step - loss: 0.1849 - accuracy: 0.9383 - val_loss: 0.3291 - val_accuracy: 0.9133\n",
            "Epoch 115/200\n",
            "183/183 [==============================] - 66s 362ms/step - loss: 0.1848 - accuracy: 0.9385 - val_loss: 0.3216 - val_accuracy: 0.9158\n",
            "Epoch 116/200\n",
            "183/183 [==============================] - 66s 360ms/step - loss: 0.1851 - accuracy: 0.9376 - val_loss: 0.3138 - val_accuracy: 0.9122\n",
            "Epoch 117/200\n",
            "183/183 [==============================] - 65s 358ms/step - loss: 0.1725 - accuracy: 0.9435 - val_loss: 0.3117 - val_accuracy: 0.9203\n",
            "Epoch 118/200\n",
            "183/183 [==============================] - 65s 355ms/step - loss: 0.1858 - accuracy: 0.9388 - val_loss: 0.3112 - val_accuracy: 0.9148\n",
            "Epoch 119/200\n",
            "183/183 [==============================] - 68s 374ms/step - loss: 0.1772 - accuracy: 0.9407 - val_loss: 0.3583 - val_accuracy: 0.9099\n",
            "Epoch 120/200\n",
            "183/183 [==============================] - 68s 370ms/step - loss: 0.1947 - accuracy: 0.9351 - val_loss: 0.3157 - val_accuracy: 0.9133\n",
            "Epoch 121/200\n",
            "183/183 [==============================] - 67s 369ms/step - loss: 0.1788 - accuracy: 0.9409 - val_loss: 0.3089 - val_accuracy: 0.9138\n",
            "Epoch 122/200\n",
            "183/183 [==============================] - 69s 379ms/step - loss: 0.1775 - accuracy: 0.9415 - val_loss: 0.3401 - val_accuracy: 0.9092\n",
            "Epoch 123/200\n",
            "183/183 [==============================] - 67s 368ms/step - loss: 0.1840 - accuracy: 0.9391 - val_loss: 0.3034 - val_accuracy: 0.9163\n",
            "Epoch 124/200\n",
            "183/183 [==============================] - 67s 368ms/step - loss: 0.1740 - accuracy: 0.9424 - val_loss: 0.3370 - val_accuracy: 0.9138\n",
            "Epoch 125/200\n",
            "183/183 [==============================] - 70s 380ms/step - loss: 0.1688 - accuracy: 0.9443 - val_loss: 0.3200 - val_accuracy: 0.9169\n",
            "Epoch 126/200\n",
            "183/183 [==============================] - 67s 367ms/step - loss: 0.1739 - accuracy: 0.9426 - val_loss: 0.3146 - val_accuracy: 0.9194\n",
            "Epoch 127/200\n",
            "183/183 [==============================] - 67s 366ms/step - loss: 0.1734 - accuracy: 0.9426 - val_loss: 0.3173 - val_accuracy: 0.9176\n",
            "Epoch 128/200\n",
            "183/183 [==============================] - 69s 378ms/step - loss: 0.1758 - accuracy: 0.9416 - val_loss: 0.2964 - val_accuracy: 0.9197\n",
            "Epoch 129/200\n",
            "183/183 [==============================] - 68s 370ms/step - loss: 0.1677 - accuracy: 0.9445 - val_loss: 0.3232 - val_accuracy: 0.9112\n",
            "Epoch 130/200\n",
            "183/183 [==============================] - 68s 369ms/step - loss: 0.1774 - accuracy: 0.9417 - val_loss: 0.3508 - val_accuracy: 0.9041\n",
            "Epoch 131/200\n",
            "183/183 [==============================] - 69s 377ms/step - loss: 0.1769 - accuracy: 0.9422 - val_loss: 0.3205 - val_accuracy: 0.9171\n",
            "Epoch 132/200\n",
            "183/183 [==============================] - 67s 369ms/step - loss: 0.1735 - accuracy: 0.9428 - val_loss: 0.3162 - val_accuracy: 0.9168\n",
            "Epoch 133/200\n",
            "183/183 [==============================] - 67s 366ms/step - loss: 0.1760 - accuracy: 0.9422 - val_loss: 0.3296 - val_accuracy: 0.9151\n",
            "Epoch 134/200\n",
            "183/183 [==============================] - 67s 366ms/step - loss: 0.1675 - accuracy: 0.9446 - val_loss: 0.3203 - val_accuracy: 0.9215\n",
            "Epoch 135/200\n",
            "183/183 [==============================] - 69s 379ms/step - loss: 0.1747 - accuracy: 0.9430 - val_loss: 0.3247 - val_accuracy: 0.9140\n",
            "Epoch 136/200\n",
            "183/183 [==============================] - 68s 369ms/step - loss: 0.1635 - accuracy: 0.9450 - val_loss: 0.3361 - val_accuracy: 0.9147\n",
            "Epoch 137/200\n",
            "183/183 [==============================] - 67s 367ms/step - loss: 0.1685 - accuracy: 0.9448 - val_loss: 0.3374 - val_accuracy: 0.9165\n",
            "Epoch 138/200\n",
            "183/183 [==============================] - 69s 379ms/step - loss: 0.1695 - accuracy: 0.9444 - val_loss: 0.3213 - val_accuracy: 0.9197\n",
            "Epoch 139/200\n",
            "183/183 [==============================] - 70s 381ms/step - loss: 0.1636 - accuracy: 0.9477 - val_loss: 0.3231 - val_accuracy: 0.9167\n",
            "Epoch 140/200\n",
            "183/183 [==============================] - 67s 365ms/step - loss: 0.1639 - accuracy: 0.9463 - val_loss: 0.3430 - val_accuracy: 0.9162\n",
            "Epoch 141/200\n",
            "183/183 [==============================] - 66s 362ms/step - loss: 0.1613 - accuracy: 0.9468 - val_loss: 0.3103 - val_accuracy: 0.9206\n",
            "Epoch 142/200\n",
            "183/183 [==============================] - 64s 351ms/step - loss: 0.1657 - accuracy: 0.9464 - val_loss: 0.3277 - val_accuracy: 0.9126\n",
            "Epoch 143/200\n",
            "183/183 [==============================] - 64s 350ms/step - loss: 0.1744 - accuracy: 0.9437 - val_loss: 0.3509 - val_accuracy: 0.9120\n",
            "Epoch 144/200\n",
            "183/183 [==============================] - 66s 360ms/step - loss: 0.1666 - accuracy: 0.9465 - val_loss: 0.3461 - val_accuracy: 0.9158\n",
            "Epoch 145/200\n",
            "183/183 [==============================] - 64s 350ms/step - loss: 0.1646 - accuracy: 0.9468 - val_loss: 0.3371 - val_accuracy: 0.9150\n",
            "Epoch 146/200\n",
            "183/183 [==============================] - 64s 349ms/step - loss: 0.1579 - accuracy: 0.9487 - val_loss: 0.3193 - val_accuracy: 0.9184\n",
            "Epoch 147/200\n",
            "183/183 [==============================] - 64s 352ms/step - loss: 0.1551 - accuracy: 0.9489 - val_loss: 0.3368 - val_accuracy: 0.9134\n",
            "Epoch 148/200\n",
            "183/183 [==============================] - 66s 360ms/step - loss: 0.1594 - accuracy: 0.9485 - val_loss: 0.3033 - val_accuracy: 0.9205\n",
            "Epoch 149/200\n",
            "183/183 [==============================] - 64s 349ms/step - loss: 0.1637 - accuracy: 0.9460 - val_loss: 0.3331 - val_accuracy: 0.9179\n",
            "Epoch 150/200\n",
            "183/183 [==============================] - 64s 349ms/step - loss: 0.1569 - accuracy: 0.9494 - val_loss: 0.3366 - val_accuracy: 0.9138\n",
            "Epoch 151/200\n",
            "183/183 [==============================] - 65s 354ms/step - loss: 0.1594 - accuracy: 0.9484 - val_loss: 0.3191 - val_accuracy: 0.9218\n",
            "Epoch 152/200\n",
            "183/183 [==============================] - 66s 363ms/step - loss: 0.1497 - accuracy: 0.9515 - val_loss: 0.3292 - val_accuracy: 0.9203\n",
            "Epoch 153/200\n",
            "183/183 [==============================] - 66s 363ms/step - loss: 0.1525 - accuracy: 0.9499 - val_loss: 0.3211 - val_accuracy: 0.9203\n",
            "Epoch 154/200\n",
            "183/183 [==============================] - 69s 375ms/step - loss: 0.1572 - accuracy: 0.9489 - val_loss: 0.3288 - val_accuracy: 0.9214\n",
            "Epoch 155/200\n",
            "183/183 [==============================] - 67s 365ms/step - loss: 0.1589 - accuracy: 0.9481 - val_loss: 0.3139 - val_accuracy: 0.9188\n",
            "Epoch 156/200\n",
            "183/183 [==============================] - 67s 364ms/step - loss: 0.1575 - accuracy: 0.9490 - val_loss: 0.3464 - val_accuracy: 0.9127\n",
            "Epoch 157/200\n",
            "183/183 [==============================] - 66s 363ms/step - loss: 0.1501 - accuracy: 0.9518 - val_loss: 0.3288 - val_accuracy: 0.9199\n",
            "Epoch 158/200\n",
            "183/183 [==============================] - 72s 394ms/step - loss: 0.1588 - accuracy: 0.9486 - val_loss: 0.3371 - val_accuracy: 0.9128\n",
            "Epoch 159/200\n",
            "183/183 [==============================] - 67s 366ms/step - loss: 0.1591 - accuracy: 0.9481 - val_loss: 0.3362 - val_accuracy: 0.9182\n",
            "Epoch 160/200\n",
            "183/183 [==============================] - 68s 373ms/step - loss: 0.1570 - accuracy: 0.9484 - val_loss: 0.3350 - val_accuracy: 0.9172\n",
            "Epoch 161/200\n",
            "183/183 [==============================] - 69s 376ms/step - loss: 0.1560 - accuracy: 0.9493 - val_loss: 0.3040 - val_accuracy: 0.9207\n",
            "Epoch 162/200\n",
            "183/183 [==============================] - 67s 365ms/step - loss: 0.1519 - accuracy: 0.9515 - val_loss: 0.3111 - val_accuracy: 0.9203\n",
            "Epoch 163/200\n",
            "183/183 [==============================] - 66s 362ms/step - loss: 0.1519 - accuracy: 0.9507 - val_loss: 0.3397 - val_accuracy: 0.9201\n",
            "Epoch 164/200\n",
            "183/183 [==============================] - 69s 374ms/step - loss: 0.1464 - accuracy: 0.9528 - val_loss: 0.3312 - val_accuracy: 0.9212\n",
            "Epoch 165/200\n",
            "183/183 [==============================] - 67s 365ms/step - loss: 0.1488 - accuracy: 0.9521 - val_loss: 0.3167 - val_accuracy: 0.9225\n",
            "Epoch 166/200\n",
            "183/183 [==============================] - 66s 363ms/step - loss: 0.1478 - accuracy: 0.9519 - val_loss: 0.3205 - val_accuracy: 0.9210\n",
            "Epoch 167/200\n",
            "183/183 [==============================] - 68s 373ms/step - loss: 0.1584 - accuracy: 0.9498 - val_loss: 0.3345 - val_accuracy: 0.9188\n",
            "Epoch 168/200\n",
            "183/183 [==============================] - 67s 365ms/step - loss: 0.1554 - accuracy: 0.9497 - val_loss: 0.3273 - val_accuracy: 0.9208\n",
            "Epoch 169/200\n",
            "183/183 [==============================] - 66s 362ms/step - loss: 0.1474 - accuracy: 0.9527 - val_loss: 0.3523 - val_accuracy: 0.9171\n",
            "Epoch 170/200\n",
            "183/183 [==============================] - 68s 373ms/step - loss: 0.1509 - accuracy: 0.9505 - val_loss: 0.3357 - val_accuracy: 0.9177\n",
            "Epoch 171/200\n",
            "183/183 [==============================] - 66s 362ms/step - loss: 0.1455 - accuracy: 0.9521 - val_loss: 0.3233 - val_accuracy: 0.9209\n",
            "Epoch 172/200\n",
            "183/183 [==============================] - 66s 362ms/step - loss: 0.1476 - accuracy: 0.9530 - val_loss: 0.3061 - val_accuracy: 0.9216\n",
            "Epoch 173/200\n",
            "183/183 [==============================] - 66s 362ms/step - loss: 0.1439 - accuracy: 0.9526 - val_loss: 0.3079 - val_accuracy: 0.9265\n",
            "Epoch 174/200\n",
            "183/183 [==============================] - 68s 374ms/step - loss: 0.1610 - accuracy: 0.9483 - val_loss: 0.3091 - val_accuracy: 0.9226\n",
            "Epoch 175/200\n",
            "183/183 [==============================] - 66s 362ms/step - loss: 0.1373 - accuracy: 0.9556 - val_loss: 0.3055 - val_accuracy: 0.9265\n",
            "Epoch 176/200\n",
            "183/183 [==============================] - 66s 363ms/step - loss: 0.1410 - accuracy: 0.9550 - val_loss: 0.3373 - val_accuracy: 0.9158\n",
            "Epoch 177/200\n",
            "183/183 [==============================] - 69s 375ms/step - loss: 0.1450 - accuracy: 0.9531 - val_loss: 0.3405 - val_accuracy: 0.9176\n",
            "Epoch 178/200\n",
            "183/183 [==============================] - 67s 365ms/step - loss: 0.1453 - accuracy: 0.9521 - val_loss: 0.3195 - val_accuracy: 0.9226\n",
            "Epoch 179/200\n",
            "183/183 [==============================] - 67s 365ms/step - loss: 0.1391 - accuracy: 0.9544 - val_loss: 0.3310 - val_accuracy: 0.9232\n",
            "Epoch 180/200\n",
            "183/183 [==============================] - 68s 374ms/step - loss: 0.1410 - accuracy: 0.9536 - val_loss: 0.3253 - val_accuracy: 0.9206\n",
            "Epoch 181/200\n",
            "183/183 [==============================] - 66s 362ms/step - loss: 0.1448 - accuracy: 0.9541 - val_loss: 0.3260 - val_accuracy: 0.9234\n",
            "Epoch 182/200\n",
            "183/183 [==============================] - 67s 366ms/step - loss: 0.1440 - accuracy: 0.9531 - val_loss: 0.3076 - val_accuracy: 0.9220\n",
            "Epoch 183/200\n",
            "183/183 [==============================] - 69s 376ms/step - loss: 0.1433 - accuracy: 0.9544 - val_loss: 0.3601 - val_accuracy: 0.9158\n",
            "Epoch 184/200\n",
            "183/183 [==============================] - 66s 363ms/step - loss: 0.1450 - accuracy: 0.9531 - val_loss: 0.3243 - val_accuracy: 0.9207\n",
            "Epoch 185/200\n",
            "183/183 [==============================] - 66s 360ms/step - loss: 0.1409 - accuracy: 0.9544 - val_loss: 0.3265 - val_accuracy: 0.9240\n",
            "Epoch 186/200\n",
            "183/183 [==============================] - 66s 363ms/step - loss: 0.1390 - accuracy: 0.9557 - val_loss: 0.3352 - val_accuracy: 0.9185\n",
            "Epoch 187/200\n",
            "183/183 [==============================] - 68s 370ms/step - loss: 0.1446 - accuracy: 0.9542 - val_loss: 0.3128 - val_accuracy: 0.9265\n",
            "Epoch 188/200\n",
            "183/183 [==============================] - 66s 362ms/step - loss: 0.1341 - accuracy: 0.9572 - val_loss: 0.3342 - val_accuracy: 0.9222\n",
            "Epoch 189/200\n",
            "183/183 [==============================] - 66s 363ms/step - loss: 0.1385 - accuracy: 0.9550 - val_loss: 0.3376 - val_accuracy: 0.9192\n",
            "Epoch 190/200\n",
            "183/183 [==============================] - 68s 372ms/step - loss: 0.1475 - accuracy: 0.9537 - val_loss: 0.3434 - val_accuracy: 0.9232\n",
            "Epoch 191/200\n",
            "183/183 [==============================] - 67s 366ms/step - loss: 0.1420 - accuracy: 0.9560 - val_loss: 0.3338 - val_accuracy: 0.9215\n",
            "Epoch 192/200\n",
            "183/183 [==============================] - 67s 364ms/step - loss: 0.1326 - accuracy: 0.9579 - val_loss: 0.3236 - val_accuracy: 0.9253\n",
            "Epoch 193/200\n",
            "183/183 [==============================] - 68s 374ms/step - loss: 0.1425 - accuracy: 0.9545 - val_loss: 0.3464 - val_accuracy: 0.9165\n",
            "Epoch 194/200\n",
            "183/183 [==============================] - 66s 363ms/step - loss: 0.1419 - accuracy: 0.9548 - val_loss: 0.3025 - val_accuracy: 0.9240\n",
            "Epoch 195/200\n",
            "183/183 [==============================] - 67s 364ms/step - loss: 0.1361 - accuracy: 0.9569 - val_loss: 0.3261 - val_accuracy: 0.9238\n",
            "Epoch 196/200\n",
            "183/183 [==============================] - 70s 384ms/step - loss: 0.1326 - accuracy: 0.9589 - val_loss: 0.3381 - val_accuracy: 0.9188\n",
            "Epoch 197/200\n",
            "183/183 [==============================] - 67s 364ms/step - loss: 0.1314 - accuracy: 0.9585 - val_loss: 0.3366 - val_accuracy: 0.9189\n",
            "Epoch 198/200\n",
            "183/183 [==============================] - 66s 362ms/step - loss: 0.1396 - accuracy: 0.9561 - val_loss: 0.3159 - val_accuracy: 0.9237\n",
            "Epoch 199/200\n",
            "183/183 [==============================] - 69s 375ms/step - loss: 0.1408 - accuracy: 0.9547 - val_loss: 0.3497 - val_accuracy: 0.9156\n",
            "Epoch 200/200\n",
            "183/183 [==============================] - 66s 363ms/step - loss: 0.1333 - accuracy: 0.9576 - val_loss: 0.3291 - val_accuracy: 0.9230\n"
          ]
        }
      ]
    },
    {
      "cell_type": "code",
      "metadata": {
        "id": "JY7d6VDZCjaO",
        "colab": {
          "base_uri": "https://localhost:8080/"
        },
        "outputId": "c063d1a0-5fe2-4c5e-aca9-621e3cea2b07"
      },
      "source": [
        "score = model.evaluate(x_test, y_test, verbose=1)\n",
        "print('Test loss:', score[0])\n",
        "print('Test accuracy:', score[1])"
      ],
      "execution_count": 89,
      "outputs": [
        {
          "output_type": "stream",
          "name": "stdout",
          "text": [
            "366/366 [==============================] - 5s 13ms/step - loss: 0.3291 - accuracy: 0.9230\n",
            "Test loss: 0.329139769077301\n",
            "Test accuracy: 0.9229849576950073\n"
          ]
        }
      ]
    },
    {
      "cell_type": "code",
      "metadata": {
        "id": "LV_xGFKhDt67",
        "colab": {
          "base_uri": "https://localhost:8080/"
        },
        "outputId": "84e635d6-fc59-4d46-e610-682dbdc2b66c"
      },
      "source": [
        "# list all data in history\n",
        "print(history.history.keys())\n",
        "import matplotlib.pyplot as plt\n",
        "import numpy\n"
      ],
      "execution_count": 91,
      "outputs": [
        {
          "output_type": "stream",
          "name": "stdout",
          "text": [
            "dict_keys(['loss', 'accuracy', 'val_loss', 'val_accuracy'])\n"
          ]
        }
      ]
    },
    {
      "cell_type": "markdown",
      "source": [],
      "metadata": {
        "id": "CgF5GqjUt7Jb"
      }
    },
    {
      "cell_type": "code",
      "metadata": {
        "id": "dDQGSy8xFoob",
        "colab": {
          "base_uri": "https://localhost:8080/",
          "height": 295
        },
        "outputId": "2ce3d1a7-61bf-435e-a0c0-15984c243619"
      },
      "source": [
        "# summarize history for accuracy\n",
        "plt.plot(history.history['accuracy'])\n",
        "plt.plot(history.history['val_accuracy'])\n",
        "plt.title('model accuracy')\n",
        "plt.ylabel('accuracy')\n",
        "plt.xlabel('epoch')\n",
        "plt.legend(['train', 'test'], loc='upper left')\n",
        "plt.show()"
      ],
      "execution_count": 92,
      "outputs": [
        {
          "output_type": "display_data",
          "data": {
            "text/plain": [
              "<Figure size 432x288 with 1 Axes>"
            ],
            "image/png": "[encoded data removed]"
          },
          "metadata": {
            "needs_background": "light"
          }
        }
      ]
    },
    {
      "cell_type": "code",
      "metadata": {
        "id": "Fgg6gD0BFnZS",
        "colab": {
          "base_uri": "https://localhost:8080/",
          "height": 295
        },
        "outputId": "e28b2a2d-5c5d-425a-bfe1-06fafbe5d8c7"
      },
      "source": [
        "# summarize history for loss\n",
        "plt.plot(history.history['loss'])\n",
        "plt.plot(history.history['val_loss'])\n",
        "plt.title('model loss')\n",
        "plt.ylabel('loss')\n",
        "plt.xlabel('epoch')\n",
        "plt.legend(['train', 'test'], loc='upper left')\n",
        "plt.show()"
      ],
      "execution_count": 93,
      "outputs": [
        {
          "output_type": "display_data",
          "data": {
            "text/plain": [
              "<Figure size 432x288 with 1 Axes>"
            ],
            "image/png": "[encoded data removed]"
          },
          "metadata": {
            "needs_background": "light"
          }
        }
      ]
    },
    {
      "cell_type": "code",
      "metadata": {
        "id": "xZwaY3SeKnJb",
        "colab": {
          "base_uri": "https://localhost:8080/",
          "height": 295
        },
        "outputId": "6915b982-df20-46c8-8cd7-8bf03076ae5a"
      },
      "source": [
        "plt.plot(history.history['val_accuracy'])\n",
        "plt.plot(history.history['val_loss'])\n",
        "plt.title('test model')\n",
        "plt.ylabel('test accuracy')\n",
        "plt.xlabel('test loss')\n",
        "plt.legend(['train', 'test'], loc='upper left')\n",
        "plt.show()"
      ],
      "execution_count": 107,
      "outputs": [
        {
          "output_type": "display_data",
          "data": {
            "text/plain": [
              "<Figure size 432x288 with 1 Axes>"
            ],
            "image/png": "[encoded data removed]"
          },
          "metadata": {
            "needs_background": "light"
          }
        }
      ]
    },
    {
      "cell_type": "code",
      "metadata": {
        "id": "NGR4wrOdL5DF",
        "colab": {
          "base_uri": "https://localhost:8080/"
        },
        "outputId": "091946e0-9291-40b8-cf57-75e3c9222f29"
      },
      "source": [
        "y_pred=model.predict(x_test)\n",
        "from sklearn.metrics import confusion_matrix\n",
        "import numpy as np"
      ],
      "execution_count": 95,
      "outputs": [
        {
          "output_type": "stream",
          "name": "stdout",
          "text": [
            "366/366 [==============================] - 5s 13ms/step\n"
          ]
        }
      ]
    },
    {
      "cell_type": "code",
      "metadata": {
        "id": "9y5wCoinVRhi",
        "colab": {
          "base_uri": "https://localhost:8080/"
        },
        "outputId": "6b16bbe3-8da4-41d2-d4b0-ae3fa66d70dd"
      },
      "source": [
        "y_test[1]"
      ],
      "execution_count": 96,
      "outputs": [
        {
          "output_type": "execute_result",
          "data": {
            "text/plain": [
              "array([0., 0., 0., 0., 0., 0., 0., 1., 0., 0.], dtype=float32)"
            ]
          },
          "metadata": {},
          "execution_count": 96
        }
      ]
    },
    {
      "cell_type": "code",
      "metadata": {
        "id": "2q13VADTXlQ9",
        "colab": {
          "base_uri": "https://localhost:8080/"
        },
        "outputId": "1b293808-0cd1-4256-da39-35986b7bfb6c"
      },
      "source": [
        "y_pred[1]"
      ],
      "execution_count": 97,
      "outputs": [
        {
          "output_type": "execute_result",
          "data": {
            "text/plain": [
              "array([0.0000000e+00, 1.6390615e-08, 0.0000000e+00, 5.6180082e-12,\n",
              "       1.5656550e-14, 3.8511248e-06, 5.7742727e-07, 9.9999493e-01,\n",
              "       5.7081344e-08, 5.8534414e-07], dtype=float32)"
            ]
          },
          "metadata": {},
          "execution_count": 97
        }
      ]
    },
    {
      "cell_type": "code",
      "metadata": {
        "id": "ilOzv9RdVOtg"
      },
      "source": [
        "y_test1=np.argmax(y_test, axis=1)"
      ],
      "execution_count": 98,
      "outputs": []
    },
    {
      "cell_type": "code",
      "metadata": {
        "id": "Pvkh6dE6XzNa"
      },
      "source": [
        "y_pred=np.argmax(y_pred,axis=1)"
      ],
      "execution_count": 99,
      "outputs": []
    },
    {
      "cell_type": "code",
      "metadata": {
        "id": "wLOOyigNaJke",
        "colab": {
          "base_uri": "https://localhost:8080/"
        },
        "outputId": "66a2f84e-8ccb-4a68-c974-bbdfc3f1e54c"
      },
      "source": [
        "y_test1[1]"
      ],
      "execution_count": 100,
      "outputs": [
        {
          "output_type": "execute_result",
          "data": {
            "text/plain": [
              "7"
            ]
          },
          "metadata": {},
          "execution_count": 100
        }
      ]
    },
    {
      "cell_type": "code",
      "metadata": {
        "id": "0f968lExaSRS",
        "colab": {
          "base_uri": "https://localhost:8080/"
        },
        "outputId": "37241b79-9306-434f-d437-027452e9a5a4"
      },
      "source": [
        "y_pred[1]"
      ],
      "execution_count": 101,
      "outputs": [
        {
          "output_type": "execute_result",
          "data": {
            "text/plain": [
              "7"
            ]
          },
          "metadata": {},
          "execution_count": 101
        }
      ]
    },
    {
      "cell_type": "code",
      "source": [
        "cmatrix=confusion_matrix(y_test1, y_pred)"
      ],
      "metadata": {
        "id": "hOdde9XJbeAS"
      },
      "execution_count": 102,
      "outputs": []
    },
    {
      "cell_type": "code",
      "source": [
        "fig, ax = plt.subplots(figsize=(10, 10))\n",
        "sns.heatmap(cmatrix, annot=True,cbar=False, fmt='g', ax=ax, cmap=plt.cm.Blues);  #annot=True to annotate cells, ftm='g' to disable scientific notation\n",
        "\n",
        "# labels, title and ticks\n",
        "ax.set_xlabel('Predicted labels');\n",
        "ax.set_ylabel('True labels'); \n",
        "ax.set_title('Confusion Matrix'); \n",
        "ax.xaxis.set_ticklabels([\"happy\", \"suprise\", \"relaxed\",\"calm\", \"sad\", \"sleepy\",\"nervous\",\"upset\"]);\n",
        "ax.yaxis.set_ticklabels([\"happy\", \"suprise\", \"relaxed\",\"calm\", \"sad\", \"sleepy\",\"nervous\",\"upset\"]);"
      ],
      "metadata": {
        "colab": {
          "base_uri": "https://localhost:8080/",
          "height": 621
        },
        "id": "WxJWdbiEa8If",
        "outputId": "278a8af4-9be3-4a81-e2f3-ae563245db4a"
      },
      "execution_count": 106,
      "outputs": [
        {
          "output_type": "display_data",
          "data": {
            "text/plain": [
              "<Figure size 720x720 with 1 Axes>"
            ],
            "image/png": "[encoded data removed]"
          },
          "metadata": {
            "needs_background": "light"
          }
        }
      ]
    },
    {
      "cell_type": "code",
      "metadata": {
        "id": "45fHlde5OtWn"
      },
      "source": [
        "from pandas.core.dtypes.common import classes\n",
        "labels= []\n",
        "from sklearn.metrics import confusion_matrix\n"
      ],
      "execution_count": 104,
      "outputs": []
    },
    {
      "cell_type": "markdown",
      "source": [],
      "metadata": {
        "id": "wh7dEImpa60L"
      }
    }
  ]
}