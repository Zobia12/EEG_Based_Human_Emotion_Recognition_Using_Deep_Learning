{
  "nbformat": 4,
  "nbformat_minor": 0,
  "metadata": {
    "colab": {
      "provenance": [],
      "collapsed_sections": [],
      "include_colab_link": true
    },
    "kernelspec": {
      "name": "python3",
      "display_name": "Python 3"
    },
    "language_info": {
      "name": "python"
    }
  },
  "cells": [
    {
      "cell_type": "markdown",
      "metadata": {
        "id": "view-in-github",
        "colab_type": "text"
      },
      "source": [
        "<a href=\"https://colab.research.google.com/github/Zobia12/EEG_Based_Human_Emotion_Recognition_Using_Deep_Learning/blob/main/EEG_based_Emotion_Recognition_Using_CNN_model(with_32_channels).ipynb\" target=\"_parent\"><img src=\"https://colab.research.google.com/assets/colab-badge.svg\" alt=\"Open In Colab\"/></a>"
      ]
    },
    {
      "cell_type": "code",
      "execution_count": 11,
      "metadata": {
        "colab": {
          "base_uri": "https://localhost:8080/"
        },
        "id": "rbo8RfXxXheR",
        "outputId": "fafddfe5-9d92-4d41-f4b2-d9c6cd28939c"
      },
      "outputs": [
        {
          "output_type": "stream",
          "name": "stdout",
          "text": [
            "Looking in indexes: https://pypi.org/simple, https://us-python.pkg.dev/colab-wheels/public/simple/\n",
            "Collecting git+https://github.com/forrestbao/pyeeg.git\n",
            "  Cloning https://github.com/forrestbao/pyeeg.git to /tmp/pip-req-build-bktnlk3s\n",
            "  Running command git clone -q https://github.com/forrestbao/pyeeg.git /tmp/pip-req-build-bktnlk3s\n",
            "Requirement already satisfied: numpy>=1.9.2 in /usr/local/lib/python3.7/dist-packages (from pyeeg==0.4.4) (1.21.6)\n"
          ]
        }
      ],
      "source": [
        "!pip install git+https://github.com/forrestbao/pyeeg.git\n",
        "import numpy as np\n",
        "import pyeeg as pe\n",
        "import pickle as pickle\n",
        "import pandas as pd\n",
        "import math\n",
        "\n",
        "from sklearn import svm\n",
        "from sklearn.preprocessing import normalize\n",
        "\n",
        "import os\n",
        "import time"
      ]
    },
    {
      "cell_type": "code",
      "source": [
        "import pandas as pd\n",
        "import keras.backend as K\n",
        "import numpy as np\n",
        "import pandas as pd\n",
        "from keras.models import Sequential\n",
        "from keras.layers import Dense\n",
        "from keras.models import Sequential\n",
        "from keras.layers.convolutional import Conv1D\n",
        "from keras.layers.convolutional import MaxPooling1D\n",
        "from tensorflow.keras.utils import to_categorical \n",
        "from keras.layers import Flatten\n",
        "from keras.layers import Dense\n",
        "import numpy as np\n",
        "import keras\n",
        "from keras.datasets import mnist\n",
        "from keras.models import Sequential\n",
        "from keras.layers import Dense, Dropout, Flatten, Conv2D, MaxPooling2D\n",
        "from keras import backend as K\n",
        "from keras.models import Model\n",
        "import timeit\n",
        "from keras.models import Sequential\n",
        "from keras.layers.core import Flatten, Dense, Dropout\n",
        "from keras.layers.convolutional import Convolution1D, MaxPooling1D, ZeroPadding1D\n",
        "from tensorflow.keras.optimizers import SGD\n",
        "#import cv2, numpy as np\n",
        "import warnings\n",
        "warnings.filterwarnings('ignore')"
      ],
      "metadata": {
        "id": "374VIWhfXmgc"
      },
      "execution_count": 4,
      "outputs": []
    },
    {
      "cell_type": "code",
      "source": [
        "from google.colab import drive\n",
        "drive.mount('/content/drive/')"
      ],
      "metadata": {
        "id": "XtXSyYadXpkQ",
        "colab": {
          "base_uri": "https://localhost:8080/"
        },
        "outputId": "d706350a-fda0-497d-f676-c123f939821c"
      },
      "execution_count": 5,
      "outputs": [
        {
          "output_type": "stream",
          "name": "stdout",
          "text": [
            "Mounted at /content/drive/\n"
          ]
        }
      ]
    },
    {
      "cell_type": "code",
      "metadata": {
        "id": "JOXuEM0JwJqI"
      },
      "source": [
        "# data_preprocessed_python\n",
        "os.getcwd()\n",
        "os.chdir('/content/drive/My Drive')"
      ],
      "execution_count": 6,
      "outputs": []
    },
    {
      "cell_type": "code",
      "metadata": {
        "id": "kCMT74t9wowG"
      },
      "source": [
        "channel = [1,2,3,4,6,7,8,9,10,11,12,13,14,15,16,17,18,19,20,21,22,23,24,25,26,27,28,29,30,31,32] #32 Channels chosen to fit Emotiv Epoch+\n",
        "band = [4,8,12,16,25,45] #5 bands THETA, ALPHA, ALPHA, BETA, BETA, BETA, GAMMA.\n",
        "window_size = 256 #Averaging band power of 2 sec\n",
        "step_size = 16 #Each 0.125 sec update once\n",
        "sample_rate = 128 #Sampling rate of 128 Hz\n",
        "subjectList = ['01','02','03']\n",
        "#List of subjects"
      ],
      "execution_count": 7,
      "outputs": []
    },
    {
      "cell_type": "code",
      "metadata": {
        "id": "UD-WVHARwsXz"
      },
      "source": [
        "def FFT_Processing (sub, channel, band, window_size, step_size, sample_rate):\n",
        "    '''\n",
        "    arguments:  string subject\n",
        "                list channel indice\n",
        "                list band\n",
        "                int window size for FFT\n",
        "                int step size for FFT\n",
        "                int sample rate for FFT\n",
        "    return:     void\n",
        "    '''\n",
        "    meta = []\n",
        "    with open(\"/content/drive/My Drive/leading_ai/try/s\" + sub + '.dat', 'rb') as file:\n",
        "\n",
        "        subject = pickle.load(file, encoding='latin1') #resolve the python 2 data problem by encoding : latin1\n",
        "\n",
        "        for i in range (0,40):\n",
        "            # loop over 0-39 trails\n",
        "            data = subject[\"data\"][i]\n",
        "            labels = subject[\"labels\"][i]\n",
        "            start = 0;\n",
        "\n",
        "            while start + window_size < data.shape[1]:\n",
        "                meta_array = []\n",
        "                meta_data = [] #meta vector for analysis\n",
        "                for j in channel:\n",
        "                    X = data[j][start : start + window_size] #Slice raw data over 2 sec, at interval of 0.125 sec\n",
        "                    Y = pe.bin_power(X, band, sample_rate) #FFT over 2 sec of channel j, in seq of theta, alpha, low beta, high beta, gamma\n",
        "                    meta_data = meta_data + list(Y[0])\n",
        "\n",
        "                meta_array.append(np.array(meta_data))\n",
        "                meta_array.append(labels)\n",
        "\n",
        "                meta.append(np.array(meta_array))    \n",
        "                start = start + step_size\n",
        "                \n",
        "        meta = np.array(meta)\n",
        "        np.save('/content/drive/My Drive/leading_ai/try/s' + sub, meta, allow_pickle=True, fix_imports=True)"
      ],
      "execution_count": 8,
      "outputs": []
    },
    {
      "cell_type": "code",
      "metadata": {
        "id": "TWcHt5X2xDfw"
      },
      "source": [
        "for subjects in subjectList:\n",
        "    FFT_Processing (subjects, channel, band, window_size, step_size, sample_rate)"
      ],
      "execution_count": 9,
      "outputs": []
    },
    {
      "cell_type": "code",
      "metadata": {
        "id": "dM2Bdu7oxIbE",
        "colab": {
          "base_uri": "https://localhost:8080/"
        },
        "outputId": "bd161fa1-30dc-4e6e-c260-e1d1de2f22d3"
      },
      "source": [
        "\n",
        "data_training = []\n",
        "label_training = []\n",
        "data_testing = []\n",
        "label_testing = []\n",
        "\n",
        "for subjects in subjectList:\n",
        "\n",
        "    with open('/content/drive/My Drive/leading_ai/try/s' + subjects + '.npy', 'rb') as file:\n",
        "      sub = np.load(file,allow_pickle=True)\n",
        "      for i in range (0,sub.shape[0]):\n",
        "        if i % 5 == 0:\n",
        "          data_testing.append(sub[i][0])\n",
        "          label_testing.append(sub[i][1])\n",
        "        else:\n",
        "          data_training.append(sub[i][0])\n",
        "          label_training.append(sub[i][1])\n",
        "\n",
        "np.save('/content/drive/My Drive/leading_ai/data_training', np.array(data_training), allow_pickle=True, fix_imports=True)\n",
        "np.save('/content/drive/My Drive/leading_ai/label_training', np.array(label_training), allow_pickle=True, fix_imports=True)\n",
        "print(\"training dataset:\", np.array(data_training).shape, np.array(label_training).shape)\n",
        "\n",
        "np.save('/content/drive/My Drive/leading_ai/data_testing', np.array(data_testing), allow_pickle=True, fix_imports=True)\n",
        "np.save('/content/drive/My Drive/leading_ai/label_testing', np.array(label_testing), allow_pickle=True, fix_imports=True)\n",
        "print(\"testing dataset:\", np.array(data_testing).shape, np.array(label_testing).shape)"
      ],
      "execution_count": 10,
      "outputs": [
        {
          "output_type": "stream",
          "name": "stdout",
          "text": [
            "training dataset: (46848, 155) (46848, 4)\n",
            "testing dataset: (11712, 155) (11712, 4)\n"
          ]
        }
      ]
    },
    {
      "cell_type": "code",
      "metadata": {
        "id": "pnNNgiBN_HcS"
      },
      "source": [
        "\n",
        "with open('/content/drive/My Drive/leading_ai/data_training.npy', 'rb') as fileTrain:\n",
        "    X  = np.load(fileTrain)\n",
        "    \n",
        "with open('/content/drive/My Drive/leading_ai/label_training.npy', 'rb') as fileTrainL:\n",
        "    Y  = np.load(fileTrainL)\n",
        "    \n",
        "X = normalize(X)\n",
        "Z = np.ravel(Y[:, [3]])\n",
        "\n",
        "Arousal_Train = np.ravel(Y[:, [0]])\n",
        "Valence_Train = np.ravel(Y[:, [1]])\n",
        "Domain_Train = np.ravel(Y[:, [2]])\n",
        "Like_Train = np.ravel(Y[:, [3]])"
      ],
      "execution_count": 12,
      "outputs": []
    },
    {
      "cell_type": "code",
      "metadata": {
        "id": "O-kXkIKo_3eY",
        "colab": {
          "base_uri": "https://localhost:8080/"
        },
        "outputId": "3f21e264-abb3-4156-b731-90b9ed80d3d4"
      },
      "source": [
        "X.shape"
      ],
      "execution_count": 13,
      "outputs": [
        {
          "output_type": "execute_result",
          "data": {
            "text/plain": [
              "(46848, 155)"
            ]
          },
          "metadata": {},
          "execution_count": 13
        }
      ]
    },
    {
      "cell_type": "code",
      "metadata": {
        "id": "u7QbIvJF_7YH",
        "colab": {
          "base_uri": "https://localhost:8080/"
        },
        "outputId": "ec3bfe6c-33d1-4a80-9c60-3724dbfaab6d"
      },
      "source": [
        "from tensorflow.keras.utils import to_categorical\n",
        "y_train = to_categorical(Z)\n",
        "y_train"
      ],
      "execution_count": 14,
      "outputs": [
        {
          "output_type": "execute_result",
          "data": {
            "text/plain": [
              "array([[0., 0., 0., ..., 1., 0., 0.],\n",
              "       [0., 0., 0., ..., 1., 0., 0.],\n",
              "       [0., 0., 0., ..., 1., 0., 0.],\n",
              "       ...,\n",
              "       [0., 0., 0., ..., 0., 0., 0.],\n",
              "       [0., 0., 0., ..., 0., 0., 0.],\n",
              "       [0., 0., 0., ..., 0., 0., 0.]], dtype=float32)"
            ]
          },
          "metadata": {},
          "execution_count": 14
        }
      ]
    },
    {
      "cell_type": "code",
      "metadata": {
        "id": "vz6DyN6i4Ten",
        "colab": {
          "base_uri": "https://localhost:8080/"
        },
        "outputId": "4bcf2992-8cca-4b2e-e6d5-37b5faa3e83e"
      },
      "source": [
        "y_train.shape"
      ],
      "execution_count": 15,
      "outputs": [
        {
          "output_type": "execute_result",
          "data": {
            "text/plain": [
              "(46848, 10)"
            ]
          },
          "metadata": {},
          "execution_count": 15
        }
      ]
    },
    {
      "cell_type": "code",
      "metadata": {
        "id": "n2nbzExFABT9"
      },
      "source": [
        "x_train = np.array(X[:])"
      ],
      "execution_count": 16,
      "outputs": []
    },
    {
      "cell_type": "code",
      "metadata": {
        "id": "ooCmmlGRAFkv"
      },
      "source": [
        "\n",
        "with open('/content/drive/My Drive/leading_ai/data_testing.npy', 'rb') as fileTrain:\n",
        "    M  = np.load(fileTrain)\n",
        "    \n",
        "with open('/content/drive/My Drive/leading_ai/label_testing.npy', 'rb') as fileTrainL:\n",
        "    N  = np.load(fileTrainL)\n",
        "\n",
        "M = normalize(M)\n",
        "L = np.ravel(N[:, [3]])\n",
        "\n",
        "Arousal_Test = np.ravel(N[:, [0]])\n",
        "Valence_Test = np.ravel(N[:, [1]])\n",
        "Domain_Test = np.ravel(N[:, [2]])\n",
        "Like_Test = np.ravel(N[:, [3]])"
      ],
      "execution_count": 17,
      "outputs": []
    },
    {
      "cell_type": "code",
      "metadata": {
        "id": "m4sxtvpQAOhK"
      },
      "source": [
        "x_test = np.array(M[:])"
      ],
      "execution_count": 18,
      "outputs": []
    },
    {
      "cell_type": "code",
      "metadata": {
        "id": "r2RKm9KgASb4",
        "colab": {
          "base_uri": "https://localhost:8080/"
        },
        "outputId": "cbc91383-33e5-467f-ff6e-7f280781265e"
      },
      "source": [
        "from tensorflow.keras.utils import to_categorical\n",
        "y_test = to_categorical(L)\n",
        "y_test"
      ],
      "execution_count": 19,
      "outputs": [
        {
          "output_type": "execute_result",
          "data": {
            "text/plain": [
              "array([[0., 0., 0., ..., 1., 0., 0.],\n",
              "       [0., 0., 0., ..., 1., 0., 0.],\n",
              "       [0., 0., 0., ..., 1., 0., 0.],\n",
              "       ...,\n",
              "       [0., 0., 0., ..., 0., 0., 0.],\n",
              "       [0., 0., 0., ..., 0., 0., 0.],\n",
              "       [0., 0., 0., ..., 0., 0., 0.]], dtype=float32)"
            ]
          },
          "metadata": {},
          "execution_count": 19
        }
      ]
    },
    {
      "cell_type": "code",
      "metadata": {
        "id": "UmwAfzADsRe1",
        "colab": {
          "base_uri": "https://localhost:8080/"
        },
        "outputId": "a72602ff-0b76-43a8-e42e-b5bc636972b8"
      },
      "source": [
        "y_test[1]"
      ],
      "execution_count": 20,
      "outputs": [
        {
          "output_type": "execute_result",
          "data": {
            "text/plain": [
              "array([0., 0., 0., 0., 0., 0., 0., 1., 0., 0.], dtype=float32)"
            ]
          },
          "metadata": {},
          "execution_count": 20
        }
      ]
    },
    {
      "cell_type": "code",
      "metadata": {
        "id": "rKnp-c5EAVGJ"
      },
      "source": [
        "from sklearn.preprocessing import StandardScaler\n",
        "scaler = StandardScaler()\n",
        "x_train = scaler.fit_transform(x_train)\n",
        "x_test = scaler.fit_transform(x_test)"
      ],
      "execution_count": 21,
      "outputs": []
    },
    {
      "cell_type": "code",
      "metadata": {
        "id": "WC6VSZLUBCiS"
      },
      "source": [
        "x_train = x_train.reshape(x_train.shape[0],x_train.shape[1], 1)\n",
        "x_test = x_test.reshape(x_test.shape[0],x_test.shape[1], 1)"
      ],
      "execution_count": 22,
      "outputs": []
    },
    {
      "cell_type": "code",
      "metadata": {
        "id": "F3CYMY96BE0i",
        "colab": {
          "base_uri": "https://localhost:8080/"
        },
        "outputId": "75986418-7bff-4cfa-f080-7e122134ea63"
      },
      "source": [
        "x_train.shape"
      ],
      "execution_count": 23,
      "outputs": [
        {
          "output_type": "execute_result",
          "data": {
            "text/plain": [
              "(46848, 155, 1)"
            ]
          },
          "metadata": {},
          "execution_count": 23
        }
      ]
    },
    {
      "cell_type": "code",
      "metadata": {
        "id": "V8NOrABgBWzf"
      },
      "source": [
        "batch_size = 256\n",
        "num_classes = 10\n",
        "epochs = 200\n",
        "input_shape=(x_train.shape[1], 1)"
      ],
      "execution_count": 24,
      "outputs": []
    },
    {
      "cell_type": "code",
      "metadata": {
        "id": "FrpmQ4QWBc4_"
      },
      "source": [
        "from keras.layers import Convolution1D, ZeroPadding1D, MaxPooling1D, BatchNormalization, Activation, Dropout, Flatten, Dense\n",
        "from keras.regularizers import l2"
      ],
      "execution_count": 25,
      "outputs": []
    },
    {
      "cell_type": "code",
      "metadata": {
        "id": "2B1ezppYCOhJ",
        "colab": {
          "base_uri": "https://localhost:8080/"
        },
        "outputId": "d887033a-24f5-4348-e565-ca40d194c017"
      },
      "source": [
        "model = Sequential()\n",
        "intput_shape=(x_train.shape[1], 1)\n",
        "model.add(Conv1D(128, kernel_size=3,padding = 'same',activation='relu', input_shape=input_shape))\n",
        "model.add(BatchNormalization())\n",
        "model.add(MaxPooling1D(pool_size=(2)))\n",
        "model.add(Conv1D(128,kernel_size=3,padding = 'same', activation='relu'))\n",
        "model.add(BatchNormalization())\n",
        "model.add(MaxPooling1D(pool_size=(2)))\n",
        "model.add(Conv1D(64,kernel_size=3,padding = 'same', activation='relu'))\n",
        "model.add(MaxPooling1D(pool_size=(2)))\n",
        "model.add(Flatten())\n",
        "model.add(Dense(64, activation='tanh'))\n",
        "model.add(Dropout(0.2))\n",
        "model.add(Dense(32, activation='tanh'))\n",
        "model.add(Dropout(0.2))\n",
        "model.add(Dense(16, activation='relu'))\n",
        "model.add(Dropout(0.2))\n",
        "model.add(Dense(num_classes, activation='softmax'))\n",
        "model.summary()"
      ],
      "execution_count": 26,
      "outputs": [
        {
          "output_type": "stream",
          "name": "stdout",
          "text": [
            "Model: \"sequential\"\n",
            "_________________________________________________________________\n",
            " Layer (type)                Output Shape              Param #   \n",
            "=================================================================\n",
            " conv1d (Conv1D)             (None, 155, 128)          512       \n",
            "                                                                 \n",
            " batch_normalization (BatchN  (None, 155, 128)         512       \n",
            " ormalization)                                                   \n",
            "                                                                 \n",
            " max_pooling1d (MaxPooling1D  (None, 77, 128)          0         \n",
            " )                                                               \n",
            "                                                                 \n",
            " conv1d_1 (Conv1D)           (None, 77, 128)           49280     \n",
            "                                                                 \n",
            " batch_normalization_1 (Batc  (None, 77, 128)          512       \n",
            " hNormalization)                                                 \n",
            "                                                                 \n",
            " max_pooling1d_1 (MaxPooling  (None, 38, 128)          0         \n",
            " 1D)                                                             \n",
            "                                                                 \n",
            " conv1d_2 (Conv1D)           (None, 38, 64)            24640     \n",
            "                                                                 \n",
            " max_pooling1d_2 (MaxPooling  (None, 19, 64)           0         \n",
            " 1D)                                                             \n",
            "                                                                 \n",
            " flatten (Flatten)           (None, 1216)              0         \n",
            "                                                                 \n",
            " dense (Dense)               (None, 64)                77888     \n",
            "                                                                 \n",
            " dropout (Dropout)           (None, 64)                0         \n",
            "                                                                 \n",
            " dense_1 (Dense)             (None, 32)                2080      \n",
            "                                                                 \n",
            " dropout_1 (Dropout)         (None, 32)                0         \n",
            "                                                                 \n",
            " dense_2 (Dense)             (None, 16)                528       \n",
            "                                                                 \n",
            " dropout_2 (Dropout)         (None, 16)                0         \n",
            "                                                                 \n",
            " dense_3 (Dense)             (None, 10)                170       \n",
            "                                                                 \n",
            "=================================================================\n",
            "Total params: 156,122\n",
            "Trainable params: 155,610\n",
            "Non-trainable params: 512\n",
            "_________________________________________________________________\n"
          ]
        }
      ]
    },
    {
      "cell_type": "code",
      "metadata": {
        "id": "A7abBpBSCY-o"
      },
      "source": [
        "model.compile(loss=keras.losses.categorical_crossentropy,\n",
        "              optimizer='adam',\n",
        "              metrics=['accuracy'])"
      ],
      "execution_count": 27,
      "outputs": []
    },
    {
      "cell_type": "code",
      "metadata": {
        "id": "vaZ4RPIqCfYF",
        "colab": {
          "base_uri": "https://localhost:8080/"
        },
        "outputId": "2d5022f0-0e29-4e60-8876-d1f1e3da1a48"
      },
      "source": [
        "history=model.fit(x_train, y_train,\n",
        "          batch_size=batch_size,\n",
        "          epochs=epochs,  \n",
        "          verbose=1,validation_data=(x_test,y_test))"
      ],
      "execution_count": 28,
      "outputs": [
        {
          "output_type": "stream",
          "name": "stdout",
          "text": [
            "Epoch 1/200\n",
            "183/183 [==============================] - 93s 498ms/step - loss: 1.8472 - accuracy: 0.2941 - val_loss: 1.6948 - val_accuracy: 0.3011\n",
            "Epoch 2/200\n",
            "183/183 [==============================] - 79s 433ms/step - loss: 1.5681 - accuracy: 0.3612 - val_loss: 1.4278 - val_accuracy: 0.4011\n",
            "Epoch 3/200\n",
            "183/183 [==============================] - 75s 412ms/step - loss: 1.4073 - accuracy: 0.4312 - val_loss: 1.2321 - val_accuracy: 0.5077\n",
            "Epoch 4/200\n",
            "183/183 [==============================] - 77s 423ms/step - loss: 1.2720 - accuracy: 0.4902 - val_loss: 1.0859 - val_accuracy: 0.5701\n",
            "Epoch 5/200\n",
            "183/183 [==============================] - 76s 416ms/step - loss: 1.1460 - accuracy: 0.5434 - val_loss: 0.9675 - val_accuracy: 0.6068\n",
            "Epoch 6/200\n",
            "183/183 [==============================] - 74s 404ms/step - loss: 1.0571 - accuracy: 0.5766 - val_loss: 0.8951 - val_accuracy: 0.6440\n",
            "Epoch 7/200\n",
            "183/183 [==============================] - 79s 434ms/step - loss: 0.9806 - accuracy: 0.6112 - val_loss: 0.8130 - val_accuracy: 0.6677\n",
            "Epoch 8/200\n",
            "183/183 [==============================] - 79s 428ms/step - loss: 0.9192 - accuracy: 0.6370 - val_loss: 0.7723 - val_accuracy: 0.6889\n",
            "Epoch 9/200\n",
            "183/183 [==============================] - 74s 405ms/step - loss: 0.8638 - accuracy: 0.6612 - val_loss: 0.7416 - val_accuracy: 0.7018\n",
            "Epoch 10/200\n",
            "183/183 [==============================] - 77s 423ms/step - loss: 0.8195 - accuracy: 0.6803 - val_loss: 0.7134 - val_accuracy: 0.7267\n",
            "Epoch 11/200\n",
            "183/183 [==============================] - 73s 398ms/step - loss: 0.7801 - accuracy: 0.6977 - val_loss: 0.6605 - val_accuracy: 0.7408\n",
            "Epoch 12/200\n",
            "183/183 [==============================] - 74s 404ms/step - loss: 0.7472 - accuracy: 0.7129 - val_loss: 0.6352 - val_accuracy: 0.7562\n",
            "Epoch 13/200\n",
            "183/183 [==============================] - 76s 415ms/step - loss: 0.7098 - accuracy: 0.7271 - val_loss: 0.6180 - val_accuracy: 0.7585\n",
            "Epoch 14/200\n",
            "183/183 [==============================] - 75s 411ms/step - loss: 0.6838 - accuracy: 0.7375 - val_loss: 0.6075 - val_accuracy: 0.7712\n",
            "Epoch 15/200\n",
            "183/183 [==============================] - 75s 410ms/step - loss: 0.6617 - accuracy: 0.7507 - val_loss: 0.5874 - val_accuracy: 0.7778\n",
            "Epoch 16/200\n",
            "183/183 [==============================] - 74s 406ms/step - loss: 0.6221 - accuracy: 0.7626 - val_loss: 0.5545 - val_accuracy: 0.7851\n",
            "Epoch 17/200\n",
            "183/183 [==============================] - 75s 409ms/step - loss: 0.6060 - accuracy: 0.7710 - val_loss: 0.5436 - val_accuracy: 0.7928\n",
            "Epoch 18/200\n",
            "183/183 [==============================] - 75s 411ms/step - loss: 0.5835 - accuracy: 0.7820 - val_loss: 0.5190 - val_accuracy: 0.8007\n",
            "Epoch 19/200\n",
            "183/183 [==============================] - 75s 412ms/step - loss: 0.5771 - accuracy: 0.7829 - val_loss: 0.5150 - val_accuracy: 0.7998\n",
            "Epoch 20/200\n",
            "183/183 [==============================] - 74s 403ms/step - loss: 0.5522 - accuracy: 0.7929 - val_loss: 0.5133 - val_accuracy: 0.8069\n",
            "Epoch 21/200\n",
            "183/183 [==============================] - 75s 412ms/step - loss: 0.5379 - accuracy: 0.7990 - val_loss: 0.5188 - val_accuracy: 0.8096\n",
            "Epoch 22/200\n",
            "183/183 [==============================] - 78s 424ms/step - loss: 0.5238 - accuracy: 0.8031 - val_loss: 0.4998 - val_accuracy: 0.8150\n",
            "Epoch 23/200\n",
            "183/183 [==============================] - 74s 404ms/step - loss: 0.5084 - accuracy: 0.8093 - val_loss: 0.4815 - val_accuracy: 0.8186\n",
            "Epoch 24/200\n",
            "183/183 [==============================] - 75s 413ms/step - loss: 0.5022 - accuracy: 0.8130 - val_loss: 0.4735 - val_accuracy: 0.8206\n",
            "Epoch 25/200\n",
            "183/183 [==============================] - 75s 409ms/step - loss: 0.5007 - accuracy: 0.8117 - val_loss: 0.4419 - val_accuracy: 0.8377\n",
            "Epoch 26/200\n",
            "183/183 [==============================] - 73s 400ms/step - loss: 0.4802 - accuracy: 0.8220 - val_loss: 0.4812 - val_accuracy: 0.8272\n",
            "Epoch 27/200\n",
            "183/183 [==============================] - 75s 411ms/step - loss: 0.4730 - accuracy: 0.8252 - val_loss: 0.4446 - val_accuracy: 0.8398\n",
            "Epoch 28/200\n",
            "183/183 [==============================] - 78s 427ms/step - loss: 0.4745 - accuracy: 0.8256 - val_loss: 0.4462 - val_accuracy: 0.8375\n",
            "Epoch 29/200\n",
            "183/183 [==============================] - 76s 416ms/step - loss: 0.4564 - accuracy: 0.8327 - val_loss: 0.4254 - val_accuracy: 0.8470\n",
            "Epoch 30/200\n",
            "183/183 [==============================] - 78s 428ms/step - loss: 0.4439 - accuracy: 0.8369 - val_loss: 0.4457 - val_accuracy: 0.8413\n",
            "Epoch 31/200\n",
            "183/183 [==============================] - 79s 430ms/step - loss: 0.4349 - accuracy: 0.8401 - val_loss: 0.4244 - val_accuracy: 0.8457\n",
            "Epoch 32/200\n",
            "183/183 [==============================] - 76s 415ms/step - loss: 0.4247 - accuracy: 0.8430 - val_loss: 0.4465 - val_accuracy: 0.8418\n",
            "Epoch 33/200\n",
            "183/183 [==============================] - 78s 429ms/step - loss: 0.4342 - accuracy: 0.8428 - val_loss: 0.4177 - val_accuracy: 0.8520\n",
            "Epoch 34/200\n",
            "183/183 [==============================] - 74s 407ms/step - loss: 0.4176 - accuracy: 0.8480 - val_loss: 0.4172 - val_accuracy: 0.8530\n",
            "Epoch 35/200\n",
            "183/183 [==============================] - 73s 401ms/step - loss: 0.4097 - accuracy: 0.8511 - val_loss: 0.4199 - val_accuracy: 0.8549\n",
            "Epoch 36/200\n",
            "183/183 [==============================] - 77s 421ms/step - loss: 0.3988 - accuracy: 0.8554 - val_loss: 0.4130 - val_accuracy: 0.8531\n",
            "Epoch 37/200\n",
            "183/183 [==============================] - 73s 401ms/step - loss: 0.3974 - accuracy: 0.8568 - val_loss: 0.4013 - val_accuracy: 0.8639\n",
            "Epoch 38/200\n",
            "183/183 [==============================] - 73s 398ms/step - loss: 0.3877 - accuracy: 0.8596 - val_loss: 0.3918 - val_accuracy: 0.8653\n",
            "Epoch 39/200\n",
            "183/183 [==============================] - 75s 408ms/step - loss: 0.3812 - accuracy: 0.8631 - val_loss: 0.3895 - val_accuracy: 0.8677\n",
            "Epoch 40/200\n",
            "183/183 [==============================] - 77s 421ms/step - loss: 0.3754 - accuracy: 0.8640 - val_loss: 0.3975 - val_accuracy: 0.8648\n",
            "Epoch 41/200\n",
            "183/183 [==============================] - 73s 398ms/step - loss: 0.3766 - accuracy: 0.8644 - val_loss: 0.3892 - val_accuracy: 0.8648\n",
            "Epoch 42/200\n",
            "183/183 [==============================] - 75s 410ms/step - loss: 0.3632 - accuracy: 0.8706 - val_loss: 0.3972 - val_accuracy: 0.8710\n",
            "Epoch 43/200\n",
            "183/183 [==============================] - 75s 411ms/step - loss: 0.3703 - accuracy: 0.8695 - val_loss: 0.4139 - val_accuracy: 0.8615\n",
            "Epoch 44/200\n",
            "183/183 [==============================] - 73s 400ms/step - loss: 0.3601 - accuracy: 0.8720 - val_loss: 0.3834 - val_accuracy: 0.8663\n",
            "Epoch 45/200\n",
            "183/183 [==============================] - 74s 404ms/step - loss: 0.3458 - accuracy: 0.8768 - val_loss: 0.3775 - val_accuracy: 0.8652\n",
            "Epoch 46/200\n",
            "183/183 [==============================] - 76s 415ms/step - loss: 0.3476 - accuracy: 0.8772 - val_loss: 0.4029 - val_accuracy: 0.8712\n",
            "Epoch 47/200\n",
            "183/183 [==============================] - 74s 403ms/step - loss: 0.3512 - accuracy: 0.8778 - val_loss: 0.3777 - val_accuracy: 0.8695\n",
            "Epoch 48/200\n",
            "183/183 [==============================] - 76s 416ms/step - loss: 0.3338 - accuracy: 0.8819 - val_loss: 0.3784 - val_accuracy: 0.8776\n",
            "Epoch 49/200\n",
            "183/183 [==============================] - 76s 418ms/step - loss: 0.3348 - accuracy: 0.8821 - val_loss: 0.4079 - val_accuracy: 0.8636\n",
            "Epoch 50/200\n",
            "183/183 [==============================] - 76s 414ms/step - loss: 0.3335 - accuracy: 0.8834 - val_loss: 0.3890 - val_accuracy: 0.8726\n",
            "Epoch 51/200\n",
            "183/183 [==============================] - 73s 398ms/step - loss: 0.3344 - accuracy: 0.8830 - val_loss: 0.3924 - val_accuracy: 0.8708\n",
            "Epoch 52/200\n",
            "183/183 [==============================] - 76s 414ms/step - loss: 0.3240 - accuracy: 0.8872 - val_loss: 0.3968 - val_accuracy: 0.8714\n",
            "Epoch 53/200\n",
            "183/183 [==============================] - 76s 413ms/step - loss: 0.3251 - accuracy: 0.8892 - val_loss: 0.3809 - val_accuracy: 0.8781\n",
            "Epoch 54/200\n",
            "183/183 [==============================] - 73s 401ms/step - loss: 0.3147 - accuracy: 0.8909 - val_loss: 0.3769 - val_accuracy: 0.8825\n",
            "Epoch 55/200\n",
            "183/183 [==============================] - 76s 414ms/step - loss: 0.3256 - accuracy: 0.8870 - val_loss: 0.3492 - val_accuracy: 0.8905\n",
            "Epoch 56/200\n",
            "183/183 [==============================] - 75s 408ms/step - loss: 0.3095 - accuracy: 0.8942 - val_loss: 0.3822 - val_accuracy: 0.8776\n",
            "Epoch 57/200\n",
            "183/183 [==============================] - 74s 404ms/step - loss: 0.3063 - accuracy: 0.8935 - val_loss: 0.3537 - val_accuracy: 0.8891\n",
            "Epoch 58/200\n",
            "183/183 [==============================] - 76s 416ms/step - loss: 0.3017 - accuracy: 0.8972 - val_loss: 0.3748 - val_accuracy: 0.8817\n",
            "Epoch 59/200\n",
            "183/183 [==============================] - 75s 413ms/step - loss: 0.2963 - accuracy: 0.8980 - val_loss: 0.3384 - val_accuracy: 0.8966\n",
            "Epoch 60/200\n",
            "183/183 [==============================] - 73s 398ms/step - loss: 0.3086 - accuracy: 0.8926 - val_loss: 0.3799 - val_accuracy: 0.8841\n",
            "Epoch 61/200\n",
            "183/183 [==============================] - 75s 412ms/step - loss: 0.3056 - accuracy: 0.8962 - val_loss: 0.3600 - val_accuracy: 0.8885\n",
            "Epoch 62/200\n",
            "183/183 [==============================] - 83s 454ms/step - loss: 0.2862 - accuracy: 0.9037 - val_loss: 0.3723 - val_accuracy: 0.8849\n",
            "Epoch 63/200\n",
            "183/183 [==============================] - 78s 424ms/step - loss: 0.2862 - accuracy: 0.9031 - val_loss: 0.3710 - val_accuracy: 0.8888\n",
            "Epoch 64/200\n",
            "183/183 [==============================] - 73s 398ms/step - loss: 0.2811 - accuracy: 0.9054 - val_loss: 0.3531 - val_accuracy: 0.8928\n",
            "Epoch 65/200\n",
            "183/183 [==============================] - 77s 420ms/step - loss: 0.2790 - accuracy: 0.9045 - val_loss: 0.3705 - val_accuracy: 0.8822\n",
            "Epoch 66/200\n",
            "183/183 [==============================] - 76s 416ms/step - loss: 0.2834 - accuracy: 0.9018 - val_loss: 0.3768 - val_accuracy: 0.8818\n",
            "Epoch 67/200\n",
            "183/183 [==============================] - 74s 403ms/step - loss: 0.2913 - accuracy: 0.9028 - val_loss: 0.3617 - val_accuracy: 0.8916\n",
            "Epoch 68/200\n",
            "183/183 [==============================] - 77s 424ms/step - loss: 0.2844 - accuracy: 0.9029 - val_loss: 0.3476 - val_accuracy: 0.8939\n",
            "Epoch 69/200\n",
            "183/183 [==============================] - 73s 397ms/step - loss: 0.2723 - accuracy: 0.9074 - val_loss: 0.3577 - val_accuracy: 0.8910\n",
            "Epoch 70/200\n",
            "183/183 [==============================] - 75s 407ms/step - loss: 0.2726 - accuracy: 0.9091 - val_loss: 0.3717 - val_accuracy: 0.8879\n",
            "Epoch 71/200\n",
            "183/183 [==============================] - 78s 426ms/step - loss: 0.2688 - accuracy: 0.9086 - val_loss: 0.3855 - val_accuracy: 0.8899\n",
            "Epoch 72/200\n",
            "183/183 [==============================] - 74s 405ms/step - loss: 0.2664 - accuracy: 0.9106 - val_loss: 0.3529 - val_accuracy: 0.8903\n",
            "Epoch 73/200\n",
            "183/183 [==============================] - 76s 415ms/step - loss: 0.2694 - accuracy: 0.9088 - val_loss: 0.3664 - val_accuracy: 0.8870\n",
            "Epoch 74/200\n",
            "183/183 [==============================] - 77s 423ms/step - loss: 0.2694 - accuracy: 0.9094 - val_loss: 0.3687 - val_accuracy: 0.8843\n",
            "Epoch 75/200\n",
            "183/183 [==============================] - 75s 407ms/step - loss: 0.2662 - accuracy: 0.9103 - val_loss: 0.3378 - val_accuracy: 0.8980\n",
            "Epoch 76/200\n",
            "183/183 [==============================] - 77s 417ms/step - loss: 0.2594 - accuracy: 0.9123 - val_loss: 0.3533 - val_accuracy: 0.8950\n",
            "Epoch 77/200\n",
            "183/183 [==============================] - 76s 415ms/step - loss: 0.2627 - accuracy: 0.9125 - val_loss: 0.3482 - val_accuracy: 0.8970\n",
            "Epoch 78/200\n",
            "183/183 [==============================] - 75s 408ms/step - loss: 0.2584 - accuracy: 0.9136 - val_loss: 0.3318 - val_accuracy: 0.9010\n",
            "Epoch 79/200\n",
            "183/183 [==============================] - 74s 407ms/step - loss: 0.2443 - accuracy: 0.9188 - val_loss: 0.3640 - val_accuracy: 0.8963\n",
            "Epoch 80/200\n",
            "183/183 [==============================] - 78s 426ms/step - loss: 0.2568 - accuracy: 0.9145 - val_loss: 0.3370 - val_accuracy: 0.9004\n",
            "Epoch 81/200\n",
            "183/183 [==============================] - 74s 402ms/step - loss: 0.2478 - accuracy: 0.9198 - val_loss: 0.3338 - val_accuracy: 0.9037\n",
            "Epoch 82/200\n",
            "183/183 [==============================] - 76s 418ms/step - loss: 0.2512 - accuracy: 0.9175 - val_loss: 0.3697 - val_accuracy: 0.8926\n",
            "Epoch 83/200\n",
            "183/183 [==============================] - 75s 411ms/step - loss: 0.2547 - accuracy: 0.9156 - val_loss: 0.3194 - val_accuracy: 0.9016\n",
            "Epoch 84/200\n",
            "183/183 [==============================] - 76s 415ms/step - loss: 0.2386 - accuracy: 0.9218 - val_loss: 0.3221 - val_accuracy: 0.9084\n",
            "Epoch 85/200\n",
            "183/183 [==============================] - 80s 437ms/step - loss: 0.2393 - accuracy: 0.9212 - val_loss: 0.3169 - val_accuracy: 0.9075\n",
            "Epoch 86/200\n",
            "183/183 [==============================] - 75s 409ms/step - loss: 0.2295 - accuracy: 0.9250 - val_loss: 0.3631 - val_accuracy: 0.8994\n",
            "Epoch 87/200\n",
            "183/183 [==============================] - 78s 426ms/step - loss: 0.2431 - accuracy: 0.9198 - val_loss: 0.3435 - val_accuracy: 0.9061\n",
            "Epoch 88/200\n",
            "183/183 [==============================] - 79s 430ms/step - loss: 0.2332 - accuracy: 0.9234 - val_loss: 0.3944 - val_accuracy: 0.8907\n",
            "Epoch 89/200\n",
            "183/183 [==============================] - 75s 410ms/step - loss: 0.2314 - accuracy: 0.9248 - val_loss: 0.3526 - val_accuracy: 0.9036\n",
            "Epoch 90/200\n",
            "183/183 [==============================] - 74s 406ms/step - loss: 0.2295 - accuracy: 0.9256 - val_loss: 0.3336 - val_accuracy: 0.9062\n",
            "Epoch 91/200\n",
            "183/183 [==============================] - 81s 442ms/step - loss: 0.2314 - accuracy: 0.9227 - val_loss: 0.3351 - val_accuracy: 0.9084\n",
            "Epoch 92/200\n",
            "183/183 [==============================] - 76s 415ms/step - loss: 0.2310 - accuracy: 0.9249 - val_loss: 0.3605 - val_accuracy: 0.8939\n",
            "Epoch 93/200\n",
            "183/183 [==============================] - 76s 417ms/step - loss: 0.2271 - accuracy: 0.9256 - val_loss: 0.3744 - val_accuracy: 0.9012\n",
            "Epoch 94/200\n",
            "183/183 [==============================] - 78s 424ms/step - loss: 0.2318 - accuracy: 0.9234 - val_loss: 0.3616 - val_accuracy: 0.9007\n",
            "Epoch 95/200\n",
            "183/183 [==============================] - 73s 400ms/step - loss: 0.2276 - accuracy: 0.9248 - val_loss: 0.3476 - val_accuracy: 0.9080\n",
            "Epoch 96/200\n",
            "183/183 [==============================] - 76s 413ms/step - loss: 0.2242 - accuracy: 0.9265 - val_loss: 0.3511 - val_accuracy: 0.9023\n",
            "Epoch 97/200\n",
            "183/183 [==============================] - 76s 417ms/step - loss: 0.2386 - accuracy: 0.9209 - val_loss: 0.3373 - val_accuracy: 0.9034\n",
            "Epoch 98/200\n",
            "183/183 [==============================] - 76s 414ms/step - loss: 0.2194 - accuracy: 0.9278 - val_loss: 0.3546 - val_accuracy: 0.9045\n",
            "Epoch 99/200\n",
            "183/183 [==============================] - 75s 407ms/step - loss: 0.2272 - accuracy: 0.9257 - val_loss: 0.3559 - val_accuracy: 0.9014\n",
            "Epoch 100/200\n",
            "183/183 [==============================] - 78s 427ms/step - loss: 0.2147 - accuracy: 0.9304 - val_loss: 0.3396 - val_accuracy: 0.9098\n",
            "Epoch 101/200\n",
            "183/183 [==============================] - 74s 403ms/step - loss: 0.2104 - accuracy: 0.9323 - val_loss: 0.3443 - val_accuracy: 0.9057\n",
            "Epoch 102/200\n",
            "183/183 [==============================] - 74s 405ms/step - loss: 0.2136 - accuracy: 0.9317 - val_loss: 0.3484 - val_accuracy: 0.9042\n",
            "Epoch 103/200\n",
            "183/183 [==============================] - 80s 437ms/step - loss: 0.2058 - accuracy: 0.9331 - val_loss: 0.3401 - val_accuracy: 0.9080\n",
            "Epoch 104/200\n",
            "183/183 [==============================] - 74s 403ms/step - loss: 0.2180 - accuracy: 0.9294 - val_loss: 0.3534 - val_accuracy: 0.9062\n",
            "Epoch 105/200\n",
            "183/183 [==============================] - 79s 434ms/step - loss: 0.2195 - accuracy: 0.9285 - val_loss: 0.3516 - val_accuracy: 0.9033\n",
            "Epoch 106/200\n",
            "183/183 [==============================] - 74s 404ms/step - loss: 0.2178 - accuracy: 0.9303 - val_loss: 0.3323 - val_accuracy: 0.9064\n",
            "Epoch 107/200\n",
            "183/183 [==============================] - 76s 414ms/step - loss: 0.2174 - accuracy: 0.9292 - val_loss: 0.3207 - val_accuracy: 0.9074\n",
            "Epoch 108/200\n",
            "183/183 [==============================] - 75s 411ms/step - loss: 0.2091 - accuracy: 0.9324 - val_loss: 0.3550 - val_accuracy: 0.9063\n",
            "Epoch 109/200\n",
            "183/183 [==============================] - 75s 409ms/step - loss: 0.2105 - accuracy: 0.9315 - val_loss: 0.3435 - val_accuracy: 0.9057\n",
            "Epoch 110/200\n",
            "183/183 [==============================] - 74s 407ms/step - loss: 0.2117 - accuracy: 0.9313 - val_loss: 0.3401 - val_accuracy: 0.9109\n",
            "Epoch 111/200\n",
            "183/183 [==============================] - 78s 424ms/step - loss: 0.2163 - accuracy: 0.9308 - val_loss: 0.3377 - val_accuracy: 0.9084\n",
            "Epoch 112/200\n",
            "183/183 [==============================] - 73s 400ms/step - loss: 0.1973 - accuracy: 0.9370 - val_loss: 0.3371 - val_accuracy: 0.9068\n",
            "Epoch 113/200\n",
            "183/183 [==============================] - 73s 397ms/step - loss: 0.1990 - accuracy: 0.9358 - val_loss: 0.3650 - val_accuracy: 0.9082\n",
            "Epoch 114/200\n",
            "183/183 [==============================] - 77s 422ms/step - loss: 0.2019 - accuracy: 0.9350 - val_loss: 0.3501 - val_accuracy: 0.9076\n",
            "Epoch 115/200\n",
            "183/183 [==============================] - 74s 403ms/step - loss: 0.2042 - accuracy: 0.9353 - val_loss: 0.3468 - val_accuracy: 0.9080\n",
            "Epoch 116/200\n",
            "183/183 [==============================] - 75s 408ms/step - loss: 0.1986 - accuracy: 0.9359 - val_loss: 0.3343 - val_accuracy: 0.9090\n",
            "Epoch 117/200\n",
            "183/183 [==============================] - 75s 410ms/step - loss: 0.2004 - accuracy: 0.9355 - val_loss: 0.3420 - val_accuracy: 0.9080\n",
            "Epoch 118/200\n",
            "183/183 [==============================] - 76s 416ms/step - loss: 0.1925 - accuracy: 0.9379 - val_loss: 0.3408 - val_accuracy: 0.9120\n",
            "Epoch 119/200\n",
            "183/183 [==============================] - 73s 399ms/step - loss: 0.1942 - accuracy: 0.9375 - val_loss: 0.3322 - val_accuracy: 0.9074\n",
            "Epoch 120/200\n",
            "183/183 [==============================] - 79s 429ms/step - loss: 0.2067 - accuracy: 0.9344 - val_loss: 0.3196 - val_accuracy: 0.9127\n",
            "Epoch 121/200\n",
            "183/183 [==============================] - 75s 408ms/step - loss: 0.1883 - accuracy: 0.9396 - val_loss: 0.3409 - val_accuracy: 0.9077\n",
            "Epoch 122/200\n",
            "183/183 [==============================] - 76s 413ms/step - loss: 0.1972 - accuracy: 0.9369 - val_loss: 0.3724 - val_accuracy: 0.9025\n",
            "Epoch 123/200\n",
            "183/183 [==============================] - 79s 431ms/step - loss: 0.1950 - accuracy: 0.9381 - val_loss: 0.3281 - val_accuracy: 0.9131\n",
            "Epoch 124/200\n",
            "183/183 [==============================] - 73s 400ms/step - loss: 0.1947 - accuracy: 0.9372 - val_loss: 0.3328 - val_accuracy: 0.9153\n",
            "Epoch 125/200\n",
            "183/183 [==============================] - 76s 412ms/step - loss: 0.1897 - accuracy: 0.9392 - val_loss: 0.3564 - val_accuracy: 0.9040\n",
            "Epoch 126/200\n",
            "183/183 [==============================] - 74s 403ms/step - loss: 0.1911 - accuracy: 0.9394 - val_loss: 0.3482 - val_accuracy: 0.9092\n",
            "Epoch 127/200\n",
            "183/183 [==============================] - 77s 418ms/step - loss: 0.2020 - accuracy: 0.9347 - val_loss: 0.3368 - val_accuracy: 0.9102\n",
            "Epoch 128/200\n",
            "183/183 [==============================] - 75s 412ms/step - loss: 0.1822 - accuracy: 0.9419 - val_loss: 0.3178 - val_accuracy: 0.9156\n",
            "Epoch 129/200\n",
            "183/183 [==============================] - 79s 429ms/step - loss: 0.1951 - accuracy: 0.9367 - val_loss: 0.3448 - val_accuracy: 0.9111\n",
            "Epoch 130/200\n",
            "183/183 [==============================] - 74s 404ms/step - loss: 0.1898 - accuracy: 0.9384 - val_loss: 0.3342 - val_accuracy: 0.9162\n",
            "Epoch 131/200\n",
            "183/183 [==============================] - 79s 432ms/step - loss: 0.1852 - accuracy: 0.9404 - val_loss: 0.3467 - val_accuracy: 0.9138\n",
            "Epoch 132/200\n",
            "183/183 [==============================] - 75s 408ms/step - loss: 0.1765 - accuracy: 0.9426 - val_loss: 0.3331 - val_accuracy: 0.9132\n",
            "Epoch 133/200\n",
            "183/183 [==============================] - 75s 412ms/step - loss: 0.1799 - accuracy: 0.9427 - val_loss: 0.3303 - val_accuracy: 0.9144\n",
            "Epoch 134/200\n",
            "183/183 [==============================] - 75s 411ms/step - loss: 0.1868 - accuracy: 0.9397 - val_loss: 0.3400 - val_accuracy: 0.9101\n",
            "Epoch 135/200\n",
            "183/183 [==============================] - 77s 423ms/step - loss: 0.1812 - accuracy: 0.9425 - val_loss: 0.3530 - val_accuracy: 0.9075\n",
            "Epoch 136/200\n",
            "183/183 [==============================] - 74s 406ms/step - loss: 0.1869 - accuracy: 0.9412 - val_loss: 0.3131 - val_accuracy: 0.9135\n",
            "Epoch 137/200\n",
            "183/183 [==============================] - 77s 419ms/step - loss: 0.1840 - accuracy: 0.9410 - val_loss: 0.3368 - val_accuracy: 0.9086\n",
            "Epoch 138/200\n",
            "183/183 [==============================] - 75s 408ms/step - loss: 0.1824 - accuracy: 0.9419 - val_loss: 0.3336 - val_accuracy: 0.9133\n",
            "Epoch 139/200\n",
            "183/183 [==============================] - 75s 409ms/step - loss: 0.1813 - accuracy: 0.9426 - val_loss: 0.3317 - val_accuracy: 0.9156\n",
            "Epoch 140/200\n",
            "183/183 [==============================] - 79s 431ms/step - loss: 0.1790 - accuracy: 0.9426 - val_loss: 0.3509 - val_accuracy: 0.9126\n",
            "Epoch 141/200\n",
            "183/183 [==============================] - 75s 409ms/step - loss: 0.1807 - accuracy: 0.9427 - val_loss: 0.3356 - val_accuracy: 0.9168\n",
            "Epoch 142/200\n",
            "183/183 [==============================] - 76s 413ms/step - loss: 0.1801 - accuracy: 0.9420 - val_loss: 0.3193 - val_accuracy: 0.9167\n",
            "Epoch 143/200\n",
            "183/183 [==============================] - 76s 414ms/step - loss: 0.1794 - accuracy: 0.9435 - val_loss: 0.3447 - val_accuracy: 0.9076\n",
            "Epoch 144/200\n",
            "183/183 [==============================] - 75s 410ms/step - loss: 0.1780 - accuracy: 0.9436 - val_loss: 0.3304 - val_accuracy: 0.9150\n",
            "Epoch 145/200\n",
            "183/183 [==============================] - 78s 427ms/step - loss: 0.1749 - accuracy: 0.9438 - val_loss: 0.3405 - val_accuracy: 0.9131\n",
            "Epoch 146/200\n",
            "183/183 [==============================] - 74s 402ms/step - loss: 0.1866 - accuracy: 0.9407 - val_loss: 0.3440 - val_accuracy: 0.9091\n",
            "Epoch 147/200\n",
            "183/183 [==============================] - 76s 415ms/step - loss: 0.1750 - accuracy: 0.9435 - val_loss: 0.3326 - val_accuracy: 0.9173\n",
            "Epoch 148/200\n",
            "183/183 [==============================] - 77s 419ms/step - loss: 0.1835 - accuracy: 0.9414 - val_loss: 0.3451 - val_accuracy: 0.9103\n",
            "Epoch 149/200\n",
            "183/183 [==============================] - 76s 413ms/step - loss: 0.1772 - accuracy: 0.9429 - val_loss: 0.3180 - val_accuracy: 0.9172\n",
            "Epoch 150/200\n",
            "183/183 [==============================] - 74s 406ms/step - loss: 0.1807 - accuracy: 0.9447 - val_loss: 0.3429 - val_accuracy: 0.9123\n",
            "Epoch 151/200\n",
            "183/183 [==============================] - 77s 421ms/step - loss: 0.1809 - accuracy: 0.9431 - val_loss: 0.3295 - val_accuracy: 0.9154\n",
            "Epoch 152/200\n",
            "183/183 [==============================] - 75s 408ms/step - loss: 0.1769 - accuracy: 0.9452 - val_loss: 0.3545 - val_accuracy: 0.9094\n",
            "Epoch 153/200\n",
            "183/183 [==============================] - 74s 403ms/step - loss: 0.1680 - accuracy: 0.9457 - val_loss: 0.3266 - val_accuracy: 0.9190\n",
            "Epoch 154/200\n",
            "183/183 [==============================] - 78s 426ms/step - loss: 0.1632 - accuracy: 0.9474 - val_loss: 0.3509 - val_accuracy: 0.9141\n",
            "Epoch 155/200\n",
            "183/183 [==============================] - 74s 405ms/step - loss: 0.1758 - accuracy: 0.9439 - val_loss: 0.3492 - val_accuracy: 0.9100\n",
            "Epoch 156/200\n",
            "183/183 [==============================] - 77s 422ms/step - loss: 0.1749 - accuracy: 0.9441 - val_loss: 0.3618 - val_accuracy: 0.9088\n",
            "Epoch 157/200\n",
            "183/183 [==============================] - 73s 397ms/step - loss: 0.1729 - accuracy: 0.9451 - val_loss: 0.3510 - val_accuracy: 0.9086\n",
            "Epoch 158/200\n",
            "183/183 [==============================] - 76s 415ms/step - loss: 0.1718 - accuracy: 0.9457 - val_loss: 0.3589 - val_accuracy: 0.9133\n",
            "Epoch 159/200\n",
            "183/183 [==============================] - 75s 412ms/step - loss: 0.1668 - accuracy: 0.9474 - val_loss: 0.3643 - val_accuracy: 0.9135\n",
            "Epoch 160/200\n",
            "183/183 [==============================] - 77s 420ms/step - loss: 0.1620 - accuracy: 0.9473 - val_loss: 0.3555 - val_accuracy: 0.9161\n",
            "Epoch 161/200\n",
            "183/183 [==============================] - 73s 402ms/step - loss: 0.1623 - accuracy: 0.9483 - val_loss: 0.3378 - val_accuracy: 0.9144\n",
            "Epoch 162/200\n",
            "183/183 [==============================] - 76s 413ms/step - loss: 0.1583 - accuracy: 0.9504 - val_loss: 0.3680 - val_accuracy: 0.9103\n",
            "Epoch 163/200\n",
            "183/183 [==============================] - 72s 395ms/step - loss: 0.1617 - accuracy: 0.9481 - val_loss: 0.3604 - val_accuracy: 0.9144\n",
            "Epoch 164/200\n",
            "183/183 [==============================] - 77s 424ms/step - loss: 0.1742 - accuracy: 0.9454 - val_loss: 0.3571 - val_accuracy: 0.9095\n",
            "Epoch 165/200\n",
            "183/183 [==============================] - 75s 412ms/step - loss: 0.1686 - accuracy: 0.9461 - val_loss: 0.3479 - val_accuracy: 0.9128\n",
            "Epoch 166/200\n",
            "183/183 [==============================] - 75s 408ms/step - loss: 0.1612 - accuracy: 0.9498 - val_loss: 0.3488 - val_accuracy: 0.9159\n",
            "Epoch 167/200\n",
            "183/183 [==============================] - 74s 402ms/step - loss: 0.1602 - accuracy: 0.9492 - val_loss: 0.3364 - val_accuracy: 0.9184\n",
            "Epoch 168/200\n",
            "183/183 [==============================] - 77s 419ms/step - loss: 0.1657 - accuracy: 0.9469 - val_loss: 0.3291 - val_accuracy: 0.9169\n",
            "Epoch 169/200\n",
            "183/183 [==============================] - 75s 408ms/step - loss: 0.1616 - accuracy: 0.9483 - val_loss: 0.3537 - val_accuracy: 0.9141\n",
            "Epoch 170/200\n",
            "183/183 [==============================] - 77s 420ms/step - loss: 0.1671 - accuracy: 0.9473 - val_loss: 0.3470 - val_accuracy: 0.9156\n",
            "Epoch 171/200\n",
            "183/183 [==============================] - 74s 407ms/step - loss: 0.1620 - accuracy: 0.9493 - val_loss: 0.3632 - val_accuracy: 0.9146\n",
            "Epoch 172/200\n",
            "183/183 [==============================] - 75s 412ms/step - loss: 0.1506 - accuracy: 0.9525 - val_loss: 0.3637 - val_accuracy: 0.9168\n",
            "Epoch 173/200\n",
            "183/183 [==============================] - 75s 412ms/step - loss: 0.1577 - accuracy: 0.9496 - val_loss: 0.3463 - val_accuracy: 0.9177\n",
            "Epoch 174/200\n",
            "183/183 [==============================] - 75s 409ms/step - loss: 0.1572 - accuracy: 0.9507 - val_loss: 0.3570 - val_accuracy: 0.9143\n",
            "Epoch 175/200\n",
            "183/183 [==============================] - 74s 407ms/step - loss: 0.1589 - accuracy: 0.9502 - val_loss: 0.3278 - val_accuracy: 0.9220\n",
            "Epoch 176/200\n",
            "183/183 [==============================] - 74s 403ms/step - loss: 0.1576 - accuracy: 0.9517 - val_loss: 0.3462 - val_accuracy: 0.9176\n",
            "Epoch 177/200\n",
            "183/183 [==============================] - 76s 418ms/step - loss: 0.1573 - accuracy: 0.9503 - val_loss: 0.3481 - val_accuracy: 0.9197\n",
            "Epoch 178/200\n",
            "183/183 [==============================] - 79s 430ms/step - loss: 0.1561 - accuracy: 0.9516 - val_loss: 0.3517 - val_accuracy: 0.9150\n",
            "Epoch 179/200\n",
            "183/183 [==============================] - 74s 401ms/step - loss: 0.1517 - accuracy: 0.9516 - val_loss: 0.3506 - val_accuracy: 0.9175\n",
            "Epoch 180/200\n",
            "183/183 [==============================] - 76s 417ms/step - loss: 0.1550 - accuracy: 0.9506 - val_loss: 0.3415 - val_accuracy: 0.9173\n",
            "Epoch 181/200\n",
            "183/183 [==============================] - 73s 402ms/step - loss: 0.1626 - accuracy: 0.9490 - val_loss: 0.3570 - val_accuracy: 0.9121\n",
            "Epoch 182/200\n",
            "183/183 [==============================] - 76s 415ms/step - loss: 0.1520 - accuracy: 0.9527 - val_loss: 0.3401 - val_accuracy: 0.9190\n",
            "Epoch 183/200\n",
            "183/183 [==============================] - 74s 406ms/step - loss: 0.1544 - accuracy: 0.9514 - val_loss: 0.3201 - val_accuracy: 0.9214\n",
            "Epoch 184/200\n",
            "183/183 [==============================] - 75s 411ms/step - loss: 0.1530 - accuracy: 0.9514 - val_loss: 0.3326 - val_accuracy: 0.9177\n",
            "Epoch 185/200\n",
            "183/183 [==============================] - 75s 411ms/step - loss: 0.1520 - accuracy: 0.9522 - val_loss: 0.3588 - val_accuracy: 0.9173\n",
            "Epoch 186/200\n",
            "183/183 [==============================] - 74s 406ms/step - loss: 0.1588 - accuracy: 0.9498 - val_loss: 0.3526 - val_accuracy: 0.9169\n",
            "Epoch 187/200\n",
            "183/183 [==============================] - 75s 407ms/step - loss: 0.1561 - accuracy: 0.9508 - val_loss: 0.3278 - val_accuracy: 0.9216\n",
            "Epoch 188/200\n",
            "183/183 [==============================] - 72s 394ms/step - loss: 0.1434 - accuracy: 0.9537 - val_loss: 0.3583 - val_accuracy: 0.9147\n",
            "Epoch 189/200\n",
            "183/183 [==============================] - 75s 409ms/step - loss: 0.1508 - accuracy: 0.9531 - val_loss: 0.3795 - val_accuracy: 0.9152\n",
            "Epoch 190/200\n",
            "183/183 [==============================] - 74s 404ms/step - loss: 0.1511 - accuracy: 0.9525 - val_loss: 0.3633 - val_accuracy: 0.9088\n",
            "Epoch 191/200\n",
            "183/183 [==============================] - 75s 412ms/step - loss: 0.1459 - accuracy: 0.9539 - val_loss: 0.3587 - val_accuracy: 0.9209\n",
            "Epoch 192/200\n",
            "183/183 [==============================] - 77s 423ms/step - loss: 0.1509 - accuracy: 0.9525 - val_loss: 0.3421 - val_accuracy: 0.9206\n",
            "Epoch 193/200\n",
            "183/183 [==============================] - 76s 414ms/step - loss: 0.1494 - accuracy: 0.9532 - val_loss: 0.3597 - val_accuracy: 0.9201\n",
            "Epoch 194/200\n",
            "183/183 [==============================] - 76s 413ms/step - loss: 0.1462 - accuracy: 0.9533 - val_loss: 0.3652 - val_accuracy: 0.9149\n",
            "Epoch 195/200\n",
            "183/183 [==============================] - 74s 404ms/step - loss: 0.1513 - accuracy: 0.9517 - val_loss: 0.3359 - val_accuracy: 0.9170\n",
            "Epoch 196/200\n",
            "183/183 [==============================] - 76s 417ms/step - loss: 0.1497 - accuracy: 0.9529 - val_loss: 0.3453 - val_accuracy: 0.9184\n",
            "Epoch 197/200\n",
            "183/183 [==============================] - 76s 418ms/step - loss: 0.1450 - accuracy: 0.9549 - val_loss: 0.3788 - val_accuracy: 0.9140\n",
            "Epoch 198/200\n",
            "183/183 [==============================] - 74s 403ms/step - loss: 0.1601 - accuracy: 0.9491 - val_loss: 0.3659 - val_accuracy: 0.9162\n",
            "Epoch 199/200\n",
            "183/183 [==============================] - 78s 427ms/step - loss: 0.1509 - accuracy: 0.9518 - val_loss: 0.3427 - val_accuracy: 0.9183\n",
            "Epoch 200/200\n",
            "183/183 [==============================] - 75s 407ms/step - loss: 0.1453 - accuracy: 0.9545 - val_loss: 0.3423 - val_accuracy: 0.9138\n"
          ]
        }
      ]
    },
    {
      "cell_type": "code",
      "metadata": {
        "id": "JY7d6VDZCjaO",
        "colab": {
          "base_uri": "https://localhost:8080/"
        },
        "outputId": "7ad7af7f-1be2-4526-b431-4e1b6b3ecb56"
      },
      "source": [
        "score = model.evaluate(x_test, y_test, verbose=1)\n",
        "print('Test loss:', score[0])\n",
        "print('Test accuracy:', score[1])"
      ],
      "execution_count": 49,
      "outputs": [
        {
          "output_type": "stream",
          "name": "stdout",
          "text": [
            "366/366 [==============================] - 6s 16ms/step - loss: 0.3423 - accuracy: 0.9138\n",
            "Test loss: 0.3422788679599762\n",
            "Test accuracy: 0.9138490557670593\n"
          ]
        }
      ]
    },
    {
      "cell_type": "code",
      "source": [
        "score = model.evaluate(x_train, y_train, verbose=1)\n",
        "print('Train loss:', score[0])\n",
        "print('Train accuracy:', score[1])"
      ],
      "metadata": {
        "colab": {
          "base_uri": "https://localhost:8080/"
        },
        "id": "0G8rKYSAe9p0",
        "outputId": "5ed0e92e-1b60-4578-acde-8a2df7d115b6"
      },
      "execution_count": 45,
      "outputs": [
        {
          "output_type": "stream",
          "name": "stdout",
          "text": [
            "1464/1464 [==============================] - 23s 16ms/step - loss: 0.0648 - accuracy: 0.9778\n",
            "Train loss: 0.0647948607802391\n",
            "Train accuracy: 0.9778005480766296\n"
          ]
        }
      ]
    },
    {
      "cell_type": "code",
      "metadata": {
        "id": "LV_xGFKhDt67",
        "colab": {
          "base_uri": "https://localhost:8080/"
        },
        "outputId": "0b0e7fea-5e7e-4617-eff5-8b3af706d3a1"
      },
      "source": [
        "# list all data in history\n",
        "print(history.history.keys())\n",
        "import matplotlib.pyplot as plt\n",
        "import numpy\n"
      ],
      "execution_count": 31,
      "outputs": [
        {
          "output_type": "stream",
          "name": "stdout",
          "text": [
            "dict_keys(['loss', 'accuracy', 'val_loss', 'val_accuracy'])\n"
          ]
        }
      ]
    },
    {
      "cell_type": "markdown",
      "source": [],
      "metadata": {
        "id": "CgF5GqjUt7Jb"
      }
    },
    {
      "cell_type": "code",
      "metadata": {
        "id": "dDQGSy8xFoob",
        "colab": {
          "base_uri": "https://localhost:8080/",
          "height": 295
        },
        "outputId": "37096848-4e53-4bd3-f580-7ca91bc51216"
      },
      "source": [
        "# summarize history for accuracy\n",
        "plt.plot(history.history['accuracy'])\n",
        "plt.plot(history.history['val_accuracy'])\n",
        "plt.title('model accuracy')\n",
        "plt.ylabel('accuracy')\n",
        "plt.xlabel('epoch')\n",
        "plt.legend(['train', 'test'], loc='upper left')\n",
        "plt.show()"
      ],
      "execution_count": 32,
      "outputs": [
        {
          "output_type": "display_data",
          "data": {
            "text/plain": [
              "<Figure size 432x288 with 1 Axes>"
            ],
            "image/png": "[encoded data removed]"
          },
          "metadata": {
            "needs_background": "light"
          }
        }
      ]
    },
    {
      "cell_type": "code",
      "metadata": {
        "id": "Fgg6gD0BFnZS",
        "colab": {
          "base_uri": "https://localhost:8080/",
          "height": 295
        },
        "outputId": "642e42a7-45ca-4c9f-8517-bab703f299be"
      },
      "source": [
        "# summarize history for loss\n",
        "plt.plot(history.history['loss'])\n",
        "plt.plot(history.history['val_loss'])\n",
        "plt.title('model loss')\n",
        "plt.ylabel('loss')\n",
        "plt.xlabel('epoch')\n",
        "plt.legend(['train', 'test'], loc='upper left')\n",
        "plt.show()"
      ],
      "execution_count": 33,
      "outputs": [
        {
          "output_type": "display_data",
          "data": {
            "text/plain": [
              "<Figure size 432x288 with 1 Axes>"
            ],
            "image/png": "[encoded data removed]"
          },
          "metadata": {
            "needs_background": "light"
          }
        }
      ]
    },
    {
      "cell_type": "code",
      "metadata": {
        "id": "xZwaY3SeKnJb",
        "colab": {
          "base_uri": "https://localhost:8080/",
          "height": 295
        },
        "outputId": "dd8551b7-b4ed-4a69-cc5f-c8623736c01e"
      },
      "source": [
        "plt.plot(history.history['val_accuracy'])\n",
        "plt.plot(history.history['val_loss'])\n",
        "plt.title('test model')\n",
        "plt.ylabel('test accuracy')\n",
        "plt.xlabel('test loss')\n",
        "plt.legend(['train', 'test'], loc='upper left')\n",
        "plt.show()"
      ],
      "execution_count": 34,
      "outputs": [
        {
          "output_type": "display_data",
          "data": {
            "text/plain": [
              "<Figure size 432x288 with 1 Axes>"
            ],
            "image/png": "[encoded data removed]"
          },
          "metadata": {
            "needs_background": "light"
          }
        }
      ]
    },
    {
      "cell_type": "code",
      "metadata": {
        "id": "NGR4wrOdL5DF",
        "colab": {
          "base_uri": "https://localhost:8080/"
        },
        "outputId": "b3fd1c41-196f-462d-d152-c8a3cfe46e71"
      },
      "source": [
        "y_pred=model.predict(x_test)\n",
        "from sklearn.metrics import confusion_matrix\n",
        "import numpy as np"
      ],
      "execution_count": 35,
      "outputs": [
        {
          "output_type": "stream",
          "name": "stdout",
          "text": [
            "366/366 [==============================] - 5s 13ms/step\n"
          ]
        }
      ]
    },
    {
      "cell_type": "code",
      "metadata": {
        "id": "9y5wCoinVRhi",
        "colab": {
          "base_uri": "https://localhost:8080/"
        },
        "outputId": "15b0236c-1665-42e0-d098-07fff5193c2a"
      },
      "source": [
        "y_test[1]"
      ],
      "execution_count": 36,
      "outputs": [
        {
          "output_type": "execute_result",
          "data": {
            "text/plain": [
              "array([0., 0., 0., 0., 0., 0., 0., 1., 0., 0.], dtype=float32)"
            ]
          },
          "metadata": {},
          "execution_count": 36
        }
      ]
    },
    {
      "cell_type": "code",
      "metadata": {
        "id": "ilOzv9RdVOtg"
      },
      "source": [
        "y_test1=np.argmax(y_test, axis=1)"
      ],
      "execution_count": 38,
      "outputs": []
    },
    {
      "cell_type": "code",
      "metadata": {
        "id": "Pvkh6dE6XzNa"
      },
      "source": [
        "y_pred=np.argmax(y_pred,axis=1)"
      ],
      "execution_count": 39,
      "outputs": []
    },
    {
      "cell_type": "code",
      "metadata": {
        "id": "wLOOyigNaJke",
        "colab": {
          "base_uri": "https://localhost:8080/"
        },
        "outputId": "1fcbfa9c-10c5-4787-93aa-7773145ec942"
      },
      "source": [
        "y_test1[1]"
      ],
      "execution_count": 40,
      "outputs": [
        {
          "output_type": "execute_result",
          "data": {
            "text/plain": [
              "7"
            ]
          },
          "metadata": {},
          "execution_count": 40
        }
      ]
    },
    {
      "cell_type": "code",
      "metadata": {
        "id": "0f968lExaSRS",
        "colab": {
          "base_uri": "https://localhost:8080/"
        },
        "outputId": "0149a785-c846-4140-b2f6-fe069037c81d"
      },
      "source": [
        "y_pred[1]"
      ],
      "execution_count": 41,
      "outputs": [
        {
          "output_type": "execute_result",
          "data": {
            "text/plain": [
              "7"
            ]
          },
          "metadata": {},
          "execution_count": 41
        }
      ]
    },
    {
      "cell_type": "code",
      "source": [
        "y_test1, y_pred"
      ],
      "metadata": {
        "id": "yaQWhmY0feed"
      },
      "execution_count": null,
      "outputs": []
    },
    {
      "cell_type": "code",
      "source": [
        "cmatrix=confusion_matrix(y_test1, y_pred)"
      ],
      "metadata": {
        "id": "hOdde9XJbeAS"
      },
      "execution_count": 47,
      "outputs": []
    },
    {
      "cell_type": "code",
      "source": [
        "import seaborn as sns\n",
        "fig, ax = plt.subplots(figsize=(10, 10))\n",
        "sns.heatmap(cmatrix, annot=True,cbar=False, fmt='g', ax=ax, cmap=plt.cm.Blues);  #annot=True to annotate cells, ftm='g' to disable scientific notation\n",
        "\n",
        "# labels, title and ticks\n",
        "ax.set_xlabel('Predicted labels');\n",
        "ax.set_ylabel('True labels'); \n",
        "ax.set_title('Confusion Matrix'); \n",
        "ax.xaxis.set_ticklabels([\"happy\", \"suprise\", \"relaxed\",\"calm\", \"sad\", \"sleepy\",\"nervous\",\"upset\"]);\n",
        "ax.yaxis.set_ticklabels([\"happy\", \"suprise\", \"relaxed\",\"calm\", \"sad\", \"sleepy\",\"nervous\",\"upset\"]);"
      ],
      "metadata": {
        "colab": {
          "base_uri": "https://localhost:8080/",
          "height": 621
        },
        "id": "WxJWdbiEa8If",
        "outputId": "145fdd30-e363-4289-e676-36b65c9b5826"
      },
      "execution_count": 54,
      "outputs": [
        {
          "output_type": "display_data",
          "data": {
            "text/plain": [
              "<Figure size 720x720 with 1 Axes>"
            ],
            "image/png": "[encoded data removed]"
          },
          "metadata": {
            "needs_background": "light"
          }
        }
      ]
    },
    {
      "cell_type": "code",
      "metadata": {
        "id": "45fHlde5OtWn"
      },
      "source": [
        "from pandas.core.dtypes.common import classes\n",
        "labels= []\n",
        "from sklearn.metrics import confusion_matrix\n"
      ],
      "execution_count": null,
      "outputs": []
    },
    {
      "cell_type": "markdown",
      "source": [],
      "metadata": {
        "id": "wh7dEImpa60L"
      }
    }
  ]
}