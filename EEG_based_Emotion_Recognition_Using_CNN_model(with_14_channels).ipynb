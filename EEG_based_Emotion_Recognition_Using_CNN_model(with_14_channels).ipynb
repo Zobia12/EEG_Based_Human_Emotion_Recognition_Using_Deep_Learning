{
  "cells": [
    {
      "cell_type": "markdown",
      "metadata": {
        "id": "view-in-github",
        "colab_type": "text"
      },
      "source": [
        "<a href=\"https://colab.research.google.com/github/Zobia12/EEG_Based_Human_Emotion_Recognition_Using_Deep_Learning/blob/main/EEG_based_Emotion_Recognition_Using_CNN_model(with_14_channels).ipynb\" target=\"_parent\"><img src=\"https://colab.research.google.com/assets/colab-badge.svg\" alt=\"Open In Colab\"/></a>"
      ]
    },
    {
      "cell_type": "code",
      "execution_count": 1,
      "metadata": {
        "id": "4ZgJPO-bvo4B",
        "colab": {
          "base_uri": "https://localhost:8080/"
        },
        "outputId": "2c375c1e-db33-48d9-f8ca-23fa13c175b7"
      },
      "outputs": [
        {
          "output_type": "stream",
          "name": "stdout",
          "text": [
            "Looking in indexes: https://pypi.org/simple, https://us-python.pkg.dev/colab-wheels/public/simple/\n",
            "Collecting git+https://github.com/forrestbao/pyeeg.git\n",
            "  Cloning https://github.com/forrestbao/pyeeg.git to /tmp/pip-req-build-h_d1no4z\n",
            "  Running command git clone -q https://github.com/forrestbao/pyeeg.git /tmp/pip-req-build-h_d1no4z\n",
            "Requirement already satisfied: numpy>=1.9.2 in /usr/local/lib/python3.7/dist-packages (from pyeeg==0.4.4) (1.21.6)\n",
            "Building wheels for collected packages: pyeeg\n",
            "  Building wheel for pyeeg (setup.py) ... \u001b[?25l\u001b[?25hdone\n",
            "  Created wheel for pyeeg: filename=pyeeg-0.4.4-py2.py3-none-any.whl size=28131 sha256=1ce01ac470ad1d742b08528a526e1f72990070bfde562cadf2fb332600eb1d4c\n",
            "  Stored in directory: /tmp/pip-ephem-wheel-cache-zbn_kgps/wheels/b0/23/e4/703c908bda656959957029fa145879aa79307b2545a2ef0271\n",
            "Successfully built pyeeg\n",
            "Installing collected packages: pyeeg\n",
            "Successfully installed pyeeg-0.4.4\n"
          ]
        }
      ],
      "source": [
        "!pip install git+https://github.com/forrestbao/pyeeg.git\n",
        "import numpy as np\n",
        "import pyeeg as pe\n",
        "import pickle as pickle\n",
        "import pandas as pd\n",
        "import math\n",
        "\n",
        "from sklearn import svm\n",
        "from sklearn.preprocessing import normalize\n",
        "\n",
        "import os\n",
        "import time"
      ]
    },
    {
      "cell_type": "code",
      "execution_count": 2,
      "metadata": {
        "id": "A6V-0VlCv8F3"
      },
      "outputs": [],
      "source": [
        "import pandas as pd\n",
        "import keras.backend as K\n",
        "import numpy as np\n",
        "import pandas as pd\n",
        "from keras.models import Sequential\n",
        "from keras.layers import Dense\n",
        "from keras.models import Sequential\n",
        "from keras.layers.convolutional import Conv1D\n",
        "from keras.layers.convolutional import MaxPooling1D\n",
        "from tensorflow.keras.utils import to_categorical \n",
        "from keras.layers import Flatten\n",
        "from keras.layers import Dense\n",
        "import numpy as np\n",
        "import keras\n",
        "from keras.datasets import mnist\n",
        "from keras.models import Sequential\n",
        "from keras.layers import Dense, Dropout, Flatten, Conv2D, MaxPooling2D\n",
        "from keras import backend as K\n",
        "from keras.models import Model\n",
        "import timeit\n",
        "from keras.models import Sequential\n",
        "from keras.layers.core import Flatten, Dense, Dropout\n",
        "from keras.layers.convolutional import Convolution1D, MaxPooling1D, ZeroPadding1D\n",
        "from tensorflow.keras.optimizers import SGD\n",
        "#import cv2, numpy as np\n",
        "import warnings\n",
        "warnings.filterwarnings('ignore')"
      ]
    },
    {
      "cell_type": "code",
      "execution_count": 3,
      "metadata": {
        "id": "bWlMgzPBwGwF",
        "colab": {
          "base_uri": "https://localhost:8080/"
        },
        "outputId": "8c3833f9-916a-4272-d0ed-1abf019d2f5c"
      },
      "outputs": [
        {
          "output_type": "stream",
          "name": "stdout",
          "text": [
            "Mounted at /content/drive/\n"
          ]
        }
      ],
      "source": [
        "from google.colab import drive\n",
        "drive.mount('/content/drive/')"
      ]
    },
    {
      "cell_type": "code",
      "execution_count": 4,
      "metadata": {
        "id": "JOXuEM0JwJqI"
      },
      "outputs": [],
      "source": [
        "# data_preprocessed_python\n",
        "os.getcwd()\n",
        "os.chdir('/content/drive/My Drive')"
      ]
    },
    {
      "cell_type": "code",
      "execution_count": 5,
      "metadata": {
        "id": "kCMT74t9wowG"
      },
      "outputs": [],
      "source": [
        "channel = [1,2,3,4,6,11,13,17,19,20,21,25,29,31] #14 Channels chosen to fit Emotiv Epoch+\n",
        "band = [4,8,12,16,25,45] #5 bands\n",
        "window_size = 256 #Averaging band power of 2 sec\n",
        "step_size = 16 #Each 0.125 sec update once\n",
        "sample_rate = 128 #Sampling rate of 128 Hz\n",
        "subjectList = ['01','02','03']\n",
        "#List of subjects"
      ]
    },
    {
      "cell_type": "code",
      "execution_count": 6,
      "metadata": {
        "id": "UD-WVHARwsXz"
      },
      "outputs": [],
      "source": [
        "def FFT_Processing (sub, channel, band, window_size, step_size, sample_rate):\n",
        "    '''\n",
        "    arguments:  string subject\n",
        "                list channel indice\n",
        "                list band\n",
        "                int window size for FFT\n",
        "                int step size for FFT\n",
        "                int sample rate for FFT\n",
        "    return:     void\n",
        "    '''\n",
        "    meta = []\n",
        "    with open(\"/content/drive/My Drive/leading_ai/try/s\" + sub + '.dat', 'rb') as file:\n",
        "\n",
        "        subject = pickle.load(file, encoding='latin1') #resolve the python 2 data problem by encoding : latin1\n",
        "\n",
        "        for i in range (0,40):\n",
        "            # loop over 0-39 trails\n",
        "            data = subject[\"data\"][i]\n",
        "            labels = subject[\"labels\"][i]\n",
        "            start = 0;\n",
        "\n",
        "            while start + window_size < data.shape[1]:\n",
        "                meta_array = []\n",
        "                meta_data = [] #meta vector for analysis\n",
        "                for j in channel:\n",
        "                    X = data[j][start : start + window_size] #Slice raw data over 2 sec, at interval of 0.125 sec\n",
        "                    Y = pe.bin_power(X, band, sample_rate) #FFT over 2 sec of channel j, in seq of theta, alpha, low beta, high beta, gamma\n",
        "                    meta_data = meta_data + list(Y[0])\n",
        "\n",
        "                meta_array.append(np.array(meta_data))\n",
        "                meta_array.append(labels)\n",
        "\n",
        "                meta.append(np.array(meta_array))    \n",
        "                start = start + step_size\n",
        "                \n",
        "        meta = np.array(meta)\n",
        "        np.save('/content/drive/My Drive/leading_ai/try/s' + sub, meta, allow_pickle=True, fix_imports=True)"
      ]
    },
    {
      "cell_type": "code",
      "execution_count": 7,
      "metadata": {
        "id": "TWcHt5X2xDfw"
      },
      "outputs": [],
      "source": [
        "for subjects in subjectList:\n",
        "    FFT_Processing (subjects, channel, band, window_size, step_size, sample_rate)"
      ]
    },
    {
      "cell_type": "code",
      "execution_count": 8,
      "metadata": {
        "id": "dM2Bdu7oxIbE",
        "colab": {
          "base_uri": "https://localhost:8080/"
        },
        "outputId": "cfd32dbc-fefc-4b4b-a5cf-7e01e1ad4b8b"
      },
      "outputs": [
        {
          "output_type": "stream",
          "name": "stdout",
          "text": [
            "training dataset: (46848, 70) (46848, 4)\n",
            "testing dataset: (11712, 70) (11712, 4)\n"
          ]
        }
      ],
      "source": [
        "\n",
        "data_training = []\n",
        "label_training = []\n",
        "data_testing = []\n",
        "label_testing = []\n",
        "\n",
        "for subjects in subjectList:\n",
        "\n",
        "    with open('/content/drive/My Drive/leading_ai/try/s' + subjects + '.npy', 'rb') as file:\n",
        "      sub = np.load(file,allow_pickle=True)\n",
        "      for i in range (0,sub.shape[0]):\n",
        "        if i % 5 == 0:\n",
        "          data_testing.append(sub[i][0])\n",
        "          label_testing.append(sub[i][1])\n",
        "        else:\n",
        "          data_training.append(sub[i][0])\n",
        "          label_training.append(sub[i][1])\n",
        "\n",
        "np.save('/content/drive/My Drive/leading_ai/data_training', np.array(data_training), allow_pickle=True, fix_imports=True)\n",
        "np.save('/content/drive/My Drive/leading_ai/label_training', np.array(label_training), allow_pickle=True, fix_imports=True)\n",
        "print(\"training dataset:\", np.array(data_training).shape, np.array(label_training).shape)\n",
        "\n",
        "np.save('/content/drive/My Drive/leading_ai/data_testing', np.array(data_testing), allow_pickle=True, fix_imports=True)\n",
        "np.save('/content/drive/My Drive/leading_ai/label_testing', np.array(label_testing), allow_pickle=True, fix_imports=True)\n",
        "print(\"testing dataset:\", np.array(data_testing).shape, np.array(label_testing).shape)"
      ]
    },
    {
      "cell_type": "code",
      "execution_count": 9,
      "metadata": {
        "id": "pnNNgiBN_HcS"
      },
      "outputs": [],
      "source": [
        "\n",
        "with open('/content/drive/My Drive/leading_ai/data_training.npy', 'rb') as fileTrain:\n",
        "    X  = np.load(fileTrain)\n",
        "    \n",
        "with open('/content/drive/My Drive/leading_ai/label_training.npy', 'rb') as fileTrainL:\n",
        "    Y  = np.load(fileTrainL)\n",
        "    \n",
        "X = normalize(X)\n",
        "Z = np.ravel(Y[:, [3]])\n",
        "\n",
        "Arousal_Train = np.ravel(Y[:, [0]])\n",
        "Valence_Train = np.ravel(Y[:, [1]])\n",
        "Domain_Train = np.ravel(Y[:, [2]])\n",
        "Like_Train = np.ravel(Y[:, [3]])"
      ]
    },
    {
      "cell_type": "code",
      "execution_count": 10,
      "metadata": {
        "id": "O-kXkIKo_3eY",
        "colab": {
          "base_uri": "https://localhost:8080/"
        },
        "outputId": "4192b176-b135-420d-c61f-8071d5327bdc"
      },
      "outputs": [
        {
          "output_type": "execute_result",
          "data": {
            "text/plain": [
              "(46848, 70)"
            ]
          },
          "metadata": {},
          "execution_count": 10
        }
      ],
      "source": [
        "X.shape"
      ]
    },
    {
      "cell_type": "code",
      "execution_count": 11,
      "metadata": {
        "id": "u7QbIvJF_7YH",
        "colab": {
          "base_uri": "https://localhost:8080/"
        },
        "outputId": "86f321ff-6877-4bbd-bd78-da865c486a3b"
      },
      "outputs": [
        {
          "output_type": "execute_result",
          "data": {
            "text/plain": [
              "array([[0., 0., 0., ..., 1., 0., 0.],\n",
              "       [0., 0., 0., ..., 1., 0., 0.],\n",
              "       [0., 0., 0., ..., 1., 0., 0.],\n",
              "       ...,\n",
              "       [0., 0., 0., ..., 0., 0., 0.],\n",
              "       [0., 0., 0., ..., 0., 0., 0.],\n",
              "       [0., 0., 0., ..., 0., 0., 0.]], dtype=float32)"
            ]
          },
          "metadata": {},
          "execution_count": 11
        }
      ],
      "source": [
        "from tensorflow.keras.utils import to_categorical\n",
        "y_train = to_categorical(Z)\n",
        "y_train"
      ]
    },
    {
      "cell_type": "code",
      "execution_count": 12,
      "metadata": {
        "id": "vz6DyN6i4Ten",
        "colab": {
          "base_uri": "https://localhost:8080/"
        },
        "outputId": "522353ca-a89d-491a-b02b-afdbe1cb4a81"
      },
      "outputs": [
        {
          "output_type": "execute_result",
          "data": {
            "text/plain": [
              "(46848, 10)"
            ]
          },
          "metadata": {},
          "execution_count": 12
        }
      ],
      "source": [
        "y_train.shape"
      ]
    },
    {
      "cell_type": "code",
      "execution_count": 13,
      "metadata": {
        "id": "n2nbzExFABT9"
      },
      "outputs": [],
      "source": [
        "x_train = np.array(X[:])"
      ]
    },
    {
      "cell_type": "code",
      "execution_count": 14,
      "metadata": {
        "id": "ooCmmlGRAFkv"
      },
      "outputs": [],
      "source": [
        "\n",
        "with open('/content/drive/My Drive/leading_ai/data_testing.npy', 'rb') as fileTrain:\n",
        "    M  = np.load(fileTrain)\n",
        "    \n",
        "with open('/content/drive/My Drive/leading_ai/label_testing.npy', 'rb') as fileTrainL:\n",
        "    N  = np.load(fileTrainL)\n",
        "\n",
        "M = normalize(M)\n",
        "L = np.ravel(N[:, [3]])\n",
        "\n",
        "Arousal_Test = np.ravel(N[:, [0]])\n",
        "Valence_Test = np.ravel(N[:, [1]])\n",
        "Domain_Test = np.ravel(N[:, [2]])\n",
        "Like_Test = np.ravel(N[:, [3]])"
      ]
    },
    {
      "cell_type": "code",
      "execution_count": 15,
      "metadata": {
        "id": "m4sxtvpQAOhK"
      },
      "outputs": [],
      "source": [
        "x_test = np.array(M[:])"
      ]
    },
    {
      "cell_type": "code",
      "execution_count": 16,
      "metadata": {
        "id": "r2RKm9KgASb4",
        "colab": {
          "base_uri": "https://localhost:8080/"
        },
        "outputId": "e064805c-086a-4ecb-da40-d5780d187ac0"
      },
      "outputs": [
        {
          "output_type": "execute_result",
          "data": {
            "text/plain": [
              "array([[0., 0., 0., ..., 1., 0., 0.],\n",
              "       [0., 0., 0., ..., 1., 0., 0.],\n",
              "       [0., 0., 0., ..., 1., 0., 0.],\n",
              "       ...,\n",
              "       [0., 0., 0., ..., 0., 0., 0.],\n",
              "       [0., 0., 0., ..., 0., 0., 0.],\n",
              "       [0., 0., 0., ..., 0., 0., 0.]], dtype=float32)"
            ]
          },
          "metadata": {},
          "execution_count": 16
        }
      ],
      "source": [
        "from tensorflow.keras.utils import to_categorical\n",
        "y_test = to_categorical(L)\n",
        "y_test"
      ]
    },
    {
      "cell_type": "code",
      "execution_count": 17,
      "metadata": {
        "id": "UmwAfzADsRe1",
        "colab": {
          "base_uri": "https://localhost:8080/"
        },
        "outputId": "a1f73076-f1e3-4744-9d0b-e0b8da05c4e5"
      },
      "outputs": [
        {
          "output_type": "execute_result",
          "data": {
            "text/plain": [
              "array([0., 0., 0., 0., 0., 0., 0., 1., 0., 0.], dtype=float32)"
            ]
          },
          "metadata": {},
          "execution_count": 17
        }
      ],
      "source": [
        "y_test[1]"
      ]
    },
    {
      "cell_type": "code",
      "execution_count": 18,
      "metadata": {
        "id": "rKnp-c5EAVGJ"
      },
      "outputs": [],
      "source": [
        "from sklearn.preprocessing import StandardScaler\n",
        "scaler = StandardScaler()\n",
        "x_train = scaler.fit_transform(x_train)\n",
        "x_test = scaler.fit_transform(x_test)"
      ]
    },
    {
      "cell_type": "code",
      "execution_count": 19,
      "metadata": {
        "id": "WC6VSZLUBCiS"
      },
      "outputs": [],
      "source": [
        "x_train = x_train.reshape(x_train.shape[0],x_train.shape[1], 1)\n",
        "x_test = x_test.reshape(x_test.shape[0],x_test.shape[1], 1)"
      ]
    },
    {
      "cell_type": "code",
      "execution_count": 20,
      "metadata": {
        "id": "F3CYMY96BE0i",
        "colab": {
          "base_uri": "https://localhost:8080/"
        },
        "outputId": "c8fd4289-38be-4c3b-d65c-2db1207afd4a"
      },
      "outputs": [
        {
          "output_type": "execute_result",
          "data": {
            "text/plain": [
              "(46848, 70, 1)"
            ]
          },
          "metadata": {},
          "execution_count": 20
        }
      ],
      "source": [
        "x_train.shape"
      ]
    },
    {
      "cell_type": "code",
      "execution_count": 21,
      "metadata": {
        "id": "V8NOrABgBWzf"
      },
      "outputs": [],
      "source": [
        "batch_size = 256\n",
        "num_classes = 10\n",
        "epochs = 200\n",
        "input_shape=(x_train.shape[1], 1)"
      ]
    },
    {
      "cell_type": "code",
      "execution_count": 22,
      "metadata": {
        "id": "_W9u_IH6BaaS",
        "colab": {
          "base_uri": "https://localhost:8080/"
        },
        "outputId": "73b1b403-60b9-4722-f976-a9c21aac2b1d"
      },
      "outputs": [
        {
          "output_type": "stream",
          "name": "stdout",
          "text": [
            "(70, 1)\n"
          ]
        }
      ],
      "source": [
        "print(input_shape)"
      ]
    },
    {
      "cell_type": "code",
      "execution_count": 23,
      "metadata": {
        "id": "FrpmQ4QWBc4_"
      },
      "outputs": [],
      "source": [
        "from keras.layers import Convolution1D, ZeroPadding1D, MaxPooling1D, BatchNormalization, Activation, Dropout, Flatten, Dense\n",
        "from keras.regularizers import l2"
      ]
    },
    {
      "cell_type": "code",
      "execution_count": 24,
      "metadata": {
        "id": "2B1ezppYCOhJ",
        "colab": {
          "base_uri": "https://localhost:8080/"
        },
        "outputId": "7ce9de7a-a1d5-46fe-b89f-156a24fc7c87"
      },
      "outputs": [
        {
          "output_type": "stream",
          "name": "stdout",
          "text": [
            "Model: \"sequential\"\n",
            "_________________________________________________________________\n",
            " Layer (type)                Output Shape              Param #   \n",
            "=================================================================\n",
            " conv1d (Conv1D)             (None, 70, 128)           512       \n",
            "                                                                 \n",
            " batch_normalization (BatchN  (None, 70, 128)          512       \n",
            " ormalization)                                                   \n",
            "                                                                 \n",
            " max_pooling1d (MaxPooling1D  (None, 35, 128)          0         \n",
            " )                                                               \n",
            "                                                                 \n",
            " conv1d_1 (Conv1D)           (None, 35, 128)           49280     \n",
            "                                                                 \n",
            " batch_normalization_1 (Batc  (None, 35, 128)          512       \n",
            " hNormalization)                                                 \n",
            "                                                                 \n",
            " max_pooling1d_1 (MaxPooling  (None, 17, 128)          0         \n",
            " 1D)                                                             \n",
            "                                                                 \n",
            " conv1d_2 (Conv1D)           (None, 17, 64)            24640     \n",
            "                                                                 \n",
            " max_pooling1d_2 (MaxPooling  (None, 8, 64)            0         \n",
            " 1D)                                                             \n",
            "                                                                 \n",
            " flatten (Flatten)           (None, 512)               0         \n",
            "                                                                 \n",
            " dense (Dense)               (None, 64)                32832     \n",
            "                                                                 \n",
            " dropout (Dropout)           (None, 64)                0         \n",
            "                                                                 \n",
            " dense_1 (Dense)             (None, 32)                2080      \n",
            "                                                                 \n",
            " dropout_1 (Dropout)         (None, 32)                0         \n",
            "                                                                 \n",
            " dense_2 (Dense)             (None, 16)                528       \n",
            "                                                                 \n",
            " dropout_2 (Dropout)         (None, 16)                0         \n",
            "                                                                 \n",
            " dense_3 (Dense)             (None, 10)                170       \n",
            "                                                                 \n",
            "=================================================================\n",
            "Total params: 111,066\n",
            "Trainable params: 110,554\n",
            "Non-trainable params: 512\n",
            "_________________________________________________________________\n"
          ]
        }
      ],
      "source": [
        "model = Sequential()\n",
        "intput_shape=(x_train.shape[1], 1)\n",
        "model.add(Conv1D(128, kernel_size=3,padding = 'same',activation='relu', input_shape=input_shape))\n",
        "model.add(BatchNormalization())\n",
        "model.add(MaxPooling1D(pool_size=(2)))\n",
        "model.add(Conv1D(128,kernel_size=3,padding = 'same', activation='relu'))\n",
        "model.add(BatchNormalization())\n",
        "model.add(MaxPooling1D(pool_size=(2)))\n",
        "model.add(Conv1D(64,kernel_size=3,padding = 'same', activation='relu'))\n",
        "model.add(MaxPooling1D(pool_size=(2)))\n",
        "model.add(Flatten())\n",
        "model.add(Dense(64, activation='tanh'))\n",
        "model.add(Dropout(0.2))\n",
        "model.add(Dense(32, activation='tanh'))\n",
        "model.add(Dropout(0.2))\n",
        "model.add(Dense(16, activation='relu'))\n",
        "model.add(Dropout(0.2))\n",
        "model.add(Dense(num_classes, activation='softmax'))\n",
        "model.summary()"
      ]
    },
    {
      "cell_type": "code",
      "execution_count": 25,
      "metadata": {
        "id": "A7abBpBSCY-o"
      },
      "outputs": [],
      "source": [
        "model.compile(loss=keras.losses.categorical_crossentropy,\n",
        "              optimizer='adam',\n",
        "              metrics=['accuracy'])"
      ]
    },
    {
      "cell_type": "code",
      "execution_count": 26,
      "metadata": {
        "colab": {
          "base_uri": "https://localhost:8080/"
        },
        "id": "vaZ4RPIqCfYF",
        "outputId": "e7aadb61-6139-49b8-8445-dfeab8102493"
      },
      "outputs": [
        {
          "output_type": "stream",
          "name": "stdout",
          "text": [
            "Epoch 1/200\n",
            "183/183 [==============================] - 30s 151ms/step - loss: 1.8231 - accuracy: 0.3007 - val_loss: 1.6790 - val_accuracy: 0.3502\n",
            "Epoch 2/200\n",
            "183/183 [==============================] - 27s 149ms/step - loss: 1.5647 - accuracy: 0.3683 - val_loss: 1.4490 - val_accuracy: 0.3829\n",
            "Epoch 3/200\n",
            "183/183 [==============================] - 27s 148ms/step - loss: 1.4355 - accuracy: 0.4140 - val_loss: 1.2936 - val_accuracy: 0.4688\n",
            "Epoch 4/200\n",
            "183/183 [==============================] - 29s 156ms/step - loss: 1.3345 - accuracy: 0.4616 - val_loss: 1.1551 - val_accuracy: 0.5335\n",
            "Epoch 5/200\n",
            "183/183 [==============================] - 27s 147ms/step - loss: 1.2277 - accuracy: 0.5041 - val_loss: 1.0577 - val_accuracy: 0.5727\n",
            "Epoch 6/200\n",
            "183/183 [==============================] - 27s 146ms/step - loss: 1.1481 - accuracy: 0.5400 - val_loss: 0.9681 - val_accuracy: 0.6114\n",
            "Epoch 7/200\n",
            "183/183 [==============================] - 27s 145ms/step - loss: 1.0755 - accuracy: 0.5716 - val_loss: 0.9137 - val_accuracy: 0.6325\n",
            "Epoch 8/200\n",
            "183/183 [==============================] - 27s 145ms/step - loss: 1.0147 - accuracy: 0.5950 - val_loss: 0.8890 - val_accuracy: 0.6436\n",
            "Epoch 9/200\n",
            "183/183 [==============================] - 28s 155ms/step - loss: 0.9641 - accuracy: 0.6138 - val_loss: 0.8450 - val_accuracy: 0.6671\n",
            "Epoch 10/200\n",
            "183/183 [==============================] - 27s 146ms/step - loss: 0.9229 - accuracy: 0.6330 - val_loss: 0.7999 - val_accuracy: 0.6825\n",
            "Epoch 11/200\n",
            "183/183 [==============================] - 27s 149ms/step - loss: 0.8822 - accuracy: 0.6500 - val_loss: 0.7652 - val_accuracy: 0.6910\n",
            "Epoch 12/200\n",
            "183/183 [==============================] - 27s 147ms/step - loss: 0.8483 - accuracy: 0.6640 - val_loss: 0.7718 - val_accuracy: 0.6949\n",
            "Epoch 13/200\n",
            "183/183 [==============================] - 27s 150ms/step - loss: 0.8185 - accuracy: 0.6761 - val_loss: 0.7414 - val_accuracy: 0.7046\n",
            "Epoch 14/200\n",
            "183/183 [==============================] - 27s 148ms/step - loss: 0.7937 - accuracy: 0.6880 - val_loss: 0.6877 - val_accuracy: 0.7230\n",
            "Epoch 15/200\n",
            "183/183 [==============================] - 29s 157ms/step - loss: 0.7652 - accuracy: 0.6987 - val_loss: 0.6879 - val_accuracy: 0.7273\n",
            "Epoch 16/200\n",
            "183/183 [==============================] - 27s 148ms/step - loss: 0.7514 - accuracy: 0.7018 - val_loss: 0.6694 - val_accuracy: 0.7313\n",
            "Epoch 17/200\n",
            "183/183 [==============================] - 27s 148ms/step - loss: 0.7256 - accuracy: 0.7147 - val_loss: 0.6372 - val_accuracy: 0.7466\n",
            "Epoch 18/200\n",
            "183/183 [==============================] - 27s 149ms/step - loss: 0.7055 - accuracy: 0.7223 - val_loss: 0.6471 - val_accuracy: 0.7422\n",
            "Epoch 19/200\n",
            "183/183 [==============================] - 27s 148ms/step - loss: 0.6855 - accuracy: 0.7312 - val_loss: 0.6347 - val_accuracy: 0.7522\n",
            "Epoch 20/200\n",
            "183/183 [==============================] - 27s 148ms/step - loss: 0.6732 - accuracy: 0.7373 - val_loss: 0.6118 - val_accuracy: 0.7573\n",
            "Epoch 21/200\n",
            "183/183 [==============================] - 28s 155ms/step - loss: 0.6628 - accuracy: 0.7416 - val_loss: 0.6274 - val_accuracy: 0.7515\n",
            "Epoch 22/200\n",
            "183/183 [==============================] - 27s 147ms/step - loss: 0.6419 - accuracy: 0.7483 - val_loss: 0.6243 - val_accuracy: 0.7560\n",
            "Epoch 23/200\n",
            "183/183 [==============================] - 27s 146ms/step - loss: 0.6315 - accuracy: 0.7537 - val_loss: 0.5793 - val_accuracy: 0.7734\n",
            "Epoch 24/200\n",
            "183/183 [==============================] - 27s 147ms/step - loss: 0.6126 - accuracy: 0.7609 - val_loss: 0.5799 - val_accuracy: 0.7729\n",
            "Epoch 25/200\n",
            "183/183 [==============================] - 27s 147ms/step - loss: 0.6022 - accuracy: 0.7658 - val_loss: 0.5881 - val_accuracy: 0.7730\n",
            "Epoch 26/200\n",
            "183/183 [==============================] - 29s 156ms/step - loss: 0.5984 - accuracy: 0.7669 - val_loss: 0.5597 - val_accuracy: 0.7842\n",
            "Epoch 27/200\n",
            "183/183 [==============================] - 27s 146ms/step - loss: 0.5782 - accuracy: 0.7736 - val_loss: 0.5930 - val_accuracy: 0.7738\n",
            "Epoch 28/200\n",
            "183/183 [==============================] - 27s 146ms/step - loss: 0.5744 - accuracy: 0.7760 - val_loss: 0.5904 - val_accuracy: 0.7684\n",
            "Epoch 29/200\n",
            "183/183 [==============================] - 27s 145ms/step - loss: 0.5677 - accuracy: 0.7796 - val_loss: 0.5719 - val_accuracy: 0.7816\n",
            "Epoch 30/200\n",
            "183/183 [==============================] - 27s 146ms/step - loss: 0.5624 - accuracy: 0.7824 - val_loss: 0.5728 - val_accuracy: 0.7832\n",
            "Epoch 31/200\n",
            "183/183 [==============================] - 27s 146ms/step - loss: 0.5403 - accuracy: 0.7887 - val_loss: 0.5536 - val_accuracy: 0.7897\n",
            "Epoch 32/200\n",
            "183/183 [==============================] - 28s 155ms/step - loss: 0.5324 - accuracy: 0.7933 - val_loss: 0.5377 - val_accuracy: 0.7977\n",
            "Epoch 33/200\n",
            "183/183 [==============================] - 27s 146ms/step - loss: 0.5315 - accuracy: 0.7934 - val_loss: 0.5389 - val_accuracy: 0.7988\n",
            "Epoch 34/200\n",
            "183/183 [==============================] - 27s 147ms/step - loss: 0.5214 - accuracy: 0.7969 - val_loss: 0.5368 - val_accuracy: 0.8004\n",
            "Epoch 35/200\n",
            "183/183 [==============================] - 27s 146ms/step - loss: 0.5149 - accuracy: 0.8008 - val_loss: 0.5418 - val_accuracy: 0.7990\n",
            "Epoch 36/200\n",
            "183/183 [==============================] - 27s 146ms/step - loss: 0.5068 - accuracy: 0.8036 - val_loss: 0.5401 - val_accuracy: 0.8030\n",
            "Epoch 37/200\n",
            "183/183 [==============================] - 29s 156ms/step - loss: 0.5060 - accuracy: 0.8075 - val_loss: 0.5360 - val_accuracy: 0.8006\n",
            "Epoch 38/200\n",
            "183/183 [==============================] - 27s 148ms/step - loss: 0.4914 - accuracy: 0.8116 - val_loss: 0.5220 - val_accuracy: 0.8082\n",
            "Epoch 39/200\n",
            "183/183 [==============================] - 27s 147ms/step - loss: 0.4871 - accuracy: 0.8151 - val_loss: 0.5376 - val_accuracy: 0.8069\n",
            "Epoch 40/200\n",
            "183/183 [==============================] - 27s 146ms/step - loss: 0.4899 - accuracy: 0.8138 - val_loss: 0.5124 - val_accuracy: 0.8099\n",
            "Epoch 41/200\n",
            "183/183 [==============================] - 27s 147ms/step - loss: 0.4740 - accuracy: 0.8192 - val_loss: 0.5336 - val_accuracy: 0.8071\n",
            "Epoch 42/200\n",
            "183/183 [==============================] - 27s 146ms/step - loss: 0.4699 - accuracy: 0.8219 - val_loss: 0.5300 - val_accuracy: 0.8104\n",
            "Epoch 43/200\n",
            "183/183 [==============================] - 28s 155ms/step - loss: 0.4668 - accuracy: 0.8219 - val_loss: 0.5230 - val_accuracy: 0.8110\n",
            "Epoch 44/200\n",
            "183/183 [==============================] - 27s 146ms/step - loss: 0.4645 - accuracy: 0.8237 - val_loss: 0.5255 - val_accuracy: 0.8122\n",
            "Epoch 45/200\n",
            "183/183 [==============================] - 27s 146ms/step - loss: 0.4609 - accuracy: 0.8258 - val_loss: 0.5157 - val_accuracy: 0.8162\n",
            "Epoch 46/200\n",
            "183/183 [==============================] - 27s 146ms/step - loss: 0.4568 - accuracy: 0.8273 - val_loss: 0.5138 - val_accuracy: 0.8144\n",
            "Epoch 47/200\n",
            "183/183 [==============================] - 27s 147ms/step - loss: 0.4457 - accuracy: 0.8295 - val_loss: 0.4958 - val_accuracy: 0.8251\n",
            "Epoch 48/200\n",
            "183/183 [==============================] - 29s 156ms/step - loss: 0.4506 - accuracy: 0.8293 - val_loss: 0.4962 - val_accuracy: 0.8274\n",
            "Epoch 49/200\n",
            "183/183 [==============================] - 27s 148ms/step - loss: 0.4346 - accuracy: 0.8353 - val_loss: 0.4847 - val_accuracy: 0.8268\n",
            "Epoch 50/200\n",
            "183/183 [==============================] - 27s 148ms/step - loss: 0.4229 - accuracy: 0.8409 - val_loss: 0.4927 - val_accuracy: 0.8259\n",
            "Epoch 51/200\n",
            "183/183 [==============================] - 27s 146ms/step - loss: 0.4270 - accuracy: 0.8390 - val_loss: 0.4993 - val_accuracy: 0.8276\n",
            "Epoch 52/200\n",
            "183/183 [==============================] - 27s 147ms/step - loss: 0.4277 - accuracy: 0.8391 - val_loss: 0.4866 - val_accuracy: 0.8308\n",
            "Epoch 53/200\n",
            "183/183 [==============================] - 27s 147ms/step - loss: 0.4213 - accuracy: 0.8408 - val_loss: 0.5003 - val_accuracy: 0.8295\n",
            "Epoch 54/200\n",
            "183/183 [==============================] - 28s 156ms/step - loss: 0.4211 - accuracy: 0.8419 - val_loss: 0.4919 - val_accuracy: 0.8317\n",
            "Epoch 55/200\n",
            "183/183 [==============================] - 27s 148ms/step - loss: 0.4056 - accuracy: 0.8468 - val_loss: 0.4685 - val_accuracy: 0.8391\n",
            "Epoch 56/200\n",
            "183/183 [==============================] - 28s 151ms/step - loss: 0.4051 - accuracy: 0.8475 - val_loss: 0.4619 - val_accuracy: 0.8382\n",
            "Epoch 57/200\n",
            "183/183 [==============================] - 28s 152ms/step - loss: 0.4017 - accuracy: 0.8492 - val_loss: 0.4630 - val_accuracy: 0.8403\n",
            "Epoch 58/200\n",
            "183/183 [==============================] - 28s 152ms/step - loss: 0.4011 - accuracy: 0.8489 - val_loss: 0.4815 - val_accuracy: 0.8345\n",
            "Epoch 59/200\n",
            "183/183 [==============================] - 29s 159ms/step - loss: 0.3961 - accuracy: 0.8514 - val_loss: 0.4652 - val_accuracy: 0.8397\n",
            "Epoch 60/200\n",
            "183/183 [==============================] - 27s 149ms/step - loss: 0.3982 - accuracy: 0.8515 - val_loss: 0.4654 - val_accuracy: 0.8382\n",
            "Epoch 61/200\n",
            "183/183 [==============================] - 27s 150ms/step - loss: 0.3988 - accuracy: 0.8526 - val_loss: 0.4633 - val_accuracy: 0.8413\n",
            "Epoch 62/200\n",
            "183/183 [==============================] - 27s 150ms/step - loss: 0.3894 - accuracy: 0.8533 - val_loss: 0.4703 - val_accuracy: 0.8418\n",
            "Epoch 63/200\n",
            "183/183 [==============================] - 27s 149ms/step - loss: 0.3834 - accuracy: 0.8577 - val_loss: 0.4790 - val_accuracy: 0.8391\n",
            "Epoch 64/200\n",
            "183/183 [==============================] - 29s 159ms/step - loss: 0.3788 - accuracy: 0.8609 - val_loss: 0.4556 - val_accuracy: 0.8450\n",
            "Epoch 65/200\n",
            "183/183 [==============================] - 28s 151ms/step - loss: 0.3836 - accuracy: 0.8583 - val_loss: 0.4537 - val_accuracy: 0.8476\n",
            "Epoch 66/200\n",
            "183/183 [==============================] - 28s 153ms/step - loss: 0.3797 - accuracy: 0.8592 - val_loss: 0.4693 - val_accuracy: 0.8426\n",
            "Epoch 67/200\n",
            "183/183 [==============================] - 27s 150ms/step - loss: 0.3764 - accuracy: 0.8608 - val_loss: 0.4519 - val_accuracy: 0.8484\n",
            "Epoch 68/200\n",
            "183/183 [==============================] - 27s 150ms/step - loss: 0.3725 - accuracy: 0.8628 - val_loss: 0.4591 - val_accuracy: 0.8451\n",
            "Epoch 69/200\n",
            "183/183 [==============================] - 27s 150ms/step - loss: 0.3710 - accuracy: 0.8640 - val_loss: 0.4773 - val_accuracy: 0.8430\n",
            "Epoch 70/200\n",
            "183/183 [==============================] - 29s 161ms/step - loss: 0.3616 - accuracy: 0.8659 - val_loss: 0.4903 - val_accuracy: 0.8362\n",
            "Epoch 71/200\n",
            "183/183 [==============================] - 28s 151ms/step - loss: 0.3663 - accuracy: 0.8655 - val_loss: 0.4556 - val_accuracy: 0.8467\n",
            "Epoch 72/200\n",
            "183/183 [==============================] - 27s 147ms/step - loss: 0.3675 - accuracy: 0.8658 - val_loss: 0.4737 - val_accuracy: 0.8419\n",
            "Epoch 73/200\n",
            "183/183 [==============================] - 27s 148ms/step - loss: 0.3542 - accuracy: 0.8705 - val_loss: 0.4668 - val_accuracy: 0.8489\n",
            "Epoch 74/200\n",
            "183/183 [==============================] - 27s 149ms/step - loss: 0.3609 - accuracy: 0.8671 - val_loss: 0.4873 - val_accuracy: 0.8383\n",
            "Epoch 75/200\n",
            "183/183 [==============================] - 29s 159ms/step - loss: 0.3584 - accuracy: 0.8698 - val_loss: 0.4558 - val_accuracy: 0.8547\n",
            "Epoch 76/200\n",
            "183/183 [==============================] - 27s 149ms/step - loss: 0.3428 - accuracy: 0.8756 - val_loss: 0.4535 - val_accuracy: 0.8530\n",
            "Epoch 77/200\n",
            "183/183 [==============================] - 28s 151ms/step - loss: 0.3508 - accuracy: 0.8717 - val_loss: 0.4479 - val_accuracy: 0.8543\n",
            "Epoch 78/200\n",
            "183/183 [==============================] - 27s 149ms/step - loss: 0.3482 - accuracy: 0.8731 - val_loss: 0.4631 - val_accuracy: 0.8517\n",
            "Epoch 79/200\n",
            "183/183 [==============================] - 27s 149ms/step - loss: 0.3489 - accuracy: 0.8729 - val_loss: 0.4601 - val_accuracy: 0.8520\n",
            "Epoch 80/200\n",
            "183/183 [==============================] - 29s 158ms/step - loss: 0.3407 - accuracy: 0.8759 - val_loss: 0.4661 - val_accuracy: 0.8460\n",
            "Epoch 81/200\n",
            "183/183 [==============================] - 27s 149ms/step - loss: 0.3409 - accuracy: 0.8765 - val_loss: 0.4436 - val_accuracy: 0.8595\n",
            "Epoch 82/200\n",
            "183/183 [==============================] - 27s 150ms/step - loss: 0.3367 - accuracy: 0.8769 - val_loss: 0.4372 - val_accuracy: 0.8572\n",
            "Epoch 83/200\n",
            "183/183 [==============================] - 27s 150ms/step - loss: 0.3414 - accuracy: 0.8759 - val_loss: 0.4568 - val_accuracy: 0.8566\n",
            "Epoch 84/200\n",
            "183/183 [==============================] - 27s 149ms/step - loss: 0.3375 - accuracy: 0.8757 - val_loss: 0.4491 - val_accuracy: 0.8595\n",
            "Epoch 85/200\n",
            "183/183 [==============================] - 27s 148ms/step - loss: 0.3224 - accuracy: 0.8840 - val_loss: 0.4605 - val_accuracy: 0.8513\n",
            "Epoch 86/200\n",
            "183/183 [==============================] - 29s 158ms/step - loss: 0.3352 - accuracy: 0.8777 - val_loss: 0.4622 - val_accuracy: 0.8543\n",
            "Epoch 87/200\n",
            "183/183 [==============================] - 27s 148ms/step - loss: 0.3320 - accuracy: 0.8789 - val_loss: 0.4392 - val_accuracy: 0.8575\n",
            "Epoch 88/200\n",
            "183/183 [==============================] - 27s 149ms/step - loss: 0.3194 - accuracy: 0.8838 - val_loss: 0.4568 - val_accuracy: 0.8560\n",
            "Epoch 89/200\n",
            "183/183 [==============================] - 27s 148ms/step - loss: 0.3204 - accuracy: 0.8835 - val_loss: 0.4646 - val_accuracy: 0.8508\n",
            "Epoch 90/200\n",
            "183/183 [==============================] - 27s 148ms/step - loss: 0.3202 - accuracy: 0.8841 - val_loss: 0.4277 - val_accuracy: 0.8629\n",
            "Epoch 91/200\n",
            "183/183 [==============================] - 29s 157ms/step - loss: 0.3198 - accuracy: 0.8843 - val_loss: 0.4625 - val_accuracy: 0.8551\n",
            "Epoch 92/200\n",
            "183/183 [==============================] - 27s 148ms/step - loss: 0.3162 - accuracy: 0.8853 - val_loss: 0.4799 - val_accuracy: 0.8562\n",
            "Epoch 93/200\n",
            "183/183 [==============================] - 27s 149ms/step - loss: 0.3263 - accuracy: 0.8822 - val_loss: 0.4588 - val_accuracy: 0.8564\n",
            "Epoch 94/200\n",
            "183/183 [==============================] - 27s 148ms/step - loss: 0.3115 - accuracy: 0.8870 - val_loss: 0.4446 - val_accuracy: 0.8666\n",
            "Epoch 95/200\n",
            "183/183 [==============================] - 27s 148ms/step - loss: 0.3152 - accuracy: 0.8870 - val_loss: 0.4568 - val_accuracy: 0.8628\n",
            "Epoch 96/200\n",
            "183/183 [==============================] - 29s 157ms/step - loss: 0.3226 - accuracy: 0.8847 - val_loss: 0.4416 - val_accuracy: 0.8600\n",
            "Epoch 97/200\n",
            "183/183 [==============================] - 27s 148ms/step - loss: 0.3066 - accuracy: 0.8905 - val_loss: 0.4248 - val_accuracy: 0.8714\n",
            "Epoch 98/200\n",
            "183/183 [==============================] - 27s 149ms/step - loss: 0.3112 - accuracy: 0.8880 - val_loss: 0.4197 - val_accuracy: 0.8674\n",
            "Epoch 99/200\n",
            "183/183 [==============================] - 27s 148ms/step - loss: 0.3082 - accuracy: 0.8894 - val_loss: 0.4584 - val_accuracy: 0.8587\n",
            "Epoch 100/200\n",
            "183/183 [==============================] - 27s 148ms/step - loss: 0.3165 - accuracy: 0.8870 - val_loss: 0.4349 - val_accuracy: 0.8683\n",
            "Epoch 101/200\n",
            "183/183 [==============================] - 27s 148ms/step - loss: 0.3017 - accuracy: 0.8911 - val_loss: 0.4456 - val_accuracy: 0.8614\n",
            "Epoch 102/200\n",
            "183/183 [==============================] - 29s 157ms/step - loss: 0.3035 - accuracy: 0.8916 - val_loss: 0.4368 - val_accuracy: 0.8649\n",
            "Epoch 103/200\n",
            "183/183 [==============================] - 27s 147ms/step - loss: 0.2909 - accuracy: 0.8965 - val_loss: 0.4376 - val_accuracy: 0.8736\n",
            "Epoch 104/200\n",
            "183/183 [==============================] - 27s 147ms/step - loss: 0.2918 - accuracy: 0.8960 - val_loss: 0.4420 - val_accuracy: 0.8666\n",
            "Epoch 105/200\n",
            "183/183 [==============================] - 27s 148ms/step - loss: 0.3037 - accuracy: 0.8931 - val_loss: 0.4707 - val_accuracy: 0.8601\n",
            "Epoch 106/200\n",
            "183/183 [==============================] - 27s 148ms/step - loss: 0.3072 - accuracy: 0.8931 - val_loss: 0.4414 - val_accuracy: 0.8642\n",
            "Epoch 107/200\n",
            "183/183 [==============================] - 29s 156ms/step - loss: 0.2923 - accuracy: 0.8952 - val_loss: 0.4458 - val_accuracy: 0.8684\n",
            "Epoch 108/200\n",
            "183/183 [==============================] - 27s 147ms/step - loss: 0.2935 - accuracy: 0.8951 - val_loss: 0.4390 - val_accuracy: 0.8652\n",
            "Epoch 109/200\n",
            "183/183 [==============================] - 27s 148ms/step - loss: 0.3001 - accuracy: 0.8936 - val_loss: 0.4401 - val_accuracy: 0.8605\n",
            "Epoch 110/200\n",
            "183/183 [==============================] - 27s 148ms/step - loss: 0.2961 - accuracy: 0.8954 - val_loss: 0.4435 - val_accuracy: 0.8614\n",
            "Epoch 111/200\n",
            "183/183 [==============================] - 27s 149ms/step - loss: 0.2937 - accuracy: 0.8944 - val_loss: 0.4628 - val_accuracy: 0.8609\n",
            "Epoch 112/200\n",
            "183/183 [==============================] - 29s 156ms/step - loss: 0.2935 - accuracy: 0.8958 - val_loss: 0.4420 - val_accuracy: 0.8631\n",
            "Epoch 113/200\n",
            "183/183 [==============================] - 28s 152ms/step - loss: 0.2934 - accuracy: 0.8951 - val_loss: 0.4654 - val_accuracy: 0.8657\n",
            "Epoch 114/200\n",
            "183/183 [==============================] - 27s 148ms/step - loss: 0.2871 - accuracy: 0.8981 - val_loss: 0.4363 - val_accuracy: 0.8693\n",
            "Epoch 115/200\n",
            "183/183 [==============================] - 27s 149ms/step - loss: 0.2897 - accuracy: 0.8965 - val_loss: 0.4428 - val_accuracy: 0.8659\n",
            "Epoch 116/200\n",
            "183/183 [==============================] - 27s 149ms/step - loss: 0.2788 - accuracy: 0.9023 - val_loss: 0.4368 - val_accuracy: 0.8691\n",
            "Epoch 117/200\n",
            "183/183 [==============================] - 27s 148ms/step - loss: 0.2926 - accuracy: 0.8969 - val_loss: 0.4331 - val_accuracy: 0.8727\n",
            "Epoch 118/200\n",
            "183/183 [==============================] - 29s 158ms/step - loss: 0.2876 - accuracy: 0.8978 - val_loss: 0.4273 - val_accuracy: 0.8692\n",
            "Epoch 119/200\n",
            "183/183 [==============================] - 27s 149ms/step - loss: 0.2798 - accuracy: 0.9014 - val_loss: 0.4661 - val_accuracy: 0.8659\n",
            "Epoch 120/200\n",
            "183/183 [==============================] - 27s 149ms/step - loss: 0.2884 - accuracy: 0.8990 - val_loss: 0.4394 - val_accuracy: 0.8695\n",
            "Epoch 121/200\n",
            "183/183 [==============================] - 27s 148ms/step - loss: 0.2858 - accuracy: 0.9004 - val_loss: 0.4156 - val_accuracy: 0.8736\n",
            "Epoch 122/200\n",
            "183/183 [==============================] - 27s 149ms/step - loss: 0.2717 - accuracy: 0.9030 - val_loss: 0.4403 - val_accuracy: 0.8720\n",
            "Epoch 123/200\n",
            "183/183 [==============================] - 29s 157ms/step - loss: 0.2782 - accuracy: 0.9029 - val_loss: 0.4465 - val_accuracy: 0.8683\n",
            "Epoch 124/200\n",
            "183/183 [==============================] - 27s 149ms/step - loss: 0.2687 - accuracy: 0.9062 - val_loss: 0.4397 - val_accuracy: 0.8721\n",
            "Epoch 125/200\n",
            "183/183 [==============================] - 27s 150ms/step - loss: 0.2697 - accuracy: 0.9037 - val_loss: 0.4377 - val_accuracy: 0.8753\n",
            "Epoch 126/200\n",
            "183/183 [==============================] - 27s 148ms/step - loss: 0.2745 - accuracy: 0.9043 - val_loss: 0.4608 - val_accuracy: 0.8649\n",
            "Epoch 127/200\n",
            "183/183 [==============================] - 27s 148ms/step - loss: 0.2847 - accuracy: 0.9005 - val_loss: 0.4390 - val_accuracy: 0.8729\n",
            "Epoch 128/200\n",
            "183/183 [==============================] - 27s 149ms/step - loss: 0.2676 - accuracy: 0.9051 - val_loss: 0.4444 - val_accuracy: 0.8756\n",
            "Epoch 129/200\n",
            "183/183 [==============================] - 29s 157ms/step - loss: 0.2747 - accuracy: 0.9021 - val_loss: 0.4158 - val_accuracy: 0.8742\n",
            "Epoch 130/200\n",
            "183/183 [==============================] - 27s 148ms/step - loss: 0.2701 - accuracy: 0.9055 - val_loss: 0.4625 - val_accuracy: 0.8682\n",
            "Epoch 131/200\n",
            "183/183 [==============================] - 27s 148ms/step - loss: 0.2721 - accuracy: 0.9054 - val_loss: 0.4494 - val_accuracy: 0.8665\n",
            "Epoch 132/200\n",
            "183/183 [==============================] - 27s 148ms/step - loss: 0.2667 - accuracy: 0.9068 - val_loss: 0.4357 - val_accuracy: 0.8739\n",
            "Epoch 133/200\n",
            "183/183 [==============================] - 27s 149ms/step - loss: 0.2758 - accuracy: 0.9033 - val_loss: 0.4356 - val_accuracy: 0.8747\n",
            "Epoch 134/200\n",
            "183/183 [==============================] - 29s 158ms/step - loss: 0.2567 - accuracy: 0.9092 - val_loss: 0.4477 - val_accuracy: 0.8758\n",
            "Epoch 135/200\n",
            "183/183 [==============================] - 27s 149ms/step - loss: 0.2593 - accuracy: 0.9083 - val_loss: 0.4453 - val_accuracy: 0.8776\n",
            "Epoch 136/200\n",
            "183/183 [==============================] - 27s 148ms/step - loss: 0.2555 - accuracy: 0.9111 - val_loss: 0.4360 - val_accuracy: 0.8778\n",
            "Epoch 137/200\n",
            "183/183 [==============================] - 27s 149ms/step - loss: 0.2727 - accuracy: 0.9062 - val_loss: 0.4373 - val_accuracy: 0.8732\n",
            "Epoch 138/200\n",
            "183/183 [==============================] - 27s 149ms/step - loss: 0.2635 - accuracy: 0.9078 - val_loss: 0.4245 - val_accuracy: 0.8771\n",
            "Epoch 139/200\n",
            "183/183 [==============================] - 28s 155ms/step - loss: 0.2553 - accuracy: 0.9094 - val_loss: 0.4355 - val_accuracy: 0.8805\n",
            "Epoch 140/200\n",
            "183/183 [==============================] - 28s 150ms/step - loss: 0.2577 - accuracy: 0.9091 - val_loss: 0.4523 - val_accuracy: 0.8695\n",
            "Epoch 141/200\n",
            "183/183 [==============================] - 27s 149ms/step - loss: 0.2564 - accuracy: 0.9101 - val_loss: 0.4457 - val_accuracy: 0.8765\n",
            "Epoch 142/200\n",
            "183/183 [==============================] - 27s 149ms/step - loss: 0.2649 - accuracy: 0.9079 - val_loss: 0.4154 - val_accuracy: 0.8815\n",
            "Epoch 143/200\n",
            "183/183 [==============================] - 27s 148ms/step - loss: 0.2582 - accuracy: 0.9104 - val_loss: 0.4263 - val_accuracy: 0.8811\n",
            "Epoch 144/200\n",
            "183/183 [==============================] - 27s 148ms/step - loss: 0.2505 - accuracy: 0.9131 - val_loss: 0.4281 - val_accuracy: 0.8787\n",
            "Epoch 145/200\n",
            "183/183 [==============================] - 29s 158ms/step - loss: 0.2571 - accuracy: 0.9115 - val_loss: 0.4536 - val_accuracy: 0.8755\n",
            "Epoch 146/200\n",
            "183/183 [==============================] - 27s 149ms/step - loss: 0.2585 - accuracy: 0.9117 - val_loss: 0.4483 - val_accuracy: 0.8770\n",
            "Epoch 147/200\n",
            "183/183 [==============================] - 27s 148ms/step - loss: 0.2502 - accuracy: 0.9126 - val_loss: 0.4372 - val_accuracy: 0.8794\n",
            "Epoch 148/200\n",
            "183/183 [==============================] - 27s 149ms/step - loss: 0.2507 - accuracy: 0.9132 - val_loss: 0.4492 - val_accuracy: 0.8783\n",
            "Epoch 149/200\n",
            "183/183 [==============================] - 27s 149ms/step - loss: 0.2567 - accuracy: 0.9131 - val_loss: 0.4326 - val_accuracy: 0.8790\n",
            "Epoch 150/200\n",
            "183/183 [==============================] - 29s 158ms/step - loss: 0.2506 - accuracy: 0.9136 - val_loss: 0.4513 - val_accuracy: 0.8780\n",
            "Epoch 151/200\n",
            "183/183 [==============================] - 27s 149ms/step - loss: 0.2537 - accuracy: 0.9119 - val_loss: 0.4303 - val_accuracy: 0.8837\n",
            "Epoch 152/200\n",
            "183/183 [==============================] - 27s 149ms/step - loss: 0.2479 - accuracy: 0.9147 - val_loss: 0.4409 - val_accuracy: 0.8759\n",
            "Epoch 153/200\n",
            "183/183 [==============================] - 27s 149ms/step - loss: 0.2492 - accuracy: 0.9133 - val_loss: 0.4281 - val_accuracy: 0.8877\n",
            "Epoch 154/200\n",
            "183/183 [==============================] - 27s 149ms/step - loss: 0.2420 - accuracy: 0.9182 - val_loss: 0.4616 - val_accuracy: 0.8775\n",
            "Epoch 155/200\n",
            "183/183 [==============================] - 27s 150ms/step - loss: 0.2513 - accuracy: 0.9127 - val_loss: 0.4609 - val_accuracy: 0.8771\n",
            "Epoch 156/200\n",
            "183/183 [==============================] - 29s 158ms/step - loss: 0.2449 - accuracy: 0.9167 - val_loss: 0.4399 - val_accuracy: 0.8798\n",
            "Epoch 157/200\n",
            "183/183 [==============================] - 27s 149ms/step - loss: 0.2410 - accuracy: 0.9172 - val_loss: 0.4657 - val_accuracy: 0.8767\n",
            "Epoch 158/200\n",
            "183/183 [==============================] - 27s 149ms/step - loss: 0.2496 - accuracy: 0.9148 - val_loss: 0.4308 - val_accuracy: 0.8821\n",
            "Epoch 159/200\n",
            "183/183 [==============================] - 27s 150ms/step - loss: 0.2407 - accuracy: 0.9170 - val_loss: 0.4250 - val_accuracy: 0.8838\n",
            "Epoch 160/200\n",
            "183/183 [==============================] - 27s 150ms/step - loss: 0.2364 - accuracy: 0.9201 - val_loss: 0.4445 - val_accuracy: 0.8828\n",
            "Epoch 161/200\n",
            "183/183 [==============================] - 29s 159ms/step - loss: 0.2391 - accuracy: 0.9182 - val_loss: 0.4567 - val_accuracy: 0.8713\n",
            "Epoch 162/200\n",
            "183/183 [==============================] - 27s 149ms/step - loss: 0.2477 - accuracy: 0.9149 - val_loss: 0.4163 - val_accuracy: 0.8858\n",
            "Epoch 163/200\n",
            "183/183 [==============================] - 27s 149ms/step - loss: 0.2379 - accuracy: 0.9196 - val_loss: 0.4703 - val_accuracy: 0.8744\n",
            "Epoch 164/200\n",
            "183/183 [==============================] - 28s 151ms/step - loss: 0.2418 - accuracy: 0.9179 - val_loss: 0.4334 - val_accuracy: 0.8846\n",
            "Epoch 165/200\n",
            "183/183 [==============================] - 27s 150ms/step - loss: 0.2303 - accuracy: 0.9217 - val_loss: 0.4535 - val_accuracy: 0.8804\n",
            "Epoch 166/200\n",
            "183/183 [==============================] - 28s 151ms/step - loss: 0.2349 - accuracy: 0.9210 - val_loss: 0.4523 - val_accuracy: 0.8759\n",
            "Epoch 167/200\n",
            "183/183 [==============================] - 29s 156ms/step - loss: 0.2473 - accuracy: 0.9174 - val_loss: 0.4366 - val_accuracy: 0.8775\n",
            "Epoch 168/200\n",
            "183/183 [==============================] - 28s 151ms/step - loss: 0.2411 - accuracy: 0.9170 - val_loss: 0.4447 - val_accuracy: 0.8769\n",
            "Epoch 169/200\n",
            "183/183 [==============================] - 27s 150ms/step - loss: 0.2290 - accuracy: 0.9217 - val_loss: 0.4613 - val_accuracy: 0.8794\n",
            "Epoch 170/200\n",
            "183/183 [==============================] - 27s 150ms/step - loss: 0.2294 - accuracy: 0.9232 - val_loss: 0.4482 - val_accuracy: 0.8835\n",
            "Epoch 171/200\n",
            "183/183 [==============================] - 28s 151ms/step - loss: 0.2299 - accuracy: 0.9223 - val_loss: 0.4552 - val_accuracy: 0.8846\n",
            "Epoch 172/200\n",
            "183/183 [==============================] - 29s 160ms/step - loss: 0.2361 - accuracy: 0.9196 - val_loss: 0.4399 - val_accuracy: 0.8801\n",
            "Epoch 173/200\n",
            "183/183 [==============================] - 28s 153ms/step - loss: 0.2396 - accuracy: 0.9185 - val_loss: 0.4502 - val_accuracy: 0.8828\n",
            "Epoch 174/200\n",
            "183/183 [==============================] - 28s 153ms/step - loss: 0.2313 - accuracy: 0.9213 - val_loss: 0.4692 - val_accuracy: 0.8818\n",
            "Epoch 175/200\n",
            "183/183 [==============================] - 28s 151ms/step - loss: 0.2323 - accuracy: 0.9219 - val_loss: 0.4270 - val_accuracy: 0.8848\n",
            "Epoch 176/200\n",
            "183/183 [==============================] - 28s 151ms/step - loss: 0.2283 - accuracy: 0.9239 - val_loss: 0.4404 - val_accuracy: 0.8832\n",
            "Epoch 177/200\n",
            "183/183 [==============================] - 29s 160ms/step - loss: 0.2276 - accuracy: 0.9236 - val_loss: 0.4451 - val_accuracy: 0.8821\n",
            "Epoch 178/200\n",
            "183/183 [==============================] - 28s 152ms/step - loss: 0.2297 - accuracy: 0.9228 - val_loss: 0.4384 - val_accuracy: 0.8794\n",
            "Epoch 179/200\n",
            "183/183 [==============================] - 28s 152ms/step - loss: 0.2237 - accuracy: 0.9255 - val_loss: 0.4425 - val_accuracy: 0.8825\n",
            "Epoch 180/200\n",
            "183/183 [==============================] - 28s 151ms/step - loss: 0.2259 - accuracy: 0.9246 - val_loss: 0.4294 - val_accuracy: 0.8853\n",
            "Epoch 181/200\n",
            "183/183 [==============================] - 28s 151ms/step - loss: 0.2196 - accuracy: 0.9261 - val_loss: 0.4501 - val_accuracy: 0.8837\n",
            "Epoch 182/200\n",
            "183/183 [==============================] - 29s 161ms/step - loss: 0.2238 - accuracy: 0.9248 - val_loss: 0.4758 - val_accuracy: 0.8817\n",
            "Epoch 183/200\n",
            "183/183 [==============================] - 28s 151ms/step - loss: 0.2162 - accuracy: 0.9259 - val_loss: 0.4500 - val_accuracy: 0.8836\n",
            "Epoch 184/200\n",
            "183/183 [==============================] - 28s 151ms/step - loss: 0.2171 - accuracy: 0.9275 - val_loss: 0.4594 - val_accuracy: 0.8797\n",
            "Epoch 185/200\n",
            "183/183 [==============================] - 28s 152ms/step - loss: 0.2223 - accuracy: 0.9257 - val_loss: 0.4546 - val_accuracy: 0.8818\n",
            "Epoch 186/200\n",
            "183/183 [==============================] - 28s 152ms/step - loss: 0.2256 - accuracy: 0.9248 - val_loss: 0.4421 - val_accuracy: 0.8881\n",
            "Epoch 187/200\n",
            "183/183 [==============================] - 28s 152ms/step - loss: 0.2255 - accuracy: 0.9247 - val_loss: 0.4512 - val_accuracy: 0.8835\n",
            "Epoch 188/200\n",
            "183/183 [==============================] - 30s 162ms/step - loss: 0.2168 - accuracy: 0.9262 - val_loss: 0.4417 - val_accuracy: 0.8803\n",
            "Epoch 189/200\n",
            "183/183 [==============================] - 28s 153ms/step - loss: 0.2286 - accuracy: 0.9231 - val_loss: 0.4533 - val_accuracy: 0.8815\n",
            "Epoch 190/200\n",
            "183/183 [==============================] - 28s 151ms/step - loss: 0.2221 - accuracy: 0.9258 - val_loss: 0.4193 - val_accuracy: 0.8894\n",
            "Epoch 191/200\n",
            "183/183 [==============================] - 28s 152ms/step - loss: 0.2136 - accuracy: 0.9287 - val_loss: 0.4493 - val_accuracy: 0.8847\n",
            "Epoch 192/200\n",
            "183/183 [==============================] - 28s 152ms/step - loss: 0.2127 - accuracy: 0.9281 - val_loss: 0.4663 - val_accuracy: 0.8806\n",
            "Epoch 193/200\n",
            "183/183 [==============================] - 29s 161ms/step - loss: 0.2207 - accuracy: 0.9265 - val_loss: 0.4452 - val_accuracy: 0.8815\n",
            "Epoch 194/200\n",
            "183/183 [==============================] - 28s 152ms/step - loss: 0.2167 - accuracy: 0.9272 - val_loss: 0.4414 - val_accuracy: 0.8868\n",
            "Epoch 195/200\n",
            "183/183 [==============================] - 28s 152ms/step - loss: 0.2140 - accuracy: 0.9289 - val_loss: 0.4481 - val_accuracy: 0.8878\n",
            "Epoch 196/200\n",
            "183/183 [==============================] - 28s 151ms/step - loss: 0.2173 - accuracy: 0.9278 - val_loss: 0.4514 - val_accuracy: 0.8824\n",
            "Epoch 197/200\n",
            "183/183 [==============================] - 28s 151ms/step - loss: 0.2237 - accuracy: 0.9266 - val_loss: 0.4422 - val_accuracy: 0.8880\n",
            "Epoch 198/200\n",
            "183/183 [==============================] - 29s 161ms/step - loss: 0.2138 - accuracy: 0.9286 - val_loss: 0.4395 - val_accuracy: 0.8866\n",
            "Epoch 199/200\n",
            "183/183 [==============================] - 28s 152ms/step - loss: 0.2093 - accuracy: 0.9297 - val_loss: 0.4521 - val_accuracy: 0.8827\n",
            "Epoch 200/200\n",
            "183/183 [==============================] - 28s 153ms/step - loss: 0.2177 - accuracy: 0.9270 - val_loss: 0.4271 - val_accuracy: 0.8927\n"
          ]
        }
      ],
      "source": [
        "history=model.fit(x_train, y_train,\n",
        "          batch_size=batch_size,\n",
        "          epochs=epochs,  \n",
        "          verbose=1,validation_data=(x_test,y_test))"
      ]
    },
    {
      "cell_type": "code",
      "execution_count": 43,
      "metadata": {
        "colab": {
          "base_uri": "https://localhost:8080/"
        },
        "id": "b_eZO6bTFLLX",
        "outputId": "7bca2402-ad95-4716-9e0d-99cec6960e41"
      },
      "outputs": [
        {
          "output_type": "stream",
          "name": "stdout",
          "text": [
            "[[7.71 7.6  6.9  7.83]\n",
            " [7.71 7.6  6.9  7.83]\n",
            " [7.71 7.6  6.9  7.83]\n",
            " ...\n",
            " [5.38 4.33 5.67 5.29]\n",
            " [5.38 4.33 5.67 5.29]\n",
            " [5.38 4.33 5.67 5.29]]\n"
          ]
        }
      ],
      "source": [
        "print(Y)"
      ]
    },
    {
      "cell_type": "code",
      "execution_count": 27,
      "metadata": {
        "colab": {
          "base_uri": "https://localhost:8080/"
        },
        "id": "JY7d6VDZCjaO",
        "outputId": "a2fa36cb-f463-4e2c-c06b-ea1f66339af6"
      },
      "outputs": [
        {
          "output_type": "stream",
          "name": "stdout",
          "text": [
            "366/366 [==============================] - 3s 6ms/step - loss: 0.4271 - accuracy: 0.8927\n",
            "Test loss: 0.4270520508289337\n",
            "Test accuracy: 0.8926742076873779\n"
          ]
        }
      ],
      "source": [
        "score = model.evaluate(x_test, y_test, verbose=1)\n",
        "print('Test loss:', score[0])\n",
        "print('Test accuracy:', score[1])"
      ]
    },
    {
      "cell_type": "code",
      "execution_count": 28,
      "metadata": {
        "colab": {
          "base_uri": "https://localhost:8080/"
        },
        "id": "LV_xGFKhDt67",
        "outputId": "0bcbb8b8-0a0c-4b7d-c167-c7800d48bae3"
      },
      "outputs": [
        {
          "output_type": "stream",
          "name": "stdout",
          "text": [
            "dict_keys(['loss', 'accuracy', 'val_loss', 'val_accuracy'])\n"
          ]
        }
      ],
      "source": [
        "# list all data in history\n",
        "print(history.history.keys())\n",
        "import matplotlib.pyplot as plt\n",
        "import numpy\n"
      ]
    },
    {
      "cell_type": "code",
      "execution_count": 29,
      "metadata": {
        "colab": {
          "base_uri": "https://localhost:8080/",
          "height": 295
        },
        "id": "dDQGSy8xFoob",
        "outputId": "30d9a36b-ccf2-4aaf-d345-605f28c1425c"
      },
      "outputs": [
        {
          "output_type": "display_data",
          "data": {
            "text/plain": [
              "<Figure size 432x288 with 1 Axes>"
            ],
            "image/png": "[encoded data removed]"
          },
          "metadata": {
            "needs_background": "light"
          }
        }
      ],
      "source": [
        "# summarize history for accuracy\n",
        "plt.plot(history.history['accuracy'])\n",
        "plt.plot(history.history['val_accuracy'])\n",
        "plt.title('model accuracy')\n",
        "plt.ylabel('accuracy')\n",
        "plt.xlabel('epoch')\n",
        "plt.legend(['train', 'test'], loc='upper left')\n",
        "plt.show()"
      ]
    },
    {
      "cell_type": "code",
      "execution_count": 30,
      "metadata": {
        "colab": {
          "base_uri": "https://localhost:8080/",
          "height": 295
        },
        "id": "Fgg6gD0BFnZS",
        "outputId": "65abc7a1-98fb-44b8-d576-d95babfa2f9a"
      },
      "outputs": [
        {
          "output_type": "display_data",
          "data": {
            "text/plain": [
              "<Figure size 432x288 with 1 Axes>"
            ],
            "image/png": "[encoded data removed]"
          },
          "metadata": {
            "needs_background": "light"
          }
        }
      ],
      "source": [
        "# summarize history for loss\n",
        "plt.plot(history.history['loss'])\n",
        "plt.plot(history.history['val_loss'])\n",
        "plt.title('model loss')\n",
        "plt.ylabel('loss')\n",
        "plt.xlabel('epoch')\n",
        "plt.legend(['train', 'test'], loc='upper left')\n",
        "plt.show()"
      ]
    },
    {
      "cell_type": "code",
      "execution_count": 31,
      "metadata": {
        "colab": {
          "base_uri": "https://localhost:8080/",
          "height": 295
        },
        "id": "xZwaY3SeKnJb",
        "outputId": "90c0ef6a-bdf3-485b-af1c-8983a78385a6"
      },
      "outputs": [
        {
          "output_type": "display_data",
          "data": {
            "text/plain": [
              "<Figure size 432x288 with 1 Axes>"
            ],
            "image/png": "[encoded data removed]"
          },
          "metadata": {
            "needs_background": "light"
          }
        }
      ],
      "source": [
        "plt.plot(history.history['val_accuracy'])\n",
        "plt.plot(history.history['val_loss'])\n",
        "plt.title('test model')\n",
        "plt.ylabel('test accuracy')\n",
        "plt.xlabel('test loss')\n",
        "plt.show()"
      ]
    },
    {
      "cell_type": "code",
      "execution_count": 32,
      "metadata": {
        "id": "NGR4wrOdL5DF"
      },
      "outputs": [],
      "source": [
        "y_pred=model.predict(x_test)\n",
        "from sklearn.metrics import confusion_matrix\n",
        "import numpy as np"
      ]
    },
    {
      "cell_type": "code",
      "execution_count": 33,
      "metadata": {
        "colab": {
          "base_uri": "https://localhost:8080/"
        },
        "id": "9y5wCoinVRhi",
        "outputId": "3be95728-6c97-4e77-994e-4500908b65cc"
      },
      "outputs": [
        {
          "output_type": "execute_result",
          "data": {
            "text/plain": [
              "array([0., 0., 0., 0., 0., 0., 0., 1., 0., 0.], dtype=float32)"
            ]
          },
          "metadata": {},
          "execution_count": 33
        }
      ],
      "source": [
        "y_test[1]"
      ]
    },
    {
      "cell_type": "code",
      "execution_count": 34,
      "metadata": {
        "colab": {
          "base_uri": "https://localhost:8080/"
        },
        "id": "2q13VADTXlQ9",
        "outputId": "e4580652-5d46-46a4-8374-7561a4e61803"
      },
      "outputs": [
        {
          "output_type": "execute_result",
          "data": {
            "text/plain": [
              "array([0.0000000e+00, 4.9111378e-07, 0.0000000e+00, 2.5932920e-09,\n",
              "       3.0522060e-14, 2.0257576e-05, 4.5146764e-05, 9.9993360e-01,\n",
              "       4.4999879e-07, 4.9520050e-08], dtype=float32)"
            ]
          },
          "metadata": {},
          "execution_count": 34
        }
      ],
      "source": [
        "y_pred[1]"
      ]
    },
    {
      "cell_type": "code",
      "execution_count": 35,
      "metadata": {
        "id": "ilOzv9RdVOtg"
      },
      "outputs": [],
      "source": [
        "y_test1=np.argmax(y_test, axis=1)"
      ]
    },
    {
      "cell_type": "code",
      "execution_count": 36,
      "metadata": {
        "id": "Pvkh6dE6XzNa"
      },
      "outputs": [],
      "source": [
        "y_pred=np.argmax(y_pred,axis=1)"
      ]
    },
    {
      "cell_type": "code",
      "execution_count": 37,
      "metadata": {
        "colab": {
          "base_uri": "https://localhost:8080/"
        },
        "id": "wLOOyigNaJke",
        "outputId": "c61053e2-4051-4d5b-f860-f0aae04deab6"
      },
      "outputs": [
        {
          "output_type": "execute_result",
          "data": {
            "text/plain": [
              "7"
            ]
          },
          "metadata": {},
          "execution_count": 37
        }
      ],
      "source": [
        "y_test1[1]"
      ]
    },
    {
      "cell_type": "code",
      "execution_count": 38,
      "metadata": {
        "colab": {
          "base_uri": "https://localhost:8080/"
        },
        "id": "0f968lExaSRS",
        "outputId": "2230272f-4077-49cf-e998-dac39721e00f"
      },
      "outputs": [
        {
          "output_type": "execute_result",
          "data": {
            "text/plain": [
              "7"
            ]
          },
          "metadata": {},
          "execution_count": 38
        }
      ],
      "source": [
        "y_pred[1]"
      ]
    },
    {
      "cell_type": "code",
      "execution_count": 39,
      "metadata": {
        "id": "45fHlde5OtWn"
      },
      "outputs": [],
      "source": [
        "cmatrix=confusion_matrix(y_test1, y_pred)"
      ]
    },
    {
      "cell_type": "code",
      "execution_count": 40,
      "metadata": {
        "colab": {
          "base_uri": "https://localhost:8080/",
          "height": 599
        },
        "id": "7p70V5JCRyvZ",
        "outputId": "9a5e6154-c122-4ef5-c41b-5c024e81ee41"
      },
      "outputs": [
        {
          "output_type": "display_data",
          "data": {
            "text/plain": [
              "<Figure size 576x576 with 2 Axes>"
            ],
            "image/png": "[encoded data removed]"
          },
          "metadata": {
            "needs_background": "light"
          }
        }
      ],
      "source": [
        "import seaborn as sns\n",
        "figure = plt.figure(figsize=(8, 8))\n",
        "sns.heatmap(cmatrix, annot=True,cmap=plt.cm.Blues)\n",
        "plt.tight_layout()\n",
        "plt.ylabel('True label')\n",
        "plt.xlabel('Predicted label')\n",
        "plt.show()"
      ]
    }
  ],
  "metadata": {
    "colab": {
      "provenance": [],
      "collapsed_sections": [],
      "include_colab_link": true
    },
    "kernelspec": {
      "display_name": "Python 3",
      "name": "python3"
    },
    "language_info": {
      "name": "python"
    }
  },
  "nbformat": 4,
  "nbformat_minor": 0
}