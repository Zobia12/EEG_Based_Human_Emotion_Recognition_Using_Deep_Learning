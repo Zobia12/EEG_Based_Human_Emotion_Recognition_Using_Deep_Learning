{
  "nbformat": 4,
  "nbformat_minor": 0,
  "metadata": {
    "colab": {
      "provenance": [],
      "collapsed_sections": [],
      "include_colab_link": true
    },
    "kernelspec": {
      "name": "python3",
      "display_name": "Python 3"
    },
    "accelerator": "GPU"
  },
  "cells": [
    {
      "cell_type": "markdown",
      "metadata": {
        "id": "view-in-github",
        "colab_type": "text"
      },
      "source": [
        "<a href=\"https://colab.research.google.com/github/Zobia12/EEG_Based_Human_Emotion_Recognition_Using_Deep_Learning/blob/main/EEG_based_Emotion_Recognition_Using_LSTM_model(with_32_channels).ipynb\" target=\"_parent\"><img src=\"https://colab.research.google.com/assets/colab-badge.svg\" alt=\"Open In Colab\"/></a>"
      ]
    },
    {
      "cell_type": "code",
      "metadata": {
        "id": "tF3gVQEkGZ8u",
        "colab": {
          "base_uri": "https://localhost:8080/"
        },
        "outputId": "fff91eb2-8aad-44bb-e08a-e91ec237cbf8"
      },
      "source": [
        "!pip install git+https://github.com/forrestbao/pyeeg.git\n",
        "import numpy as np\n",
        "import pyeeg as pe\n",
        "import pickle as pickle\n",
        "import pandas as pd\n",
        "import math\n",
        "\n",
        "from sklearn import svm\n",
        "from sklearn.preprocessing import normalize\n",
        "\n",
        "import os\n",
        "import time"
      ],
      "execution_count": null,
      "outputs": [
        {
          "output_type": "stream",
          "name": "stdout",
          "text": [
            "Looking in indexes: https://pypi.org/simple, https://us-python.pkg.dev/colab-wheels/public/simple/\n",
            "Collecting git+https://github.com/forrestbao/pyeeg.git\n",
            "  Cloning https://github.com/forrestbao/pyeeg.git to /tmp/pip-req-build-vow37i04\n",
            "  Running command git clone -q https://github.com/forrestbao/pyeeg.git /tmp/pip-req-build-vow37i04\n",
            "Requirement already satisfied: numpy>=1.9.2 in /usr/local/lib/python3.7/dist-packages (from pyeeg==0.4.4) (1.21.6)\n"
          ]
        }
      ]
    },
    {
      "cell_type": "code",
      "metadata": {
        "id": "lm0k23zuGo65"
      },
      "source": [
        "\n",
        "import pandas as pd\n",
        "import keras.backend as K\n",
        "import numpy as np\n",
        "import pandas as pd\n",
        "from keras.models import Sequential\n",
        "from keras.layers import Dense\n",
        "from keras.models import Sequential\n",
        "from keras.layers.convolutional import Conv1D\n",
        "from keras.layers.convolutional import MaxPooling1D\n",
        "from keras.utils import to_categorical \n",
        "from keras.layers import Flatten\n",
        "from keras.layers import Dense\n",
        "import numpy as np\n",
        "import keras\n",
        "from keras.datasets import mnist\n",
        "from keras.models import Sequential\n",
        "from keras.layers import Dense, Dropout, Flatten, Conv2D, MaxPooling2D\n",
        "from keras import backend as K\n",
        "from keras.models import Model\n",
        "import timeit\n",
        "from keras.models import Sequential\n",
        "from keras.layers.core import Flatten, Dense, Dropout\n",
        "from keras.layers.convolutional import Convolution1D, MaxPooling1D, ZeroPadding1D\n",
        "from tensorflow.keras.optimizers import SGD\n",
        "#import cv2, numpy as np\n",
        "import warnings\n",
        "warnings.filterwarnings('ignore')"
      ],
      "execution_count": null,
      "outputs": []
    },
    {
      "cell_type": "code",
      "metadata": {
        "id": "AgsPdoPjGqZr",
        "colab": {
          "base_uri": "https://localhost:8080/"
        },
        "outputId": "af8b76d9-3c5f-4198-a1ce-21be737ff55d"
      },
      "source": [
        "from google.colab import drive\n",
        "drive.mount('/content/drive/')"
      ],
      "execution_count": null,
      "outputs": [
        {
          "output_type": "stream",
          "name": "stdout",
          "text": [
            "Drive already mounted at /content/drive/; to attempt to forcibly remount, call drive.mount(\"/content/drive/\", force_remount=True).\n"
          ]
        }
      ]
    },
    {
      "cell_type": "code",
      "metadata": {
        "id": "ASswKjdRGwEu"
      },
      "source": [
        "os.getcwd()\n",
        "os.chdir('/content/drive/My Drive')"
      ],
      "execution_count": null,
      "outputs": []
    },
    {
      "cell_type": "code",
      "metadata": {
        "id": "JlTnHOiBGyxf"
      },
      "source": [
        "channel = [1,2,3,4,6,7,8,9,10,11,12,13,14,15,16,17,18,19,20,21,22,23,24,25,26,27,28,29,30,31,32] #32 Channels chosen to fit Emotiv Epoch+\n",
        "band = [4,8,12,16,25,45] #5 bands\n",
        "window_size = 256 #Averaging band power of 2 sec\n",
        "step_size = 16 #Each 0.125 sec update once\n",
        "sample_rate = 128 #Sampling rate of 128 Hz\n",
        "subjectList = ['01','02','03']\n",
        "#List of subjects"
      ],
      "execution_count": null,
      "outputs": []
    },
    {
      "cell_type": "code",
      "metadata": {
        "id": "dDL5twy_HS9X"
      },
      "source": [
        "def FFT_Processing (sub, channel, band, window_size, step_size, sample_rate):\n",
        "    '''\n",
        "    arguments:  string subject\n",
        "                list channel indice\n",
        "                list band\n",
        "                int window size for FFT\n",
        "                int step size for FFT\n",
        "                int sample rate for FFT\n",
        "    return:     void\n",
        "    '''\n",
        "    meta = []\n",
        "    with open(\"/content/drive/My Drive/LEADING_AI/DATA/s\" + sub + '.dat', 'rb') as file:\n",
        "\n",
        "        subject = pickle.load(file, encoding='latin1') #resolve the python 2 data problem by encoding : latin1\n",
        "\n",
        "        for i in range (0,40):\n",
        "            # loop over 0-39 trails\n",
        "            data = subject[\"data\"][i]\n",
        "            labels = subject[\"labels\"][i]\n",
        "            start = 0;\n",
        "\n",
        "            while start + window_size < data.shape[1]:\n",
        "                meta_array = []\n",
        "                meta_data = [] #meta vector for analysis\n",
        "                for j in channel:\n",
        "                    X = data[j][start : start + window_size] #Slice raw data over 2 sec, at interval of 0.125 sec\n",
        "                    Y = pe.bin_power(X, band, sample_rate) #FFT over 2 sec of channel j, in seq of theta, alpha, low beta, high beta, gamma\n",
        "                    meta_data = meta_data + list(Y[0])\n",
        "\n",
        "                meta_array.append(np.array(meta_data))\n",
        "                meta_array.append(labels)\n",
        "\n",
        "                meta.append(np.array(meta_array))    \n",
        "                start = start + step_size\n",
        "                \n",
        "        meta = np.array(meta)\n",
        "        np.save('/content/drive/My Drive/LEADING_AI/DATA/s' + sub, meta, allow_pickle=True, fix_imports=True)"
      ],
      "execution_count": null,
      "outputs": []
    },
    {
      "cell_type": "code",
      "metadata": {
        "id": "qX3PI_EQJWYz"
      },
      "source": [
        "for subjects in subjectList:\n",
        "    FFT_Processing (subjects, channel, band, window_size, step_size, sample_rate)"
      ],
      "execution_count": null,
      "outputs": []
    },
    {
      "cell_type": "code",
      "metadata": {
        "id": "RhIAfob8JeDZ",
        "colab": {
          "base_uri": "https://localhost:8080/"
        },
        "outputId": "7ecd6bb4-c3a7-4425-8c89-258d73416fa5"
      },
      "source": [
        "data_training = []\n",
        "label_training = []\n",
        "data_testing = []\n",
        "label_testing = []\n",
        "\n",
        "for subjects in subjectList:\n",
        "\n",
        "    with open('/content/drive/My Drive/LEADING_AI/DATA/s' + subjects + '.npy', 'rb') as file:\n",
        "      sub = np.load(file,allow_pickle=True)\n",
        "      for i in range (0,sub.shape[0]):\n",
        "        if i % 4 == 0:\n",
        "          data_testing.append(sub[i][0])\n",
        "          label_testing.append(sub[i][1])\n",
        "        else:\n",
        "          data_training.append(sub[i][0])\n",
        "          label_training.append(sub[i][1])\n",
        "\n",
        "np.save('/content/drive/My Drive/LEADING_AI/70_30/data_training', np.array(data_training), allow_pickle=True, fix_imports=True)\n",
        "np.save('/content/drive/My Drive/LEADING_AI/70_30/label_training', np.array(label_training), allow_pickle=True, fix_imports=True)\n",
        "print(\"training dataset:\", np.array(data_training).shape, np.array(label_training).shape)\n",
        "\n",
        "np.save('/content/drive/My Drive/LEADING_AI/70_30/data_testing', np.array(data_testing), allow_pickle=True, fix_imports=True)\n",
        "np.save('/content/drive/My Drive/LEADING_AI/70_30/label_testing', np.array(label_testing), allow_pickle=True, fix_imports=True)\n",
        "print(\"testing dataset:\", np.array(data_testing).shape, np.array(label_testing).shape)"
      ],
      "execution_count": null,
      "outputs": [
        {
          "output_type": "stream",
          "name": "stdout",
          "text": [
            "training dataset: (43920, 155) (43920, 4)\n",
            "testing dataset: (14640, 155) (14640, 4)\n"
          ]
        }
      ]
    },
    {
      "cell_type": "code",
      "metadata": {
        "id": "ABWVaT4-MvT4"
      },
      "source": [
        "\n",
        "with open('/content/drive/My Drive/LEADING_AI/70_30/data_training.npy', 'rb') as fileTrain:\n",
        "    X  = np.load(fileTrain)\n",
        "    \n",
        "with open('/content/drive/My Drive/LEADING_AI/70_30/label_training.npy', 'rb') as fileTrainL:\n",
        "    Y  = np.load(fileTrainL)\n",
        "    \n",
        "X = normalize(X)\n",
        "Z = np.ravel(Y[:, [3]])\n",
        "\n",
        "Arousal_Train = np.ravel(Y[:, [0]])\n",
        "Valence_Train = np.ravel(Y[:, [1]])\n",
        "Domain_Train = np.ravel(Y[:, [2]])\n",
        "Like_Train = np.ravel(Y[:, [3]])"
      ],
      "execution_count": null,
      "outputs": []
    },
    {
      "cell_type": "code",
      "metadata": {
        "id": "JJRTIDzsVKVJ",
        "colab": {
          "base_uri": "https://localhost:8080/"
        },
        "outputId": "a66548da-5043-4d60-df89-edadf62753b8"
      },
      "source": [
        "X.shape"
      ],
      "execution_count": null,
      "outputs": [
        {
          "output_type": "execute_result",
          "data": {
            "text/plain": [
              "(43920, 155)"
            ]
          },
          "metadata": {},
          "execution_count": 66
        }
      ]
    },
    {
      "cell_type": "code",
      "metadata": {
        "id": "ETTgk5t8QSMR",
        "colab": {
          "base_uri": "https://localhost:8080/"
        },
        "outputId": "11498ec7-e18a-406e-cbd1-8e3a0b30673a"
      },
      "source": [
        "from keras.utils import to_categorical\n",
        "y_train = to_categorical(Z)\n",
        "y_train"
      ],
      "execution_count": null,
      "outputs": [
        {
          "output_type": "execute_result",
          "data": {
            "text/plain": [
              "array([[0., 0., 0., ..., 1., 0., 0.],\n",
              "       [0., 0., 0., ..., 1., 0., 0.],\n",
              "       [0., 0., 0., ..., 1., 0., 0.],\n",
              "       ...,\n",
              "       [0., 0., 0., ..., 0., 0., 0.],\n",
              "       [0., 0., 0., ..., 0., 0., 0.],\n",
              "       [0., 0., 0., ..., 0., 0., 0.]], dtype=float32)"
            ]
          },
          "metadata": {},
          "execution_count": 116
        }
      ]
    },
    {
      "cell_type": "code",
      "metadata": {
        "id": "s1rZXI84QTgw"
      },
      "source": [
        "x_train = np.array(X[:])"
      ],
      "execution_count": null,
      "outputs": []
    },
    {
      "cell_type": "code",
      "metadata": {
        "id": "TQgp1409QXiR"
      },
      "source": [
        "\n",
        "with open('/content/drive/My Drive/LEADING_AI/70_30/data_testing.npy', 'rb') as fileTrain:\n",
        "    M  = np.load(fileTrain)\n",
        "    \n",
        "with open('/content/drive/My Drive/LEADING_AI/70_30/label_testing.npy', 'rb') as fileTrainL:\n",
        "    N  = np.load(fileTrainL)\n",
        "\n",
        "M = normalize(M)\n",
        "L = np.ravel(N[:, [3]])\n",
        "\n",
        "Arousal_Test = np.ravel(N[:, [0]])\n",
        "Valence_Test = np.ravel(N[:, [1]])\n",
        "Domain_Test = np.ravel(N[:, [2]])\n",
        "Like_Test = np.ravel(N[:, [3]])"
      ],
      "execution_count": null,
      "outputs": []
    },
    {
      "cell_type": "code",
      "metadata": {
        "id": "A5bP6dwcRmSK"
      },
      "source": [
        "x_test = np.array(M[:])"
      ],
      "execution_count": null,
      "outputs": []
    },
    {
      "cell_type": "code",
      "metadata": {
        "id": "z7zknJnQRmfs",
        "colab": {
          "base_uri": "https://localhost:8080/"
        },
        "outputId": "a289daeb-2423-404f-b4e0-82d30e5aa952"
      },
      "source": [
        "from keras.utils import to_categorical\n",
        "y_test = to_categorical(L)\n",
        "y_test"
      ],
      "execution_count": null,
      "outputs": [
        {
          "output_type": "execute_result",
          "data": {
            "text/plain": [
              "array([[0., 0., 0., ..., 1., 0., 0.],\n",
              "       [0., 0., 0., ..., 1., 0., 0.],\n",
              "       [0., 0., 0., ..., 1., 0., 0.],\n",
              "       ...,\n",
              "       [0., 0., 0., ..., 0., 0., 0.],\n",
              "       [0., 0., 0., ..., 0., 0., 0.],\n",
              "       [0., 0., 0., ..., 0., 0., 0.]], dtype=float32)"
            ]
          },
          "metadata": {},
          "execution_count": 120
        }
      ]
    },
    {
      "cell_type": "code",
      "metadata": {
        "id": "qTnzEnFuQ5RK"
      },
      "source": [
        "\n",
        "from sklearn.preprocessing import StandardScaler\n",
        "scaler = StandardScaler()\n",
        "x_train = scaler.fit_transform(x_train)\n",
        "x_test = scaler.fit_transform(x_test)"
      ],
      "execution_count": null,
      "outputs": []
    },
    {
      "cell_type": "code",
      "metadata": {
        "id": "9sAV4SCdRA_E"
      },
      "source": [
        "x_train = x_train.reshape(x_train.shape[0],x_train.shape[1], 1)\n",
        "x_test = x_test.reshape(x_test.shape[0],x_test.shape[1], 1)"
      ],
      "execution_count": null,
      "outputs": []
    },
    {
      "cell_type": "code",
      "metadata": {
        "id": "awpkfh90RBxV",
        "colab": {
          "base_uri": "https://localhost:8080/"
        },
        "outputId": "5ae544b1-b14c-453d-fb95-1e48c9ddd2be"
      },
      "source": [
        "x_train.shape"
      ],
      "execution_count": null,
      "outputs": [
        {
          "output_type": "execute_result",
          "data": {
            "text/plain": [
              "(43920, 155, 1)"
            ]
          },
          "metadata": {},
          "execution_count": 74
        }
      ]
    },
    {
      "cell_type": "code",
      "metadata": {
        "id": "IjKJEOSSRFYm"
      },
      "source": [
        "batch_size = 256\n",
        "num_classes = 10\n",
        "epochs = 250\n",
        "input_shape=(x_train.shape[1], 1)"
      ],
      "execution_count": null,
      "outputs": []
    },
    {
      "cell_type": "code",
      "metadata": {
        "id": "n1IyrpeyRHXs",
        "colab": {
          "base_uri": "https://localhost:8080/"
        },
        "outputId": "830d1b5a-09c1-47d2-8827-d1bd6726b031"
      },
      "source": [
        "print(input_shape)"
      ],
      "execution_count": null,
      "outputs": [
        {
          "output_type": "stream",
          "name": "stdout",
          "text": [
            "(155, 1)\n"
          ]
        }
      ]
    },
    {
      "cell_type": "code",
      "metadata": {
        "id": "q-mHGsfjRKQn"
      },
      "source": [
        "from keras.layers import Convolution1D, ZeroPadding1D, MaxPooling1D, BatchNormalization, Activation, Dropout, Flatten, Dense\n",
        "from keras.regularizers import l2"
      ],
      "execution_count": null,
      "outputs": []
    },
    {
      "cell_type": "code",
      "metadata": {
        "id": "8kqlW2jkMEvJ",
        "colab": {
          "base_uri": "https://localhost:8080/"
        },
        "outputId": "038263ff-8288-4f9b-f6e0-7c3187a1dc81"
      },
      "source": [
        "  from keras.regularizers import l2\n",
        "  from keras.layers import Bidirectional\n",
        "  from keras.layers import LSTM\n",
        "\n",
        "  model = Sequential()\n",
        " \n",
        "  model.add(Bidirectional(LSTM(128, return_sequences=True), input_shape=input_shape))\n",
        "  model.add(Dropout(0.6))\n",
        "\n",
        "  model.add(LSTM(units = 256, return_sequences = True))  \n",
        "  model.add(Dropout(0.6))\n",
        "\n",
        "  model.add(LSTM(units = 64, return_sequences = True))  \n",
        "  model.add(Dropout(0.6))\n",
        "\n",
        "  model.add(LSTM(units = 64, return_sequences = True))  \n",
        "  model.add(Dropout(0.4))\n",
        "\n",
        "  model.add(LSTM(units = 32))\n",
        "  model.add(Dropout(0.4))\n",
        "\n",
        "  model.add(Dense(units = 16))\n",
        "  model.add(Activation('relu'))\n",
        "\n",
        "  model.add(Dense(units = num_classes))\n",
        "  model.add(Activation('softmax'))\n",
        "  model.compile(optimizer =\"adam\", loss =keras.losses.categorical_crossentropy,metrics=[\"accuracy\"])\n",
        "  model.summary()\n",
        "  m=model.fit(x_train, y_train,epochs=250,batch_size=256,verbose=1,validation_data=(x_test, y_test))"
      ],
      "execution_count": null,
      "outputs": [
        {
          "output_type": "stream",
          "name": "stdout",
          "text": [
            "Model: \"sequential_4\"\n",
            "_________________________________________________________________\n",
            " Layer (type)                Output Shape              Param #   \n",
            "=================================================================\n",
            " bidirectional_4 (Bidirectio  (None, 155, 256)         133120    \n",
            " nal)                                                            \n",
            "                                                                 \n",
            " dropout_20 (Dropout)        (None, 155, 256)          0         \n",
            "                                                                 \n",
            " lstm_21 (LSTM)              (None, 155, 256)          525312    \n",
            "                                                                 \n",
            " dropout_21 (Dropout)        (None, 155, 256)          0         \n",
            "                                                                 \n",
            " lstm_22 (LSTM)              (None, 155, 64)           82176     \n",
            "                                                                 \n",
            " dropout_22 (Dropout)        (None, 155, 64)           0         \n",
            "                                                                 \n",
            " lstm_23 (LSTM)              (None, 155, 64)           33024     \n",
            "                                                                 \n",
            " dropout_23 (Dropout)        (None, 155, 64)           0         \n",
            "                                                                 \n",
            " lstm_24 (LSTM)              (None, 32)                12416     \n",
            "                                                                 \n",
            " dropout_24 (Dropout)        (None, 32)                0         \n",
            "                                                                 \n",
            " dense_8 (Dense)             (None, 16)                528       \n",
            "                                                                 \n",
            " activation_8 (Activation)   (None, 16)                0         \n",
            "                                                                 \n",
            " dense_9 (Dense)             (None, 10)                170       \n",
            "                                                                 \n",
            " activation_9 (Activation)   (None, 10)                0         \n",
            "                                                                 \n",
            "=================================================================\n",
            "Total params: 786,746\n",
            "Trainable params: 786,746\n",
            "Non-trainable params: 0\n",
            "_________________________________________________________________\n",
            "Epoch 1/250\n",
            "172/172 [==============================] - 29s 129ms/step - loss: 1.8015 - accuracy: 0.2595 - val_loss: 1.7081 - val_accuracy: 0.2806\n",
            "Epoch 2/250\n",
            "172/172 [==============================] - 20s 117ms/step - loss: 1.7184 - accuracy: 0.2783 - val_loss: 1.7163 - val_accuracy: 0.2712\n",
            "Epoch 3/250\n",
            "172/172 [==============================] - 20s 118ms/step - loss: 1.7119 - accuracy: 0.2823 - val_loss: 1.6490 - val_accuracy: 0.3057\n",
            "Epoch 4/250\n",
            "172/172 [==============================] - 20s 119ms/step - loss: 1.6608 - accuracy: 0.2978 - val_loss: 1.6443 - val_accuracy: 0.3048\n",
            "Epoch 5/250\n",
            "172/172 [==============================] - 21s 120ms/step - loss: 1.6488 - accuracy: 0.3037 - val_loss: 1.6074 - val_accuracy: 0.3128\n",
            "Epoch 6/250\n",
            "172/172 [==============================] - 21s 120ms/step - loss: 1.6047 - accuracy: 0.3128 - val_loss: 1.5478 - val_accuracy: 0.3317\n",
            "Epoch 7/250\n",
            "172/172 [==============================] - 21s 120ms/step - loss: 1.5710 - accuracy: 0.3231 - val_loss: 1.5292 - val_accuracy: 0.3251\n",
            "Epoch 8/250\n",
            "172/172 [==============================] - 21s 121ms/step - loss: 1.5614 - accuracy: 0.3259 - val_loss: 1.5296 - val_accuracy: 0.3331\n",
            "Epoch 9/250\n",
            "172/172 [==============================] - 21s 121ms/step - loss: 1.5388 - accuracy: 0.3324 - val_loss: 1.5232 - val_accuracy: 0.3363\n",
            "Epoch 10/250\n",
            "172/172 [==============================] - 21s 122ms/step - loss: 1.5321 - accuracy: 0.3336 - val_loss: 1.5129 - val_accuracy: 0.3347\n",
            "Epoch 11/250\n",
            "172/172 [==============================] - 21s 122ms/step - loss: 1.5265 - accuracy: 0.3330 - val_loss: 1.5125 - val_accuracy: 0.3372\n",
            "Epoch 12/250\n",
            "172/172 [==============================] - 21s 122ms/step - loss: 1.5179 - accuracy: 0.3357 - val_loss: 1.5034 - val_accuracy: 0.3480\n",
            "Epoch 13/250\n",
            "172/172 [==============================] - 21s 122ms/step - loss: 1.5148 - accuracy: 0.3381 - val_loss: 1.4984 - val_accuracy: 0.3485\n",
            "Epoch 14/250\n",
            "172/172 [==============================] - 21s 122ms/step - loss: 1.5127 - accuracy: 0.3398 - val_loss: 1.4995 - val_accuracy: 0.3370\n",
            "Epoch 15/250\n",
            "172/172 [==============================] - 21s 122ms/step - loss: 1.5066 - accuracy: 0.3454 - val_loss: 1.4911 - val_accuracy: 0.3485\n",
            "Epoch 16/250\n",
            "172/172 [==============================] - 21s 122ms/step - loss: 1.5086 - accuracy: 0.3383 - val_loss: 1.5048 - val_accuracy: 0.3440\n",
            "Epoch 17/250\n",
            "172/172 [==============================] - 21s 122ms/step - loss: 1.5343 - accuracy: 0.3339 - val_loss: 1.5027 - val_accuracy: 0.3362\n",
            "Epoch 18/250\n",
            "172/172 [==============================] - 21s 122ms/step - loss: 1.5037 - accuracy: 0.3441 - val_loss: 1.4982 - val_accuracy: 0.3410\n",
            "Epoch 19/250\n",
            "172/172 [==============================] - 21s 121ms/step - loss: 1.4979 - accuracy: 0.3466 - val_loss: 1.4821 - val_accuracy: 0.3609\n",
            "Epoch 20/250\n",
            "172/172 [==============================] - 21s 121ms/step - loss: 1.4915 - accuracy: 0.3504 - val_loss: 1.4761 - val_accuracy: 0.3634\n",
            "Epoch 21/250\n",
            "172/172 [==============================] - 21s 121ms/step - loss: 1.4868 - accuracy: 0.3567 - val_loss: 1.4673 - val_accuracy: 0.3594\n",
            "Epoch 22/250\n",
            "172/172 [==============================] - 21s 121ms/step - loss: 1.4803 - accuracy: 0.3585 - val_loss: 1.4717 - val_accuracy: 0.3620\n",
            "Epoch 23/250\n",
            "172/172 [==============================] - 21s 121ms/step - loss: 1.4790 - accuracy: 0.3616 - val_loss: 1.4669 - val_accuracy: 0.3710\n",
            "Epoch 24/250\n",
            "172/172 [==============================] - 21s 122ms/step - loss: 1.4708 - accuracy: 0.3673 - val_loss: 1.4540 - val_accuracy: 0.3764\n",
            "Epoch 25/250\n",
            "172/172 [==============================] - 21s 122ms/step - loss: 1.4692 - accuracy: 0.3691 - val_loss: 1.4501 - val_accuracy: 0.3744\n",
            "Epoch 26/250\n",
            "172/172 [==============================] - 22s 129ms/step - loss: 1.4574 - accuracy: 0.3742 - val_loss: 1.4443 - val_accuracy: 0.3792\n",
            "Epoch 27/250\n",
            "172/172 [==============================] - 21s 121ms/step - loss: 1.4525 - accuracy: 0.3758 - val_loss: 1.4437 - val_accuracy: 0.3790\n",
            "Epoch 28/250\n",
            "172/172 [==============================] - 21s 124ms/step - loss: 1.4986 - accuracy: 0.3614 - val_loss: 1.4404 - val_accuracy: 0.3824\n",
            "Epoch 29/250\n",
            "172/172 [==============================] - 21s 124ms/step - loss: 1.4546 - accuracy: 0.3757 - val_loss: 1.4290 - val_accuracy: 0.3803\n",
            "Epoch 30/250\n",
            "172/172 [==============================] - 21s 124ms/step - loss: 1.4424 - accuracy: 0.3798 - val_loss: 1.4130 - val_accuracy: 0.3910\n",
            "Epoch 31/250\n",
            "172/172 [==============================] - 21s 122ms/step - loss: 1.4341 - accuracy: 0.3839 - val_loss: 1.4173 - val_accuracy: 0.3910\n",
            "Epoch 32/250\n",
            "172/172 [==============================] - 21s 122ms/step - loss: 1.4283 - accuracy: 0.3848 - val_loss: 1.4073 - val_accuracy: 0.3963\n",
            "Epoch 33/250\n",
            "172/172 [==============================] - 21s 122ms/step - loss: 1.4323 - accuracy: 0.3839 - val_loss: 1.4080 - val_accuracy: 0.3954\n",
            "Epoch 34/250\n",
            "172/172 [==============================] - 21s 122ms/step - loss: 1.4162 - accuracy: 0.3929 - val_loss: 1.3872 - val_accuracy: 0.4067\n",
            "Epoch 35/250\n",
            "172/172 [==============================] - 21s 121ms/step - loss: 1.4107 - accuracy: 0.3948 - val_loss: 1.3841 - val_accuracy: 0.4023\n",
            "Epoch 36/250\n",
            "172/172 [==============================] - 21s 121ms/step - loss: 1.3978 - accuracy: 0.4047 - val_loss: 1.3640 - val_accuracy: 0.4137\n",
            "Epoch 37/250\n",
            "172/172 [==============================] - 21s 122ms/step - loss: 1.3892 - accuracy: 0.4074 - val_loss: 1.3606 - val_accuracy: 0.4185\n",
            "Epoch 38/250\n",
            "172/172 [==============================] - 21s 122ms/step - loss: 1.3836 - accuracy: 0.4120 - val_loss: 1.3478 - val_accuracy: 0.4227\n",
            "Epoch 39/250\n",
            "172/172 [==============================] - 21s 122ms/step - loss: 1.3726 - accuracy: 0.4166 - val_loss: 1.3433 - val_accuracy: 0.4298\n",
            "Epoch 40/250\n",
            "172/172 [==============================] - 21s 122ms/step - loss: 1.3711 - accuracy: 0.4177 - val_loss: 1.3329 - val_accuracy: 0.4275\n",
            "Epoch 41/250\n",
            "172/172 [==============================] - 21s 122ms/step - loss: 1.3585 - accuracy: 0.4242 - val_loss: 1.3162 - val_accuracy: 0.4412\n",
            "Epoch 42/250\n",
            "172/172 [==============================] - 21s 122ms/step - loss: 1.3517 - accuracy: 0.4300 - val_loss: 1.3050 - val_accuracy: 0.4521\n",
            "Epoch 43/250\n",
            "172/172 [==============================] - 21s 122ms/step - loss: 1.3440 - accuracy: 0.4312 - val_loss: 1.3060 - val_accuracy: 0.4467\n",
            "Epoch 44/250\n",
            "172/172 [==============================] - 21s 122ms/step - loss: 1.3330 - accuracy: 0.4390 - val_loss: 1.2867 - val_accuracy: 0.4555\n",
            "Epoch 45/250\n",
            "172/172 [==============================] - 21s 122ms/step - loss: 1.3234 - accuracy: 0.4441 - val_loss: 1.2919 - val_accuracy: 0.4592\n",
            "Epoch 46/250\n",
            "172/172 [==============================] - 21s 122ms/step - loss: 1.3192 - accuracy: 0.4446 - val_loss: 1.2818 - val_accuracy: 0.4643\n",
            "Epoch 47/250\n",
            "172/172 [==============================] - 21s 122ms/step - loss: 1.3043 - accuracy: 0.4536 - val_loss: 1.2661 - val_accuracy: 0.4671\n",
            "Epoch 48/250\n",
            "172/172 [==============================] - 21s 121ms/step - loss: 1.2963 - accuracy: 0.4568 - val_loss: 1.2465 - val_accuracy: 0.4812\n",
            "Epoch 49/250\n",
            "172/172 [==============================] - 21s 122ms/step - loss: 1.2887 - accuracy: 0.4626 - val_loss: 1.2538 - val_accuracy: 0.4712\n",
            "Epoch 50/250\n",
            "172/172 [==============================] - 21s 122ms/step - loss: 1.2800 - accuracy: 0.4679 - val_loss: 1.2487 - val_accuracy: 0.4833\n",
            "Epoch 51/250\n",
            "172/172 [==============================] - 21s 122ms/step - loss: 1.2740 - accuracy: 0.4712 - val_loss: 1.2116 - val_accuracy: 0.4978\n",
            "Epoch 52/250\n",
            "172/172 [==============================] - 21s 122ms/step - loss: 1.2579 - accuracy: 0.4795 - val_loss: 1.2030 - val_accuracy: 0.5013\n",
            "Epoch 53/250\n",
            "172/172 [==============================] - 21s 122ms/step - loss: 1.2508 - accuracy: 0.4824 - val_loss: 1.2172 - val_accuracy: 0.5001\n",
            "Epoch 54/250\n",
            "172/172 [==============================] - 21s 122ms/step - loss: 1.2424 - accuracy: 0.4874 - val_loss: 1.1899 - val_accuracy: 0.5080\n",
            "Epoch 55/250\n",
            "172/172 [==============================] - 21s 122ms/step - loss: 1.2287 - accuracy: 0.4923 - val_loss: 1.1726 - val_accuracy: 0.5170\n",
            "Epoch 56/250\n",
            "172/172 [==============================] - 21s 122ms/step - loss: 1.2217 - accuracy: 0.4977 - val_loss: 1.1563 - val_accuracy: 0.5221\n",
            "Epoch 57/250\n",
            "172/172 [==============================] - 21s 122ms/step - loss: 1.2098 - accuracy: 0.5037 - val_loss: 1.1365 - val_accuracy: 0.5337\n",
            "Epoch 58/250\n",
            "172/172 [==============================] - 21s 123ms/step - loss: 1.1905 - accuracy: 0.5082 - val_loss: 1.1429 - val_accuracy: 0.5279\n",
            "Epoch 59/250\n",
            "172/172 [==============================] - 21s 122ms/step - loss: 1.1898 - accuracy: 0.5146 - val_loss: 1.1138 - val_accuracy: 0.5452\n",
            "Epoch 60/250\n",
            "172/172 [==============================] - 21s 122ms/step - loss: 1.1705 - accuracy: 0.5236 - val_loss: 1.1230 - val_accuracy: 0.5385\n",
            "Epoch 61/250\n",
            "172/172 [==============================] - 21s 122ms/step - loss: 1.1592 - accuracy: 0.5273 - val_loss: 1.0974 - val_accuracy: 0.5471\n",
            "Epoch 62/250\n",
            "172/172 [==============================] - 21s 122ms/step - loss: 1.1522 - accuracy: 0.5303 - val_loss: 1.0957 - val_accuracy: 0.5535\n",
            "Epoch 63/250\n",
            "172/172 [==============================] - 21s 122ms/step - loss: 1.1348 - accuracy: 0.5389 - val_loss: 1.1177 - val_accuracy: 0.5520\n",
            "Epoch 64/250\n",
            "172/172 [==============================] - 21s 122ms/step - loss: 1.1223 - accuracy: 0.5457 - val_loss: 1.0565 - val_accuracy: 0.5752\n",
            "Epoch 65/250\n",
            "172/172 [==============================] - 21s 122ms/step - loss: 1.1199 - accuracy: 0.5441 - val_loss: 1.0631 - val_accuracy: 0.5716\n",
            "Epoch 66/250\n",
            "172/172 [==============================] - 21s 122ms/step - loss: 1.1200 - accuracy: 0.5468 - val_loss: 1.0602 - val_accuracy: 0.5685\n",
            "Epoch 67/250\n",
            "172/172 [==============================] - 21s 122ms/step - loss: 1.0969 - accuracy: 0.5565 - val_loss: 1.0414 - val_accuracy: 0.5808\n",
            "Epoch 68/250\n",
            "172/172 [==============================] - 21s 122ms/step - loss: 1.0791 - accuracy: 0.5627 - val_loss: 1.0177 - val_accuracy: 0.5872\n",
            "Epoch 69/250\n",
            "172/172 [==============================] - 21s 122ms/step - loss: 1.0648 - accuracy: 0.5728 - val_loss: 0.9982 - val_accuracy: 0.5973\n",
            "Epoch 70/250\n",
            "172/172 [==============================] - 21s 122ms/step - loss: 1.0470 - accuracy: 0.5791 - val_loss: 1.0026 - val_accuracy: 0.5984\n",
            "Epoch 71/250\n",
            "172/172 [==============================] - 21s 122ms/step - loss: 1.0433 - accuracy: 0.5814 - val_loss: 0.9707 - val_accuracy: 0.6145\n",
            "Epoch 72/250\n",
            "172/172 [==============================] - 21s 122ms/step - loss: 1.0344 - accuracy: 0.5855 - val_loss: 0.9597 - val_accuracy: 0.6143\n",
            "Epoch 73/250\n",
            "172/172 [==============================] - 21s 122ms/step - loss: 1.0088 - accuracy: 0.5929 - val_loss: 0.9378 - val_accuracy: 0.6230\n",
            "Epoch 74/250\n",
            "172/172 [==============================] - 21s 122ms/step - loss: 1.0043 - accuracy: 0.5968 - val_loss: 0.9602 - val_accuracy: 0.6150\n",
            "Epoch 75/250\n",
            "172/172 [==============================] - 21s 122ms/step - loss: 0.9958 - accuracy: 0.6006 - val_loss: 0.9285 - val_accuracy: 0.6227\n",
            "Epoch 76/250\n",
            "172/172 [==============================] - 21s 122ms/step - loss: 0.9838 - accuracy: 0.6090 - val_loss: 0.9088 - val_accuracy: 0.6411\n",
            "Epoch 77/250\n",
            "172/172 [==============================] - 21s 122ms/step - loss: 0.9612 - accuracy: 0.6165 - val_loss: 0.9113 - val_accuracy: 0.6375\n",
            "Epoch 78/250\n",
            "172/172 [==============================] - 21s 122ms/step - loss: 0.9610 - accuracy: 0.6164 - val_loss: 0.9068 - val_accuracy: 0.6413\n",
            "Epoch 79/250\n",
            "172/172 [==============================] - 21s 122ms/step - loss: 0.9399 - accuracy: 0.6267 - val_loss: 0.8887 - val_accuracy: 0.6487\n",
            "Epoch 80/250\n",
            "172/172 [==============================] - 21s 122ms/step - loss: 0.9321 - accuracy: 0.6304 - val_loss: 0.8645 - val_accuracy: 0.6562\n",
            "Epoch 81/250\n",
            "172/172 [==============================] - 21s 122ms/step - loss: 0.9305 - accuracy: 0.6317 - val_loss: 0.8846 - val_accuracy: 0.6512\n",
            "Epoch 82/250\n",
            "172/172 [==============================] - 21s 122ms/step - loss: 0.9143 - accuracy: 0.6401 - val_loss: 0.8937 - val_accuracy: 0.6484\n",
            "Epoch 83/250\n",
            "172/172 [==============================] - 21s 122ms/step - loss: 0.8987 - accuracy: 0.6422 - val_loss: 0.8503 - val_accuracy: 0.6703\n",
            "Epoch 84/250\n",
            "172/172 [==============================] - 21s 122ms/step - loss: 0.8887 - accuracy: 0.6480 - val_loss: 0.8558 - val_accuracy: 0.6609\n",
            "Epoch 85/250\n",
            "172/172 [==============================] - 21s 122ms/step - loss: 0.8749 - accuracy: 0.6522 - val_loss: 0.8304 - val_accuracy: 0.6758\n",
            "Epoch 86/250\n",
            "172/172 [==============================] - 21s 122ms/step - loss: 0.8697 - accuracy: 0.6579 - val_loss: 0.8619 - val_accuracy: 0.6658\n",
            "Epoch 87/250\n",
            "172/172 [==============================] - 21s 122ms/step - loss: 0.8509 - accuracy: 0.6647 - val_loss: 0.8298 - val_accuracy: 0.6728\n",
            "Epoch 88/250\n",
            "172/172 [==============================] - 21s 122ms/step - loss: 0.8373 - accuracy: 0.6718 - val_loss: 0.8465 - val_accuracy: 0.6717\n",
            "Epoch 89/250\n",
            "172/172 [==============================] - 21s 123ms/step - loss: 0.8270 - accuracy: 0.6735 - val_loss: 0.7734 - val_accuracy: 0.6967\n",
            "Epoch 90/250\n",
            "172/172 [==============================] - 21s 122ms/step - loss: 0.8238 - accuracy: 0.6786 - val_loss: 0.7846 - val_accuracy: 0.6913\n",
            "Epoch 91/250\n",
            "172/172 [==============================] - 21s 122ms/step - loss: 0.8041 - accuracy: 0.6858 - val_loss: 0.7546 - val_accuracy: 0.7048\n",
            "Epoch 92/250\n",
            "172/172 [==============================] - 21s 122ms/step - loss: 0.7956 - accuracy: 0.6886 - val_loss: 0.7740 - val_accuracy: 0.7027\n",
            "Epoch 93/250\n",
            "172/172 [==============================] - 21s 122ms/step - loss: 0.7838 - accuracy: 0.6944 - val_loss: 0.7479 - val_accuracy: 0.7135\n",
            "Epoch 94/250\n",
            "172/172 [==============================] - 21s 122ms/step - loss: 0.7736 - accuracy: 0.6967 - val_loss: 0.7454 - val_accuracy: 0.7137\n",
            "Epoch 95/250\n",
            "172/172 [==============================] - 21s 123ms/step - loss: 0.7698 - accuracy: 0.7019 - val_loss: 0.7309 - val_accuracy: 0.7191\n",
            "Epoch 96/250\n",
            "172/172 [==============================] - 21s 122ms/step - loss: 0.7664 - accuracy: 0.7005 - val_loss: 0.7241 - val_accuracy: 0.7206\n",
            "Epoch 97/250\n",
            "172/172 [==============================] - 21s 122ms/step - loss: 0.7468 - accuracy: 0.7116 - val_loss: 0.7372 - val_accuracy: 0.7170\n",
            "Epoch 98/250\n",
            "172/172 [==============================] - 21s 122ms/step - loss: 0.7319 - accuracy: 0.7156 - val_loss: 0.7559 - val_accuracy: 0.7149\n",
            "Epoch 99/250\n",
            "172/172 [==============================] - 21s 122ms/step - loss: 0.7320 - accuracy: 0.7180 - val_loss: 0.7170 - val_accuracy: 0.7267\n",
            "Epoch 100/250\n",
            "172/172 [==============================] - 21s 122ms/step - loss: 0.7259 - accuracy: 0.7211 - val_loss: 0.7062 - val_accuracy: 0.7358\n",
            "Epoch 101/250\n",
            "172/172 [==============================] - 21s 122ms/step - loss: 0.7019 - accuracy: 0.7298 - val_loss: 0.7150 - val_accuracy: 0.7353\n",
            "Epoch 102/250\n",
            "172/172 [==============================] - 21s 122ms/step - loss: 0.6987 - accuracy: 0.7311 - val_loss: 0.7406 - val_accuracy: 0.7259\n",
            "Epoch 103/250\n",
            "172/172 [==============================] - 21s 122ms/step - loss: 0.6961 - accuracy: 0.7296 - val_loss: 0.7147 - val_accuracy: 0.7336\n",
            "Epoch 104/250\n",
            "172/172 [==============================] - 21s 122ms/step - loss: 0.6860 - accuracy: 0.7365 - val_loss: 0.6663 - val_accuracy: 0.7523\n",
            "Epoch 105/250\n",
            "172/172 [==============================] - 21s 122ms/step - loss: 0.6833 - accuracy: 0.7365 - val_loss: 0.6825 - val_accuracy: 0.7463\n",
            "Epoch 106/250\n",
            "172/172 [==============================] - 21s 122ms/step - loss: 0.6739 - accuracy: 0.7412 - val_loss: 0.6771 - val_accuracy: 0.7483\n",
            "Epoch 107/250\n",
            "172/172 [==============================] - 21s 122ms/step - loss: 0.6598 - accuracy: 0.7453 - val_loss: 0.7055 - val_accuracy: 0.7427\n",
            "Epoch 108/250\n",
            "172/172 [==============================] - 21s 122ms/step - loss: 0.6529 - accuracy: 0.7482 - val_loss: 0.6473 - val_accuracy: 0.7597\n",
            "Epoch 109/250\n",
            "172/172 [==============================] - 21s 122ms/step - loss: 0.6459 - accuracy: 0.7532 - val_loss: 0.6763 - val_accuracy: 0.7539\n",
            "Epoch 110/250\n",
            "172/172 [==============================] - 21s 123ms/step - loss: 0.6404 - accuracy: 0.7566 - val_loss: 0.6633 - val_accuracy: 0.7572\n",
            "Epoch 111/250\n",
            "172/172 [==============================] - 21s 122ms/step - loss: 0.6333 - accuracy: 0.7575 - val_loss: 0.6546 - val_accuracy: 0.7637\n",
            "Epoch 112/250\n",
            "172/172 [==============================] - 21s 122ms/step - loss: 0.6349 - accuracy: 0.7562 - val_loss: 0.6528 - val_accuracy: 0.7643\n",
            "Epoch 113/250\n",
            "172/172 [==============================] - 21s 122ms/step - loss: 0.6205 - accuracy: 0.7624 - val_loss: 0.6431 - val_accuracy: 0.7643\n",
            "Epoch 114/250\n",
            "172/172 [==============================] - 21s 122ms/step - loss: 0.6035 - accuracy: 0.7704 - val_loss: 0.6546 - val_accuracy: 0.7667\n",
            "Epoch 115/250\n",
            "172/172 [==============================] - 21s 122ms/step - loss: 0.6023 - accuracy: 0.7687 - val_loss: 0.6175 - val_accuracy: 0.7758\n",
            "Epoch 116/250\n",
            "172/172 [==============================] - 21s 122ms/step - loss: 0.5996 - accuracy: 0.7711 - val_loss: 0.6272 - val_accuracy: 0.7758\n",
            "Epoch 117/250\n",
            "172/172 [==============================] - 21s 123ms/step - loss: 0.6052 - accuracy: 0.7704 - val_loss: 0.6404 - val_accuracy: 0.7661\n",
            "Epoch 118/250\n",
            "172/172 [==============================] - 21s 123ms/step - loss: 0.5947 - accuracy: 0.7739 - val_loss: 0.6427 - val_accuracy: 0.7740\n",
            "Epoch 119/250\n",
            "172/172 [==============================] - 21s 122ms/step - loss: 0.5810 - accuracy: 0.7812 - val_loss: 0.6034 - val_accuracy: 0.7850\n",
            "Epoch 120/250\n",
            "172/172 [==============================] - 21s 123ms/step - loss: 0.5778 - accuracy: 0.7818 - val_loss: 0.6644 - val_accuracy: 0.7706\n",
            "Epoch 121/250\n",
            "172/172 [==============================] - 21s 122ms/step - loss: 0.5765 - accuracy: 0.7832 - val_loss: 0.6134 - val_accuracy: 0.7839\n",
            "Epoch 122/250\n",
            "172/172 [==============================] - 21s 122ms/step - loss: 0.5615 - accuracy: 0.7875 - val_loss: 0.6439 - val_accuracy: 0.7723\n",
            "Epoch 123/250\n",
            "172/172 [==============================] - 21s 122ms/step - loss: 0.5501 - accuracy: 0.7926 - val_loss: 0.6318 - val_accuracy: 0.7756\n",
            "Epoch 124/250\n",
            "172/172 [==============================] - 21s 122ms/step - loss: 0.5674 - accuracy: 0.7860 - val_loss: 0.5923 - val_accuracy: 0.7904\n",
            "Epoch 125/250\n",
            "172/172 [==============================] - 21s 122ms/step - loss: 0.5454 - accuracy: 0.7962 - val_loss: 0.6092 - val_accuracy: 0.7852\n",
            "Epoch 126/250\n",
            "172/172 [==============================] - 21s 122ms/step - loss: 0.5448 - accuracy: 0.7935 - val_loss: 0.6132 - val_accuracy: 0.7900\n",
            "Epoch 127/250\n",
            "172/172 [==============================] - 21s 122ms/step - loss: 0.5455 - accuracy: 0.7974 - val_loss: 0.6095 - val_accuracy: 0.7894\n",
            "Epoch 128/250\n",
            "172/172 [==============================] - 21s 122ms/step - loss: 0.5331 - accuracy: 0.7983 - val_loss: 0.6002 - val_accuracy: 0.7942\n",
            "Epoch 129/250\n",
            "172/172 [==============================] - 21s 122ms/step - loss: 0.5185 - accuracy: 0.8069 - val_loss: 0.6135 - val_accuracy: 0.7867\n",
            "Epoch 130/250\n",
            "172/172 [==============================] - 21s 122ms/step - loss: 0.5211 - accuracy: 0.8033 - val_loss: 0.6169 - val_accuracy: 0.7971\n",
            "Epoch 131/250\n",
            "172/172 [==============================] - 21s 122ms/step - loss: 0.5224 - accuracy: 0.8043 - val_loss: 0.6327 - val_accuracy: 0.7889\n",
            "Epoch 132/250\n",
            "172/172 [==============================] - 21s 122ms/step - loss: 0.5238 - accuracy: 0.8041 - val_loss: 0.5775 - val_accuracy: 0.8008\n",
            "Epoch 133/250\n",
            "172/172 [==============================] - 21s 122ms/step - loss: 0.5135 - accuracy: 0.8063 - val_loss: 0.6078 - val_accuracy: 0.7949\n",
            "Epoch 134/250\n",
            "172/172 [==============================] - 21s 122ms/step - loss: 0.5034 - accuracy: 0.8111 - val_loss: 0.5629 - val_accuracy: 0.8051\n",
            "Epoch 135/250\n",
            "172/172 [==============================] - 21s 122ms/step - loss: 0.4985 - accuracy: 0.8133 - val_loss: 0.5707 - val_accuracy: 0.8046\n",
            "Epoch 136/250\n",
            "172/172 [==============================] - 21s 122ms/step - loss: 0.4856 - accuracy: 0.8199 - val_loss: 0.5927 - val_accuracy: 0.8008\n",
            "Epoch 137/250\n",
            "172/172 [==============================] - 21s 122ms/step - loss: 0.4934 - accuracy: 0.8174 - val_loss: 0.5787 - val_accuracy: 0.8014\n",
            "Epoch 138/250\n",
            "172/172 [==============================] - 21s 122ms/step - loss: 0.4886 - accuracy: 0.8196 - val_loss: 0.5743 - val_accuracy: 0.8062\n",
            "Epoch 139/250\n",
            "172/172 [==============================] - 21s 122ms/step - loss: 0.4808 - accuracy: 0.8203 - val_loss: 0.5518 - val_accuracy: 0.8156\n",
            "Epoch 140/250\n",
            "172/172 [==============================] - 21s 122ms/step - loss: 0.4759 - accuracy: 0.8218 - val_loss: 0.5587 - val_accuracy: 0.8120\n",
            "Epoch 141/250\n",
            "172/172 [==============================] - 21s 123ms/step - loss: 0.4789 - accuracy: 0.8244 - val_loss: 0.5798 - val_accuracy: 0.8033\n",
            "Epoch 142/250\n",
            "172/172 [==============================] - 21s 123ms/step - loss: 0.4663 - accuracy: 0.8262 - val_loss: 0.6011 - val_accuracy: 0.7967\n",
            "Epoch 143/250\n",
            "172/172 [==============================] - 21s 122ms/step - loss: 0.4801 - accuracy: 0.8222 - val_loss: 0.5665 - val_accuracy: 0.8092\n",
            "Epoch 144/250\n",
            "172/172 [==============================] - 21s 123ms/step - loss: 0.4712 - accuracy: 0.8269 - val_loss: 0.5747 - val_accuracy: 0.8085\n",
            "Epoch 145/250\n",
            "172/172 [==============================] - 21s 123ms/step - loss: 0.4569 - accuracy: 0.8331 - val_loss: 0.5457 - val_accuracy: 0.8204\n",
            "Epoch 146/250\n",
            "172/172 [==============================] - 21s 123ms/step - loss: 0.4520 - accuracy: 0.8339 - val_loss: 0.5503 - val_accuracy: 0.8178\n",
            "Epoch 147/250\n",
            "172/172 [==============================] - 21s 123ms/step - loss: 0.4568 - accuracy: 0.8296 - val_loss: 0.5465 - val_accuracy: 0.8213\n",
            "Epoch 148/250\n",
            "172/172 [==============================] - 21s 123ms/step - loss: 0.4460 - accuracy: 0.8366 - val_loss: 0.5361 - val_accuracy: 0.8195\n",
            "Epoch 149/250\n",
            "172/172 [==============================] - 21s 123ms/step - loss: 0.4444 - accuracy: 0.8361 - val_loss: 0.5449 - val_accuracy: 0.8232\n",
            "Epoch 150/250\n",
            "172/172 [==============================] - 21s 123ms/step - loss: 0.4274 - accuracy: 0.8408 - val_loss: 0.5872 - val_accuracy: 0.8094\n",
            "Epoch 151/250\n",
            "172/172 [==============================] - 21s 123ms/step - loss: 0.4401 - accuracy: 0.8385 - val_loss: 0.5343 - val_accuracy: 0.8232\n",
            "Epoch 152/250\n",
            "172/172 [==============================] - 21s 122ms/step - loss: 0.4319 - accuracy: 0.8408 - val_loss: 0.5478 - val_accuracy: 0.8211\n",
            "Epoch 153/250\n",
            "172/172 [==============================] - 21s 122ms/step - loss: 0.4217 - accuracy: 0.8445 - val_loss: 0.5640 - val_accuracy: 0.8176\n",
            "Epoch 154/250\n",
            "172/172 [==============================] - 21s 122ms/step - loss: 0.4381 - accuracy: 0.8385 - val_loss: 0.5142 - val_accuracy: 0.8295\n",
            "Epoch 155/250\n",
            "172/172 [==============================] - 21s 122ms/step - loss: 0.4174 - accuracy: 0.8496 - val_loss: 0.5505 - val_accuracy: 0.8248\n",
            "Epoch 156/250\n",
            "172/172 [==============================] - 21s 122ms/step - loss: 0.4330 - accuracy: 0.8408 - val_loss: 0.5667 - val_accuracy: 0.8192\n",
            "Epoch 157/250\n",
            "172/172 [==============================] - 21s 122ms/step - loss: 0.4225 - accuracy: 0.8464 - val_loss: 0.5183 - val_accuracy: 0.8325\n",
            "Epoch 158/250\n",
            "172/172 [==============================] - 21s 122ms/step - loss: 0.4321 - accuracy: 0.8410 - val_loss: 0.5186 - val_accuracy: 0.8293\n",
            "Epoch 159/250\n",
            "172/172 [==============================] - 21s 122ms/step - loss: 0.4156 - accuracy: 0.8486 - val_loss: 0.5172 - val_accuracy: 0.8320\n",
            "Epoch 160/250\n",
            "172/172 [==============================] - 21s 122ms/step - loss: 0.3938 - accuracy: 0.8556 - val_loss: 0.5160 - val_accuracy: 0.8354\n",
            "Epoch 161/250\n",
            "172/172 [==============================] - 21s 123ms/step - loss: 0.3982 - accuracy: 0.8533 - val_loss: 0.5371 - val_accuracy: 0.8315\n",
            "Epoch 162/250\n",
            "172/172 [==============================] - 21s 122ms/step - loss: 0.4021 - accuracy: 0.8526 - val_loss: 0.5095 - val_accuracy: 0.8351\n",
            "Epoch 163/250\n",
            "172/172 [==============================] - 21s 122ms/step - loss: 0.3973 - accuracy: 0.8549 - val_loss: 0.5153 - val_accuracy: 0.8393\n",
            "Epoch 164/250\n",
            "172/172 [==============================] - 21s 122ms/step - loss: 0.3951 - accuracy: 0.8554 - val_loss: 0.5304 - val_accuracy: 0.8378\n",
            "Epoch 165/250\n",
            "172/172 [==============================] - 21s 123ms/step - loss: 0.3938 - accuracy: 0.8559 - val_loss: 0.5064 - val_accuracy: 0.8397\n",
            "Epoch 166/250\n",
            "172/172 [==============================] - 21s 122ms/step - loss: 0.3877 - accuracy: 0.8589 - val_loss: 0.4947 - val_accuracy: 0.8402\n",
            "Epoch 167/250\n",
            "172/172 [==============================] - 21s 122ms/step - loss: 0.3986 - accuracy: 0.8536 - val_loss: 0.5267 - val_accuracy: 0.8325\n",
            "Epoch 168/250\n",
            "172/172 [==============================] - 21s 122ms/step - loss: 0.3813 - accuracy: 0.8613 - val_loss: 0.5237 - val_accuracy: 0.8374\n",
            "Epoch 169/250\n",
            "172/172 [==============================] - 21s 122ms/step - loss: 0.3973 - accuracy: 0.8589 - val_loss: 0.5787 - val_accuracy: 0.8119\n",
            "Epoch 170/250\n",
            "172/172 [==============================] - 21s 122ms/step - loss: 0.3879 - accuracy: 0.8589 - val_loss: 0.5437 - val_accuracy: 0.8335\n",
            "Epoch 171/250\n",
            "172/172 [==============================] - 21s 123ms/step - loss: 0.3885 - accuracy: 0.8595 - val_loss: 0.5443 - val_accuracy: 0.8305\n",
            "Epoch 172/250\n",
            "172/172 [==============================] - 21s 122ms/step - loss: 0.3776 - accuracy: 0.8633 - val_loss: 0.5078 - val_accuracy: 0.8423\n",
            "Epoch 173/250\n",
            "172/172 [==============================] - 21s 122ms/step - loss: 0.3565 - accuracy: 0.8706 - val_loss: 0.5315 - val_accuracy: 0.8341\n",
            "Epoch 174/250\n",
            "172/172 [==============================] - 21s 122ms/step - loss: 0.3595 - accuracy: 0.8707 - val_loss: 0.5247 - val_accuracy: 0.8368\n",
            "Epoch 175/250\n",
            "172/172 [==============================] - 21s 123ms/step - loss: 0.3616 - accuracy: 0.8698 - val_loss: 0.5261 - val_accuracy: 0.8407\n",
            "Epoch 176/250\n",
            "172/172 [==============================] - 21s 122ms/step - loss: 0.3650 - accuracy: 0.8691 - val_loss: 0.5408 - val_accuracy: 0.8329\n",
            "Epoch 177/250\n",
            "172/172 [==============================] - 21s 122ms/step - loss: 0.3669 - accuracy: 0.8681 - val_loss: 0.5177 - val_accuracy: 0.8419\n",
            "Epoch 178/250\n",
            "172/172 [==============================] - 21s 123ms/step - loss: 0.3576 - accuracy: 0.8707 - val_loss: 0.5198 - val_accuracy: 0.8412\n",
            "Epoch 179/250\n",
            "172/172 [==============================] - 21s 122ms/step - loss: 0.3671 - accuracy: 0.8675 - val_loss: 0.5389 - val_accuracy: 0.8331\n",
            "Epoch 180/250\n",
            "172/172 [==============================] - 21s 122ms/step - loss: 0.3533 - accuracy: 0.8732 - val_loss: 0.5033 - val_accuracy: 0.8467\n",
            "Epoch 181/250\n",
            "172/172 [==============================] - 21s 122ms/step - loss: 0.3499 - accuracy: 0.8742 - val_loss: 0.5219 - val_accuracy: 0.8379\n",
            "Epoch 182/250\n",
            "172/172 [==============================] - 21s 123ms/step - loss: 0.3443 - accuracy: 0.8765 - val_loss: 0.5174 - val_accuracy: 0.8447\n",
            "Epoch 183/250\n",
            "172/172 [==============================] - 21s 122ms/step - loss: 0.3432 - accuracy: 0.8766 - val_loss: 0.5219 - val_accuracy: 0.8453\n",
            "Epoch 184/250\n",
            "172/172 [==============================] - 21s 123ms/step - loss: 0.3511 - accuracy: 0.8739 - val_loss: 0.5091 - val_accuracy: 0.8427\n",
            "Epoch 185/250\n",
            "172/172 [==============================] - 21s 123ms/step - loss: 0.3431 - accuracy: 0.8755 - val_loss: 0.5513 - val_accuracy: 0.8408\n",
            "Epoch 186/250\n",
            "172/172 [==============================] - 21s 123ms/step - loss: 0.3522 - accuracy: 0.8744 - val_loss: 0.5122 - val_accuracy: 0.8459\n",
            "Epoch 187/250\n",
            "172/172 [==============================] - 21s 123ms/step - loss: 0.3517 - accuracy: 0.8748 - val_loss: 0.5150 - val_accuracy: 0.8444\n",
            "Epoch 188/250\n",
            "172/172 [==============================] - 21s 123ms/step - loss: 0.3357 - accuracy: 0.8784 - val_loss: 0.5247 - val_accuracy: 0.8422\n",
            "Epoch 189/250\n",
            "172/172 [==============================] - 21s 123ms/step - loss: 0.3431 - accuracy: 0.8767 - val_loss: 0.5270 - val_accuracy: 0.8383\n",
            "Epoch 190/250\n",
            "172/172 [==============================] - 21s 123ms/step - loss: 0.3425 - accuracy: 0.8770 - val_loss: 0.4972 - val_accuracy: 0.8471\n",
            "Epoch 191/250\n",
            "172/172 [==============================] - 21s 123ms/step - loss: 0.3309 - accuracy: 0.8819 - val_loss: 0.5120 - val_accuracy: 0.8520\n",
            "Epoch 192/250\n",
            "172/172 [==============================] - 21s 124ms/step - loss: 0.3190 - accuracy: 0.8849 - val_loss: 0.5341 - val_accuracy: 0.8477\n",
            "Epoch 193/250\n",
            "172/172 [==============================] - 21s 123ms/step - loss: 0.3211 - accuracy: 0.8835 - val_loss: 0.4923 - val_accuracy: 0.8533\n",
            "Epoch 194/250\n",
            "172/172 [==============================] - 21s 122ms/step - loss: 0.3200 - accuracy: 0.8856 - val_loss: 0.4962 - val_accuracy: 0.8552\n",
            "Epoch 195/250\n",
            "172/172 [==============================] - 21s 122ms/step - loss: 0.3193 - accuracy: 0.8862 - val_loss: 0.5194 - val_accuracy: 0.8501\n",
            "Epoch 196/250\n",
            "172/172 [==============================] - 21s 122ms/step - loss: 0.3253 - accuracy: 0.8822 - val_loss: 0.5130 - val_accuracy: 0.8425\n",
            "Epoch 197/250\n",
            "172/172 [==============================] - 21s 122ms/step - loss: 0.3365 - accuracy: 0.8782 - val_loss: 0.5150 - val_accuracy: 0.8513\n",
            "Epoch 198/250\n",
            "172/172 [==============================] - 21s 122ms/step - loss: 0.3152 - accuracy: 0.8867 - val_loss: 0.5243 - val_accuracy: 0.8497\n",
            "Epoch 199/250\n",
            "172/172 [==============================] - 21s 122ms/step - loss: 0.3115 - accuracy: 0.8884 - val_loss: 0.5128 - val_accuracy: 0.8520\n",
            "Epoch 200/250\n",
            "172/172 [==============================] - 21s 122ms/step - loss: 0.3424 - accuracy: 0.8793 - val_loss: 0.4863 - val_accuracy: 0.8578\n",
            "Epoch 201/250\n",
            "172/172 [==============================] - 21s 122ms/step - loss: 0.3090 - accuracy: 0.8894 - val_loss: 0.4839 - val_accuracy: 0.8587\n",
            "Epoch 202/250\n",
            "172/172 [==============================] - 21s 123ms/step - loss: 0.3214 - accuracy: 0.8859 - val_loss: 0.5129 - val_accuracy: 0.8450\n",
            "Epoch 203/250\n",
            "172/172 [==============================] - 21s 122ms/step - loss: 0.3111 - accuracy: 0.8896 - val_loss: 0.4991 - val_accuracy: 0.8544\n",
            "Epoch 204/250\n",
            "172/172 [==============================] - 21s 122ms/step - loss: 0.3157 - accuracy: 0.8868 - val_loss: 0.4891 - val_accuracy: 0.8587\n",
            "Epoch 205/250\n",
            "172/172 [==============================] - 21s 122ms/step - loss: 0.3157 - accuracy: 0.8880 - val_loss: 0.4779 - val_accuracy: 0.8623\n",
            "Epoch 206/250\n",
            "172/172 [==============================] - 21s 122ms/step - loss: 0.2999 - accuracy: 0.8926 - val_loss: 0.5067 - val_accuracy: 0.8553\n",
            "Epoch 207/250\n",
            "172/172 [==============================] - 21s 123ms/step - loss: 0.2934 - accuracy: 0.8949 - val_loss: 0.4948 - val_accuracy: 0.8566\n",
            "Epoch 208/250\n",
            "172/172 [==============================] - 21s 122ms/step - loss: 0.2863 - accuracy: 0.8981 - val_loss: 0.5221 - val_accuracy: 0.8526\n",
            "Epoch 209/250\n",
            "172/172 [==============================] - 21s 122ms/step - loss: 0.2949 - accuracy: 0.8935 - val_loss: 0.4919 - val_accuracy: 0.8585\n",
            "Epoch 210/250\n",
            "172/172 [==============================] - 21s 123ms/step - loss: 0.3032 - accuracy: 0.8934 - val_loss: 0.4965 - val_accuracy: 0.8633\n",
            "Epoch 211/250\n",
            "172/172 [==============================] - 21s 123ms/step - loss: 0.2892 - accuracy: 0.8971 - val_loss: 0.4912 - val_accuracy: 0.8594\n",
            "Epoch 212/250\n",
            "172/172 [==============================] - 21s 123ms/step - loss: 0.2857 - accuracy: 0.9004 - val_loss: 0.5065 - val_accuracy: 0.8591\n",
            "Epoch 213/250\n",
            "172/172 [==============================] - 21s 123ms/step - loss: 0.2963 - accuracy: 0.8953 - val_loss: 0.4855 - val_accuracy: 0.8607\n",
            "Epoch 214/250\n",
            "172/172 [==============================] - 21s 122ms/step - loss: 0.2855 - accuracy: 0.8998 - val_loss: 0.4857 - val_accuracy: 0.8618\n",
            "Epoch 215/250\n",
            "172/172 [==============================] - 21s 122ms/step - loss: 0.2874 - accuracy: 0.8982 - val_loss: 0.4774 - val_accuracy: 0.8618\n",
            "Epoch 216/250\n",
            "172/172 [==============================] - 21s 122ms/step - loss: 0.2869 - accuracy: 0.8992 - val_loss: 0.4911 - val_accuracy: 0.8602\n",
            "Epoch 217/250\n",
            "172/172 [==============================] - 21s 123ms/step - loss: 0.2868 - accuracy: 0.8990 - val_loss: 0.4840 - val_accuracy: 0.8638\n",
            "Epoch 218/250\n",
            "172/172 [==============================] - 21s 123ms/step - loss: 0.2850 - accuracy: 0.9007 - val_loss: 0.5405 - val_accuracy: 0.8530\n",
            "Epoch 219/250\n",
            "172/172 [==============================] - 21s 122ms/step - loss: 0.2924 - accuracy: 0.8973 - val_loss: 0.4796 - val_accuracy: 0.8682\n",
            "Epoch 220/250\n",
            "172/172 [==============================] - 21s 123ms/step - loss: 0.2739 - accuracy: 0.9043 - val_loss: 0.4818 - val_accuracy: 0.8654\n",
            "Epoch 221/250\n",
            "172/172 [==============================] - 21s 123ms/step - loss: 0.2803 - accuracy: 0.9024 - val_loss: 0.5001 - val_accuracy: 0.8622\n",
            "Epoch 222/250\n",
            "172/172 [==============================] - 21s 122ms/step - loss: 0.2849 - accuracy: 0.8999 - val_loss: 0.5056 - val_accuracy: 0.8528\n",
            "Epoch 223/250\n",
            "172/172 [==============================] - 21s 123ms/step - loss: 0.2792 - accuracy: 0.9027 - val_loss: 0.4896 - val_accuracy: 0.8659\n",
            "Epoch 224/250\n",
            "172/172 [==============================] - 21s 122ms/step - loss: 0.2954 - accuracy: 0.8960 - val_loss: 0.4722 - val_accuracy: 0.8662\n",
            "Epoch 225/250\n",
            "172/172 [==============================] - 21s 122ms/step - loss: 0.2853 - accuracy: 0.8996 - val_loss: 0.4987 - val_accuracy: 0.8629\n",
            "Epoch 226/250\n",
            "172/172 [==============================] - 21s 122ms/step - loss: 0.2779 - accuracy: 0.9034 - val_loss: 0.4948 - val_accuracy: 0.8585\n",
            "Epoch 227/250\n",
            "172/172 [==============================] - 21s 122ms/step - loss: 0.2788 - accuracy: 0.9025 - val_loss: 0.4736 - val_accuracy: 0.8674\n",
            "Epoch 228/250\n",
            "172/172 [==============================] - 21s 122ms/step - loss: 0.2637 - accuracy: 0.9065 - val_loss: 0.4903 - val_accuracy: 0.8666\n",
            "Epoch 229/250\n",
            "172/172 [==============================] - 21s 123ms/step - loss: 0.2662 - accuracy: 0.9056 - val_loss: 0.4846 - val_accuracy: 0.8735\n",
            "Epoch 230/250\n",
            "172/172 [==============================] - 21s 122ms/step - loss: 0.2652 - accuracy: 0.9072 - val_loss: 0.4713 - val_accuracy: 0.8702\n",
            "Epoch 231/250\n",
            "172/172 [==============================] - 21s 122ms/step - loss: 0.2582 - accuracy: 0.9107 - val_loss: 0.4575 - val_accuracy: 0.8737\n",
            "Epoch 232/250\n",
            "172/172 [==============================] - 21s 122ms/step - loss: 0.2782 - accuracy: 0.9033 - val_loss: 0.4689 - val_accuracy: 0.8690\n",
            "Epoch 233/250\n",
            "172/172 [==============================] - 21s 123ms/step - loss: 0.2678 - accuracy: 0.9073 - val_loss: 0.4529 - val_accuracy: 0.8697\n",
            "Epoch 234/250\n",
            "172/172 [==============================] - 21s 122ms/step - loss: 0.2558 - accuracy: 0.9109 - val_loss: 0.4769 - val_accuracy: 0.8719\n",
            "Epoch 235/250\n",
            "172/172 [==============================] - 21s 122ms/step - loss: 0.2706 - accuracy: 0.9056 - val_loss: 0.4785 - val_accuracy: 0.8666\n",
            "Epoch 236/250\n",
            "172/172 [==============================] - 21s 123ms/step - loss: 0.2571 - accuracy: 0.9084 - val_loss: 0.5010 - val_accuracy: 0.8690\n",
            "Epoch 237/250\n",
            "172/172 [==============================] - 21s 123ms/step - loss: 0.2603 - accuracy: 0.9087 - val_loss: 0.4909 - val_accuracy: 0.8724\n",
            "Epoch 238/250\n",
            "172/172 [==============================] - 21s 123ms/step - loss: 0.2574 - accuracy: 0.9095 - val_loss: 0.4881 - val_accuracy: 0.8706\n",
            "Epoch 239/250\n",
            "172/172 [==============================] - 21s 123ms/step - loss: 0.2547 - accuracy: 0.9115 - val_loss: 0.4743 - val_accuracy: 0.8742\n",
            "Epoch 240/250\n",
            "172/172 [==============================] - 21s 123ms/step - loss: 0.2631 - accuracy: 0.9077 - val_loss: 0.4738 - val_accuracy: 0.8706\n",
            "Epoch 241/250\n",
            "172/172 [==============================] - 21s 123ms/step - loss: 0.2579 - accuracy: 0.9106 - val_loss: 0.4658 - val_accuracy: 0.8706\n",
            "Epoch 242/250\n",
            "172/172 [==============================] - 21s 123ms/step - loss: 0.2531 - accuracy: 0.9119 - val_loss: 0.5029 - val_accuracy: 0.8695\n",
            "Epoch 243/250\n",
            "172/172 [==============================] - 21s 123ms/step - loss: 0.2526 - accuracy: 0.9127 - val_loss: 0.4760 - val_accuracy: 0.8701\n",
            "Epoch 244/250\n",
            "172/172 [==============================] - 21s 123ms/step - loss: 0.2413 - accuracy: 0.9154 - val_loss: 0.4918 - val_accuracy: 0.8717\n",
            "Epoch 245/250\n",
            "172/172 [==============================] - 21s 123ms/step - loss: 0.2498 - accuracy: 0.9136 - val_loss: 0.4654 - val_accuracy: 0.8751\n",
            "Epoch 246/250\n",
            "172/172 [==============================] - 21s 123ms/step - loss: 0.2576 - accuracy: 0.9109 - val_loss: 0.4800 - val_accuracy: 0.8707\n",
            "Epoch 247/250\n",
            "172/172 [==============================] - 21s 123ms/step - loss: 0.2368 - accuracy: 0.9168 - val_loss: 0.4558 - val_accuracy: 0.8781\n",
            "Epoch 248/250\n",
            "172/172 [==============================] - 21s 123ms/step - loss: 0.2574 - accuracy: 0.9101 - val_loss: 0.4716 - val_accuracy: 0.8740\n",
            "Epoch 249/250\n",
            "172/172 [==============================] - 21s 123ms/step - loss: 0.2373 - accuracy: 0.9168 - val_loss: 0.4787 - val_accuracy: 0.8749\n",
            "Epoch 250/250\n",
            "172/172 [==============================] - 21s 123ms/step - loss: 0.2385 - accuracy: 0.9176 - val_loss: 0.4725 - val_accuracy: 0.8787\n"
          ]
        }
      ]
    },
    {
      "cell_type": "code",
      "metadata": {
        "id": "7sO_7Ov2MEzA",
        "colab": {
          "base_uri": "https://localhost:8080/"
        },
        "outputId": "f89ab2fa-3b88-4930-8008-5fb69b0d18b7"
      },
      "source": [
        "score = model.evaluate(x_test, y_test, verbose=1)\n",
        "print('Test loss:', score[0])\n",
        "print('Test accuracy:', score[1])"
      ],
      "execution_count": null,
      "outputs": [
        {
          "output_type": "stream",
          "name": "stdout",
          "text": [
            "458/458 [==============================] - 9s 20ms/step - loss: 0.4725 - accuracy: 0.8787\n",
            "Test loss: 0.4725044369697571\n",
            "Test accuracy: 0.8786885142326355\n"
          ]
        }
      ]
    },
    {
      "cell_type": "code",
      "source": [
        "y_test"
      ],
      "metadata": {
        "colab": {
          "base_uri": "https://localhost:8080/"
        },
        "id": "d1ikp4NtRqpn",
        "outputId": "0c93a664-5ed3-47d0-ad28-3702b76112ec"
      },
      "execution_count": null,
      "outputs": [
        {
          "output_type": "execute_result",
          "data": {
            "text/plain": [
              "array([[0., 0., 0., ..., 1., 0., 0.],\n",
              "       [0., 0., 0., ..., 1., 0., 0.],\n",
              "       [0., 0., 0., ..., 1., 0., 0.],\n",
              "       ...,\n",
              "       [0., 0., 0., ..., 0., 0., 0.],\n",
              "       [0., 0., 0., ..., 0., 0., 0.],\n",
              "       [0., 0., 0., ..., 0., 0., 0.]], dtype=float32)"
            ]
          },
          "metadata": {},
          "execution_count": 126
        }
      ]
    },
    {
      "cell_type": "code",
      "metadata": {
        "id": "-efHnyavME21",
        "colab": {
          "base_uri": "https://localhost:8080/",
          "height": 313
        },
        "outputId": "ddae5b50-e7c0-43ce-ab28-1bd1a009f81d"
      },
      "source": [
        "import matplotlib.pyplot as plt\n",
        "print(m.history.keys())\n",
        "# summarize history for accuracy\n",
        "plt.plot(m.history['accuracy'])\n",
        "plt.plot(m.history['val_accuracy'])\n",
        "plt.title('model accuracy')\n",
        "plt.ylabel('accuracy')\n",
        "plt.xlabel('epoch')\n",
        "plt.legend(['train', 'test'], loc='upper left')\n",
        "plt.show()\n"
      ],
      "execution_count": null,
      "outputs": [
        {
          "output_type": "stream",
          "name": "stdout",
          "text": [
            "dict_keys(['loss', 'accuracy', 'val_loss', 'val_accuracy'])\n"
          ]
        },
        {
          "output_type": "display_data",
          "data": {
            "text/plain": [
              "<Figure size 432x288 with 1 Axes>"
            ],
            "image/png": "[encoded data removed]"
          },
          "metadata": {
            "needs_background": "light"
          }
        }
      ]
    },
    {
      "cell_type": "code",
      "metadata": {
        "id": "KOGAS8W-ME5i",
        "colab": {
          "base_uri": "https://localhost:8080/",
          "height": 295
        },
        "outputId": "96d10c33-fdaa-492e-b61b-77179a86377d"
      },
      "source": [
        "# summarize history for loss\n",
        "plt.plot(m.history['loss'])\n",
        "plt.plot(m.history['val_loss'])\n",
        "plt.title('model loss')\n",
        "plt.ylabel('loss')\n",
        "plt.xlabel('epoch')\n",
        "plt.legend(['train', 'test'], loc='upper left')\n",
        "plt.show()"
      ],
      "execution_count": null,
      "outputs": [
        {
          "output_type": "display_data",
          "data": {
            "text/plain": [
              "<Figure size 432x288 with 1 Axes>"
            ],
            "image/png": "[encoded data removed]"
          },
          "metadata": {
            "needs_background": "light"
          }
        }
      ]
    },
    {
      "cell_type": "code",
      "metadata": {
        "id": "al-HTvN0ME87",
        "colab": {
          "base_uri": "https://localhost:8080/",
          "height": 295
        },
        "outputId": "c8bfc9cd-6690-4a38-ce2a-8b158680370c"
      },
      "source": [
        "plt.plot(m.history['val_accuracy'])\n",
        "plt.plot(m.history['val_loss'])\n",
        "plt.title('test model')\n",
        "plt.ylabel('test accuracy')\n",
        "plt.xlabel('test loss')\n",
        "plt.show()"
      ],
      "execution_count": null,
      "outputs": [
        {
          "output_type": "display_data",
          "data": {
            "text/plain": [
              "<Figure size 432x288 with 1 Axes>"
            ],
            "image/png": "[encoded data removed]"
          },
          "metadata": {
            "needs_background": "light"
          }
        }
      ]
    },
    {
      "cell_type": "code",
      "metadata": {
        "id": "7yOindOjMFDJ",
        "colab": {
          "base_uri": "https://localhost:8080/"
        },
        "outputId": "16726ca0-4bc3-4003-cb89-375270dd11f6"
      },
      "source": [
        "y_pred=model.predict(x_test)\n",
        "from sklearn.metrics import confusion_matrix\n",
        "import numpy as np\n",
        "y_test1=np.argmax(y_test, axis=1)"
      ],
      "execution_count": null,
      "outputs": [
        {
          "output_type": "stream",
          "name": "stdout",
          "text": [
            "458/458 [==============================] - 9s 19ms/step\n"
          ]
        }
      ]
    },
    {
      "cell_type": "code",
      "source": [
        "y_pred1=np.argmax(y_pred,axis=1)"
      ],
      "metadata": {
        "id": "6F8Y5EHmQ8pR"
      },
      "execution_count": null,
      "outputs": []
    },
    {
      "cell_type": "code",
      "source": [
        "y_pred1.shape"
      ],
      "metadata": {
        "colab": {
          "base_uri": "https://localhost:8080/"
        },
        "id": "2xP3nSiwPbpF",
        "outputId": "938d608c-4a01-4a95-e382-fe6395e0d03b"
      },
      "execution_count": null,
      "outputs": [
        {
          "output_type": "execute_result",
          "data": {
            "text/plain": [
              "(14640,)"
            ]
          },
          "metadata": {},
          "execution_count": 130
        }
      ]
    },
    {
      "cell_type": "code",
      "source": [
        "y_test1.shape"
      ],
      "metadata": {
        "colab": {
          "base_uri": "https://localhost:8080/"
        },
        "id": "nw2Cr-81PkkG",
        "outputId": "1cb133c6-f5a0-4734-a9c5-d265118e4de2"
      },
      "execution_count": null,
      "outputs": [
        {
          "output_type": "execute_result",
          "data": {
            "text/plain": [
              "(14640,)"
            ]
          },
          "metadata": {},
          "execution_count": 131
        }
      ]
    },
    {
      "cell_type": "code",
      "source": [
        "cmatrix=confusion_matrix(y_test1, y_pred1)"
      ],
      "metadata": {
        "id": "TjsA4RPZ1Npe"
      },
      "execution_count": null,
      "outputs": []
    },
    {
      "cell_type": "code",
      "source": [
        "import seaborn as sns\n",
        "fig, ax = plt.subplots(figsize=(10, 10))\n",
        "sns.heatmap(cmatrix, annot=True,cbar=False, fmt='g', ax=ax, cmap=plt.cm.Blues );  #annot=True to annotate cells, ftm='g' to disable scientific notation\n",
        "\n",
        "# labels, title and ticks\n",
        "ax.set_xlabel('Predicted labels');\n",
        "ax.set_ylabel('True labels'); \n",
        "ax.set_title('Confusion Matrix'); \n",
        "ax.xaxis.set_ticklabels([\"happy\", \"suprise\", \"relaxed\",\"calm\", \"sad\", \"sleepy\",\"nervous\",\"upset\"]);\n",
        "ax.yaxis.set_ticklabels([\"happy\", \"suprise\", \"relaxed\",\"calm\", \"sad\", \"sleepy\",\"nervous\",\"upset\"]);"
      ],
      "metadata": {
        "colab": {
          "base_uri": "https://localhost:8080/",
          "height": 621
        },
        "id": "GiDpnYFV1KyL",
        "outputId": "b9e2355a-4a6a-491b-f8ee-58c7098a493d"
      },
      "execution_count": null,
      "outputs": [
        {
          "output_type": "display_data",
          "data": {
            "text/plain": [
              "<Figure size 720x720 with 1 Axes>"
            ],
            "image/png": "[encoded data removed]"
          },
          "metadata": {
            "needs_background": "light"
          }
        }
      ]
    },
    {
      "cell_type": "code",
      "metadata": {
        "id": "u-sVlJy1P4Bu"
      },
      "source": [
        "# Load the library    \n",
        "from tensorflow.keras.models import load_model\n",
        "# Save the model using TensorFlow SavedModel format\n",
        "model.save('/content/drive/My Drive/LEADING_AI/70_30/fft_lstm_75-25_model_liking.h5')"
      ],
      "execution_count": null,
      "outputs": []
    },
    {
      "cell_type": "code",
      "metadata": {
        "id": "ffjbx3-SQZNM"
      },
      "source": [],
      "execution_count": null,
      "outputs": []
    }
  ]
}