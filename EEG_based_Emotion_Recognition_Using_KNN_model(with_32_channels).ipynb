{
  "nbformat": 4,
  "nbformat_minor": 0,
  "metadata": {
    "colab": {
      "provenance": [],
      "collapsed_sections": [],
      "include_colab_link": true
    },
    "kernelspec": {
      "name": "python3",
      "display_name": "Python 3"
    },
    "language_info": {
      "name": "python"
    }
  },
  "cells": [
    {
      "cell_type": "markdown",
      "metadata": {
        "id": "view-in-github",
        "colab_type": "text"
      },
      "source": [
        "<a href=\"https://colab.research.google.com/github/Zobia12/EEG_Based_Human_Emotion_Recognition_Using_Deep_Learning/blob/main/EEG_based_Emotion_Recognition_Using_KNN_model(with_32_channels).ipynb\" target=\"_parent\"><img src=\"https://colab.research.google.com/assets/colab-badge.svg\" alt=\"Open In Colab\"/></a>"
      ]
    },
    {
      "cell_type": "code",
      "execution_count": 76,
      "metadata": {
        "id": "rbo8RfXxXheR"
      },
      "outputs": [],
      "source": [
        "import numpy as np\n",
        "import seaborn as sns"
      ]
    },
    {
      "cell_type": "code",
      "source": [
        "import pickle\n",
        "import numpy\n",
        "from sklearn.neighbors import KNeighborsClassifier\n",
        "from sklearn.model_selection import train_test_split\n",
        "from sklearn.metrics import confusion_matrix\n",
        "from sklearn.metrics import accuracy_score"
      ],
      "metadata": {
        "id": "374VIWhfXmgc"
      },
      "execution_count": 77,
      "outputs": []
    },
    {
      "cell_type": "code",
      "source": [
        "from google.colab import drive\n",
        "drive.mount('/content/drive/')"
      ],
      "metadata": {
        "colab": {
          "base_uri": "https://localhost:8080/"
        },
        "id": "XtXSyYadXpkQ",
        "outputId": "ed6a8926-9379-4e37-fd6b-899c2451701e"
      },
      "execution_count": 78,
      "outputs": [
        {
          "output_type": "stream",
          "name": "stdout",
          "text": [
            "Drive already mounted at /content/drive/; to attempt to forcibly remount, call drive.mount(\"/content/drive/\", force_remount=True).\n"
          ]
        }
      ]
    },
    {
      "cell_type": "code",
      "metadata": {
        "id": "JOXuEM0JwJqI"
      },
      "source": [
        "# data_preprocessed_python\n",
        "os.getcwd()\n",
        "os.chdir('/content/drive/My Drive')"
      ],
      "execution_count": 79,
      "outputs": []
    },
    {
      "cell_type": "code",
      "source": [
        "nLabel, nTrial, nUser, nChannel, nTime  = 4, 40, 32, 40, 8064\n",
        "no_of_users=32\n",
        "def convertData():\n",
        "    print(\"Program started\"+\"\\n\")\n",
        "    fout_data = open(\"/content/drive/My Drive/leading_ai/try/features_raw.dat\",'w')\n",
        "    fout_labels0 = open(\"/content/drive/My Drive/leading_ai/try/labels_0.dat\",'w')\n",
        "    fout_labels1 = open(\"/content/drive/My Drive/leading_ai/try/labels_1.dat\",'w')\n",
        "    fout_labels2 = open(\"/content/drive/My Drive/leading_ai/try/labels_2.dat\",'w')\n",
        "    fout_labels3 = open(\"/content/drive/My Drive/leading_ai/try/labels_3.dat\",'w')\n",
        "    for i in range(no_of_users):  #nUser #4, 40, 32, 40, 8064 4 labels, 40 sample for each user, 32 such user, 40 electrode, 8064*40 features\n",
        "        if(i%1 == 0):\n",
        "            if i < 10:\n",
        "                name = '%0*d' % (2,i+1)\n",
        "            else:\n",
        "                name = i+1\n",
        "        fname = \"/content/drive/My Drive/leading_ai/try/s\"+str(name)+\".dat\"     \n",
        "        f = open(fname, 'rb')                 #Read the file in Binary mode\n",
        "        x = pickle.load(f, encoding='latin1')\n",
        "        print(fname)                          \n",
        "    \t\n",
        "        for tr in range(nTrial):\n",
        "            if(tr%1 == 0):\n",
        "                for dat in range(nTime):\n",
        "                    if(dat%32 == 0):\n",
        "                        for ch in range(nChannel):\n",
        "                            fout_data.write(str(x['data'][tr][ch][dat]) + \" \");\n",
        "                fout_labels0.write(str(x['labels'][tr][0]) + \"\\n\");\n",
        "                fout_labels1.write(str(x['labels'][tr][1]) + \"\\n\");\n",
        "                fout_labels2.write(str(x['labels'][tr][2]) + \"\\n\");\n",
        "                fout_labels3.write(str(x['labels'][tr][3]) + \"\\n\");\n",
        "                fout_data.write(\"\\n\");\n",
        "    fout_labels0.close()\n",
        "    fout_labels1.close()\n",
        "    fout_labels2.close()\n",
        "    fout_labels3.close()\n",
        "    fout_data.close()\n",
        "    print(\"\\n\"+\"Print Successful\")\n",
        "\n",
        "if __name__ == '__main__':\n",
        "    convertData()\n"
      ],
      "metadata": {
        "id": "S1JPJnR0UoS_",
        "outputId": "3bd5ded9-44f8-4066-a5e1-1fa8b49722a6",
        "colab": {
          "base_uri": "https://localhost:8080/"
        }
      },
      "execution_count": 80,
      "outputs": [
        {
          "output_type": "stream",
          "name": "stdout",
          "text": [
            "Program started\n",
            "\n",
            "/content/drive/My Drive/leading_ai/try/s01.dat\n",
            "/content/drive/My Drive/leading_ai/try/s02.dat\n",
            "/content/drive/My Drive/leading_ai/try/s03.dat\n",
            "/content/drive/My Drive/leading_ai/try/s04.dat\n",
            "/content/drive/My Drive/leading_ai/try/s05.dat\n",
            "/content/drive/My Drive/leading_ai/try/s06.dat\n",
            "/content/drive/My Drive/leading_ai/try/s07.dat\n",
            "/content/drive/My Drive/leading_ai/try/s08.dat\n",
            "/content/drive/My Drive/leading_ai/try/s09.dat\n",
            "/content/drive/My Drive/leading_ai/try/s10.dat\n",
            "/content/drive/My Drive/leading_ai/try/s11.dat\n",
            "/content/drive/My Drive/leading_ai/try/s12.dat\n",
            "/content/drive/My Drive/leading_ai/try/s13.dat\n",
            "/content/drive/My Drive/leading_ai/try/s14.dat\n",
            "/content/drive/My Drive/leading_ai/try/s15.dat\n",
            "/content/drive/My Drive/leading_ai/try/s16.dat\n",
            "/content/drive/My Drive/leading_ai/try/s17.dat\n",
            "/content/drive/My Drive/leading_ai/try/s18.dat\n",
            "/content/drive/My Drive/leading_ai/try/s19.dat\n",
            "/content/drive/My Drive/leading_ai/try/s20.dat\n",
            "/content/drive/My Drive/leading_ai/try/s21.dat\n",
            "/content/drive/My Drive/leading_ai/try/s22.dat\n",
            "/content/drive/My Drive/leading_ai/try/s23.dat\n",
            "/content/drive/My Drive/leading_ai/try/s24.dat\n",
            "/content/drive/My Drive/leading_ai/try/s25.dat\n",
            "/content/drive/My Drive/leading_ai/try/s26.dat\n",
            "/content/drive/My Drive/leading_ai/try/s27.dat\n",
            "/content/drive/My Drive/leading_ai/try/s28.dat\n",
            "/content/drive/My Drive/leading_ai/try/s29.dat\n",
            "/content/drive/My Drive/leading_ai/try/s30.dat\n",
            "/content/drive/My Drive/leading_ai/try/s31.dat\n",
            "/content/drive/My Drive/leading_ai/try/s32.dat\n",
            "\n",
            "Print Successful\n"
          ]
        }
      ]
    },
    {
      "cell_type": "code",
      "source": [
        "def onehotencoding0():\n",
        "    print(\"Program started\"+\"\\n\")\n",
        "    fout_labels_class = open(\"/content/drive/My Drive/leading_ai/try/label_class_0.dat\",'w')\n",
        "    \n",
        "    with open('/content/drive/My Drive/leading_ai/try/labels_0.dat','r') as f:\n",
        "        for val in f:\n",
        "            if float(val) > 4.5:\n",
        "                fout_labels_class.write(str(1) + \"\\n\");\n",
        "            else:\n",
        "                fout_labels_class.write(str(0) + \"\\n\");\n",
        "                \n",
        "    print(\"Encoded label 0\"+\"\\n\")\n",
        "if __name__ == '__main__':\n",
        "    onehotencoding0()"
      ],
      "metadata": {
        "id": "8V1rdIVUZ6m_",
        "outputId": "2ff9cf6f-b387-44b6-e1d4-47c58b0510d9",
        "colab": {
          "base_uri": "https://localhost:8080/"
        }
      },
      "execution_count": 81,
      "outputs": [
        {
          "output_type": "stream",
          "name": "stdout",
          "text": [
            "Program started\n",
            "\n",
            "Encoded label 0\n",
            "\n"
          ]
        }
      ]
    },
    {
      "cell_type": "code",
      "source": [
        "def onehotencoding1():\n",
        "    print(\"Program started\"+\"\\n\")\n",
        "    fout_labels_class = open(\"/content/drive/My Drive/leading_ai/try/label_class_1.dat\",'w')\n",
        "    \n",
        "    with open('/content/drive/My Drive/leading_ai/try/labels_1.dat','r') as f:\n",
        "        for val in f:\n",
        "            if float(val) > 4.5:\n",
        "                fout_labels_class.write(str(1) + \"\\n\");\n",
        "            else:\n",
        "                fout_labels_class.write(str(0) + \"\\n\");\n",
        "    print(\"Encoded label 1\"+\"\\n\")\n",
        "if __name__ == '__main__':\n",
        "    onehotencoding1()"
      ],
      "metadata": {
        "id": "8FMIdT6vaRAW",
        "outputId": "cae8ee6c-9f1f-49d5-dfcf-f12a96d29d67",
        "colab": {
          "base_uri": "https://localhost:8080/"
        }
      },
      "execution_count": 82,
      "outputs": [
        {
          "output_type": "stream",
          "name": "stdout",
          "text": [
            "Program started\n",
            "\n",
            "Encoded label 1\n",
            "\n"
          ]
        }
      ]
    },
    {
      "cell_type": "code",
      "source": [
        "def onehotencoding2():\n",
        "    print(\"Program started\"+\"\\n\")\n",
        "    fout_labels_class = open(\"/content/drive/My Drive/leading_ai/try/label_class_2.dat\",'w')\n",
        "    \n",
        "    with open('/content/drive/My Drive/leading_ai/try/labels_2.dat','r') as f:\n",
        "        for val in f:\n",
        "            if float(val) > 4.5:\n",
        "                fout_labels_class.write(str(1) + \"\\n\");\n",
        "            else:\n",
        "                fout_labels_class.write(str(0) + \"\\n\");\n",
        "    print(\"Encoded label 2\"+\"\\n\")\n",
        "if __name__ == '__main__':\n",
        "    onehotencoding2()"
      ],
      "metadata": {
        "id": "To7bZfVbaVcJ",
        "outputId": "976d7d6b-441b-4b29-cab7-11630f94f870",
        "colab": {
          "base_uri": "https://localhost:8080/"
        }
      },
      "execution_count": 83,
      "outputs": [
        {
          "output_type": "stream",
          "name": "stdout",
          "text": [
            "Program started\n",
            "\n",
            "Encoded label 2\n",
            "\n"
          ]
        }
      ]
    },
    {
      "cell_type": "code",
      "source": [
        "def onehotencoding3():\n",
        "    print(\"Program started\"+\"\\n\")\n",
        "    fout_labels_class = open(\"/content/drive/My Drive/leading_ai/try/label_class_3.dat\",'w')\n",
        "    \n",
        "    with open('/content/drive/My Drive/leading_ai/try/labels_3.dat','r') as f:\n",
        "        for val in f:\n",
        "            if float(val) > 4.5:\n",
        "                fout_labels_class.write(str(1) + \"\\n\");\n",
        "            else:\n",
        "                fout_labels_class.write(str(0) + \"\\n\");\n",
        "    print(\"Encoded label 3\"+\"\\n\")\n",
        "if __name__ == '__main__':\n",
        "    onehotencoding3()"
      ],
      "metadata": {
        "id": "7SzaAR_ZaXtJ",
        "outputId": "f149945b-ff7b-4bca-de14-19394768536d",
        "colab": {
          "base_uri": "https://localhost:8080/"
        }
      },
      "execution_count": 84,
      "outputs": [
        {
          "output_type": "stream",
          "name": "stdout",
          "text": [
            "Program started\n",
            "\n",
            "Encoded label 3\n",
            "\n"
          ]
        }
      ]
    },
    {
      "cell_type": "markdown",
      "source": [
        "# KNN Classifier in terms of Valence"
      ],
      "metadata": {
        "id": "0Rzgm2w5hZ39"
      }
    },
    {
      "cell_type": "code",
      "source": [
        "file_x = '/content/drive/My Drive/leading_ai/try/features_sampled.dat'\n",
        "file_y = '/content/drive/My Drive/leading_ai/try/label_class_0.dat'\n",
        "    \n",
        "X = numpy.genfromtxt(file_x, delimiter=' ')\n",
        "y = numpy.genfromtxt(file_y, delimiter=' ')\n",
        "\n",
        "# Split the data into training/testing sets\n",
        "X_train, X_test, y_train, y_test = train_test_split(X, y, test_size=0.2, random_state=42)"
      ],
      "metadata": {
        "id": "1D1IwyOmaxjS"
      },
      "execution_count": 85,
      "outputs": []
    },
    {
      "cell_type": "code",
      "source": [
        "from sklearn.neighbors import KNeighborsClassifier\n",
        "from sklearn import metrics\n",
        "model = KNeighborsClassifier(n_neighbors=5)\n",
        "model.fit(X_train, y_train)"
      ],
      "metadata": {
        "id": "lNCAKon3bqr3",
        "outputId": "6e8b4a86-d642-4ac8-d984-3c07ae1a21fb",
        "colab": {
          "base_uri": "https://localhost:8080/"
        }
      },
      "execution_count": 86,
      "outputs": [
        {
          "output_type": "execute_result",
          "data": {
            "text/plain": [
              "KNeighborsClassifier()"
            ]
          },
          "metadata": {},
          "execution_count": 86
        }
      ]
    },
    {
      "cell_type": "code",
      "source": [
        "y_predict = model.predict(X_test)\n",
        "cm = confusion_matrix(y_test, y_predict)\n",
        " "
      ],
      "metadata": {
        "id": "SpIiKbW9d9Wi"
      },
      "execution_count": 87,
      "outputs": []
    },
    {
      "cell_type": "code",
      "source": [
        "print(\"Accuracy score of Valence \")\n",
        "print(accuracy_score(y_test, y_predict)*100)"
      ],
      "metadata": {
        "id": "YdIS_4XNfo-Z",
        "outputId": "b730f78a-59f5-405b-87a2-0b25e8058abc",
        "colab": {
          "base_uri": "https://localhost:8080/"
        }
      },
      "execution_count": 88,
      "outputs": [
        {
          "output_type": "stream",
          "name": "stdout",
          "text": [
            "Accuracy score of Valence \n",
            "54.296875\n"
          ]
        }
      ]
    },
    {
      "cell_type": "code",
      "source": [
        "fig, ax = plt.subplots(figsize=(4, 4))\n",
        "sns.heatmap(cm, annot=True,cbar=False, fmt='g', ax=ax, cmap=plt.cm.Blues);  #annot=True to annotate cells, ftm='g' to disable scientific notation\n",
        "\n",
        "# labels, title and ticks\n",
        "ax.set_xlabel('Predicted labels');\n",
        "ax.set_ylabel('True labels'); \n",
        "ax.set_title('Confusion Matrix of Valence');"
      ],
      "metadata": {
        "id": "m-iNxPnPfsWk",
        "outputId": "771bee2c-4bd1-400f-a3ac-8430902e753f",
        "colab": {
          "base_uri": "https://localhost:8080/",
          "height": 295
        }
      },
      "execution_count": 89,
      "outputs": [
        {
          "output_type": "display_data",
          "data": {
            "text/plain": [
              "<Figure size 288x288 with 1 Axes>"
            ],
            "image/png": "[encoded data removed]"
          },
          "metadata": {
            "needs_background": "light"
          }
        }
      ]
    },
    {
      "cell_type": "markdown",
      "source": [
        "# KNN Classifier in terms of Arousal"
      ],
      "metadata": {
        "id": "TqsmAh3mhQ-8"
      }
    },
    {
      "cell_type": "code",
      "source": [
        "file_x = '/content/drive/My Drive/leading_ai/try/features_sampled.dat'\n",
        "file_y = '/content/drive/My Drive/leading_ai/try/label_class_1.dat'\n",
        "    \n",
        "X = numpy.genfromtxt(file_x, delimiter=' ')\n",
        "y = numpy.genfromtxt(file_y, delimiter=' ')\n",
        "\n",
        "# Split the data into training/testing sets\n",
        "X_train, X_test, y_train, y_test = train_test_split(X, y, test_size=0.2, random_state=42)"
      ],
      "metadata": {
        "id": "Q_yhV_Ojepmv"
      },
      "execution_count": 90,
      "outputs": []
    },
    {
      "cell_type": "code",
      "source": [
        "from sklearn.neighbors import KNeighborsClassifier\n",
        "from sklearn import metrics\n",
        "model = KNeighborsClassifier(n_neighbors=5)\n",
        "model.fit(X_train, y_train)"
      ],
      "metadata": {
        "id": "JxZ5KGu4ezva",
        "outputId": "c8d96dc9-c1e0-4a82-8c7e-fb1326598417",
        "colab": {
          "base_uri": "https://localhost:8080/"
        }
      },
      "execution_count": 91,
      "outputs": [
        {
          "output_type": "execute_result",
          "data": {
            "text/plain": [
              "KNeighborsClassifier()"
            ]
          },
          "metadata": {},
          "execution_count": 91
        }
      ]
    },
    {
      "cell_type": "code",
      "source": [
        "y_predict = model.predict(X_test)\n",
        "cm = confusion_matrix(y_test, y_predict)"
      ],
      "metadata": {
        "id": "3dvAFE8qe560"
      },
      "execution_count": 105,
      "outputs": []
    },
    {
      "cell_type": "code",
      "source": [
        "print(\"Accuracy score of Arousal \")\n",
        "print(accuracy_score(y_test, y_predict)*100)"
      ],
      "metadata": {
        "id": "GJ2oF0H3f9f_",
        "outputId": "5da54c73-5dd1-4a33-821a-c7e6b2b16cb6",
        "colab": {
          "base_uri": "https://localhost:8080/"
        }
      },
      "execution_count": 93,
      "outputs": [
        {
          "output_type": "stream",
          "name": "stdout",
          "text": [
            "Accuracy score of Arousal \n",
            "57.421875\n"
          ]
        }
      ]
    },
    {
      "cell_type": "code",
      "source": [
        "fig, ax = plt.subplots(figsize=(4, 4))\n",
        "sns.heatmap(cm, annot=True,cbar=False, fmt='g', ax=ax, cmap=plt.cm.Blues);  #annot=True to annotate cells, ftm='g' to disable scientific notation\n",
        "\n",
        "# labels, title and ticks\n",
        "ax.set_xlabel('Predicted labels');\n",
        "ax.set_ylabel('True labels'); \n",
        "ax.set_title('Confusion Matrix of Arousal'); "
      ],
      "metadata": {
        "id": "zYH2I1hxf_8L",
        "outputId": "d0e4c38e-574e-4092-9cd5-5702ea99a52d",
        "colab": {
          "base_uri": "https://localhost:8080/",
          "height": 295
        }
      },
      "execution_count": 94,
      "outputs": [
        {
          "output_type": "display_data",
          "data": {
            "text/plain": [
              "<Figure size 288x288 with 1 Axes>"
            ],
            "image/png": "[encoded data removed]"
          },
          "metadata": {
            "needs_background": "light"
          }
        }
      ]
    },
    {
      "cell_type": "markdown",
      "source": [
        "# KNN Classifier in terms of Dominance"
      ],
      "metadata": {
        "id": "-di_Jin2hLEg"
      }
    },
    {
      "cell_type": "code",
      "source": [
        "file_x = '/content/drive/My Drive/leading_ai/try/features_sampled.dat'\n",
        "file_y = '/content/drive/My Drive/leading_ai/try/label_class_2.dat'\n",
        "    \n",
        "X = numpy.genfromtxt(file_x, delimiter=' ')\n",
        "y = numpy.genfromtxt(file_y, delimiter=' ')\n",
        "\n",
        "# Split the data into training/testing sets\n",
        "X_train, X_test, y_train, y_test = train_test_split(X, y, test_size=0.2, random_state=42)"
      ],
      "metadata": {
        "id": "cNM1SxvZfB0c"
      },
      "execution_count": 95,
      "outputs": []
    },
    {
      "cell_type": "code",
      "source": [
        "from sklearn.neighbors import KNeighborsClassifier\n",
        "from sklearn import metrics\n",
        "model = KNeighborsClassifier(n_neighbors=5)\n",
        "model.fit(X_train, y_train)"
      ],
      "metadata": {
        "id": "JURFnwN7fJCY",
        "outputId": "d18f64e7-1979-40f4-b4e7-1c6faa7dbcb9",
        "colab": {
          "base_uri": "https://localhost:8080/"
        }
      },
      "execution_count": 96,
      "outputs": [
        {
          "output_type": "execute_result",
          "data": {
            "text/plain": [
              "KNeighborsClassifier()"
            ]
          },
          "metadata": {},
          "execution_count": 96
        }
      ]
    },
    {
      "cell_type": "code",
      "source": [
        "y_predict = model.predict(X_test)\n",
        "cm = confusion_matrix(y_test, y_predict)"
      ],
      "metadata": {
        "id": "qv9syGu2e9t-"
      },
      "execution_count": 97,
      "outputs": []
    },
    {
      "cell_type": "code",
      "source": [
        "print(\"Accuracy score of Dominance \")\n",
        "print(accuracy_score(y_test, y_predict)*100)"
      ],
      "metadata": {
        "id": "fORjaqhhgh1J",
        "outputId": "3f1d4c63-a888-4854-fe34-ba2d503faeca",
        "colab": {
          "base_uri": "https://localhost:8080/"
        }
      },
      "execution_count": 98,
      "outputs": [
        {
          "output_type": "stream",
          "name": "stdout",
          "text": [
            "Accuracy score of Dominance \n",
            "58.59375\n"
          ]
        }
      ]
    },
    {
      "cell_type": "code",
      "source": [
        "fig, ax = plt.subplots(figsize=(4, 4))\n",
        "sns.heatmap(cm, annot=True,cbar=False, fmt='g', ax=ax, cmap=plt.cm.Blues);  #annot=True to annotate cells, ftm='g' to disable scientific notation\n",
        "\n",
        "# labels, title and ticks\n",
        "ax.set_xlabel('Predicted labels');\n",
        "ax.set_ylabel('True labels'); \n",
        "ax.set_title('Confusion Matrix of Dominance'); "
      ],
      "metadata": {
        "id": "JQzIm2MWgkus",
        "outputId": "392a3941-84f9-4897-a131-0f74d66bdcca",
        "colab": {
          "base_uri": "https://localhost:8080/",
          "height": 295
        }
      },
      "execution_count": 99,
      "outputs": [
        {
          "output_type": "display_data",
          "data": {
            "text/plain": [
              "<Figure size 288x288 with 1 Axes>"
            ],
            "image/png": "[encoded data removed]"
          },
          "metadata": {
            "needs_background": "light"
          }
        }
      ]
    },
    {
      "cell_type": "markdown",
      "source": [
        "# KNN Classifier in terms of Liking"
      ],
      "metadata": {
        "id": "U7bpFyfIgzYX"
      }
    },
    {
      "cell_type": "code",
      "source": [
        "file_x = '/content/drive/My Drive/leading_ai/try/features_sampled.dat'\n",
        "file_y = '/content/drive/My Drive/leading_ai/try/label_class_3.dat'\n",
        "    \n",
        "X = numpy.genfromtxt(file_x, delimiter=' ')\n",
        "y = numpy.genfromtxt(file_y, delimiter=' ')\n",
        "\n",
        "# Split the data into training/testing sets\n",
        "X_train, X_test, y_train, y_test = train_test_split(X, y, test_size=0.2, random_state=42)"
      ],
      "metadata": {
        "id": "l4gnZMBCfDMl"
      },
      "execution_count": 100,
      "outputs": []
    },
    {
      "cell_type": "code",
      "source": [
        "from sklearn.neighbors import KNeighborsClassifier\n",
        "from sklearn import metrics\n",
        "model = KNeighborsClassifier(n_neighbors=5)\n",
        "model.fit(X_train, y_train)"
      ],
      "metadata": {
        "id": "LAv0RaGXfOSQ",
        "outputId": "680dfad9-4ab8-4a65-846b-9fdbf60c6072",
        "colab": {
          "base_uri": "https://localhost:8080/"
        }
      },
      "execution_count": 101,
      "outputs": [
        {
          "output_type": "execute_result",
          "data": {
            "text/plain": [
              "KNeighborsClassifier()"
            ]
          },
          "metadata": {},
          "execution_count": 101
        }
      ]
    },
    {
      "cell_type": "code",
      "source": [
        "y_predict = model.predict(X_test)\n",
        "cm = confusion_matrix(y_test, y_predict)"
      ],
      "metadata": {
        "id": "mcWNpnwLe-0x"
      },
      "execution_count": 102,
      "outputs": []
    },
    {
      "cell_type": "code",
      "source": [
        "print(\"Accuracy score of Liking \")\n",
        "print(accuracy_score(y_test, y_predict)*100)"
      ],
      "metadata": {
        "id": "5zom_ZM2ggdi",
        "outputId": "36b87ef8-0c0c-4212-c69e-06d88069d0f5",
        "colab": {
          "base_uri": "https://localhost:8080/"
        }
      },
      "execution_count": 103,
      "outputs": [
        {
          "output_type": "stream",
          "name": "stdout",
          "text": [
            "Accuracy score of Liking \n",
            "64.84375\n"
          ]
        }
      ]
    },
    {
      "cell_type": "code",
      "source": [
        "fig, ax = plt.subplots(figsize=(4, 4))\n",
        "sns.heatmap(cm, annot=True,cbar=False, fmt='g', ax=ax, cmap=plt.cm.Blues);  #annot=True to annotate cells, ftm='g' to disable scientific notation\n",
        "\n",
        "# labels, title and ticks\n",
        "ax.set_xlabel('Predicted labels');\n",
        "ax.set_ylabel('True labels'); \n",
        "ax.set_title('Confusion Matrix of Liking'); "
      ],
      "metadata": {
        "id": "gKb17Jc1goDP",
        "outputId": "74dd6928-0e06-4798-872d-340d5e2d7754",
        "colab": {
          "base_uri": "https://localhost:8080/",
          "height": 295
        }
      },
      "execution_count": 104,
      "outputs": [
        {
          "output_type": "display_data",
          "data": {
            "text/plain": [
              "<Figure size 288x288 with 1 Axes>"
            ],
            "image/png": "[encoded data removed]"
          },
          "metadata": {
            "needs_background": "light"
          }
        }
      ]
    }
  ]
}