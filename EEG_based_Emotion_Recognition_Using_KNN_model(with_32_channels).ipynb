{
  "nbformat": 4,
  "nbformat_minor": 0,
  "metadata": {
    "colab": {
      "provenance": [],
      "collapsed_sections": [],
      "include_colab_link": true
    },
    "kernelspec": {
      "name": "python3",
      "display_name": "Python 3"
    },
    "language_info": {
      "name": "python"
    }
  },
  "cells": [
    {
      "cell_type": "markdown",
      "metadata": {
        "id": "view-in-github",
        "colab_type": "text"
      },
      "source": [
        "<a href=\"https://colab.research.google.com/github/Zobia12/EEG_Based_Human_Emotion_Recognition_Using_Deep_Learning/blob/main/EEG_based_Emotion_Recognition_Using_KNN_model(with_32_channels).ipynb\" target=\"_parent\"><img src=\"https://colab.research.google.com/assets/colab-badge.svg\" alt=\"Open In Colab\"/></a>"
      ]
    },
    {
      "cell_type": "code",
      "execution_count": 133,
      "metadata": {
        "id": "rbo8RfXxXheR"
      },
      "outputs": [],
      "source": [
        "import numpy as np\n",
        "import seaborn as sns"
      ]
    },
    {
      "cell_type": "code",
      "source": [
        "import pickle\n",
        "import numpy\n",
        "from sklearn.neighbors import KNeighborsClassifier\n",
        "from sklearn.model_selection import train_test_split\n",
        "from sklearn.metrics import confusion_matrix\n",
        "from sklearn.metrics import accuracy_score\n",
        "from sklearn.neighbors import KNeighborsClassifier\n",
        "from sklearn import metrics"
      ],
      "metadata": {
        "id": "374VIWhfXmgc"
      },
      "execution_count": 134,
      "outputs": []
    },
    {
      "cell_type": "code",
      "source": [
        "from google.colab import drive\n",
        "drive.mount('/content/drive/')"
      ],
      "metadata": {
        "colab": {
          "base_uri": "https://localhost:8080/"
        },
        "id": "XtXSyYadXpkQ",
        "outputId": "20d5d375-12c6-45d1-f4bf-4ccfdee9ca11"
      },
      "execution_count": 135,
      "outputs": [
        {
          "output_type": "stream",
          "name": "stdout",
          "text": [
            "Drive already mounted at /content/drive/; to attempt to forcibly remount, call drive.mount(\"/content/drive/\", force_remount=True).\n"
          ]
        }
      ]
    },
    {
      "cell_type": "code",
      "metadata": {
        "id": "JOXuEM0JwJqI"
      },
      "source": [
        "# data_preprocessed_python\n",
        "os.getcwd()\n",
        "os.chdir('/content/drive/My Drive')"
      ],
      "execution_count": 136,
      "outputs": []
    },
    {
      "cell_type": "code",
      "source": [
        "nLabel, nTrial, nUser, nChannel, nTime  = 4, 40, 32, 40, 8064\n",
        "no_of_users=32\n",
        "def convertData():\n",
        "    print(\"Program started\"+\"\\n\")\n",
        "    fout_data = open(\"/content/drive/My Drive/leading_ai/try/features_raw.dat\",'w')\n",
        "    fout_labels0 = open(\"/content/drive/My Drive/leading_ai/try/labels_0.dat\",'w')\n",
        "    fout_labels1 = open(\"/content/drive/My Drive/leading_ai/try/labels_1.dat\",'w')\n",
        "    fout_labels2 = open(\"/content/drive/My Drive/leading_ai/try/labels_2.dat\",'w')\n",
        "    fout_labels3 = open(\"/content/drive/My Drive/leading_ai/try/labels_3.dat\",'w')\n",
        "    for i in range(no_of_users):  #nUser #4, 40, 32, 40, 8064 4 labels, 40 sample for each user, 32 such user, 40 electrode, 8064*40 features\n",
        "        if(i%1 == 0):\n",
        "            if i < 10:\n",
        "                name = '%0*d' % (2,i+1)\n",
        "            else:\n",
        "                name = i+1\n",
        "        fname = \"/content/drive/My Drive/leading_ai/try/s\"+str(name)+\".dat\"     \n",
        "        f = open(fname, 'rb')                 #Read the file in Binary mode\n",
        "        x = pickle.load(f, encoding='latin1')\n",
        "        print(fname)                          \n",
        "    \t\n",
        "        for tr in range(nTrial):\n",
        "            if(tr%1 == 0):\n",
        "                for dat in range(nTime):\n",
        "                    if(dat%32 == 0):\n",
        "                        for ch in range(nChannel):\n",
        "                            fout_data.write(str(x['data'][tr][ch][dat]) + \" \");\n",
        "                fout_labels0.write(str(x['labels'][tr][0]) + \"\\n\");\n",
        "                fout_labels1.write(str(x['labels'][tr][1]) + \"\\n\");\n",
        "                fout_labels2.write(str(x['labels'][tr][2]) + \"\\n\");\n",
        "                fout_labels3.write(str(x['labels'][tr][3]) + \"\\n\");\n",
        "                fout_data.write(\"\\n\");\n",
        "    fout_labels0.close()\n",
        "    fout_labels1.close()\n",
        "    fout_labels2.close()\n",
        "    fout_labels3.close()\n",
        "    fout_data.close()\n",
        "    print(\"\\n\"+\"Print Successful\")\n",
        "\n",
        "if __name__ == '__main__':\n",
        "    convertData()\n"
      ],
      "metadata": {
        "id": "S1JPJnR0UoS_",
        "outputId": "ac924403-412d-481b-d23c-b86785d89823",
        "colab": {
          "base_uri": "https://localhost:8080/"
        }
      },
      "execution_count": 137,
      "outputs": [
        {
          "output_type": "stream",
          "name": "stdout",
          "text": [
            "Program started\n",
            "\n",
            "/content/drive/My Drive/leading_ai/try/s01.dat\n",
            "/content/drive/My Drive/leading_ai/try/s02.dat\n",
            "/content/drive/My Drive/leading_ai/try/s03.dat\n",
            "/content/drive/My Drive/leading_ai/try/s04.dat\n",
            "/content/drive/My Drive/leading_ai/try/s05.dat\n",
            "/content/drive/My Drive/leading_ai/try/s06.dat\n",
            "/content/drive/My Drive/leading_ai/try/s07.dat\n",
            "/content/drive/My Drive/leading_ai/try/s08.dat\n",
            "/content/drive/My Drive/leading_ai/try/s09.dat\n",
            "/content/drive/My Drive/leading_ai/try/s10.dat\n",
            "/content/drive/My Drive/leading_ai/try/s11.dat\n",
            "/content/drive/My Drive/leading_ai/try/s12.dat\n",
            "/content/drive/My Drive/leading_ai/try/s13.dat\n",
            "/content/drive/My Drive/leading_ai/try/s14.dat\n",
            "/content/drive/My Drive/leading_ai/try/s15.dat\n",
            "/content/drive/My Drive/leading_ai/try/s16.dat\n",
            "/content/drive/My Drive/leading_ai/try/s17.dat\n",
            "/content/drive/My Drive/leading_ai/try/s18.dat\n",
            "/content/drive/My Drive/leading_ai/try/s19.dat\n",
            "/content/drive/My Drive/leading_ai/try/s20.dat\n",
            "/content/drive/My Drive/leading_ai/try/s21.dat\n",
            "/content/drive/My Drive/leading_ai/try/s22.dat\n",
            "/content/drive/My Drive/leading_ai/try/s23.dat\n",
            "/content/drive/My Drive/leading_ai/try/s24.dat\n",
            "/content/drive/My Drive/leading_ai/try/s25.dat\n",
            "/content/drive/My Drive/leading_ai/try/s26.dat\n",
            "/content/drive/My Drive/leading_ai/try/s27.dat\n",
            "/content/drive/My Drive/leading_ai/try/s28.dat\n",
            "/content/drive/My Drive/leading_ai/try/s29.dat\n",
            "/content/drive/My Drive/leading_ai/try/s30.dat\n",
            "/content/drive/My Drive/leading_ai/try/s31.dat\n",
            "/content/drive/My Drive/leading_ai/try/s32.dat\n",
            "\n",
            "Print Successful\n"
          ]
        }
      ]
    },
    {
      "cell_type": "code",
      "source": [
        "channel = [1,2,3,4,6,7,8,9,10,11,12,13,14,15,16,17,18,19,20,21,22,23,24,25,26,27,28,29,30,31,32] #32 Channels chosen to fit Emotiv Epoch+\n",
        "band = [4,8,12,16,25,45] #5 bands THETA, ALPHA, ALPHA, BETA, BETA, BETA, GAMMA.\n",
        "window_size = 256 #Averaging band power of 2 sec\n",
        "step_size = 16 #Each 0.125 sec update once\n",
        "sample_rate = 128 #Sampling rate of 128 Hz\n",
        "subjectList = ['01','02','03']\n",
        "\n",
        "data_training = []\n",
        "label_training = []\n",
        "data_testing = []\n",
        "label_testing = []\n",
        "\n",
        "for subjects in subjectList:\n",
        "\n",
        "    with open('/content/drive/My Drive/leading_ai/try/s' + subjects + '.npy', 'rb') as file:\n",
        "      sub = np.load(file,allow_pickle=True)\n",
        "      for i in range (0,sub.shape[0]):\n",
        "        if i % 5 == 0:\n",
        "          data_testing.append(sub[i][0])\n",
        "          label_testing.append(sub[i][1])\n",
        "        else:\n",
        "          data_training.append(sub[i][0])\n",
        "          label_training.append(sub[i][1])\n",
        "\n",
        "np.save('/content/drive/My Drive/leading_ai/data_training', np.array(data_training), allow_pickle=True, fix_imports=True)\n",
        "np.save('/content/drive/My Drive/leading_ai/label_training', np.array(label_training), allow_pickle=True, fix_imports=True)\n",
        "print(\"training dataset:\", np.array(data_training).shape, np.array(label_training).shape)\n",
        "\n",
        "np.save('/content/drive/My Drive/leading_ai/data_testing', np.array(data_testing), allow_pickle=True, fix_imports=True)\n",
        "np.save('/content/drive/My Drive/leading_ai/label_testing', np.array(label_testing), allow_pickle=True, fix_imports=True)\n",
        "print(\"testing dataset:\", np.array(data_testing).shape, np.array(label_testing).shape)"
      ],
      "metadata": {
        "id": "h5vI3JaDm_Ex",
        "outputId": "b369ca4f-f6b6-4acf-8643-51df26554f3b",
        "colab": {
          "base_uri": "https://localhost:8080/"
        }
      },
      "execution_count": 138,
      "outputs": [
        {
          "output_type": "stream",
          "name": "stdout",
          "text": [
            "training dataset: (46848, 155) (46848, 4)\n",
            "testing dataset: (11712, 155) (11712, 4)\n"
          ]
        }
      ]
    },
    {
      "cell_type": "code",
      "source": [
        "def onehotencoding0():\n",
        "    print(\"Program started\"+\"\\n\")\n",
        "    fout_labels_class = open(\"/content/drive/My Drive/leading_ai/try/label_class_0.dat\",'w')\n",
        "    \n",
        "    with open('/content/drive/My Drive/leading_ai/try/labels_0.dat','r') as f:\n",
        "        for val in f:\n",
        "            if float(val) > 4.5:\n",
        "                fout_labels_class.write(str(1) + \"\\n\");\n",
        "            else:\n",
        "                fout_labels_class.write(str(0) + \"\\n\");\n",
        "                \n",
        "    print(\"Encoded label 0\"+\"\\n\")\n",
        "if __name__ == '__main__':\n",
        "    onehotencoding0()"
      ],
      "metadata": {
        "id": "8V1rdIVUZ6m_",
        "outputId": "d386c960-574c-4ad2-fcaf-0fa59a8e530d",
        "colab": {
          "base_uri": "https://localhost:8080/"
        }
      },
      "execution_count": 139,
      "outputs": [
        {
          "output_type": "stream",
          "name": "stdout",
          "text": [
            "Program started\n",
            "\n",
            "Encoded label 0\n",
            "\n"
          ]
        }
      ]
    },
    {
      "cell_type": "code",
      "source": [
        "def onehotencoding1():\n",
        "    print(\"Program started\"+\"\\n\")\n",
        "    fout_labels_class = open(\"/content/drive/My Drive/leading_ai/try/label_class_1.dat\",'w')\n",
        "    \n",
        "    with open('/content/drive/My Drive/leading_ai/try/labels_1.dat','r') as f:\n",
        "        for val in f:\n",
        "            if float(val) > 4.5:\n",
        "                fout_labels_class.write(str(1) + \"\\n\");\n",
        "            else:\n",
        "                fout_labels_class.write(str(0) + \"\\n\");\n",
        "    print(\"Encoded label 1\"+\"\\n\")\n",
        "if __name__ == '__main__':\n",
        "    onehotencoding1()"
      ],
      "metadata": {
        "id": "8FMIdT6vaRAW",
        "outputId": "a0c2ca33-5e88-4b89-c67d-26104d4d84ba",
        "colab": {
          "base_uri": "https://localhost:8080/"
        }
      },
      "execution_count": 140,
      "outputs": [
        {
          "output_type": "stream",
          "name": "stdout",
          "text": [
            "Program started\n",
            "\n",
            "Encoded label 1\n",
            "\n"
          ]
        }
      ]
    },
    {
      "cell_type": "code",
      "source": [
        "def onehotencoding2():\n",
        "    print(\"Program started\"+\"\\n\")\n",
        "    fout_labels_class = open(\"/content/drive/My Drive/leading_ai/try/label_class_2.dat\",'w')\n",
        "    \n",
        "    with open('/content/drive/My Drive/leading_ai/try/labels_2.dat','r') as f:\n",
        "        for val in f:\n",
        "            if float(val) > 4.5:\n",
        "                fout_labels_class.write(str(1) + \"\\n\");\n",
        "            else:\n",
        "                fout_labels_class.write(str(0) + \"\\n\");\n",
        "    print(\"Encoded label 2\"+\"\\n\")\n",
        "if __name__ == '__main__':\n",
        "    onehotencoding2()"
      ],
      "metadata": {
        "id": "To7bZfVbaVcJ",
        "outputId": "c8042914-04c8-4ef7-aaa8-873a07dc6dab",
        "colab": {
          "base_uri": "https://localhost:8080/"
        }
      },
      "execution_count": 141,
      "outputs": [
        {
          "output_type": "stream",
          "name": "stdout",
          "text": [
            "Program started\n",
            "\n",
            "Encoded label 2\n",
            "\n"
          ]
        }
      ]
    },
    {
      "cell_type": "code",
      "source": [
        "def onehotencoding3():\n",
        "    print(\"Program started\"+\"\\n\")\n",
        "    fout_labels_class = open(\"/content/drive/My Drive/leading_ai/try/label_class_3.dat\",'w')\n",
        "    \n",
        "    with open('/content/drive/My Drive/leading_ai/try/labels_3.dat','r') as f:\n",
        "        for val in f:\n",
        "            if float(val) > 4.5:\n",
        "                fout_labels_class.write(str(1) + \"\\n\");\n",
        "            else:\n",
        "                fout_labels_class.write(str(0) + \"\\n\");\n",
        "    print(\"Encoded label 3\"+\"\\n\")\n",
        "if __name__ == '__main__':\n",
        "    onehotencoding3()"
      ],
      "metadata": {
        "id": "7SzaAR_ZaXtJ",
        "outputId": "41b24686-0d8f-49d4-aec5-6fa482102a1f",
        "colab": {
          "base_uri": "https://localhost:8080/"
        }
      },
      "execution_count": 142,
      "outputs": [
        {
          "output_type": "stream",
          "name": "stdout",
          "text": [
            "Program started\n",
            "\n",
            "Encoded label 3\n",
            "\n"
          ]
        }
      ]
    },
    {
      "cell_type": "markdown",
      "source": [
        "# KNN Classifier in terms of Valence"
      ],
      "metadata": {
        "id": "0Rzgm2w5hZ39"
      }
    },
    {
      "cell_type": "code",
      "source": [
        "file_x = '/content/drive/My Drive/leading_ai/try/features_sampled.dat'\n",
        "file_y = '/content/drive/My Drive/leading_ai/try/label_class_0.dat'\n",
        "    \n",
        "X = numpy.genfromtxt(file_x, delimiter=' ')\n",
        "y = numpy.genfromtxt(file_y, delimiter=' ')\n",
        "\n",
        "# Split the data into training/testing sets\n",
        "X_train, X_test, y_train, y_test = train_test_split(X, y, test_size=0.5, random_state=42)"
      ],
      "metadata": {
        "id": "1D1IwyOmaxjS"
      },
      "execution_count": 143,
      "outputs": []
    },
    {
      "cell_type": "code",
      "source": [
        "model = KNeighborsClassifier(n_neighbors=5)\n",
        "model.fit(X_train, y_train)"
      ],
      "metadata": {
        "id": "lNCAKon3bqr3",
        "outputId": "02d3afd1-33b7-4085-d101-c5fe952f41d6",
        "colab": {
          "base_uri": "https://localhost:8080/"
        }
      },
      "execution_count": 144,
      "outputs": [
        {
          "output_type": "execute_result",
          "data": {
            "text/plain": [
              "KNeighborsClassifier()"
            ]
          },
          "metadata": {},
          "execution_count": 144
        }
      ]
    },
    {
      "cell_type": "code",
      "source": [
        "y_predict = model.predict(X_test)\n",
        "y_pred = model.predict(X_train)\n",
        "\n",
        "Training_cm = confusion_matrix(y_train, y_pred)\n",
        "Testing_cm = confusion_matrix(y_test, y_predict)"
      ],
      "metadata": {
        "id": "SpIiKbW9d9Wi"
      },
      "execution_count": 145,
      "outputs": []
    },
    {
      "cell_type": "code",
      "source": [
        "print(\"Accuracy score of Valence \")\n",
        "print(accuracy_score(y_test, y_predict)*100)"
      ],
      "metadata": {
        "id": "YdIS_4XNfo-Z",
        "outputId": "03653ad8-3b00-4891-b54b-54cded0f7d7a",
        "colab": {
          "base_uri": "https://localhost:8080/"
        }
      },
      "execution_count": 146,
      "outputs": [
        {
          "output_type": "stream",
          "name": "stdout",
          "text": [
            "Accuracy score of Valence \n",
            "56.25\n"
          ]
        }
      ]
    },
    {
      "cell_type": "code",
      "source": [
        "print(\"Accuracy score of Valence \")\n",
        "print(accuracy_score(y_train, y_pred)*100)"
      ],
      "metadata": {
        "id": "xpEZ1vq_lZAd",
        "outputId": "288ffdc4-88a0-4714-b656-18a9d0bb070a",
        "colab": {
          "base_uri": "https://localhost:8080/"
        }
      },
      "execution_count": 147,
      "outputs": [
        {
          "output_type": "stream",
          "name": "stdout",
          "text": [
            "Accuracy score of Valence \n",
            "73.4375\n"
          ]
        }
      ]
    },
    {
      "cell_type": "code",
      "source": [
        "fig, ax = plt.subplots(figsize=(4, 4))\n",
        "sns.heatmap(Testing_cm, annot=True,cbar=False, fmt='g', ax=ax, cmap=plt.cm.Blues);  #annot=True to annotate cells, ftm='g' to disable scientific notation\n",
        "\n",
        "# labels, title and ticks\n",
        "ax.set_xlabel('Predicted labels');\n",
        "ax.set_ylabel('True labels'); \n",
        "ax.set_title('Confusion Matrix of Valence');"
      ],
      "metadata": {
        "id": "m-iNxPnPfsWk",
        "outputId": "6052fdac-522e-4904-840e-fe4346092a5a",
        "colab": {
          "base_uri": "https://localhost:8080/",
          "height": 295
        }
      },
      "execution_count": 149,
      "outputs": [
        {
          "output_type": "display_data",
          "data": {
            "text/plain": [
              "<Figure size 288x288 with 1 Axes>"
            ],
            "image/png": "[encoded data removed]"
          },
          "metadata": {
            "needs_background": "light"
          }
        }
      ]
    },
    {
      "cell_type": "markdown",
      "source": [
        "# KNN Classifier in terms of Arousal"
      ],
      "metadata": {
        "id": "TqsmAh3mhQ-8"
      }
    },
    {
      "cell_type": "code",
      "source": [
        "file_x = '/content/drive/My Drive/leading_ai/try/features_sampled.dat'\n",
        "file_y = '/content/drive/My Drive/leading_ai/try/label_class_1.dat'\n",
        "    \n",
        "X = numpy.genfromtxt(file_x, delimiter=' ')\n",
        "y = numpy.genfromtxt(file_y, delimiter=' ')\n",
        "\n",
        "# Split the data into training/testing sets\n",
        "X_train, X_test, y_train, y_test = train_test_split(X, y, test_size=0.2, random_state=42)"
      ],
      "metadata": {
        "id": "Q_yhV_Ojepmv"
      },
      "execution_count": 150,
      "outputs": []
    },
    {
      "cell_type": "code",
      "source": [
        "model = KNeighborsClassifier(n_neighbors=5)\n",
        "model.fit(X_train, y_train)"
      ],
      "metadata": {
        "id": "JxZ5KGu4ezva",
        "outputId": "80b2cb3f-8335-47c7-e3d2-0f3849eb2af2",
        "colab": {
          "base_uri": "https://localhost:8080/"
        }
      },
      "execution_count": 151,
      "outputs": [
        {
          "output_type": "execute_result",
          "data": {
            "text/plain": [
              "KNeighborsClassifier()"
            ]
          },
          "metadata": {},
          "execution_count": 151
        }
      ]
    },
    {
      "cell_type": "code",
      "source": [
        "y_predict = model.predict(X_test)\n",
        "y_pred = model.predict(X_train)\n",
        "\n",
        "Training_cm = confusion_matrix(y_train, y_pred)\n",
        "Testing_cm = confusion_matrix(y_test, y_predict)"
      ],
      "metadata": {
        "id": "3dvAFE8qe560"
      },
      "execution_count": 152,
      "outputs": []
    },
    {
      "cell_type": "code",
      "source": [
        "print(\"Accuracy score of Arousal \")\n",
        "print(accuracy_score(y_test, y_predict)*100)"
      ],
      "metadata": {
        "id": "GJ2oF0H3f9f_",
        "outputId": "3b3ab266-b8c7-4bdd-fef8-0eca870f98c9",
        "colab": {
          "base_uri": "https://localhost:8080/"
        }
      },
      "execution_count": 153,
      "outputs": [
        {
          "output_type": "stream",
          "name": "stdout",
          "text": [
            "Accuracy score of Arousal \n",
            "57.421875\n"
          ]
        }
      ]
    },
    {
      "cell_type": "code",
      "source": [
        "print(\"Accuracy score of Arousal \")\n",
        "print(accuracy_score(y_train, y_pred)*100)"
      ],
      "metadata": {
        "id": "U0tSDYOR1VCV",
        "outputId": "7da78dc9-2736-4fc1-defd-19d4e705cda7",
        "colab": {
          "base_uri": "https://localhost:8080/"
        }
      },
      "execution_count": 168,
      "outputs": [
        {
          "output_type": "stream",
          "name": "stdout",
          "text": [
            "Accuracy score of Arousal \n",
            "76.85546875\n"
          ]
        }
      ]
    },
    {
      "cell_type": "code",
      "source": [
        "fig, ax = plt.subplots(figsize=(4, 4))\n",
        "sns.heatmap(Testing_cm, annot=True,cbar=False, fmt='g', ax=ax, cmap=plt.cm.Blues);  #annot=True to annotate cells, ftm='g' to disable scientific notation\n",
        "\n",
        "# labels, title and ticks\n",
        "ax.set_xlabel('Predicted labels');\n",
        "ax.set_ylabel('True labels'); \n",
        "ax.set_title('Confusion Matrix of Arousal'); "
      ],
      "metadata": {
        "id": "zYH2I1hxf_8L",
        "outputId": "788553de-c1b1-4ce4-ac29-39846ae6e1b0",
        "colab": {
          "base_uri": "https://localhost:8080/",
          "height": 295
        }
      },
      "execution_count": 155,
      "outputs": [
        {
          "output_type": "display_data",
          "data": {
            "text/plain": [
              "<Figure size 288x288 with 1 Axes>"
            ],
            "image/png": "[encoded data removed]"
          },
          "metadata": {
            "needs_background": "light"
          }
        }
      ]
    },
    {
      "cell_type": "markdown",
      "source": [
        "# KNN Classifier in terms of Dominance"
      ],
      "metadata": {
        "id": "-di_Jin2hLEg"
      }
    },
    {
      "cell_type": "code",
      "source": [
        "file_x = '/content/drive/My Drive/leading_ai/try/features_sampled.dat'\n",
        "file_y = '/content/drive/My Drive/leading_ai/try/label_class_2.dat'\n",
        "    \n",
        "X = numpy.genfromtxt(file_x, delimiter=' ')\n",
        "y = numpy.genfromtxt(file_y, delimiter=' ')\n",
        "\n",
        "# Split the data into training/testing sets\n",
        "X_train, X_test, y_train, y_test = train_test_split(X, y, test_size=0.2, random_state=42)"
      ],
      "metadata": {
        "id": "cNM1SxvZfB0c"
      },
      "execution_count": 156,
      "outputs": []
    },
    {
      "cell_type": "code",
      "source": [
        "model = KNeighborsClassifier(n_neighbors=5)\n",
        "model.fit(X_train, y_train)"
      ],
      "metadata": {
        "id": "JURFnwN7fJCY",
        "outputId": "b36e52ba-0dfa-42be-95c1-ddfb2c7df507",
        "colab": {
          "base_uri": "https://localhost:8080/"
        }
      },
      "execution_count": 157,
      "outputs": [
        {
          "output_type": "execute_result",
          "data": {
            "text/plain": [
              "KNeighborsClassifier()"
            ]
          },
          "metadata": {},
          "execution_count": 157
        }
      ]
    },
    {
      "cell_type": "code",
      "source": [
        "y_predict = model.predict(X_test)\n",
        "y_pred = model.predict(X_train)\n",
        "\n",
        "Training_cm = confusion_matrix(y_train, y_pred)\n",
        "Testing_cm = confusion_matrix(y_test, y_predict)"
      ],
      "metadata": {
        "id": "qv9syGu2e9t-"
      },
      "execution_count": 158,
      "outputs": []
    },
    {
      "cell_type": "code",
      "source": [
        "print(\"Accuracy score of Dominance \")\n",
        "print(accuracy_score(y_test, y_predict)*100)"
      ],
      "metadata": {
        "id": "fORjaqhhgh1J",
        "outputId": "518a164b-511e-482b-c478-a25bdaa4728b",
        "colab": {
          "base_uri": "https://localhost:8080/"
        }
      },
      "execution_count": 159,
      "outputs": [
        {
          "output_type": "stream",
          "name": "stdout",
          "text": [
            "Accuracy score of Dominance \n",
            "58.59375\n"
          ]
        }
      ]
    },
    {
      "cell_type": "code",
      "source": [
        "print(\"Accuracy score of Dominance \")\n",
        "print(accuracy_score(y_train, y_pred)*100)"
      ],
      "metadata": {
        "id": "uFNy0PWz1QGa",
        "outputId": "50a23f4a-e409-4ed7-e645-dbb6f0c32d8e",
        "colab": {
          "base_uri": "https://localhost:8080/"
        }
      },
      "execution_count": 160,
      "outputs": [
        {
          "output_type": "stream",
          "name": "stdout",
          "text": [
            "Accuracy score of Dominance \n",
            "73.33984375\n"
          ]
        }
      ]
    },
    {
      "cell_type": "code",
      "source": [
        "fig, ax = plt.subplots(figsize=(4, 4))\n",
        "sns.heatmap(Testing_cm, annot=True,cbar=False, fmt='g', ax=ax, cmap=plt.cm.Blues);  #annot=True to annotate cells, ftm='g' to disable scientific notation\n",
        "\n",
        "# labels, title and ticks\n",
        "ax.set_xlabel('Predicted labels');\n",
        "ax.set_ylabel('True labels'); \n",
        "ax.set_title('Confusion Matrix of Dominance'); "
      ],
      "metadata": {
        "id": "JQzIm2MWgkus",
        "outputId": "66cdb4eb-6906-405c-c390-7f9dc7d58204",
        "colab": {
          "base_uri": "https://localhost:8080/",
          "height": 295
        }
      },
      "execution_count": 161,
      "outputs": [
        {
          "output_type": "display_data",
          "data": {
            "text/plain": [
              "<Figure size 288x288 with 1 Axes>"
            ],
            "image/png": "[encoded data removed]"
          },
          "metadata": {
            "needs_background": "light"
          }
        }
      ]
    },
    {
      "cell_type": "markdown",
      "source": [
        "# KNN Classifier in terms of Liking"
      ],
      "metadata": {
        "id": "U7bpFyfIgzYX"
      }
    },
    {
      "cell_type": "code",
      "source": [
        "file_x = '/content/drive/My Drive/leading_ai/try/features_sampled.dat'\n",
        "file_y = '/content/drive/My Drive/leading_ai/try/label_class_3.dat'\n",
        "    \n",
        "X = numpy.genfromtxt(file_x, delimiter=' ')\n",
        "y = numpy.genfromtxt(file_y, delimiter=' ')\n",
        "\n",
        "# Split the data into training/testing sets\n",
        "X_train, X_test, y_train, y_test = train_test_split(X, y, test_size=0.2, random_state=42)"
      ],
      "metadata": {
        "id": "l4gnZMBCfDMl"
      },
      "execution_count": 162,
      "outputs": []
    },
    {
      "cell_type": "code",
      "source": [
        "model = KNeighborsClassifier(n_neighbors=5)\n",
        "model.fit(X_train, y_train)"
      ],
      "metadata": {
        "id": "LAv0RaGXfOSQ",
        "outputId": "44e3c382-d9a7-4730-9d4e-ea927170553c",
        "colab": {
          "base_uri": "https://localhost:8080/"
        }
      },
      "execution_count": 163,
      "outputs": [
        {
          "output_type": "execute_result",
          "data": {
            "text/plain": [
              "KNeighborsClassifier()"
            ]
          },
          "metadata": {},
          "execution_count": 163
        }
      ]
    },
    {
      "cell_type": "code",
      "source": [
        "y_predict = model.predict(X_test)\n",
        "y_pred = model.predict(X_train)\n",
        "\n",
        "Training_cm = confusion_matrix(y_train, y_pred)\n",
        "Testing_cm = confusion_matrix(y_test, y_predict)"
      ],
      "metadata": {
        "id": "mcWNpnwLe-0x"
      },
      "execution_count": 164,
      "outputs": []
    },
    {
      "cell_type": "code",
      "source": [
        "print(\"Accuracy score of Liking \")\n",
        "print(accuracy_score(y_test, y_predict)*100)"
      ],
      "metadata": {
        "id": "5zom_ZM2ggdi",
        "outputId": "21ef9d5d-4ffa-48a5-c56b-91775b5e8bb5",
        "colab": {
          "base_uri": "https://localhost:8080/"
        }
      },
      "execution_count": 165,
      "outputs": [
        {
          "output_type": "stream",
          "name": "stdout",
          "text": [
            "Accuracy score of Liking \n",
            "64.84375\n"
          ]
        }
      ]
    },
    {
      "cell_type": "code",
      "source": [
        "print(\"Accuracy score of Liking \")\n",
        "print(accuracy_score(y_train, y_pred)*100)"
      ],
      "metadata": {
        "id": "TmY8DU1d1Iz3",
        "outputId": "549ae3fc-a846-4639-a072-14edc958d0fb",
        "colab": {
          "base_uri": "https://localhost:8080/"
        }
      },
      "execution_count": 166,
      "outputs": [
        {
          "output_type": "stream",
          "name": "stdout",
          "text": [
            "Accuracy score of Liking \n",
            "76.85546875\n"
          ]
        }
      ]
    },
    {
      "cell_type": "code",
      "source": [
        "fig, ax = plt.subplots(figsize=(4, 4))\n",
        "sns.heatmap(Testing_cm, annot=True,cbar=False, fmt='g', ax=ax, cmap=plt.cm.Blues);  #annot=True to annotate cells, ftm='g' to disable scientific notation\n",
        "\n",
        "# labels, title and ticks\n",
        "ax.set_xlabel('Predicted labels');\n",
        "ax.set_ylabel('True labels'); \n",
        "ax.set_title('Confusion Matrix of Liking'); "
      ],
      "metadata": {
        "id": "gKb17Jc1goDP",
        "outputId": "e0af6f6d-0d5e-463b-8483-360d24b92446",
        "colab": {
          "base_uri": "https://localhost:8080/",
          "height": 295
        }
      },
      "execution_count": 167,
      "outputs": [
        {
          "output_type": "display_data",
          "data": {
            "text/plain": [
              "<Figure size 288x288 with 1 Axes>"
            ],
            "image/png": "[encoded data removed]"
          },
          "metadata": {
            "needs_background": "light"
          }
        }
      ]
    },
    {
      "cell_type": "code",
      "source": [],
      "metadata": {
        "id": "BiixQZT-1DVM"
      },
      "execution_count": 167,
      "outputs": []
    }
  ]
}