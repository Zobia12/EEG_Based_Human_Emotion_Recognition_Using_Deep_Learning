{
  "nbformat": 4,
  "nbformat_minor": 0,
  "metadata": {
    "colab": {
      "provenance": [],
      "collapsed_sections": [],
      "include_colab_link": true
    },
    "kernelspec": {
      "name": "python3",
      "display_name": "Python 3"
    },
    "language_info": {
      "name": "python"
    }
  },
  "cells": [
    {
      "cell_type": "markdown",
      "metadata": {
        "id": "view-in-github",
        "colab_type": "text"
      },
      "source": [
        "<a href=\"https://colab.research.google.com/github/Zobia12/EEG_Based_Human_Emotion_Recognition_Using_Deep_Learning/blob/main/EEG_based_Emotion_Recognition_Using_CNN_model(with_32_channels).ipynb\" target=\"_parent\"><img src=\"https://colab.research.google.com/assets/colab-badge.svg\" alt=\"Open In Colab\"/></a>"
      ]
    },
    {
      "cell_type": "code",
      "execution_count": 1,
      "metadata": {
        "colab": {
          "base_uri": "https://localhost:8080/"
        },
        "id": "rbo8RfXxXheR",
        "outputId": "81516413-ab4e-491c-fa55-9249cb15cd90"
      },
      "outputs": [
        {
          "output_type": "stream",
          "name": "stdout",
          "text": [
            "Looking in indexes: https://pypi.org/simple, https://us-python.pkg.dev/colab-wheels/public/simple/\n",
            "Collecting git+https://github.com/forrestbao/pyeeg.git\n",
            "  Cloning https://github.com/forrestbao/pyeeg.git to /tmp/pip-req-build-x244z33y\n",
            "  Running command git clone -q https://github.com/forrestbao/pyeeg.git /tmp/pip-req-build-x244z33y\n",
            "Requirement already satisfied: numpy>=1.9.2 in /usr/local/lib/python3.7/dist-packages (from pyeeg==0.4.4) (1.21.6)\n",
            "Building wheels for collected packages: pyeeg\n",
            "  Building wheel for pyeeg (setup.py) ... \u001b[?25l\u001b[?25hdone\n",
            "  Created wheel for pyeeg: filename=pyeeg-0.4.4-py2.py3-none-any.whl size=28131 sha256=b8b0969cfc2cff3d346bb11b7065543b0e74123d304ecca70a459b8af3661339\n",
            "  Stored in directory: /tmp/pip-ephem-wheel-cache-ng52nf40/wheels/b0/23/e4/703c908bda656959957029fa145879aa79307b2545a2ef0271\n",
            "Successfully built pyeeg\n",
            "Installing collected packages: pyeeg\n",
            "Successfully installed pyeeg-0.4.4\n"
          ]
        }
      ],
      "source": [
        "!pip install git+https://github.com/forrestbao/pyeeg.git\n",
        "import numpy as np\n",
        "import pyeeg as pe\n",
        "import pickle as pickle\n",
        "import pandas as pd\n",
        "import math\n",
        "\n",
        "from sklearn import svm\n",
        "from sklearn.preprocessing import normalize\n",
        "\n",
        "import os\n",
        "import time"
      ]
    },
    {
      "cell_type": "code",
      "source": [
        "import pandas as pd\n",
        "import keras.backend as K\n",
        "import numpy as np\n",
        "import pandas as pd\n",
        "from keras.models import Sequential\n",
        "from keras.layers import Dense\n",
        "from keras.models import Sequential\n",
        "from keras.layers.convolutional import Conv1D\n",
        "from keras.layers.convolutional import MaxPooling1D\n",
        "from tensorflow.keras.utils import to_categorical \n",
        "from keras.layers import Flatten\n",
        "from keras.layers import Dense\n",
        "import numpy as np\n",
        "import keras\n",
        "from keras.datasets import mnist\n",
        "from keras.models import Sequential\n",
        "from keras.layers import Dense, Dropout, Flatten, Conv2D, MaxPooling2D\n",
        "from keras import backend as K\n",
        "from keras.models import Model\n",
        "import timeit\n",
        "from keras.models import Sequential\n",
        "from keras.layers.core import Flatten, Dense, Dropout\n",
        "from keras.layers.convolutional import Convolution1D, MaxPooling1D, ZeroPadding1D\n",
        "from tensorflow.keras.optimizers import SGD\n",
        "#import cv2, numpy as np\n",
        "import warnings\n",
        "warnings.filterwarnings('ignore')"
      ],
      "metadata": {
        "id": "374VIWhfXmgc"
      },
      "execution_count": 2,
      "outputs": []
    },
    {
      "cell_type": "code",
      "source": [
        "from google.colab import drive\n",
        "drive.mount('/content/drive/')"
      ],
      "metadata": {
        "id": "XtXSyYadXpkQ",
        "colab": {
          "base_uri": "https://localhost:8080/"
        },
        "outputId": "d263ffaa-24de-491c-b41e-228d5f1bec66"
      },
      "execution_count": 3,
      "outputs": [
        {
          "output_type": "stream",
          "name": "stdout",
          "text": [
            "Mounted at /content/drive/\n"
          ]
        }
      ]
    },
    {
      "cell_type": "code",
      "metadata": {
        "id": "JOXuEM0JwJqI"
      },
      "source": [
        "# data_preprocessed_python\n",
        "os.getcwd()\n",
        "os.chdir('/content/drive/My Drive')"
      ],
      "execution_count": 4,
      "outputs": []
    },
    {
      "cell_type": "code",
      "metadata": {
        "id": "kCMT74t9wowG"
      },
      "source": [
        "channel = [1,2,3,4,6,7,8,9,10,11,12,13,14,15,16,17,18,19,20,21,22,23,24,25,26,27,28,29,30,31,32] #32 Channels chosen to fit Emotiv Epoch+\n",
        "band = [4,8,12,16,25,45] #5 bands THETA, ALPHA, ALPHA, BETA, BETA, BETA, GAMMA.\n",
        "window_size = 256 #Averaging band power of 2 sec\n",
        "step_size = 16 #Each 0.125 sec update once\n",
        "sample_rate = 128 #Sampling rate of 128 Hz\n",
        "subjectList = ['01','02','03']\n",
        "#List of subjects"
      ],
      "execution_count": 5,
      "outputs": []
    },
    {
      "cell_type": "code",
      "metadata": {
        "id": "UD-WVHARwsXz"
      },
      "source": [
        "def FFT_Processing (sub, channel, band, window_size, step_size, sample_rate):\n",
        "    '''\n",
        "    arguments:  string subject\n",
        "                list channel indice\n",
        "                list band\n",
        "                int window size for FFT\n",
        "                int step size for FFT\n",
        "                int sample rate for FFT\n",
        "    return:     void\n",
        "    '''\n",
        "    meta = []\n",
        "    with open(\"/content/drive/My Drive/leading_ai/try/s\" + sub + '.dat', 'rb') as file:\n",
        "\n",
        "        subject = pickle.load(file, encoding='latin1') #resolve the python 2 data problem by encoding : latin1\n",
        "\n",
        "        for i in range (0,40):\n",
        "            # loop over 0-39 trails\n",
        "            data = subject[\"data\"][i]\n",
        "            labels = subject[\"labels\"][i]\n",
        "            start = 0;\n",
        "\n",
        "            while start + window_size < data.shape[1]:\n",
        "                meta_array = []\n",
        "                meta_data = [] #meta vector for analysis\n",
        "                for j in channel:\n",
        "                    X = data[j][start : start + window_size] #Slice raw data over 2 sec, at interval of 0.125 sec\n",
        "                    Y = pe.bin_power(X, band, sample_rate) #FFT over 2 sec of channel j, in seq of theta, alpha, low beta, high beta, gamma\n",
        "                    meta_data = meta_data + list(Y[0])\n",
        "\n",
        "                meta_array.append(np.array(meta_data))\n",
        "                meta_array.append(labels)\n",
        "\n",
        "                meta.append(np.array(meta_array))    \n",
        "                start = start + step_size\n",
        "                \n",
        "        meta = np.array(meta)\n",
        "        np.save('/content/drive/My Drive/leading_ai/try/s' + sub, meta, allow_pickle=True, fix_imports=True)"
      ],
      "execution_count": 6,
      "outputs": []
    },
    {
      "cell_type": "code",
      "metadata": {
        "id": "TWcHt5X2xDfw"
      },
      "source": [
        "for subjects in subjectList:\n",
        "    FFT_Processing (subjects, channel, band, window_size, step_size, sample_rate)"
      ],
      "execution_count": 7,
      "outputs": []
    },
    {
      "cell_type": "code",
      "metadata": {
        "id": "dM2Bdu7oxIbE",
        "colab": {
          "base_uri": "https://localhost:8080/"
        },
        "outputId": "bd2ac633-6702-477c-dcf9-ee93f7869961"
      },
      "source": [
        "\n",
        "data_training = []\n",
        "label_training = []\n",
        "data_testing = []\n",
        "label_testing = []\n",
        "\n",
        "for subjects in subjectList:\n",
        "\n",
        "    with open('/content/drive/My Drive/leading_ai/try/s' + subjects + '.npy', 'rb') as file:\n",
        "      sub = np.load(file,allow_pickle=True)\n",
        "      for i in range (0,sub.shape[0]):\n",
        "        if i % 5 == 0:\n",
        "          data_testing.append(sub[i][0])\n",
        "          label_testing.append(sub[i][1])\n",
        "        else:\n",
        "          data_training.append(sub[i][0])\n",
        "          label_training.append(sub[i][1])\n",
        "\n",
        "np.save('/content/drive/My Drive/leading_ai/data_training', np.array(data_training), allow_pickle=True, fix_imports=True)\n",
        "np.save('/content/drive/My Drive/leading_ai/label_training', np.array(label_training), allow_pickle=True, fix_imports=True)\n",
        "print(\"training dataset:\", np.array(data_training).shape, np.array(label_training).shape)\n",
        "\n",
        "np.save('/content/drive/My Drive/leading_ai/data_testing', np.array(data_testing), allow_pickle=True, fix_imports=True)\n",
        "np.save('/content/drive/My Drive/leading_ai/label_testing', np.array(label_testing), allow_pickle=True, fix_imports=True)\n",
        "print(\"testing dataset:\", np.array(data_testing).shape, np.array(label_testing).shape)"
      ],
      "execution_count": 8,
      "outputs": [
        {
          "output_type": "stream",
          "name": "stdout",
          "text": [
            "training dataset: (46848, 155) (46848, 4)\n",
            "testing dataset: (11712, 155) (11712, 4)\n"
          ]
        }
      ]
    },
    {
      "cell_type": "code",
      "source": [],
      "metadata": {
        "id": "EJZeetIK8O08"
      },
      "execution_count": 8,
      "outputs": []
    },
    {
      "cell_type": "code",
      "metadata": {
        "id": "pnNNgiBN_HcS"
      },
      "source": [
        "\n",
        "with open('/content/drive/My Drive/leading_ai/data_training.npy', 'rb') as fileTrain:\n",
        "    X  = np.load(fileTrain)\n",
        "    \n",
        "with open('/content/drive/My Drive/leading_ai/label_training.npy', 'rb') as fileTrainL:\n",
        "    Y  = np.load(fileTrainL)\n",
        "    \n",
        "X = normalize(X)\n",
        "Z = np.ravel(Y[:, [3]])\n",
        "\n",
        "Arousal_Train = np.ravel(Y[:, [0]])\n",
        "Valence_Train = np.ravel(Y[:, [1]])\n",
        "Domain_Train = np.ravel(Y[:, [2]])\n",
        "Like_Train = np.ravel(Y[:, [3]])"
      ],
      "execution_count": 9,
      "outputs": []
    },
    {
      "cell_type": "code",
      "metadata": {
        "id": "O-kXkIKo_3eY",
        "colab": {
          "base_uri": "https://localhost:8080/"
        },
        "outputId": "2eb1ce9f-b228-4b34-fb32-fcb609aacb10"
      },
      "source": [
        "X.shape"
      ],
      "execution_count": 10,
      "outputs": [
        {
          "output_type": "execute_result",
          "data": {
            "text/plain": [
              "(46848, 155)"
            ]
          },
          "metadata": {},
          "execution_count": 10
        }
      ]
    },
    {
      "cell_type": "code",
      "metadata": {
        "id": "u7QbIvJF_7YH",
        "colab": {
          "base_uri": "https://localhost:8080/"
        },
        "outputId": "36f560e6-c33d-4538-f971-3195885e5386"
      },
      "source": [
        "from tensorflow.keras.utils import to_categorical\n",
        "y_train = to_categorical(Z)\n",
        "y_train"
      ],
      "execution_count": 11,
      "outputs": [
        {
          "output_type": "execute_result",
          "data": {
            "text/plain": [
              "array([[0., 0., 0., ..., 1., 0., 0.],\n",
              "       [0., 0., 0., ..., 1., 0., 0.],\n",
              "       [0., 0., 0., ..., 1., 0., 0.],\n",
              "       ...,\n",
              "       [0., 0., 0., ..., 0., 0., 0.],\n",
              "       [0., 0., 0., ..., 0., 0., 0.],\n",
              "       [0., 0., 0., ..., 0., 0., 0.]], dtype=float32)"
            ]
          },
          "metadata": {},
          "execution_count": 11
        }
      ]
    },
    {
      "cell_type": "code",
      "metadata": {
        "id": "vz6DyN6i4Ten",
        "colab": {
          "base_uri": "https://localhost:8080/"
        },
        "outputId": "345d89c5-1835-4bab-8aaf-815044c66c6e"
      },
      "source": [
        "y_train.shape"
      ],
      "execution_count": 12,
      "outputs": [
        {
          "output_type": "execute_result",
          "data": {
            "text/plain": [
              "(46848, 10)"
            ]
          },
          "metadata": {},
          "execution_count": 12
        }
      ]
    },
    {
      "cell_type": "code",
      "metadata": {
        "id": "n2nbzExFABT9"
      },
      "source": [
        "x_train = np.array(X[:])"
      ],
      "execution_count": 13,
      "outputs": []
    },
    {
      "cell_type": "code",
      "metadata": {
        "id": "ooCmmlGRAFkv"
      },
      "source": [
        "\n",
        "with open('/content/drive/My Drive/leading_ai/data_testing.npy', 'rb') as fileTrain:\n",
        "    M  = np.load(fileTrain)\n",
        "    \n",
        "with open('/content/drive/My Drive/leading_ai/label_testing.npy', 'rb') as fileTrainL:\n",
        "    N  = np.load(fileTrainL)\n",
        "\n",
        "M = normalize(M)\n",
        "L = np.ravel(N[:, [3]])\n",
        "\n",
        "Arousal_Test = np.ravel(N[:, [0]])\n",
        "Valence_Test = np.ravel(N[:, [1]])\n",
        "Domain_Test = np.ravel(N[:, [2]])\n",
        "Like_Test = np.ravel(N[:, [3]])"
      ],
      "execution_count": 14,
      "outputs": []
    },
    {
      "cell_type": "code",
      "metadata": {
        "id": "m4sxtvpQAOhK"
      },
      "source": [
        "x_test = np.array(M[:])"
      ],
      "execution_count": 15,
      "outputs": []
    },
    {
      "cell_type": "code",
      "metadata": {
        "id": "r2RKm9KgASb4",
        "colab": {
          "base_uri": "https://localhost:8080/"
        },
        "outputId": "e518a175-ffad-42cf-d9a1-e55f3ef5eda4"
      },
      "source": [
        "from tensorflow.keras.utils import to_categorical\n",
        "y_test = to_categorical(L)\n",
        "y_test"
      ],
      "execution_count": 16,
      "outputs": [
        {
          "output_type": "execute_result",
          "data": {
            "text/plain": [
              "array([[0., 0., 0., ..., 1., 0., 0.],\n",
              "       [0., 0., 0., ..., 1., 0., 0.],\n",
              "       [0., 0., 0., ..., 1., 0., 0.],\n",
              "       ...,\n",
              "       [0., 0., 0., ..., 0., 0., 0.],\n",
              "       [0., 0., 0., ..., 0., 0., 0.],\n",
              "       [0., 0., 0., ..., 0., 0., 0.]], dtype=float32)"
            ]
          },
          "metadata": {},
          "execution_count": 16
        }
      ]
    },
    {
      "cell_type": "code",
      "metadata": {
        "id": "UmwAfzADsRe1",
        "colab": {
          "base_uri": "https://localhost:8080/"
        },
        "outputId": "fa8cdee2-fb3c-4967-fd99-534075d7f6e0"
      },
      "source": [
        "y_test[1]"
      ],
      "execution_count": 17,
      "outputs": [
        {
          "output_type": "execute_result",
          "data": {
            "text/plain": [
              "array([0., 0., 0., 0., 0., 0., 0., 1., 0., 0.], dtype=float32)"
            ]
          },
          "metadata": {},
          "execution_count": 17
        }
      ]
    },
    {
      "cell_type": "code",
      "metadata": {
        "id": "rKnp-c5EAVGJ"
      },
      "source": [
        "from sklearn.preprocessing import StandardScaler\n",
        "scaler = StandardScaler()\n",
        "x_train = scaler.fit_transform(x_train)\n",
        "x_test = scaler.fit_transform(x_test)"
      ],
      "execution_count": 18,
      "outputs": []
    },
    {
      "cell_type": "code",
      "metadata": {
        "id": "WC6VSZLUBCiS"
      },
      "source": [
        "x_train = x_train.reshape(x_train.shape[0],x_train.shape[1], 1)\n",
        "x_test = x_test.reshape(x_test.shape[0],x_test.shape[1], 1)"
      ],
      "execution_count": 19,
      "outputs": []
    },
    {
      "cell_type": "code",
      "metadata": {
        "id": "F3CYMY96BE0i",
        "colab": {
          "base_uri": "https://localhost:8080/"
        },
        "outputId": "2962fd6a-92fe-4891-bd17-45f9b83f51d5"
      },
      "source": [
        "x_train.shape"
      ],
      "execution_count": 20,
      "outputs": [
        {
          "output_type": "execute_result",
          "data": {
            "text/plain": [
              "(46848, 155, 1)"
            ]
          },
          "metadata": {},
          "execution_count": 20
        }
      ]
    },
    {
      "cell_type": "code",
      "metadata": {
        "id": "V8NOrABgBWzf"
      },
      "source": [
        "batch_size = 256\n",
        "num_classes = 10\n",
        "epochs = 200\n",
        "input_shape=(x_train.shape[1], 1)"
      ],
      "execution_count": 21,
      "outputs": []
    },
    {
      "cell_type": "code",
      "metadata": {
        "id": "FrpmQ4QWBc4_"
      },
      "source": [
        "from keras.layers import Convolution1D, ZeroPadding1D, MaxPooling1D, BatchNormalization, Activation, Dropout, Flatten, Dense\n",
        "from keras.regularizers import l2"
      ],
      "execution_count": 22,
      "outputs": []
    },
    {
      "cell_type": "code",
      "metadata": {
        "id": "2B1ezppYCOhJ",
        "colab": {
          "base_uri": "https://localhost:8080/"
        },
        "outputId": "2d185a40-b9fc-4d6c-b173-be335098ae83"
      },
      "source": [
        "model = Sequential()\n",
        "intput_shape=(x_train.shape[1], 1)\n",
        "model.add(Conv1D(128, kernel_size=3,padding = 'same',activation='relu', input_shape=input_shape))\n",
        "model.add(BatchNormalization())\n",
        "model.add(MaxPooling1D(pool_size=(2)))\n",
        "model.add(Conv1D(128,kernel_size=3,padding = 'same', activation='relu'))\n",
        "model.add(BatchNormalization())\n",
        "model.add(MaxPooling1D(pool_size=(2)))\n",
        "model.add(Conv1D(64,kernel_size=3,padding = 'same', activation='relu'))\n",
        "model.add(MaxPooling1D(pool_size=(2)))\n",
        "model.add(Flatten())\n",
        "model.add(Dense(64, activation='tanh'))\n",
        "model.add(Dropout(0.2))\n",
        "model.add(Dense(32, activation='tanh'))\n",
        "model.add(Dropout(0.2))\n",
        "model.add(Dense(16, activation='relu'))\n",
        "model.add(Dropout(0.2))\n",
        "model.add(Dense(num_classes, activation='softmax'))\n",
        "model.summary()"
      ],
      "execution_count": 23,
      "outputs": [
        {
          "output_type": "stream",
          "name": "stdout",
          "text": [
            "Model: \"sequential\"\n",
            "_________________________________________________________________\n",
            " Layer (type)                Output Shape              Param #   \n",
            "=================================================================\n",
            " conv1d (Conv1D)             (None, 155, 128)          512       \n",
            "                                                                 \n",
            " batch_normalization (BatchN  (None, 155, 128)         512       \n",
            " ormalization)                                                   \n",
            "                                                                 \n",
            " max_pooling1d (MaxPooling1D  (None, 77, 128)          0         \n",
            " )                                                               \n",
            "                                                                 \n",
            " conv1d_1 (Conv1D)           (None, 77, 128)           49280     \n",
            "                                                                 \n",
            " batch_normalization_1 (Batc  (None, 77, 128)          512       \n",
            " hNormalization)                                                 \n",
            "                                                                 \n",
            " max_pooling1d_1 (MaxPooling  (None, 38, 128)          0         \n",
            " 1D)                                                             \n",
            "                                                                 \n",
            " conv1d_2 (Conv1D)           (None, 38, 64)            24640     \n",
            "                                                                 \n",
            " max_pooling1d_2 (MaxPooling  (None, 19, 64)           0         \n",
            " 1D)                                                             \n",
            "                                                                 \n",
            " flatten (Flatten)           (None, 1216)              0         \n",
            "                                                                 \n",
            " dense (Dense)               (None, 64)                77888     \n",
            "                                                                 \n",
            " dropout (Dropout)           (None, 64)                0         \n",
            "                                                                 \n",
            " dense_1 (Dense)             (None, 32)                2080      \n",
            "                                                                 \n",
            " dropout_1 (Dropout)         (None, 32)                0         \n",
            "                                                                 \n",
            " dense_2 (Dense)             (None, 16)                528       \n",
            "                                                                 \n",
            " dropout_2 (Dropout)         (None, 16)                0         \n",
            "                                                                 \n",
            " dense_3 (Dense)             (None, 10)                170       \n",
            "                                                                 \n",
            "=================================================================\n",
            "Total params: 156,122\n",
            "Trainable params: 155,610\n",
            "Non-trainable params: 512\n",
            "_________________________________________________________________\n"
          ]
        }
      ]
    },
    {
      "cell_type": "code",
      "metadata": {
        "id": "A7abBpBSCY-o"
      },
      "source": [
        "model.compile(loss=keras.losses.categorical_crossentropy,\n",
        "              optimizer='adam',\n",
        "              metrics=['accuracy'])"
      ],
      "execution_count": 24,
      "outputs": []
    },
    {
      "cell_type": "code",
      "metadata": {
        "id": "vaZ4RPIqCfYF",
        "colab": {
          "base_uri": "https://localhost:8080/"
        },
        "outputId": "74f2c0e7-2efc-48b8-cc49-86886bea869c"
      },
      "source": [
        "history=model.fit(x_train, y_train,\n",
        "          batch_size=batch_size,\n",
        "          epochs=epochs,  \n",
        "          verbose=1,validation_data=(x_test,y_test))"
      ],
      "execution_count": 25,
      "outputs": [
        {
          "output_type": "stream",
          "name": "stdout",
          "text": [
            "Epoch 1/200\n",
            "183/183 [==============================] - 63s 339ms/step - loss: 1.7669 - accuracy: 0.3183 - val_loss: 1.6805 - val_accuracy: 0.2990\n",
            "Epoch 2/200\n",
            "183/183 [==============================] - 63s 345ms/step - loss: 1.4524 - accuracy: 0.4239 - val_loss: 1.3740 - val_accuracy: 0.4483\n",
            "Epoch 3/200\n",
            "183/183 [==============================] - 62s 336ms/step - loss: 1.2799 - accuracy: 0.4879 - val_loss: 1.1189 - val_accuracy: 0.5470\n",
            "Epoch 4/200\n",
            "183/183 [==============================] - 63s 346ms/step - loss: 1.1615 - accuracy: 0.5390 - val_loss: 1.0111 - val_accuracy: 0.6008\n",
            "Epoch 5/200\n",
            "183/183 [==============================] - 61s 334ms/step - loss: 1.0743 - accuracy: 0.5739 - val_loss: 0.9033 - val_accuracy: 0.6375\n",
            "Epoch 6/200\n",
            "183/183 [==============================] - 61s 333ms/step - loss: 0.9899 - accuracy: 0.6069 - val_loss: 0.8374 - val_accuracy: 0.6712\n",
            "Epoch 7/200\n",
            "183/183 [==============================] - 62s 341ms/step - loss: 0.9375 - accuracy: 0.6286 - val_loss: 0.7749 - val_accuracy: 0.6930\n",
            "Epoch 8/200\n",
            "183/183 [==============================] - 61s 331ms/step - loss: 0.8784 - accuracy: 0.6546 - val_loss: 0.7299 - val_accuracy: 0.7139\n",
            "Epoch 9/200\n",
            "183/183 [==============================] - 62s 339ms/step - loss: 0.8262 - accuracy: 0.6753 - val_loss: 0.7081 - val_accuracy: 0.7266\n",
            "Epoch 10/200\n",
            "183/183 [==============================] - 60s 330ms/step - loss: 0.7840 - accuracy: 0.6963 - val_loss: 0.6765 - val_accuracy: 0.7388\n",
            "Epoch 11/200\n",
            "183/183 [==============================] - 60s 330ms/step - loss: 0.7491 - accuracy: 0.7115 - val_loss: 0.6570 - val_accuracy: 0.7438\n",
            "Epoch 12/200\n",
            "183/183 [==============================] - 62s 340ms/step - loss: 0.7210 - accuracy: 0.7236 - val_loss: 0.6196 - val_accuracy: 0.7589\n",
            "Epoch 13/200\n",
            "183/183 [==============================] - 61s 332ms/step - loss: 0.6868 - accuracy: 0.7368 - val_loss: 0.5853 - val_accuracy: 0.7754\n",
            "Epoch 14/200\n",
            "183/183 [==============================] - 62s 341ms/step - loss: 0.6552 - accuracy: 0.7527 - val_loss: 0.5908 - val_accuracy: 0.7748\n",
            "Epoch 15/200\n",
            "183/183 [==============================] - 61s 332ms/step - loss: 0.6382 - accuracy: 0.7589 - val_loss: 0.5561 - val_accuracy: 0.7919\n",
            "Epoch 16/200\n",
            "183/183 [==============================] - 61s 331ms/step - loss: 0.6127 - accuracy: 0.7686 - val_loss: 0.5313 - val_accuracy: 0.7969\n",
            "Epoch 17/200\n",
            "183/183 [==============================] - 62s 341ms/step - loss: 0.5860 - accuracy: 0.7773 - val_loss: 0.5281 - val_accuracy: 0.7994\n",
            "Epoch 18/200\n",
            "183/183 [==============================] - 61s 332ms/step - loss: 0.5647 - accuracy: 0.7889 - val_loss: 0.4963 - val_accuracy: 0.8146\n",
            "Epoch 19/200\n",
            "183/183 [==============================] - 62s 338ms/step - loss: 0.5524 - accuracy: 0.7922 - val_loss: 0.4991 - val_accuracy: 0.8125\n",
            "Epoch 20/200\n",
            "183/183 [==============================] - 60s 327ms/step - loss: 0.5462 - accuracy: 0.7968 - val_loss: 0.4776 - val_accuracy: 0.8207\n",
            "Epoch 21/200\n",
            "183/183 [==============================] - 60s 327ms/step - loss: 0.5232 - accuracy: 0.8062 - val_loss: 0.4799 - val_accuracy: 0.8216\n",
            "Epoch 22/200\n",
            "183/183 [==============================] - 62s 341ms/step - loss: 0.5085 - accuracy: 0.8117 - val_loss: 0.4720 - val_accuracy: 0.8231\n",
            "Epoch 23/200\n",
            "183/183 [==============================] - 61s 333ms/step - loss: 0.4957 - accuracy: 0.8175 - val_loss: 0.4729 - val_accuracy: 0.8234\n",
            "Epoch 24/200\n",
            "183/183 [==============================] - 62s 338ms/step - loss: 0.4764 - accuracy: 0.8255 - val_loss: 0.4351 - val_accuracy: 0.8393\n",
            "Epoch 25/200\n",
            "183/183 [==============================] - 67s 368ms/step - loss: 0.4753 - accuracy: 0.8258 - val_loss: 0.4907 - val_accuracy: 0.8171\n",
            "Epoch 26/200\n",
            "183/183 [==============================] - 60s 327ms/step - loss: 0.4607 - accuracy: 0.8299 - val_loss: 0.4482 - val_accuracy: 0.8363\n",
            "Epoch 27/200\n",
            "183/183 [==============================] - 63s 342ms/step - loss: 0.4557 - accuracy: 0.8314 - val_loss: 0.4263 - val_accuracy: 0.8448\n",
            "Epoch 28/200\n",
            "183/183 [==============================] - 60s 329ms/step - loss: 0.4464 - accuracy: 0.8369 - val_loss: 0.4234 - val_accuracy: 0.8496\n",
            "Epoch 29/200\n",
            "183/183 [==============================] - 62s 338ms/step - loss: 0.4264 - accuracy: 0.8456 - val_loss: 0.4327 - val_accuracy: 0.8427\n",
            "Epoch 30/200\n",
            "183/183 [==============================] - 60s 329ms/step - loss: 0.4184 - accuracy: 0.8477 - val_loss: 0.4274 - val_accuracy: 0.8472\n",
            "Epoch 31/200\n",
            "183/183 [==============================] - 60s 328ms/step - loss: 0.4145 - accuracy: 0.8493 - val_loss: 0.4196 - val_accuracy: 0.8508\n",
            "Epoch 32/200\n",
            "183/183 [==============================] - 62s 337ms/step - loss: 0.4005 - accuracy: 0.8536 - val_loss: 0.4227 - val_accuracy: 0.8547\n",
            "Epoch 33/200\n",
            "183/183 [==============================] - 60s 331ms/step - loss: 0.3974 - accuracy: 0.8551 - val_loss: 0.4083 - val_accuracy: 0.8569\n",
            "Epoch 34/200\n",
            "183/183 [==============================] - 62s 337ms/step - loss: 0.3866 - accuracy: 0.8605 - val_loss: 0.3929 - val_accuracy: 0.8659\n",
            "Epoch 35/200\n",
            "183/183 [==============================] - 60s 328ms/step - loss: 0.3823 - accuracy: 0.8606 - val_loss: 0.3940 - val_accuracy: 0.8631\n",
            "Epoch 36/200\n",
            "183/183 [==============================] - 60s 327ms/step - loss: 0.3872 - accuracy: 0.8621 - val_loss: 0.3976 - val_accuracy: 0.8615\n",
            "Epoch 37/200\n",
            "183/183 [==============================] - 62s 338ms/step - loss: 0.3687 - accuracy: 0.8670 - val_loss: 0.3783 - val_accuracy: 0.8700\n",
            "Epoch 38/200\n",
            "183/183 [==============================] - 60s 328ms/step - loss: 0.3624 - accuracy: 0.8689 - val_loss: 0.3912 - val_accuracy: 0.8642\n",
            "Epoch 39/200\n",
            "183/183 [==============================] - 62s 337ms/step - loss: 0.3511 - accuracy: 0.8744 - val_loss: 0.3838 - val_accuracy: 0.8671\n",
            "Epoch 40/200\n",
            "183/183 [==============================] - 60s 327ms/step - loss: 0.3494 - accuracy: 0.8744 - val_loss: 0.3842 - val_accuracy: 0.8718\n",
            "Epoch 41/200\n",
            "183/183 [==============================] - 60s 327ms/step - loss: 0.3541 - accuracy: 0.8755 - val_loss: 0.3732 - val_accuracy: 0.8786\n",
            "Epoch 42/200\n",
            "183/183 [==============================] - 61s 336ms/step - loss: 0.3367 - accuracy: 0.8794 - val_loss: 0.3794 - val_accuracy: 0.8777\n",
            "Epoch 43/200\n",
            "183/183 [==============================] - 60s 326ms/step - loss: 0.3363 - accuracy: 0.8804 - val_loss: 0.4054 - val_accuracy: 0.8619\n",
            "Epoch 44/200\n",
            "183/183 [==============================] - 61s 334ms/step - loss: 0.3345 - accuracy: 0.8816 - val_loss: 0.3495 - val_accuracy: 0.8829\n",
            "Epoch 45/200\n",
            "183/183 [==============================] - 59s 325ms/step - loss: 0.3271 - accuracy: 0.8849 - val_loss: 0.3757 - val_accuracy: 0.8771\n",
            "Epoch 46/200\n",
            "183/183 [==============================] - 61s 334ms/step - loss: 0.3176 - accuracy: 0.8876 - val_loss: 0.3750 - val_accuracy: 0.8817\n",
            "Epoch 47/200\n",
            "183/183 [==============================] - 60s 327ms/step - loss: 0.3141 - accuracy: 0.8877 - val_loss: 0.3853 - val_accuracy: 0.8817\n",
            "Epoch 48/200\n",
            "183/183 [==============================] - 60s 328ms/step - loss: 0.3186 - accuracy: 0.8875 - val_loss: 0.3680 - val_accuracy: 0.8820\n",
            "Epoch 49/200\n",
            "183/183 [==============================] - 61s 335ms/step - loss: 0.3080 - accuracy: 0.8914 - val_loss: 0.3802 - val_accuracy: 0.8795\n",
            "Epoch 50/200\n",
            "183/183 [==============================] - 60s 326ms/step - loss: 0.3091 - accuracy: 0.8915 - val_loss: 0.3809 - val_accuracy: 0.8776\n",
            "Epoch 51/200\n",
            "183/183 [==============================] - 61s 334ms/step - loss: 0.3070 - accuracy: 0.8925 - val_loss: 0.3566 - val_accuracy: 0.8869\n",
            "Epoch 52/200\n",
            "183/183 [==============================] - 60s 327ms/step - loss: 0.3001 - accuracy: 0.8960 - val_loss: 0.3727 - val_accuracy: 0.8798\n",
            "Epoch 53/200\n",
            "183/183 [==============================] - 60s 326ms/step - loss: 0.2999 - accuracy: 0.8953 - val_loss: 0.3523 - val_accuracy: 0.8907\n",
            "Epoch 54/200\n",
            "183/183 [==============================] - 61s 336ms/step - loss: 0.2956 - accuracy: 0.8969 - val_loss: 0.3487 - val_accuracy: 0.8905\n",
            "Epoch 55/200\n",
            "183/183 [==============================] - 60s 326ms/step - loss: 0.2919 - accuracy: 0.8987 - val_loss: 0.3383 - val_accuracy: 0.8928\n",
            "Epoch 56/200\n",
            "183/183 [==============================] - 61s 335ms/step - loss: 0.2790 - accuracy: 0.9039 - val_loss: 0.3421 - val_accuracy: 0.8930\n",
            "Epoch 57/200\n",
            "183/183 [==============================] - 60s 327ms/step - loss: 0.2755 - accuracy: 0.9046 - val_loss: 0.3383 - val_accuracy: 0.8958\n",
            "Epoch 58/200\n",
            "183/183 [==============================] - 60s 327ms/step - loss: 0.2707 - accuracy: 0.9070 - val_loss: 0.3458 - val_accuracy: 0.8958\n",
            "Epoch 59/200\n",
            "183/183 [==============================] - 61s 334ms/step - loss: 0.2776 - accuracy: 0.9044 - val_loss: 0.3564 - val_accuracy: 0.8921\n",
            "Epoch 60/200\n",
            "183/183 [==============================] - 59s 325ms/step - loss: 0.2623 - accuracy: 0.9086 - val_loss: 0.3408 - val_accuracy: 0.8965\n",
            "Epoch 61/200\n",
            "183/183 [==============================] - 62s 338ms/step - loss: 0.2645 - accuracy: 0.9092 - val_loss: 0.3319 - val_accuracy: 0.8976\n",
            "Epoch 62/200\n",
            "183/183 [==============================] - 60s 330ms/step - loss: 0.2739 - accuracy: 0.9060 - val_loss: 0.3373 - val_accuracy: 0.8926\n",
            "Epoch 63/200\n",
            "183/183 [==============================] - 61s 333ms/step - loss: 0.2649 - accuracy: 0.9097 - val_loss: 0.3484 - val_accuracy: 0.8946\n",
            "Epoch 64/200\n",
            "183/183 [==============================] - 61s 333ms/step - loss: 0.2613 - accuracy: 0.9087 - val_loss: 0.3472 - val_accuracy: 0.8947\n",
            "Epoch 65/200\n",
            "183/183 [==============================] - 60s 327ms/step - loss: 0.2628 - accuracy: 0.9100 - val_loss: 0.3586 - val_accuracy: 0.8968\n",
            "Epoch 66/200\n",
            "183/183 [==============================] - 62s 336ms/step - loss: 0.2552 - accuracy: 0.9120 - val_loss: 0.3505 - val_accuracy: 0.8942\n",
            "Epoch 67/200\n",
            "183/183 [==============================] - 60s 328ms/step - loss: 0.2486 - accuracy: 0.9159 - val_loss: 0.3517 - val_accuracy: 0.8937\n",
            "Epoch 68/200\n",
            "183/183 [==============================] - 62s 337ms/step - loss: 0.2495 - accuracy: 0.9152 - val_loss: 0.3444 - val_accuracy: 0.8970\n",
            "Epoch 69/200\n",
            "183/183 [==============================] - 60s 327ms/step - loss: 0.2449 - accuracy: 0.9175 - val_loss: 0.3295 - val_accuracy: 0.9033\n",
            "Epoch 70/200\n",
            "183/183 [==============================] - 60s 327ms/step - loss: 0.2501 - accuracy: 0.9159 - val_loss: 0.3427 - val_accuracy: 0.9000\n",
            "Epoch 71/200\n",
            "183/183 [==============================] - 61s 336ms/step - loss: 0.2528 - accuracy: 0.9134 - val_loss: 0.3236 - val_accuracy: 0.9038\n",
            "Epoch 72/200\n",
            "183/183 [==============================] - 60s 328ms/step - loss: 0.2316 - accuracy: 0.9209 - val_loss: 0.3248 - val_accuracy: 0.9044\n",
            "Epoch 73/200\n",
            "183/183 [==============================] - 61s 336ms/step - loss: 0.2340 - accuracy: 0.9206 - val_loss: 0.3362 - val_accuracy: 0.9037\n",
            "Epoch 74/200\n",
            "183/183 [==============================] - 60s 326ms/step - loss: 0.2500 - accuracy: 0.9164 - val_loss: 0.3284 - val_accuracy: 0.9007\n",
            "Epoch 75/200\n",
            "183/183 [==============================] - 59s 325ms/step - loss: 0.2407 - accuracy: 0.9184 - val_loss: 0.3320 - val_accuracy: 0.9058\n",
            "Epoch 76/200\n",
            "183/183 [==============================] - 61s 336ms/step - loss: 0.2342 - accuracy: 0.9214 - val_loss: 0.3193 - val_accuracy: 0.9070\n",
            "Epoch 77/200\n",
            "183/183 [==============================] - 60s 329ms/step - loss: 0.2280 - accuracy: 0.9219 - val_loss: 0.3308 - val_accuracy: 0.9037\n",
            "Epoch 78/200\n",
            "183/183 [==============================] - 62s 338ms/step - loss: 0.2237 - accuracy: 0.9245 - val_loss: 0.3375 - val_accuracy: 0.9006\n",
            "Epoch 79/200\n",
            "183/183 [==============================] - 60s 328ms/step - loss: 0.2263 - accuracy: 0.9232 - val_loss: 0.3270 - val_accuracy: 0.9022\n",
            "Epoch 80/200\n",
            "183/183 [==============================] - 60s 328ms/step - loss: 0.2262 - accuracy: 0.9227 - val_loss: 0.3155 - val_accuracy: 0.9094\n",
            "Epoch 81/200\n",
            "183/183 [==============================] - 62s 337ms/step - loss: 0.2291 - accuracy: 0.9232 - val_loss: 0.3304 - val_accuracy: 0.9067\n",
            "Epoch 82/200\n",
            "183/183 [==============================] - 60s 328ms/step - loss: 0.2221 - accuracy: 0.9243 - val_loss: 0.3560 - val_accuracy: 0.9002\n",
            "Epoch 83/200\n",
            "183/183 [==============================] - 62s 337ms/step - loss: 0.2223 - accuracy: 0.9253 - val_loss: 0.3212 - val_accuracy: 0.9127\n",
            "Epoch 84/200\n",
            "183/183 [==============================] - 60s 329ms/step - loss: 0.2194 - accuracy: 0.9257 - val_loss: 0.3581 - val_accuracy: 0.8974\n",
            "Epoch 85/200\n",
            "183/183 [==============================] - 60s 327ms/step - loss: 0.2146 - accuracy: 0.9268 - val_loss: 0.3268 - val_accuracy: 0.9072\n",
            "Epoch 86/200\n",
            "183/183 [==============================] - 62s 336ms/step - loss: 0.2150 - accuracy: 0.9269 - val_loss: 0.3541 - val_accuracy: 0.9024\n",
            "Epoch 87/200\n",
            "183/183 [==============================] - 60s 329ms/step - loss: 0.2156 - accuracy: 0.9282 - val_loss: 0.3513 - val_accuracy: 0.9004\n",
            "Epoch 88/200\n",
            "183/183 [==============================] - 62s 337ms/step - loss: 0.2214 - accuracy: 0.9256 - val_loss: 0.3452 - val_accuracy: 0.8998\n",
            "Epoch 89/200\n",
            "183/183 [==============================] - 60s 329ms/step - loss: 0.2169 - accuracy: 0.9281 - val_loss: 0.3171 - val_accuracy: 0.9127\n",
            "Epoch 90/200\n",
            "183/183 [==============================] - 62s 337ms/step - loss: 0.2134 - accuracy: 0.9299 - val_loss: 0.3366 - val_accuracy: 0.9036\n",
            "Epoch 91/200\n",
            "183/183 [==============================] - 60s 327ms/step - loss: 0.2023 - accuracy: 0.9321 - val_loss: 0.3286 - val_accuracy: 0.9083\n",
            "Epoch 92/200\n",
            "183/183 [==============================] - 60s 327ms/step - loss: 0.2019 - accuracy: 0.9324 - val_loss: 0.3216 - val_accuracy: 0.9071\n",
            "Epoch 93/200\n",
            "183/183 [==============================] - 62s 336ms/step - loss: 0.2024 - accuracy: 0.9321 - val_loss: 0.3522 - val_accuracy: 0.9037\n",
            "Epoch 94/200\n",
            "183/183 [==============================] - 60s 328ms/step - loss: 0.2149 - accuracy: 0.9299 - val_loss: 0.3590 - val_accuracy: 0.9006\n",
            "Epoch 95/200\n",
            "183/183 [==============================] - 62s 336ms/step - loss: 0.2090 - accuracy: 0.9302 - val_loss: 0.3124 - val_accuracy: 0.9133\n",
            "Epoch 96/200\n",
            "183/183 [==============================] - 60s 328ms/step - loss: 0.1991 - accuracy: 0.9346 - val_loss: 0.3199 - val_accuracy: 0.9109\n",
            "Epoch 97/200\n",
            "183/183 [==============================] - 60s 327ms/step - loss: 0.1950 - accuracy: 0.9348 - val_loss: 0.3313 - val_accuracy: 0.9096\n",
            "Epoch 98/200\n",
            "183/183 [==============================] - 62s 336ms/step - loss: 0.1971 - accuracy: 0.9340 - val_loss: 0.3356 - val_accuracy: 0.9105\n",
            "Epoch 99/200\n",
            "183/183 [==============================] - 60s 326ms/step - loss: 0.1969 - accuracy: 0.9347 - val_loss: 0.3210 - val_accuracy: 0.9097\n",
            "Epoch 100/200\n",
            "183/183 [==============================] - 62s 339ms/step - loss: 0.1953 - accuracy: 0.9359 - val_loss: 0.3019 - val_accuracy: 0.9136\n",
            "Epoch 101/200\n",
            "183/183 [==============================] - 60s 327ms/step - loss: 0.1950 - accuracy: 0.9349 - val_loss: 0.3338 - val_accuracy: 0.9113\n",
            "Epoch 102/200\n",
            "183/183 [==============================] - 60s 328ms/step - loss: 0.1861 - accuracy: 0.9378 - val_loss: 0.3417 - val_accuracy: 0.9109\n",
            "Epoch 103/200\n",
            "183/183 [==============================] - 62s 339ms/step - loss: 0.1905 - accuracy: 0.9351 - val_loss: 0.3468 - val_accuracy: 0.9076\n",
            "Epoch 104/200\n",
            "183/183 [==============================] - 60s 326ms/step - loss: 0.2007 - accuracy: 0.9348 - val_loss: 0.3275 - val_accuracy: 0.9103\n",
            "Epoch 105/200\n",
            "183/183 [==============================] - 62s 337ms/step - loss: 0.1892 - accuracy: 0.9380 - val_loss: 0.3224 - val_accuracy: 0.9108\n",
            "Epoch 106/200\n",
            "183/183 [==============================] - 60s 327ms/step - loss: 0.1874 - accuracy: 0.9372 - val_loss: 0.3154 - val_accuracy: 0.9142\n",
            "Epoch 107/200\n",
            "183/183 [==============================] - 60s 327ms/step - loss: 0.1836 - accuracy: 0.9402 - val_loss: 0.3138 - val_accuracy: 0.9156\n",
            "Epoch 108/200\n",
            "183/183 [==============================] - 62s 341ms/step - loss: 0.1936 - accuracy: 0.9362 - val_loss: 0.3186 - val_accuracy: 0.9137\n",
            "Epoch 109/200\n",
            "183/183 [==============================] - 60s 329ms/step - loss: 0.1901 - accuracy: 0.9371 - val_loss: 0.3349 - val_accuracy: 0.9115\n",
            "Epoch 110/200\n",
            "183/183 [==============================] - 62s 340ms/step - loss: 0.1841 - accuracy: 0.9396 - val_loss: 0.3282 - val_accuracy: 0.9113\n",
            "Epoch 111/200\n",
            "183/183 [==============================] - 60s 330ms/step - loss: 0.1876 - accuracy: 0.9390 - val_loss: 0.3388 - val_accuracy: 0.9138\n",
            "Epoch 112/200\n",
            "183/183 [==============================] - 60s 328ms/step - loss: 0.1847 - accuracy: 0.9407 - val_loss: 0.3254 - val_accuracy: 0.9132\n",
            "Epoch 113/200\n",
            "183/183 [==============================] - 62s 339ms/step - loss: 0.1736 - accuracy: 0.9418 - val_loss: 0.3299 - val_accuracy: 0.9156\n",
            "Epoch 114/200\n",
            "183/183 [==============================] - 60s 329ms/step - loss: 0.1840 - accuracy: 0.9389 - val_loss: 0.3232 - val_accuracy: 0.9164\n",
            "Epoch 115/200\n",
            "183/183 [==============================] - 62s 338ms/step - loss: 0.1845 - accuracy: 0.9399 - val_loss: 0.3361 - val_accuracy: 0.9098\n",
            "Epoch 116/200\n",
            "183/183 [==============================] - 60s 330ms/step - loss: 0.1723 - accuracy: 0.9444 - val_loss: 0.3427 - val_accuracy: 0.9159\n",
            "Epoch 117/200\n",
            "183/183 [==============================] - 64s 349ms/step - loss: 0.1746 - accuracy: 0.9428 - val_loss: 0.3240 - val_accuracy: 0.9170\n",
            "Epoch 118/200\n",
            "183/183 [==============================] - 60s 330ms/step - loss: 0.1752 - accuracy: 0.9427 - val_loss: 0.3493 - val_accuracy: 0.9044\n",
            "Epoch 119/200\n",
            "183/183 [==============================] - 60s 329ms/step - loss: 0.1822 - accuracy: 0.9399 - val_loss: 0.3203 - val_accuracy: 0.9179\n",
            "Epoch 120/200\n",
            "183/183 [==============================] - 61s 336ms/step - loss: 0.1729 - accuracy: 0.9432 - val_loss: 0.3294 - val_accuracy: 0.9133\n",
            "Epoch 121/200\n",
            "183/183 [==============================] - 60s 328ms/step - loss: 0.1759 - accuracy: 0.9442 - val_loss: 0.3247 - val_accuracy: 0.9140\n",
            "Epoch 122/200\n",
            "183/183 [==============================] - 62s 337ms/step - loss: 0.1704 - accuracy: 0.9444 - val_loss: 0.3375 - val_accuracy: 0.9159\n",
            "Epoch 123/200\n",
            "183/183 [==============================] - 60s 329ms/step - loss: 0.1768 - accuracy: 0.9421 - val_loss: 0.3460 - val_accuracy: 0.9077\n",
            "Epoch 124/200\n",
            "183/183 [==============================] - 60s 328ms/step - loss: 0.1743 - accuracy: 0.9434 - val_loss: 0.3335 - val_accuracy: 0.9150\n",
            "Epoch 125/200\n",
            "183/183 [==============================] - 62s 337ms/step - loss: 0.1751 - accuracy: 0.9436 - val_loss: 0.3153 - val_accuracy: 0.9148\n",
            "Epoch 126/200\n",
            "183/183 [==============================] - 60s 328ms/step - loss: 0.1651 - accuracy: 0.9464 - val_loss: 0.3130 - val_accuracy: 0.9193\n",
            "Epoch 127/200\n",
            "183/183 [==============================] - 61s 336ms/step - loss: 0.1742 - accuracy: 0.9426 - val_loss: 0.3450 - val_accuracy: 0.9145\n",
            "Epoch 128/200\n",
            "183/183 [==============================] - 60s 328ms/step - loss: 0.1740 - accuracy: 0.9436 - val_loss: 0.3444 - val_accuracy: 0.9162\n",
            "Epoch 129/200\n",
            "183/183 [==============================] - 60s 328ms/step - loss: 0.1673 - accuracy: 0.9467 - val_loss: 0.3199 - val_accuracy: 0.9168\n",
            "Epoch 130/200\n",
            "183/183 [==============================] - 61s 335ms/step - loss: 0.1896 - accuracy: 0.9396 - val_loss: 0.3257 - val_accuracy: 0.9145\n",
            "Epoch 131/200\n",
            "183/183 [==============================] - 60s 330ms/step - loss: 0.1643 - accuracy: 0.9476 - val_loss: 0.3164 - val_accuracy: 0.9186\n",
            "Epoch 132/200\n",
            "183/183 [==============================] - 61s 336ms/step - loss: 0.1701 - accuracy: 0.9446 - val_loss: 0.3062 - val_accuracy: 0.9203\n",
            "Epoch 133/200\n",
            "183/183 [==============================] - 60s 327ms/step - loss: 0.1604 - accuracy: 0.9482 - val_loss: 0.3324 - val_accuracy: 0.9171\n",
            "Epoch 134/200\n",
            "183/183 [==============================] - 60s 327ms/step - loss: 0.1588 - accuracy: 0.9489 - val_loss: 0.3418 - val_accuracy: 0.9115\n",
            "Epoch 135/200\n",
            "183/183 [==============================] - 62s 338ms/step - loss: 0.1628 - accuracy: 0.9475 - val_loss: 0.3499 - val_accuracy: 0.9127\n",
            "Epoch 136/200\n",
            "183/183 [==============================] - 61s 334ms/step - loss: 0.1680 - accuracy: 0.9457 - val_loss: 0.3206 - val_accuracy: 0.9180\n",
            "Epoch 137/200\n",
            "183/183 [==============================] - 62s 338ms/step - loss: 0.1646 - accuracy: 0.9469 - val_loss: 0.3360 - val_accuracy: 0.9176\n",
            "Epoch 138/200\n",
            "183/183 [==============================] - 60s 330ms/step - loss: 0.1605 - accuracy: 0.9467 - val_loss: 0.3478 - val_accuracy: 0.9124\n",
            "Epoch 139/200\n",
            "183/183 [==============================] - 60s 330ms/step - loss: 0.1580 - accuracy: 0.9489 - val_loss: 0.3260 - val_accuracy: 0.9181\n",
            "Epoch 140/200\n",
            "183/183 [==============================] - 62s 338ms/step - loss: 0.1530 - accuracy: 0.9505 - val_loss: 0.3352 - val_accuracy: 0.9160\n",
            "Epoch 141/200\n",
            "183/183 [==============================] - 61s 332ms/step - loss: 0.1652 - accuracy: 0.9457 - val_loss: 0.3160 - val_accuracy: 0.9187\n",
            "Epoch 142/200\n",
            "183/183 [==============================] - 62s 338ms/step - loss: 0.1668 - accuracy: 0.9450 - val_loss: 0.3106 - val_accuracy: 0.9211\n",
            "Epoch 143/200\n",
            "183/183 [==============================] - 60s 331ms/step - loss: 0.1633 - accuracy: 0.9480 - val_loss: 0.3326 - val_accuracy: 0.9155\n",
            "Epoch 144/200\n",
            "183/183 [==============================] - 62s 339ms/step - loss: 0.1634 - accuracy: 0.9477 - val_loss: 0.3160 - val_accuracy: 0.9196\n",
            "Epoch 145/200\n",
            "183/183 [==============================] - 60s 331ms/step - loss: 0.1542 - accuracy: 0.9505 - val_loss: 0.3388 - val_accuracy: 0.9167\n",
            "Epoch 146/200\n",
            "183/183 [==============================] - 61s 332ms/step - loss: 0.1517 - accuracy: 0.9516 - val_loss: 0.3241 - val_accuracy: 0.9169\n",
            "Epoch 147/200\n",
            "183/183 [==============================] - 62s 338ms/step - loss: 0.1529 - accuracy: 0.9506 - val_loss: 0.3455 - val_accuracy: 0.9165\n",
            "Epoch 148/200\n",
            "183/183 [==============================] - 60s 329ms/step - loss: 0.1602 - accuracy: 0.9486 - val_loss: 0.3150 - val_accuracy: 0.9221\n",
            "Epoch 149/200\n",
            "183/183 [==============================] - 62s 338ms/step - loss: 0.1602 - accuracy: 0.9494 - val_loss: 0.3193 - val_accuracy: 0.9187\n",
            "Epoch 150/200\n",
            "183/183 [==============================] - 61s 333ms/step - loss: 0.1462 - accuracy: 0.9537 - val_loss: 0.3390 - val_accuracy: 0.9196\n",
            "Epoch 151/200\n",
            "183/183 [==============================] - 61s 335ms/step - loss: 0.1491 - accuracy: 0.9516 - val_loss: 0.3369 - val_accuracy: 0.9189\n",
            "Epoch 152/200\n",
            "183/183 [==============================] - 62s 340ms/step - loss: 0.1579 - accuracy: 0.9501 - val_loss: 0.3141 - val_accuracy: 0.9205\n",
            "Epoch 153/200\n",
            "183/183 [==============================] - 61s 332ms/step - loss: 0.1550 - accuracy: 0.9496 - val_loss: 0.3265 - val_accuracy: 0.9187\n",
            "Epoch 154/200\n",
            "183/183 [==============================] - 62s 338ms/step - loss: 0.1436 - accuracy: 0.9545 - val_loss: 0.3185 - val_accuracy: 0.9239\n",
            "Epoch 155/200\n",
            "183/183 [==============================] - 60s 331ms/step - loss: 0.1537 - accuracy: 0.9517 - val_loss: 0.3098 - val_accuracy: 0.9248\n",
            "Epoch 156/200\n",
            "183/183 [==============================] - 61s 332ms/step - loss: 0.1427 - accuracy: 0.9549 - val_loss: 0.3352 - val_accuracy: 0.9175\n",
            "Epoch 157/200\n",
            "183/183 [==============================] - 62s 338ms/step - loss: 0.1588 - accuracy: 0.9488 - val_loss: 0.3286 - val_accuracy: 0.9167\n",
            "Epoch 158/200\n",
            "183/183 [==============================] - 61s 331ms/step - loss: 0.1536 - accuracy: 0.9503 - val_loss: 0.3253 - val_accuracy: 0.9216\n",
            "Epoch 159/200\n",
            "183/183 [==============================] - 62s 340ms/step - loss: 0.1573 - accuracy: 0.9509 - val_loss: 0.3450 - val_accuracy: 0.9150\n",
            "Epoch 160/200\n",
            "183/183 [==============================] - 61s 331ms/step - loss: 0.1390 - accuracy: 0.9558 - val_loss: 0.3708 - val_accuracy: 0.9122\n",
            "Epoch 161/200\n",
            "183/183 [==============================] - 62s 340ms/step - loss: 0.1475 - accuracy: 0.9521 - val_loss: 0.3331 - val_accuracy: 0.9163\n",
            "Epoch 162/200\n",
            "183/183 [==============================] - 61s 331ms/step - loss: 0.1456 - accuracy: 0.9525 - val_loss: 0.3433 - val_accuracy: 0.9178\n",
            "Epoch 163/200\n",
            "183/183 [==============================] - 61s 333ms/step - loss: 0.1525 - accuracy: 0.9519 - val_loss: 0.3425 - val_accuracy: 0.9169\n",
            "Epoch 164/200\n",
            "183/183 [==============================] - 62s 338ms/step - loss: 0.1485 - accuracy: 0.9524 - val_loss: 0.3185 - val_accuracy: 0.9225\n",
            "Epoch 165/200\n",
            "183/183 [==============================] - 61s 332ms/step - loss: 0.1424 - accuracy: 0.9546 - val_loss: 0.3463 - val_accuracy: 0.9187\n",
            "Epoch 166/200\n",
            "183/183 [==============================] - 62s 339ms/step - loss: 0.1444 - accuracy: 0.9549 - val_loss: 0.3264 - val_accuracy: 0.9214\n",
            "Epoch 167/200\n",
            "183/183 [==============================] - 61s 331ms/step - loss: 0.1417 - accuracy: 0.9533 - val_loss: 0.3498 - val_accuracy: 0.9162\n",
            "Epoch 168/200\n",
            "183/183 [==============================] - 61s 331ms/step - loss: 0.1427 - accuracy: 0.9549 - val_loss: 0.3615 - val_accuracy: 0.9160\n",
            "Epoch 169/200\n",
            "183/183 [==============================] - 62s 337ms/step - loss: 0.1478 - accuracy: 0.9531 - val_loss: 0.3127 - val_accuracy: 0.9238\n",
            "Epoch 170/200\n",
            "183/183 [==============================] - 61s 331ms/step - loss: 0.1388 - accuracy: 0.9567 - val_loss: 0.3284 - val_accuracy: 0.9236\n",
            "Epoch 171/200\n",
            "183/183 [==============================] - 63s 343ms/step - loss: 0.1427 - accuracy: 0.9547 - val_loss: 0.3371 - val_accuracy: 0.9158\n",
            "Epoch 172/200\n",
            "183/183 [==============================] - 61s 333ms/step - loss: 0.1455 - accuracy: 0.9534 - val_loss: 0.3465 - val_accuracy: 0.9189\n",
            "Epoch 173/200\n",
            "183/183 [==============================] - 62s 340ms/step - loss: 0.1413 - accuracy: 0.9547 - val_loss: 0.3184 - val_accuracy: 0.9248\n",
            "Epoch 174/200\n",
            "183/183 [==============================] - 61s 332ms/step - loss: 0.1349 - accuracy: 0.9559 - val_loss: 0.3268 - val_accuracy: 0.9231\n",
            "Epoch 175/200\n",
            "183/183 [==============================] - 61s 334ms/step - loss: 0.1497 - accuracy: 0.9522 - val_loss: 0.3395 - val_accuracy: 0.9162\n",
            "Epoch 176/200\n",
            "183/183 [==============================] - 62s 341ms/step - loss: 0.1493 - accuracy: 0.9524 - val_loss: 0.3379 - val_accuracy: 0.9223\n",
            "Epoch 177/200\n",
            "183/183 [==============================] - 61s 333ms/step - loss: 0.1551 - accuracy: 0.9493 - val_loss: 0.3070 - val_accuracy: 0.9222\n",
            "Epoch 178/200\n",
            "183/183 [==============================] - 62s 339ms/step - loss: 0.1414 - accuracy: 0.9541 - val_loss: 0.2934 - val_accuracy: 0.9232\n",
            "Epoch 179/200\n",
            "183/183 [==============================] - 61s 331ms/step - loss: 0.1372 - accuracy: 0.9572 - val_loss: 0.3211 - val_accuracy: 0.9228\n",
            "Epoch 180/200\n",
            "183/183 [==============================] - 62s 339ms/step - loss: 0.1419 - accuracy: 0.9552 - val_loss: 0.3270 - val_accuracy: 0.9216\n",
            "Epoch 181/200\n",
            "183/183 [==============================] - 61s 332ms/step - loss: 0.1313 - accuracy: 0.9579 - val_loss: 0.3431 - val_accuracy: 0.9216\n",
            "Epoch 182/200\n",
            "183/183 [==============================] - 61s 333ms/step - loss: 0.1331 - accuracy: 0.9584 - val_loss: 0.3316 - val_accuracy: 0.9207\n",
            "Epoch 183/200\n",
            "183/183 [==============================] - 62s 339ms/step - loss: 0.1286 - accuracy: 0.9596 - val_loss: 0.3320 - val_accuracy: 0.9224\n",
            "Epoch 184/200\n",
            "183/183 [==============================] - 61s 331ms/step - loss: 0.1326 - accuracy: 0.9582 - val_loss: 0.3258 - val_accuracy: 0.9263\n",
            "Epoch 185/200\n",
            "183/183 [==============================] - 62s 340ms/step - loss: 0.1429 - accuracy: 0.9546 - val_loss: 0.3358 - val_accuracy: 0.9218\n",
            "Epoch 186/200\n",
            "183/183 [==============================] - 61s 332ms/step - loss: 0.1541 - accuracy: 0.9502 - val_loss: 0.3352 - val_accuracy: 0.9206\n",
            "Epoch 187/200\n",
            "183/183 [==============================] - 62s 339ms/step - loss: 0.1336 - accuracy: 0.9583 - val_loss: 0.3346 - val_accuracy: 0.9230\n",
            "Epoch 188/200\n",
            "183/183 [==============================] - 60s 330ms/step - loss: 0.1288 - accuracy: 0.9601 - val_loss: 0.3270 - val_accuracy: 0.9237\n",
            "Epoch 189/200\n",
            "183/183 [==============================] - 61s 333ms/step - loss: 0.1319 - accuracy: 0.9580 - val_loss: 0.3466 - val_accuracy: 0.9213\n",
            "Epoch 190/200\n",
            "183/183 [==============================] - 62s 340ms/step - loss: 0.1403 - accuracy: 0.9554 - val_loss: 0.3500 - val_accuracy: 0.9197\n",
            "Epoch 191/200\n",
            "183/183 [==============================] - 61s 334ms/step - loss: 0.1373 - accuracy: 0.9559 - val_loss: 0.3296 - val_accuracy: 0.9217\n",
            "Epoch 192/200\n",
            "183/183 [==============================] - 62s 339ms/step - loss: 0.1385 - accuracy: 0.9561 - val_loss: 0.3392 - val_accuracy: 0.9179\n",
            "Epoch 193/200\n",
            "183/183 [==============================] - 61s 331ms/step - loss: 0.1313 - accuracy: 0.9594 - val_loss: 0.3227 - val_accuracy: 0.9246\n",
            "Epoch 194/200\n",
            "183/183 [==============================] - 62s 339ms/step - loss: 0.1342 - accuracy: 0.9570 - val_loss: 0.3575 - val_accuracy: 0.9179\n",
            "Epoch 195/200\n",
            "183/183 [==============================] - 61s 332ms/step - loss: 0.1324 - accuracy: 0.9595 - val_loss: 0.3184 - val_accuracy: 0.9231\n",
            "Epoch 196/200\n",
            "183/183 [==============================] - 60s 330ms/step - loss: 0.1334 - accuracy: 0.9579 - val_loss: 0.3438 - val_accuracy: 0.9212\n",
            "Epoch 197/200\n",
            "183/183 [==============================] - 62s 340ms/step - loss: 0.1243 - accuracy: 0.9607 - val_loss: 0.3357 - val_accuracy: 0.9232\n",
            "Epoch 198/200\n",
            "183/183 [==============================] - 60s 330ms/step - loss: 0.1341 - accuracy: 0.9578 - val_loss: 0.3346 - val_accuracy: 0.9249\n",
            "Epoch 199/200\n",
            "183/183 [==============================] - 62s 339ms/step - loss: 0.1312 - accuracy: 0.9588 - val_loss: 0.3381 - val_accuracy: 0.9222\n",
            "Epoch 200/200\n",
            "183/183 [==============================] - 61s 331ms/step - loss: 0.1335 - accuracy: 0.9588 - val_loss: 0.3429 - val_accuracy: 0.9226\n"
          ]
        }
      ]
    },
    {
      "cell_type": "code",
      "metadata": {
        "id": "JY7d6VDZCjaO",
        "colab": {
          "base_uri": "https://localhost:8080/"
        },
        "outputId": "6301e05e-fc25-47f6-86d0-a92b35c1330b"
      },
      "source": [
        "score = model.evaluate(x_test, y_test, verbose=1)\n",
        "print('Test loss:', score[0])\n",
        "print('Test accuracy:', score[1])"
      ],
      "execution_count": 26,
      "outputs": [
        {
          "output_type": "stream",
          "name": "stdout",
          "text": [
            "366/366 [==============================] - 5s 13ms/step - loss: 0.3429 - accuracy: 0.9226\n",
            "Test loss: 0.3428571820259094\n",
            "Test accuracy: 0.922558069229126\n"
          ]
        }
      ]
    },
    {
      "cell_type": "code",
      "metadata": {
        "id": "LV_xGFKhDt67",
        "colab": {
          "base_uri": "https://localhost:8080/"
        },
        "outputId": "3c087b56-1ee1-4f03-bb75-c05ccca90d8b"
      },
      "source": [
        "# list all data in history\n",
        "print(history.history.keys())\n",
        "import matplotlib.pyplot as plt\n",
        "import numpy\n"
      ],
      "execution_count": 27,
      "outputs": [
        {
          "output_type": "stream",
          "name": "stdout",
          "text": [
            "dict_keys(['loss', 'accuracy', 'val_loss', 'val_accuracy'])\n"
          ]
        }
      ]
    },
    {
      "cell_type": "code",
      "metadata": {
        "id": "dDQGSy8xFoob",
        "colab": {
          "base_uri": "https://localhost:8080/",
          "height": 295
        },
        "outputId": "1bf037cc-7604-4f22-d452-0889a560c320"
      },
      "source": [
        "# summarize history for accuracy\n",
        "plt.plot(history.history['accuracy'])\n",
        "plt.plot(history.history['val_accuracy'])\n",
        "plt.title('model accuracy')\n",
        "plt.ylabel('accuracy')\n",
        "plt.xlabel('epoch')\n",
        "plt.legend(['train', 'test'], loc='upper left')\n",
        "plt.show()"
      ],
      "execution_count": 28,
      "outputs": [
        {
          "output_type": "display_data",
          "data": {
            "text/plain": [
              "<Figure size 432x288 with 1 Axes>"
            ],
            "image/png": "[encoded data removed]"
          },
          "metadata": {
            "needs_background": "light"
          }
        }
      ]
    },
    {
      "cell_type": "code",
      "metadata": {
        "id": "Fgg6gD0BFnZS",
        "colab": {
          "base_uri": "https://localhost:8080/",
          "height": 295
        },
        "outputId": "976365fa-b8c3-4b00-a895-8af3698b8a3f"
      },
      "source": [
        "# summarize history for loss\n",
        "plt.plot(history.history['loss'])\n",
        "plt.plot(history.history['val_loss'])\n",
        "plt.title('model loss')\n",
        "plt.ylabel('loss')\n",
        "plt.xlabel('epoch')\n",
        "plt.legend(['train', 'test'], loc='upper left')\n",
        "plt.show()"
      ],
      "execution_count": 29,
      "outputs": [
        {
          "output_type": "display_data",
          "data": {
            "text/plain": [
              "<Figure size 432x288 with 1 Axes>"
            ],
            "image/png": "[encoded data removed]"
          },
          "metadata": {
            "needs_background": "light"
          }
        }
      ]
    },
    {
      "cell_type": "code",
      "metadata": {
        "id": "xZwaY3SeKnJb",
        "colab": {
          "base_uri": "https://localhost:8080/",
          "height": 295
        },
        "outputId": "4a8e234a-16aa-452c-f565-a636edaa61ea"
      },
      "source": [
        "plt.plot(history.history['val_accuracy'])\n",
        "plt.plot(history.history['val_loss'])\n",
        "plt.title('test model')\n",
        "plt.ylabel('test accuracy')\n",
        "plt.xlabel('test loss')\n",
        "plt.show()"
      ],
      "execution_count": 30,
      "outputs": [
        {
          "output_type": "display_data",
          "data": {
            "text/plain": [
              "<Figure size 432x288 with 1 Axes>"
            ],
            "image/png": "[encoded data removed]"
          },
          "metadata": {
            "needs_background": "light"
          }
        }
      ]
    },
    {
      "cell_type": "code",
      "metadata": {
        "id": "NGR4wrOdL5DF"
      },
      "source": [
        "y_pred=model.predict(x_test)\n",
        "from sklearn.metrics import confusion_matrix\n",
        "import numpy as np"
      ],
      "execution_count": 31,
      "outputs": []
    },
    {
      "cell_type": "code",
      "metadata": {
        "id": "9y5wCoinVRhi",
        "colab": {
          "base_uri": "https://localhost:8080/"
        },
        "outputId": "1c37da34-4f8e-4833-88bf-c0fce192d8a1"
      },
      "source": [
        "y_test[1]"
      ],
      "execution_count": 32,
      "outputs": [
        {
          "output_type": "execute_result",
          "data": {
            "text/plain": [
              "array([0., 0., 0., 0., 0., 0., 0., 1., 0., 0.], dtype=float32)"
            ]
          },
          "metadata": {},
          "execution_count": 32
        }
      ]
    },
    {
      "cell_type": "code",
      "metadata": {
        "id": "2q13VADTXlQ9",
        "colab": {
          "base_uri": "https://localhost:8080/"
        },
        "outputId": "5ed567f0-9196-489b-9dd6-317127c04582"
      },
      "source": [
        "y_pred[1]"
      ],
      "execution_count": 33,
      "outputs": [
        {
          "output_type": "execute_result",
          "data": {
            "text/plain": [
              "array([4.7491570e-35, 3.4963179e-08, 6.4950930e-35, 7.7418016e-11,\n",
              "       8.4423642e-11, 1.1642030e-05, 3.9272541e-06, 9.9998248e-01,\n",
              "       6.4356607e-07, 1.3129223e-06], dtype=float32)"
            ]
          },
          "metadata": {},
          "execution_count": 33
        }
      ]
    },
    {
      "cell_type": "code",
      "metadata": {
        "id": "ilOzv9RdVOtg"
      },
      "source": [
        "y_test1=np.argmax(y_test, axis=1)"
      ],
      "execution_count": 34,
      "outputs": []
    },
    {
      "cell_type": "code",
      "metadata": {
        "id": "Pvkh6dE6XzNa"
      },
      "source": [
        "y_pred=np.argmax(y_pred,axis=1)"
      ],
      "execution_count": 35,
      "outputs": []
    },
    {
      "cell_type": "code",
      "metadata": {
        "id": "wLOOyigNaJke",
        "colab": {
          "base_uri": "https://localhost:8080/"
        },
        "outputId": "f77139a8-6fb1-4475-a0b6-5bc5f47dfa69"
      },
      "source": [
        "y_test1[1]"
      ],
      "execution_count": 36,
      "outputs": [
        {
          "output_type": "execute_result",
          "data": {
            "text/plain": [
              "7"
            ]
          },
          "metadata": {},
          "execution_count": 36
        }
      ]
    },
    {
      "cell_type": "code",
      "metadata": {
        "id": "0f968lExaSRS",
        "colab": {
          "base_uri": "https://localhost:8080/"
        },
        "outputId": "01b2705c-07ed-4e3d-9753-283c297100d9"
      },
      "source": [
        "y_pred[1]"
      ],
      "execution_count": 37,
      "outputs": [
        {
          "output_type": "execute_result",
          "data": {
            "text/plain": [
              "7"
            ]
          },
          "metadata": {},
          "execution_count": 37
        }
      ]
    },
    {
      "cell_type": "code",
      "metadata": {
        "id": "45fHlde5OtWn"
      },
      "source": [
        "cmatrix=confusion_matrix(y_test1, y_pred)"
      ],
      "execution_count": 38,
      "outputs": []
    },
    {
      "cell_type": "code",
      "metadata": {
        "id": "7p70V5JCRyvZ",
        "colab": {
          "base_uri": "https://localhost:8080/",
          "height": 599
        },
        "outputId": "4d910235-925a-4e04-a832-2cff9b0b6e41"
      },
      "source": [
        "import seaborn as sns\n",
        "figure = plt.figure(figsize=(8, 8))\n",
        "sns.heatmap(cmatrix, annot=True,cmap=plt.cm.Blues)\n",
        "plt.tight_layout()\n",
        "plt.ylabel('True label')\n",
        "plt.xlabel('Predicted label')\n",
        "plt.show()"
      ],
      "execution_count": 41,
      "outputs": [
        {
          "output_type": "display_data",
          "data": {
            "text/plain": [
              "<Figure size 576x576 with 2 Axes>"
            ],
            "image/png": "[encoded data removed]"
          },
          "metadata": {
            "needs_background": "light"
          }
        }
      ]
    }
  ]
}