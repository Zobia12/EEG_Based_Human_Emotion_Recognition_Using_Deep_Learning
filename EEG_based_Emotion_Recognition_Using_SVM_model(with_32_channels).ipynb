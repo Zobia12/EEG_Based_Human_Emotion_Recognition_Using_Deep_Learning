{
  "nbformat": 4,
  "nbformat_minor": 0,
  "metadata": {
    "colab": {
      "provenance": [],
      "collapsed_sections": [],
      "include_colab_link": true
    },
    "kernelspec": {
      "name": "python3",
      "display_name": "Python 3"
    },
    "language_info": {
      "name": "python"
    }
  },
  "cells": [
    {
      "cell_type": "markdown",
      "metadata": {
        "id": "view-in-github",
        "colab_type": "text"
      },
      "source": [
        "<a href=\"https://colab.research.google.com/github/Zobia12/EEG_Based_Human_Emotion_Recognition_Using_Deep_Learning/blob/main/EEG_based_Emotion_Recognition_Using_SVM_model(with_32_channels).ipynb\" target=\"_parent\"><img src=\"https://colab.research.google.com/assets/colab-badge.svg\" alt=\"Open In Colab\"/></a>"
      ]
    },
    {
      "cell_type": "code",
      "execution_count": 122,
      "metadata": {
        "id": "rbo8RfXxXheR"
      },
      "outputs": [],
      "source": [
        "import numpy as np\n",
        "import seaborn as sns"
      ]
    },
    {
      "cell_type": "code",
      "source": [
        "import numpy\n",
        "from sklearn.svm import SVC\n",
        "from sklearn.model_selection import train_test_split\n",
        "from sklearn.metrics import confusion_matrix\n",
        "from sklearn.metrics import accuracy_score\n",
        "from sklearn.metrics import confusion_matrix"
      ],
      "metadata": {
        "id": "374VIWhfXmgc"
      },
      "execution_count": 123,
      "outputs": []
    },
    {
      "cell_type": "code",
      "source": [
        "from google.colab import drive\n",
        "drive.mount('/content/drive/')"
      ],
      "metadata": {
        "colab": {
          "base_uri": "https://localhost:8080/"
        },
        "id": "XtXSyYadXpkQ",
        "outputId": "e679b70b-8f37-4551-b570-e7261e78036b"
      },
      "execution_count": 124,
      "outputs": [
        {
          "output_type": "stream",
          "name": "stdout",
          "text": [
            "Drive already mounted at /content/drive/; to attempt to forcibly remount, call drive.mount(\"/content/drive/\", force_remount=True).\n"
          ]
        }
      ]
    },
    {
      "cell_type": "code",
      "metadata": {
        "id": "JOXuEM0JwJqI"
      },
      "source": [
        "# data_preprocessed_python\n",
        "os.getcwd()\n",
        "os.chdir('/content/drive/My Drive')"
      ],
      "execution_count": 125,
      "outputs": []
    },
    {
      "cell_type": "code",
      "source": [
        "nLabel, nTrial, nUser, nChannel, nTime  = 4, 40, 32, 40, 8064\n",
        "no_of_users=32\n",
        "def convertData():\n",
        "    print(\"Program started\"+\"\\n\")\n",
        "    fout_data = open(\"/content/drive/My Drive/leading_ai/try/features_raw.dat\",'w')\n",
        "    fout_labels0 = open(\"/content/drive/My Drive/leading_ai/try/labels_0.dat\",'w')\n",
        "    fout_labels1 = open(\"/content/drive/My Drive/leading_ai/try/labels_1.dat\",'w')\n",
        "    fout_labels2 = open(\"/content/drive/My Drive/leading_ai/try/labels_2.dat\",'w')\n",
        "    fout_labels3 = open(\"/content/drive/My Drive/leading_ai/try/labels_3.dat\",'w')\n",
        "    for i in range(no_of_users):  #nUser #4, 40, 32, 40, 8064 4 labels, 40 sample for each user, 32 such user, 40 electrode, 8064*40 features\n",
        "        if(i%1 == 0):\n",
        "            if i < 10:\n",
        "                name = '%0*d' % (2,i+1)\n",
        "            else:\n",
        "                name = i+1\n",
        "        fname = \"/content/drive/My Drive/leading_ai/try/s\"+str(name)+\".dat\"     \n",
        "        f = open(fname, 'rb')                 #Read the file in Binary mode\n",
        "        x = pickle.load(f, encoding='latin1')\n",
        "        print(fname)                          \n",
        "    \t\n",
        "        for tr in range(nTrial):\n",
        "            if(tr%1 == 0):\n",
        "                for dat in range(nTime):\n",
        "                    if(dat%32 == 0):\n",
        "                        for ch in range(nChannel):\n",
        "                            fout_data.write(str(x['data'][tr][ch][dat]) + \" \");\n",
        "                fout_labels0.write(str(x['labels'][tr][0]) + \"\\n\");\n",
        "                fout_labels1.write(str(x['labels'][tr][1]) + \"\\n\");\n",
        "                fout_labels2.write(str(x['labels'][tr][2]) + \"\\n\");\n",
        "                fout_labels3.write(str(x['labels'][tr][3]) + \"\\n\");\n",
        "                fout_data.write(\"\\n\");\n",
        "    fout_labels0.close()\n",
        "    fout_labels1.close()\n",
        "    fout_labels2.close()\n",
        "    fout_labels3.close()\n",
        "    fout_data.close()\n",
        "    print(\"\\n\"+\"Print Successful\")\n",
        "\n",
        "if __name__ == '__main__':\n",
        "    convertData()\n"
      ],
      "metadata": {
        "colab": {
          "base_uri": "https://localhost:8080/"
        },
        "id": "S1JPJnR0UoS_",
        "outputId": "3258420f-6cc6-404b-c1a6-30f641fc4779"
      },
      "execution_count": 126,
      "outputs": [
        {
          "output_type": "stream",
          "name": "stdout",
          "text": [
            "Program started\n",
            "\n",
            "/content/drive/My Drive/leading_ai/try/s01.dat\n",
            "/content/drive/My Drive/leading_ai/try/s02.dat\n",
            "/content/drive/My Drive/leading_ai/try/s03.dat\n",
            "/content/drive/My Drive/leading_ai/try/s04.dat\n",
            "/content/drive/My Drive/leading_ai/try/s05.dat\n",
            "/content/drive/My Drive/leading_ai/try/s06.dat\n",
            "/content/drive/My Drive/leading_ai/try/s07.dat\n",
            "/content/drive/My Drive/leading_ai/try/s08.dat\n",
            "/content/drive/My Drive/leading_ai/try/s09.dat\n",
            "/content/drive/My Drive/leading_ai/try/s10.dat\n",
            "/content/drive/My Drive/leading_ai/try/s11.dat\n",
            "/content/drive/My Drive/leading_ai/try/s12.dat\n",
            "/content/drive/My Drive/leading_ai/try/s13.dat\n",
            "/content/drive/My Drive/leading_ai/try/s14.dat\n",
            "/content/drive/My Drive/leading_ai/try/s15.dat\n",
            "/content/drive/My Drive/leading_ai/try/s16.dat\n",
            "/content/drive/My Drive/leading_ai/try/s17.dat\n",
            "/content/drive/My Drive/leading_ai/try/s18.dat\n",
            "/content/drive/My Drive/leading_ai/try/s19.dat\n",
            "/content/drive/My Drive/leading_ai/try/s20.dat\n",
            "/content/drive/My Drive/leading_ai/try/s21.dat\n",
            "/content/drive/My Drive/leading_ai/try/s22.dat\n",
            "/content/drive/My Drive/leading_ai/try/s23.dat\n",
            "/content/drive/My Drive/leading_ai/try/s24.dat\n",
            "/content/drive/My Drive/leading_ai/try/s25.dat\n",
            "/content/drive/My Drive/leading_ai/try/s26.dat\n",
            "/content/drive/My Drive/leading_ai/try/s27.dat\n",
            "/content/drive/My Drive/leading_ai/try/s28.dat\n",
            "/content/drive/My Drive/leading_ai/try/s29.dat\n",
            "/content/drive/My Drive/leading_ai/try/s30.dat\n",
            "/content/drive/My Drive/leading_ai/try/s31.dat\n",
            "/content/drive/My Drive/leading_ai/try/s32.dat\n",
            "\n",
            "Print Successful\n"
          ]
        }
      ]
    },
    {
      "cell_type": "code",
      "source": [
        "def onehotencoding0():\n",
        "    print(\"Program started\"+\"\\n\")\n",
        "    fout_labels_class = open(\"/content/drive/My Drive/leading_ai/try/label_class_0.dat\",'w')\n",
        "    \n",
        "    with open('/content/drive/My Drive/leading_ai/try/labels_0.dat','r') as f:\n",
        "        for val in f:\n",
        "            if float(val) > 4.5:\n",
        "                fout_labels_class.write(str(1) + \"\\n\");\n",
        "            else:\n",
        "                fout_labels_class.write(str(0) + \"\\n\");\n",
        "                \n",
        "    print(\"Encoded label 0\"+\"\\n\")\n",
        "if __name__ == '__main__':\n",
        "    onehotencoding0()"
      ],
      "metadata": {
        "colab": {
          "base_uri": "https://localhost:8080/"
        },
        "id": "8V1rdIVUZ6m_",
        "outputId": "794071b7-162c-4cff-9004-ca2e9312383f"
      },
      "execution_count": 127,
      "outputs": [
        {
          "output_type": "stream",
          "name": "stdout",
          "text": [
            "Program started\n",
            "\n",
            "Encoded label 0\n",
            "\n"
          ]
        }
      ]
    },
    {
      "cell_type": "code",
      "source": [
        "def onehotencoding1():\n",
        "    print(\"Program started\"+\"\\n\")\n",
        "    fout_labels_class = open(\"/content/drive/My Drive/leading_ai/try/label_class_1.dat\",'w')\n",
        "    \n",
        "    with open('/content/drive/My Drive/leading_ai/try/labels_1.dat','r') as f:\n",
        "        for val in f:\n",
        "            if float(val) > 4.5:\n",
        "                fout_labels_class.write(str(1) + \"\\n\");\n",
        "            else:\n",
        "                fout_labels_class.write(str(0) + \"\\n\");\n",
        "    print(\"Encoded label 1\"+\"\\n\")\n",
        "if __name__ == '__main__':\n",
        "    onehotencoding1()"
      ],
      "metadata": {
        "colab": {
          "base_uri": "https://localhost:8080/"
        },
        "id": "8FMIdT6vaRAW",
        "outputId": "a88dabd7-ab94-4f77-9e3b-cfd70b0f98c7"
      },
      "execution_count": 128,
      "outputs": [
        {
          "output_type": "stream",
          "name": "stdout",
          "text": [
            "Program started\n",
            "\n",
            "Encoded label 1\n",
            "\n"
          ]
        }
      ]
    },
    {
      "cell_type": "code",
      "source": [
        "def onehotencoding2():\n",
        "    print(\"Program started\"+\"\\n\")\n",
        "    fout_labels_class = open(\"/content/drive/My Drive/leading_ai/try/label_class_2.dat\",'w')\n",
        "    \n",
        "    with open('/content/drive/My Drive/leading_ai/try/labels_2.dat','r') as f:\n",
        "        for val in f:\n",
        "            if float(val) > 4.5:\n",
        "                fout_labels_class.write(str(1) + \"\\n\");\n",
        "            else:\n",
        "                fout_labels_class.write(str(0) + \"\\n\");\n",
        "    print(\"Encoded label 2\"+\"\\n\")\n",
        "if __name__ == '__main__':\n",
        "    onehotencoding2()"
      ],
      "metadata": {
        "colab": {
          "base_uri": "https://localhost:8080/"
        },
        "id": "To7bZfVbaVcJ",
        "outputId": "4bbd7470-9484-4516-f7da-149fef097ccf"
      },
      "execution_count": 129,
      "outputs": [
        {
          "output_type": "stream",
          "name": "stdout",
          "text": [
            "Program started\n",
            "\n",
            "Encoded label 2\n",
            "\n"
          ]
        }
      ]
    },
    {
      "cell_type": "code",
      "source": [
        "def onehotencoding3():\n",
        "    print(\"Program started\"+\"\\n\")\n",
        "    fout_labels_class = open(\"/content/drive/My Drive/leading_ai/try/label_class_3.dat\",'w')\n",
        "    \n",
        "    with open('/content/drive/My Drive/leading_ai/try/labels_3.dat','r') as f:\n",
        "        for val in f:\n",
        "            if float(val) > 4.5:\n",
        "                fout_labels_class.write(str(1) + \"\\n\");\n",
        "            else:\n",
        "                fout_labels_class.write(str(0) + \"\\n\");\n",
        "    print(\"Encoded label 3\"+\"\\n\")\n",
        "if __name__ == '__main__':\n",
        "    onehotencoding3()"
      ],
      "metadata": {
        "colab": {
          "base_uri": "https://localhost:8080/"
        },
        "id": "7SzaAR_ZaXtJ",
        "outputId": "21d17a9a-6333-41ad-d872-3e377f9062b9"
      },
      "execution_count": 130,
      "outputs": [
        {
          "output_type": "stream",
          "name": "stdout",
          "text": [
            "Program started\n",
            "\n",
            "Encoded label 3\n",
            "\n"
          ]
        }
      ]
    },
    {
      "cell_type": "markdown",
      "source": [
        "# SVM Classifier in terms of Valence"
      ],
      "metadata": {
        "id": "0Rzgm2w5hZ39"
      }
    },
    {
      "cell_type": "code",
      "source": [
        "file_x = '/content/drive/My Drive/leading_ai/try/features_sampled.dat'\n",
        "file_y = '/content/drive/My Drive/leading_ai/try/label_class_0.dat'\n",
        "X = numpy.genfromtxt(file_x, delimiter=' ')\n",
        "y = numpy.genfromtxt(file_y, delimiter=' ')\n",
        "    \n",
        "# Split the data into training/testing sets\n",
        "X_train, X_test, y_train, y_test = train_test_split(X, y, test_size=0.2, random_state=42)"
      ],
      "metadata": {
        "id": "1D1IwyOmaxjS"
      },
      "execution_count": 150,
      "outputs": []
    },
    {
      "cell_type": "code",
      "source": [
        "model = SVC(kernel = 'rbf', random_state = 42)\n",
        "model.fit(X_train, y_train)\n",
        "y_predict = model.predict(X_test)\n",
        "cm = confusion_matrix(y_test, y_predict)"
      ],
      "metadata": {
        "id": "lNCAKon3bqr3"
      },
      "execution_count": 132,
      "outputs": []
    },
    {
      "cell_type": "code",
      "source": [
        "print(\"Accuracy score of Valence \")\n",
        "print(accuracy_score(y_test, y_predict)*100)"
      ],
      "metadata": {
        "colab": {
          "base_uri": "https://localhost:8080/"
        },
        "id": "YdIS_4XNfo-Z",
        "outputId": "c4b907b7-0bd6-4632-b091-03549ddce4d7"
      },
      "execution_count": 133,
      "outputs": [
        {
          "output_type": "stream",
          "name": "stdout",
          "text": [
            "Accuracy score of Valence \n",
            "64.453125\n"
          ]
        }
      ]
    },
    {
      "cell_type": "code",
      "source": [
        "fig, ax = plt.subplots(figsize=(4, 4))\n",
        "sns.heatmap(cm, annot=True,cbar=False, fmt='g', ax=ax, cmap=plt.cm.Blues);  #annot=True to annotate cells, ftm='g' to disable scientific notation\n",
        "\n",
        "# labels, title and ticks\n",
        "ax.set_xlabel('Predicted labels');\n",
        "ax.set_ylabel('True labels'); \n",
        "ax.set_title('Confusion Matrix of Valence');"
      ],
      "metadata": {
        "colab": {
          "base_uri": "https://localhost:8080/",
          "height": 295
        },
        "id": "m-iNxPnPfsWk",
        "outputId": "7a2558de-efac-4051-af4f-62bf707f797d"
      },
      "execution_count": 134,
      "outputs": [
        {
          "output_type": "display_data",
          "data": {
            "text/plain": [
              "<Figure size 288x288 with 1 Axes>"
            ],
            "image/png": "[encoded data removed]"
          },
          "metadata": {
            "needs_background": "light"
          }
        }
      ]
    },
    {
      "cell_type": "markdown",
      "source": [
        "# SVM Classifier in terms of Arousal"
      ],
      "metadata": {
        "id": "TqsmAh3mhQ-8"
      }
    },
    {
      "cell_type": "code",
      "source": [
        "file_x = '/content/drive/My Drive/leading_ai/try/features_sampled.dat'\n",
        "file_y = '/content/drive/My Drive/leading_ai/try/label_class_1.dat'\n",
        "    \n",
        "X = numpy.genfromtxt(file_x, delimiter=' ')\n",
        "y = numpy.genfromtxt(file_y, delimiter=' ')\n",
        "\n",
        "# Split the data into training/testing sets\n",
        "X_train, X_test, y_train, y_test = train_test_split(X, y, test_size=0.2, random_state=42)"
      ],
      "metadata": {
        "id": "Q_yhV_Ojepmv"
      },
      "execution_count": 135,
      "outputs": []
    },
    {
      "cell_type": "code",
      "source": [
        "model = SVC(kernel = 'rbf', random_state = 42)\n",
        "model.fit(X_train, y_train)"
      ],
      "metadata": {
        "colab": {
          "base_uri": "https://localhost:8080/"
        },
        "id": "JxZ5KGu4ezva",
        "outputId": "d872b257-d1fb-4fe9-d9a0-5b98c3eac91f"
      },
      "execution_count": 136,
      "outputs": [
        {
          "output_type": "execute_result",
          "data": {
            "text/plain": [
              "SVC(random_state=42)"
            ]
          },
          "metadata": {},
          "execution_count": 136
        }
      ]
    },
    {
      "cell_type": "code",
      "source": [
        "y_predict = model.predict(X_test)\n",
        "cm = confusion_matrix(y_test, y_predict)"
      ],
      "metadata": {
        "id": "3dvAFE8qe560"
      },
      "execution_count": 137,
      "outputs": []
    },
    {
      "cell_type": "code",
      "source": [
        "print(\"Accuracy score of Arousal \")\n",
        "print(accuracy_score(y_test, y_predict)*100)"
      ],
      "metadata": {
        "colab": {
          "base_uri": "https://localhost:8080/"
        },
        "id": "GJ2oF0H3f9f_",
        "outputId": "aa4f4e56-1196-4b3d-c745-ab6b13cfdafd"
      },
      "execution_count": 138,
      "outputs": [
        {
          "output_type": "stream",
          "name": "stdout",
          "text": [
            "Accuracy score of Arousal \n",
            "66.015625\n"
          ]
        }
      ]
    },
    {
      "cell_type": "code",
      "source": [
        "fig, ax = plt.subplots(figsize=(4, 4))\n",
        "sns.heatmap(cm, annot=True,cbar=False, fmt='g', ax=ax, cmap=plt.cm.Blues);  #annot=True to annotate cells, ftm='g' to disable scientific notation\n",
        "\n",
        "# labels, title and ticks\n",
        "ax.set_xlabel('Predicted labels');\n",
        "ax.set_ylabel('True labels'); \n",
        "ax.set_title('Confusion Matrix of Arousal'); "
      ],
      "metadata": {
        "colab": {
          "base_uri": "https://localhost:8080/",
          "height": 295
        },
        "id": "zYH2I1hxf_8L",
        "outputId": "98ca3240-06c0-4966-8f12-e86575a9fead"
      },
      "execution_count": 139,
      "outputs": [
        {
          "output_type": "display_data",
          "data": {
            "text/plain": [
              "<Figure size 288x288 with 1 Axes>"
            ],
            "image/png": "[encoded data removed]"
          },
          "metadata": {
            "needs_background": "light"
          }
        }
      ]
    },
    {
      "cell_type": "markdown",
      "source": [
        "# SVM Classifier in terms of Dominance"
      ],
      "metadata": {
        "id": "-di_Jin2hLEg"
      }
    },
    {
      "cell_type": "code",
      "source": [
        "file_x = '/content/drive/My Drive/leading_ai/try/features_sampled.dat'\n",
        "file_y = '/content/drive/My Drive/leading_ai/try/label_class_2.dat'\n",
        "    \n",
        "X = numpy.genfromtxt(file_x, delimiter=' ')\n",
        "y = numpy.genfromtxt(file_y, delimiter=' ')\n",
        "\n",
        "# Split the data into training/testing sets\n",
        "X_train, X_test, y_train, y_test = train_test_split(X, y, test_size=0.2, random_state=42)"
      ],
      "metadata": {
        "id": "cNM1SxvZfB0c"
      },
      "execution_count": 140,
      "outputs": []
    },
    {
      "cell_type": "code",
      "source": [
        "model = SVC(kernel = 'rbf', random_state = 42)\n",
        "model.fit(X_train, y_train)"
      ],
      "metadata": {
        "colab": {
          "base_uri": "https://localhost:8080/"
        },
        "id": "JURFnwN7fJCY",
        "outputId": "353918df-b0c3-4114-bbb5-d8c80865f29f"
      },
      "execution_count": 141,
      "outputs": [
        {
          "output_type": "execute_result",
          "data": {
            "text/plain": [
              "SVC(random_state=42)"
            ]
          },
          "metadata": {},
          "execution_count": 141
        }
      ]
    },
    {
      "cell_type": "code",
      "source": [
        "y_predict = model.predict(X_test)\n",
        "cm = confusion_matrix(y_test, y_predict)"
      ],
      "metadata": {
        "id": "qv9syGu2e9t-"
      },
      "execution_count": 142,
      "outputs": []
    },
    {
      "cell_type": "code",
      "source": [
        "print(\"Accuracy score of Dominance \")\n",
        "print(accuracy_score(y_test, y_predict)*100)"
      ],
      "metadata": {
        "colab": {
          "base_uri": "https://localhost:8080/"
        },
        "id": "fORjaqhhgh1J",
        "outputId": "1a61fb91-00c0-4516-a5fd-e3cac31eee05"
      },
      "execution_count": 143,
      "outputs": [
        {
          "output_type": "stream",
          "name": "stdout",
          "text": [
            "Accuracy score of Dominance \n",
            "69.140625\n"
          ]
        }
      ]
    },
    {
      "cell_type": "code",
      "source": [
        "fig, ax = plt.subplots(figsize=(4, 4))\n",
        "sns.heatmap(cm, annot=True,cbar=False, fmt='g', ax=ax, cmap=plt.cm.Blues);  #annot=True to annotate cells, ftm='g' to disable scientific notation\n",
        "\n",
        "# labels, title and ticks\n",
        "ax.set_xlabel('Predicted labels');\n",
        "ax.set_ylabel('True labels'); \n",
        "ax.set_title('Confusion Matrix of Dominance'); "
      ],
      "metadata": {
        "colab": {
          "base_uri": "https://localhost:8080/",
          "height": 295
        },
        "id": "JQzIm2MWgkus",
        "outputId": "f5a1cbda-f3ea-4139-9cd6-482918184afc"
      },
      "execution_count": 144,
      "outputs": [
        {
          "output_type": "display_data",
          "data": {
            "text/plain": [
              "<Figure size 288x288 with 1 Axes>"
            ],
            "image/png": "[encoded data removed]"
          },
          "metadata": {
            "needs_background": "light"
          }
        }
      ]
    },
    {
      "cell_type": "markdown",
      "source": [
        "# SVM Classifier in terms of Liking"
      ],
      "metadata": {
        "id": "U7bpFyfIgzYX"
      }
    },
    {
      "cell_type": "code",
      "source": [
        "file_x = '/content/drive/My Drive/leading_ai/try/features_sampled.dat'\n",
        "file_y = '/content/drive/My Drive/leading_ai/try/label_class_3.dat'\n",
        "    \n",
        "X = numpy.genfromtxt(file_x, delimiter=' ')\n",
        "y = numpy.genfromtxt(file_y, delimiter=' ')\n",
        "\n",
        "# Split the data into training/testing sets\n",
        "X_train, X_test, y_train, y_test = train_test_split(X, y, test_size=0.2, random_state=42)"
      ],
      "metadata": {
        "id": "l4gnZMBCfDMl"
      },
      "execution_count": 145,
      "outputs": []
    },
    {
      "cell_type": "code",
      "source": [
        "model = SVC(kernel = 'rbf', random_state = 42)\n",
        "model.fit(X_train, y_train)"
      ],
      "metadata": {
        "colab": {
          "base_uri": "https://localhost:8080/"
        },
        "id": "LAv0RaGXfOSQ",
        "outputId": "e2b3433d-1b95-4335-8933-415be7d0663c"
      },
      "execution_count": 146,
      "outputs": [
        {
          "output_type": "execute_result",
          "data": {
            "text/plain": [
              "SVC(random_state=42)"
            ]
          },
          "metadata": {},
          "execution_count": 146
        }
      ]
    },
    {
      "cell_type": "code",
      "source": [
        "y_predict = model.predict(X_test)\n",
        "cm = confusion_matrix(y_test, y_predict)"
      ],
      "metadata": {
        "id": "mcWNpnwLe-0x"
      },
      "execution_count": 147,
      "outputs": []
    },
    {
      "cell_type": "code",
      "source": [
        "print(\"Accuracy score of Liking \")\n",
        "print(accuracy_score(y_test, y_predict)*100)"
      ],
      "metadata": {
        "colab": {
          "base_uri": "https://localhost:8080/"
        },
        "id": "5zom_ZM2ggdi",
        "outputId": "b4f5187b-3ee8-4ff1-b4f0-b8d38ce175bd"
      },
      "execution_count": 148,
      "outputs": [
        {
          "output_type": "stream",
          "name": "stdout",
          "text": [
            "Accuracy score of Liking \n",
            "69.140625\n"
          ]
        }
      ]
    },
    {
      "cell_type": "code",
      "source": [
        "fig, ax = plt.subplots(figsize=(4, 4))\n",
        "sns.heatmap(cm, annot=True,cbar=False, fmt='g', ax=ax, cmap=plt.cm.Blues);  #annot=True to annotate cells, ftm='g' to disable scientific notation\n",
        "\n",
        "# labels, title and ticks\n",
        "ax.set_xlabel('Predicted labels');\n",
        "ax.set_ylabel('True labels'); \n",
        "ax.set_title('Confusion Matrix of Liking'); "
      ],
      "metadata": {
        "colab": {
          "base_uri": "https://localhost:8080/",
          "height": 295
        },
        "id": "gKb17Jc1goDP",
        "outputId": "ca5b35f1-b95c-4106-df3d-4cae464e9534"
      },
      "execution_count": 149,
      "outputs": [
        {
          "output_type": "display_data",
          "data": {
            "text/plain": [
              "<Figure size 288x288 with 1 Axes>"
            ],
            "image/png": "[encoded data removed]"
          },
          "metadata": {
            "needs_background": "light"
          }
        }
      ]
    }
  ]
}